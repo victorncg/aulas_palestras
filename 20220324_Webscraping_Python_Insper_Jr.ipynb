{
  "cells": [
    {
      "cell_type": "markdown",
      "metadata": {
        "id": "view-in-github",
        "colab_type": "text"
      },
      "source": [
        "<a href=\"https://colab.research.google.com/github/victorncg/aulas_palestras/blob/main/20220324_Webscraping_Python_Insper_Jr.ipynb\" target=\"_parent\"><img src=\"https://colab.research.google.com/assets/colab-badge.svg\" alt=\"Open In Colab\"/></a>"
      ]
    },
    {
      "cell_type": "markdown",
      "metadata": {
        "id": "xEGXWNa-_rcq"
      },
      "source": [
        "<img src=\"https://tradingcomdados.com/images/logotipo/logotipo-trading-com-dados.svg\" width=\"300\">"
      ]
    },
    {
      "cell_type": "markdown",
      "metadata": {
        "id": "H7j0UCOJ0EMX"
      },
      "source": [
        "---\n",
        "# **Tutorial de Webscraping**\n",
        "---"
      ]
    },
    {
      "cell_type": "markdown",
      "metadata": {
        "id": "5LYsJ_x8_waa"
      },
      "source": [
        "# 1. Bibliotecas utilizadas"
      ]
    },
    {
      "cell_type": "code",
      "execution_count": 1,
      "metadata": {
        "colab": {
          "base_uri": "https://localhost:8080/"
        },
        "id": "Y-i3d71e0EMY",
        "outputId": "9cebbfad-456e-44f3-9ef3-0f3a7bd7f499"
      },
      "outputs": [
        {
          "output_type": "stream",
          "name": "stdout",
          "text": [
            "Requirement already satisfied: requests in /usr/local/lib/python3.7/dist-packages (2.23.0)\n",
            "Requirement already satisfied: chardet<4,>=3.0.2 in /usr/local/lib/python3.7/dist-packages (from requests) (3.0.4)\n",
            "Requirement already satisfied: urllib3!=1.25.0,!=1.25.1,<1.26,>=1.21.1 in /usr/local/lib/python3.7/dist-packages (from requests) (1.24.3)\n",
            "Requirement already satisfied: certifi>=2017.4.17 in /usr/local/lib/python3.7/dist-packages (from requests) (2021.10.8)\n",
            "Requirement already satisfied: idna<3,>=2.5 in /usr/local/lib/python3.7/dist-packages (from requests) (2.10)\n",
            "Requirement already satisfied: bs4 in /usr/local/lib/python3.7/dist-packages (0.0.1)\n",
            "Requirement already satisfied: beautifulsoup4 in /usr/local/lib/python3.7/dist-packages (from bs4) (4.6.3)\n"
          ]
        }
      ],
      "source": [
        "# Algumas das bibliotecas fundamentais nas técnicas de Webscraping e Webcrawling\n",
        "# Bibliotecas opcionais e pouco representativas (ex., biblioteca para mudar o diretório de trabalho) estão dispostas ao longo do código\n",
        "# A instalação é necessária apenas na primeira vez de uso\n",
        "\n",
        "!pip install requests\n",
        "!pip install bs4"
      ]
    },
    {
      "cell_type": "code",
      "execution_count": 1,
      "metadata": {
        "id": "wRVARobC6jIH"
      },
      "outputs": [],
      "source": [
        "import requests\n",
        "from bs4 import BeautifulSoup\n",
        "import pandas as pd"
      ]
    },
    {
      "cell_type": "markdown",
      "metadata": {
        "id": "LzlBKluaAKi7"
      },
      "source": [
        "# 2. Entendendo um código HTML"
      ]
    },
    {
      "cell_type": "markdown",
      "metadata": {
        "id": "XHTnJaU6BowJ"
      },
      "source": [
        "## 2.1. Código HTML bruto *vs* Aparência HTML"
      ]
    },
    {
      "cell_type": "markdown",
      "metadata": {
        "id": "RBrntUNc0EMb"
      },
      "source": [
        "HTML é basicamente uma linguagem de marcação, onde cada **tag** (ex., \\<html>...<\\\\html>) representa algo dentro da hierarquia da página. Neste caso, **\\<html>** indica o início de um conteúdo html e **<\\\\html>** indica o fim deste conteúdo. Dentro desta tag temos outras tags, cada uma referente a determinada estrutura do HTML. Veja abaixo um código HTML bruto e logo abaixo como está sua \"aparência\""
      ]
    },
    {
      "cell_type": "markdown",
      "metadata": {
        "id": "4NsGWw7c0EMb"
      },
      "source": [
        "    ------------------------------------------------------------------------------------------\n",
        "    <!DOCTYPE html>\n",
        "    <html>\n",
        "        <head>\n",
        "            <title>Page Title</title>\n",
        "            <meta http-equiv=\"Content-Type\" content=\"text/html; charset=utf-8\">\n",
        "        </head>\n",
        "\n",
        "        <body>\n",
        "    \n",
        "            <div>\n",
        "                <h1>Isto é um título</h1>\n",
        "                <p>Isto é um parágrafo</p>\n",
        "                <a href='https://www.google.com.br'>Link do google</a>\n",
        "            </div>\n",
        "\n",
        "            <div>\n",
        "                <h2>Lista não ordenada</h2>\n",
        "\n",
        "                <ul>\n",
        "                    <li>Café</li>\n",
        "                    <li>Chá</li>\n",
        "                    <li>Leite</li>\n",
        "                </ul>  \n",
        "\n",
        "                <h2>Lista ordenada</h2>\n",
        "\n",
        "                <ol>\n",
        "                    <li>Café</li>\n",
        "                    <li>Chá</li>\n",
        "                    <li>Leite</li>\n",
        "                </ol>  \n",
        "            </div>\n",
        "\n",
        "            <div>\n",
        "                <h2>Exemplo de uma tabela</h2>\n",
        "\n",
        "                <table>\n",
        "                    <tr>\n",
        "                        <th>Nome</th>\n",
        "                        <th>Sobrenome</th>\n",
        "                        <th>Idade</th>\n",
        "                    </tr>\n",
        "                    <tr>\n",
        "                        <td>Jill</td>\n",
        "                        <td>Smith</td>\n",
        "                        <td>50</td>\n",
        "                    </tr>\n",
        "                    <tr>\n",
        "                        <td>Eve</td>\n",
        "                        <td>Jackson</td>\n",
        "                        <td>94</td>\n",
        "                    </tr>\n",
        "                </table> \n",
        "            </div>\n",
        "        \n",
        "        </body>\n",
        "    </html>\n",
        "    ------------------------------------------------------------------------------------------"
      ]
    },
    {
      "cell_type": "markdown",
      "metadata": {
        "id": "_QZon7l90EMc"
      },
      "source": [
        "Para visualizar o HTML estruturado deverá exportar o código como HTML\n",
        "Alguns sites permitem essa visualização. Ex: https://pt.infobyip.com/htmlandjavascripteditor.php"
      ]
    },
    {
      "cell_type": "raw",
      "metadata": {
        "id": "wZqbQUsc6opb",
        "outputId": "8f1db432-ad87-4c01-d144-98edddafdfcc"
      },
      "source": [
        "    <!DOCTYPE html>\n",
        "    <html>\n",
        "        <head>\n",
        "            <title>Page Title</title>\n",
        "            <meta http-equiv=\"Content-Type\" content=\"text/html; charset=utf-8\">\n",
        "        </head>\n",
        "\n",
        "        <body>\n",
        "    \n",
        "            <div>\n",
        "                <h1>Isto é um título</h1>\n",
        "                <p>Isto é um parágrafo</p>\n",
        "                <a href='https://www.google.com.br'>Link do google</a>\n",
        "            </div>\n",
        "\n",
        "            <div>\n",
        "                <h2>Lista não ordenada</h2>\n",
        "\n",
        "                <ul>\n",
        "                    <li>Café</li>\n",
        "                    <li>Chá</li>\n",
        "                    <li>Leite</li>\n",
        "                </ul>  \n",
        "\n",
        "                <h2>Lista ordenada</h2>\n",
        "\n",
        "                <ol>\n",
        "                    <li>Café</li>\n",
        "                    <li>Chá</li>\n",
        "                    <li>Leite</li>\n",
        "                </ol>  \n",
        "            </div>\n",
        "\n",
        "            <div>\n",
        "                <h2>Exemplo de uma tabela</h2>\n",
        "\n",
        "                <table>\n",
        "                    <tr>\n",
        "                        <th>Nome</th>\n",
        "                        <th>Sobrenome</th>\n",
        "                        <th>Idade</th>\n",
        "                    </tr>\n",
        "                    <tr>\n",
        "                        <td>Jill</td>\n",
        "                        <td>Smith</td>\n",
        "                        <td>50</td>\n",
        "                    </tr>\n",
        "                    <tr>\n",
        "                        <td>Eve</td>\n",
        "                        <td>Jackson</td>\n",
        "                        <td>94</td>\n",
        "                    </tr>\n",
        "                </table> \n",
        "            </div>\n",
        "        \n",
        "        </body>\n",
        "    </html>"
      ]
    },
    {
      "cell_type": "markdown",
      "metadata": {
        "id": "SEHpC18e6rET",
        "outputId": "392bc8d1-c8cf-4108-b709-169e63829355"
      },
      "source": [
        "Principais **tags** e suas descrições simplificadas\n",
        "* h1: Indica o título da página ou da sessão em que ela está contida. Podemos também usar h2, h3... para indicar subtítulos.\n",
        "* div: Serve para organizar e dividir partes do código\n",
        "* span: Serve para organizar os elementos de uma mesma linha\n",
        "* p: Indica um parágrafo\n",
        "* a: Indica um link, onde o link vem representado por 'href' dentro da tag\n",
        "* ul: Indica listas não ordenadas\n",
        "* ol: Indica listas ordenadas\n",
        "* li: Indica os elementos da lista 'ul' ou 'ol'\n",
        "* table: Indica uma tabela\n",
        "* tr: Indica o começo de uma linha em 'table'\n",
        "* th: Indica o head em 'table'\n",
        "* td: Indica uma linha em 'table'\n"
      ]
    },
    {
      "cell_type": "markdown",
      "metadata": {
        "id": "HiNwR9Ih0EMe",
        "tags": []
      },
      "source": [
        "## 2.2. Inspecionando o código desenvolvido em cada site"
      ]
    },
    {
      "cell_type": "markdown",
      "metadata": {
        "id": "2P0addjA0EMe"
      },
      "source": [
        "Por mais que os desenvolvedores web em HTML tentem seguir regras de estruturação na criação das páginas, é impossível que todas estejam no mesmo padrão. Por exemplo, uma notícia no **InfoMoney** pode ser formatada em um padrão diferente de uma notícia no **Bloomberg** ou no **Investing**. Por isso, devemos entender como cada página está estruturada antes de começar a extrair qualquer informação dela. Nessas etapas recomendamos o uso do Google Chrome, devido à sua facilidade em mostrar de forma intuitiva o código fonte no ***Ambiente de desenvolvedor - DevTools***"
      ]
    },
    {
      "cell_type": "markdown",
      "metadata": {
        "id": "SZV_vCb26wVz",
        "outputId": "a619e320-acdf-4a3e-a714-17474bab0c1d"
      },
      "source": [
        "Para navegar no Ambiente de Desenvolvedor entre em um site e aperte F12. Depois selecione o botão 'Inspect' (canto esquerdo superior, Ctrl+Shift+C)<p>\n",
        "https://www.infomoney.com.br/"
      ]
    },
    {
      "cell_type": "markdown",
      "source": [
        "Vamos para a prática?"
      ],
      "metadata": {
        "id": "YW95KXdv0JY6"
      }
    },
    {
      "cell_type": "markdown",
      "source": [
        "# 3. Caso 1: Obtendo manchetes do Infomoney"
      ],
      "metadata": {
        "id": "w9BjEOMM3EgE"
      }
    },
    {
      "cell_type": "code",
      "execution_count": 3,
      "metadata": {
        "colab": {
          "base_uri": "https://localhost:8080/"
        },
        "id": "gPxjkh26-3gi",
        "outputId": "97541979-fcca-4b54-c192-d9e30cb10efc"
      },
      "outputs": [
        {
          "output_type": "execute_result",
          "data": {
            "text/plain": [
              "<Response [200]>"
            ]
          },
          "metadata": {},
          "execution_count": 3
        }
      ],
      "source": [
        "# Comando para importar um html. O output será gigante pois contem todo o código da página\n",
        "# Importamos nossa url objeto de webscraping usando a biblioteca requests\n",
        "# A variável criada \"html_fonte\" é um objeto da classe requests.\n",
        "\n",
        "html_fonte = requests.get(\"https://www.infomoney.com.br\")\n",
        "html_fonte"
      ]
    },
    {
      "cell_type": "code",
      "execution_count": 4,
      "metadata": {
        "colab": {
          "base_uri": "https://localhost:8080/",
          "height": 174
        },
        "id": "39toxKe4-3gi",
        "outputId": "12f12af1-562c-498d-b7b8-8170efb8c63d"
      },
      "outputs": [
        {
          "output_type": "stream",
          "name": "stdout",
          "text": [
            "Este html importado possui 281360 caracteres\n"
          ]
        },
        {
          "output_type": "execute_result",
          "data": {
            "text/plain": [
              "'<!doctype html>\\n<html lang=\"pt-BR\">\\n<head>\\n    <meta charset=\"UTF-8\">\\n    <meta name=\"viewport\" content=\"width=device-width, initial-scale=1, shrink-to-fit=no\">\\n    \\n    <style>\\n        @charset \"UTF-8\";:root{--sapphire:#0091FF;--apatite:#32C5FF;--ruby:#FF5252;--xpamber:#F7B500;--gray:#6c757d;--amazonite:#44D7B6;--lightgray:#F5F7F8;--darkgray:#212121;--gray:#6C757D;--gray24:rgba(108, 117, 125, 0.24);--blue:#0091FF;--lightblue:#32C5FF;--yellow:#ffc709;--red:#FF5252;--emerald:#1eb980;--white:#ffffff}*{letter-spacing:normal!important}html{scroll-behavior:smooth}body{font-family:\"Helvetica Neue\",\"Helvetica Neue LT Pro\",Helvetica,Arial,sans-serif;color:#000}a{color:var(--sapphire)}h1{letter-spacing:-.02em!important}p{font-weight:400!important}.hl-hat{display:block;font-size:.875rem;font-weight:400!important;line-height:16px;margin-bottom:4px;color:#666;width:100%}.hl-title{display:block}.hl-title a{color:#000}.hl-title-2{font-size:24px;line-height:28px;letter-spacing:-.01em!important;font-weight:700}.hl-title-2 a{color:#000;letter-spacing:-.01em!important}.hl-title-4{font-size:20px;line-height:24px;letter-spacing:-.5px;font-weight:700}.hl-title-4 a{color:#111}.hl-title-8{font-size:14px;line-height:16px;font-weight:600;letter-spacing:-.1px;color:#111;display:flex}.hl-title-8 i{font-size:16px;color:#0091ff;margin:0 4px 0 0}.info-spotlight{position:absolute;width:100%;height:100%;display:flex;flex-direction:column;justify-content:flex-end;padding:0 32px 32px 32px;background:linear-gradient(to top,rgba(0,0,0,.7) 20%,rgba(0,0,0,0) 60%);top:0;z-index:1}.info-spotlight span,.info-spotlight span a{color:#fff}.cover-link{display:block;position:absolute;top:0;right:0;bottom:0;left:0;background-color:transparent;z-index:100}.border-t{border-top:1px solid #ddd}.fill-lightgray{background:var(--lightgray)}.border-t-mobile{border-top:0}.img-container{width:100%;align-self:flex-start}.img-container figure{position:relative;overflow:hidden;padding-top:56.25%;margin:0}.img-container figure img{position:absolute;top:50%;left:50%;transform:translate(-50%,-50%);min-height:100%}@supports (-ms-ime-align:auto){.material-icons{font-feature-settings:\\'liga\\' 1}}@media screen and (max-width:991px){body.is-padded-mobile{padding-top:48px}.hl-title-2{font-size:20px;line-height:24px;letter-spacing:-.6px}.info-spotlight{position:relative;background:0 0;padding:0 16px 16px 16px}.info-spotlight .hl-hat{color:#6c757d}.info-spotlight .hl-title a{color:#000}.border-t-mobile{border-top:1px solid rgba(0,0,0,.12)}}h1{scroll-margin-top:70px}.header{position:fixed;top:0;left:0;width:100%;height:48px;z-index:1000;background:#212121}.header .logo-link{margin:13px 0 7px 16px}.header .logo-link .logo{max-height:28px}.header .menu-open{color:rgba(255,255,255,.6)}.header .nav-topics i{color:#0091ff}.header .nav-topics a{color:rgba(255,255,255,.9)}.header .nav-topics span{color:#fff}.header .header-action{color:rgba(255,255,255,.6)}.header-full{display:none}.header-full .logo-link{padding:15px 0 5px 0}.header-full .logo-link .logo{max-height:48px}.header-full .nav-topics i{color:var(--blue)}.header-full .nav-topics a{color:#111}.header-full .header-action{color:var(--gray)}.header-action{display:flex;align-items:center;justify-content:center;width:24px;height:24px}.container-nav-topics{background-color:#f9f9f9}.nav-topics{height:40px}.nav-topics i{font-size:18px}.nav-topics a{font-size:14px;line-height:16px;font-weight:400;letter-spacing:-.2px}.nav-topics span{margin:0 10px}.container-search-header{display:none;position:fixed;top:0;left:0;width:100%;height:1000%;background-color:#fff;z-index:2000;animation:fadein .5s}.container-search-header .header-search{height:48px;border-bottom:1px solid #ddd;display:flex;justify-content:space-between}.container-search-header .header-search img{height:28px;margin:13px 0 7px 16px}.container-search-header .header-search button{background:0 0;border:none;height:24px;width:24px;padding:0;margin:12px 16px 12px 0}.container-search-header .header-search button i{color:#666}.container-search-header .container{height:100vh;margin:-48px auto 0 auto;display:flex;align-items:center}.container-search-header .container .row{flex-basis:calc(100% + 32px)}.container-search-header .container .row form#header-search{display:flex}.container-search-header .container .row form#header-search input[type=text]{width:100%;background:0 0;border-width:0 0 1px 0;border-color:#ddd;font-size:24px;font-weight:700;line-height:36px;height:72px;padding:18px 0}.container-search-header .container .row form#header-search button{background:0 0;height:72px;border-width:0 0 1px 0;border-color:#ddd;border-style:solid}.container-search-header .container .row form#header-search button i{font-size:26px;color:#ccc}.container-search-header .container .row .topics-search{padding-top:20px}.container-search-header .container .row .topics-search div{padding:10px 16px;display:flex}.container-search-header .container .row .topics-search div i{color:#0091ff;font-size:18px}.cont'"
            ],
            "application/vnd.google.colaboratory.intrinsic+json": {
              "type": "string"
            }
          },
          "metadata": {},
          "execution_count": 4
        }
      ],
      "source": [
        "# Usando o método '.text' transformamos a variável 'html_fonte' em uma string. Para evitar sobrecarregar o output, vamos imprimir apenas alguns caracteres\n",
        "# Basta retirar o indexador caso queira visualizar todo o código html da pagina importada\n",
        "# Por curiosidade, vamos imprimir antes de tudo o número de caracteres do html\n",
        "\n",
        "html_text = html_fonte.text\n",
        "print(\"Este html importado possui\",len(html_text),\"caracteres\")\n",
        "html_text[0:5000]"
      ]
    },
    {
      "cell_type": "code",
      "execution_count": 5,
      "metadata": {
        "colab": {
          "base_uri": "https://localhost:8080/"
        },
        "id": "XaGTErgy-3gj",
        "outputId": "d2a4208f-dbfa-4fe2-c90a-0d359ecadbf7"
      },
      "outputs": [
        {
          "output_type": "execute_result",
          "data": {
            "text/plain": [
              "str"
            ]
          },
          "metadata": {},
          "execution_count": 5
        }
      ],
      "source": [
        "type(html_text)"
      ]
    },
    {
      "cell_type": "markdown",
      "metadata": {
        "id": "i_ZBGmq70EMf"
      },
      "source": [
        "Da forma como está carregado (como uma grande string) é praticamente impossível trabalhar com o código (muito diferente de quando inspecionamos no Google Chrome através do DevTools. Nesse ponto, o uso da biblioteca ***bs4 (BeautifulSoup)*** vem auxiliar na organização e abstração de toda a string criada a partir do código HTML, de forma a facilitar o uso no python"
      ]
    },
    {
      "cell_type": "code",
      "execution_count": 6,
      "metadata": {
        "id": "8NeGxpyD0EMf"
      },
      "outputs": [],
      "source": [
        "# Organizar o html_fonte html.parser\"</b> como parâmetros da função <b>BeautifulSoup</b>, conseguimos organizar nosso código HTML:</p>\n",
        "\n",
        "html = BeautifulSoup(html_text, \"html.parser\")"
      ]
    },
    {
      "cell_type": "code",
      "execution_count": 7,
      "metadata": {
        "id": "1LFE1REQ-3gj"
      },
      "outputs": [],
      "source": [
        "# O output é muito grande (caso queira visualizar, basta retirar o # antes de html)\n",
        "\n",
        "# html"
      ]
    },
    {
      "cell_type": "code",
      "execution_count": 8,
      "metadata": {
        "id": "rN0ocsv00EMg",
        "colab": {
          "base_uri": "https://localhost:8080/"
        },
        "outputId": "19f6eddd-edba-4370-8be5-f130da851b56"
      },
      "outputs": [
        {
          "output_type": "execute_result",
          "data": {
            "text/plain": [
              "[<span class=\"hl-title hl-title-8\">\n",
              " <i class=\"material-icons\">arrow_forward</i> <a href=\"https://www.infomoney.com.br/mercados/itausa-itsa4-votorantim-oferta-andrade-gutierrez-ccr-ccro3/\" title=\"Itaúsa e Votorantim oferecem R$ 4,1 bi à Andrade Gutierrez por 14% da CCR\">Itaúsa e Votorantim oferecem R$ 4,1 bi à Andrade Gutierrez por 14% da CCR</a>\n",
              " </span>, <span class=\"hl-title hl-title-8\">\n",
              " <i class=\"material-icons\">arrow_forward</i> <a href=\"https://www.infomoney.com.br/mercados/locaweb-lwsa3-balanco-quarto-trimestre-2021/\" title=\"Locaweb reverte lucro em prejuízo de R$ 7,2 mi; aquisições pesam no resultado\">Locaweb reverte lucro em prejuízo de R$ 7,2 mi; aquisições pesam no resultado</a>\n",
              " </span>, <span class=\"hl-title hl-title-8\">\n",
              " <i class=\"material-icons\">arrow_forward</i> <a href=\"https://lp.infomoney.com.br/serie-renda-extra-imobiliaria-202203-transmissao-ep1-d\" title=\"Especialista da XP mostra passo a passo para viver de renda com FIIs\">Especialista da XP mostra passo a passo para viver de renda com FIIs</a>\n",
              " </span>]"
            ]
          },
          "metadata": {},
          "execution_count": 8
        }
      ],
      "source": [
        "# Nesse momento, o python (através da bs4) já consegue entender o código html para buscarmos os dados que queremos (principalmente baseado nas tags)\n",
        "# Antes sempre devemos inspecionar o Ambiente de Desenvolvedor no próprio site (F12)\n",
        "# Como exemplo, vamos buscar as manchetes que estão nesse momento no quadro principal do site do InfoMoney? https://www.infomoney.com.br/\n",
        "\n",
        "manchetes = html.findAll(attrs = {'class': 'hl-title hl-title-8'})\n",
        "manchetes"
      ]
    },
    {
      "cell_type": "code",
      "execution_count": 9,
      "metadata": {
        "colab": {
          "base_uri": "https://localhost:8080/"
        },
        "id": "6-_hkYQz-3gk",
        "outputId": "f26d90c5-4846-41ce-d8e6-5380bbbeb4b4"
      },
      "outputs": [
        {
          "output_type": "execute_result",
          "data": {
            "text/plain": [
              "3"
            ]
          },
          "metadata": {},
          "execution_count": 9
        }
      ],
      "source": [
        "# Podemos ver quantas manchetes temos\n",
        "\n",
        "len(manchetes)"
      ]
    },
    {
      "cell_type": "code",
      "execution_count": 10,
      "metadata": {
        "id": "ZE0-LXnz-3gk"
      },
      "outputs": [],
      "source": [
        "# Utilizando uma estrutura de repetição podemos extrair apenas os textos em uma lista\n",
        "\n",
        "lista_manchetes = []\n",
        "\n",
        "for i in range(0,len(manchetes)):\n",
        "    manchete_title = manchetes[i].text\n",
        "    lista_manchetes.append(manchete_title)"
      ]
    },
    {
      "cell_type": "code",
      "execution_count": 11,
      "metadata": {
        "colab": {
          "base_uri": "https://localhost:8080/"
        },
        "id": "qfNe3W7_-3gk",
        "outputId": "88e76f99-cfec-4c1a-d00a-fe50f0725f3a"
      },
      "outputs": [
        {
          "output_type": "execute_result",
          "data": {
            "text/plain": [
              "['\\narrow_forward Itaúsa e Votorantim oferecem R$ 4,1 bi à Andrade Gutierrez por 14% da CCR\\n',\n",
              " '\\narrow_forward Locaweb reverte lucro em prejuízo de R$ 7,2 mi; aquisições pesam no resultado\\n',\n",
              " '\\narrow_forward Especialista da XP mostra passo a passo para viver de renda com FIIs\\n']"
            ]
          },
          "metadata": {},
          "execution_count": 11
        }
      ],
      "source": [
        "# Note que nesse caso o text não conseguiu eliminar todos os caracteres \"indesejados\" para deixar apenas o texto da notícia\n",
        "\n",
        "lista_manchetes"
      ]
    },
    {
      "cell_type": "code",
      "execution_count": 12,
      "metadata": {
        "id": "ujej9IF0-3gk"
      },
      "outputs": [],
      "source": [
        "# Podemos fazer os ajustes finais e recriar o 'for' que fizemos logo acima, incluindo o método 'replace' (no exemplo usaremos duas vezes)\n",
        "# Existem formas mais elegantes de sintaxe para essas substituições múltiplas (ex., usando dicionários), mas por enquanto ficaremos com esse método mais simples\n",
        "\n",
        "lista_manchetes_final = []\n",
        "\n",
        "for i in range(0,len(manchetes)):\n",
        "    manchete_title = manchetes[i].text\n",
        "    manchete_title_final = manchete_title.replace('\\narrow_forward ','').replace('\\n','')\n",
        "    lista_manchetes_final.append(manchete_title_final)"
      ]
    },
    {
      "cell_type": "code",
      "execution_count": 13,
      "metadata": {
        "colab": {
          "base_uri": "https://localhost:8080/"
        },
        "id": "4GBpzYxo-3gl",
        "outputId": "752f7895-e1ed-49c7-dcdf-b0e4493dba64"
      },
      "outputs": [
        {
          "output_type": "execute_result",
          "data": {
            "text/plain": [
              "['Itaúsa e Votorantim oferecem R$ 4,1 bi à Andrade Gutierrez por 14% da CCR',\n",
              " 'Locaweb reverte lucro em prejuízo de R$ 7,2 mi; aquisições pesam no resultado',\n",
              " 'Especialista da XP mostra passo a passo para viver de renda com FIIs']"
            ]
          },
          "metadata": {},
          "execution_count": 13
        }
      ],
      "source": [
        "# Lista indexada com as manchestes\n",
        "\n",
        "lista_manchetes_final"
      ]
    },
    {
      "cell_type": "code",
      "execution_count": 14,
      "metadata": {
        "colab": {
          "base_uri": "https://localhost:8080/",
          "height": 35
        },
        "id": "du_o0q9U-3gl",
        "outputId": "24c7e36f-6687-4595-877d-c9d80ea907c2"
      },
      "outputs": [
        {
          "output_type": "execute_result",
          "data": {
            "text/plain": [
              "'Itaúsa e Votorantim oferecem R$ 4,1 bi à Andrade Gutierrez por 14% da CCR'"
            ],
            "application/vnd.google.colaboratory.intrinsic+json": {
              "type": "string"
            }
          },
          "metadata": {},
          "execution_count": 14
        }
      ],
      "source": [
        "# Acesso por indexação Python\n",
        "\n",
        "lista_manchetes_final[0]"
      ]
    },
    {
      "cell_type": "markdown",
      "metadata": {
        "id": "bW8SS7QW0EMg"
      },
      "source": [
        "# 4. Caso 2 - Web scraping com Rendimentos de Fundos Imobiliários (FIIs)"
      ]
    },
    {
      "cell_type": "markdown",
      "metadata": {
        "id": "O_Pn8urH0EMg"
      },
      "source": [
        "Funds Explorer - muito legal para obtenção de dados de FIIs <p>\n",
        "Dados de mais @ FIIs, distribuídos em 9 setores e 24 colunas de atributos <p>\n",
        "https://www.fundsexplorer.com.br/ranking"
      ]
    },
    {
      "cell_type": "code",
      "execution_count": 15,
      "metadata": {
        "colab": {
          "base_uri": "https://localhost:8080/"
        },
        "id": "7pRuJww30EMh",
        "outputId": "b6f20310-9949-43ac-f503-cbd4be6019d1"
      },
      "outputs": [
        {
          "output_type": "execute_result",
          "data": {
            "text/plain": [
              "<Response [200]>"
            ]
          },
          "metadata": {},
          "execution_count": 15
        }
      ],
      "source": [
        "# Importamos nossa url objeto de webscraping usando a biblioteca requests\n",
        "\n",
        "FII_url = requests.get(\"https://www.fundsexplorer.com.br/ranking\")\n",
        "FII_url"
      ]
    },
    {
      "cell_type": "code",
      "execution_count": 16,
      "metadata": {
        "colab": {
          "base_uri": "https://localhost:8080/",
          "height": 157
        },
        "id": "A_jxcbu60EMh",
        "outputId": "6c27bc4b-a4ee-4e87-abf0-9d3c278f7026"
      },
      "outputs": [
        {
          "output_type": "execute_result",
          "data": {
            "text/plain": [
              "'<!DOCTYPE html>\\n<html lang=\"pt-br\">\\n\\n<head>\\n<script type=\"text/javascript\">window.NREUM||(NREUM={});NREUM.info={\"beacon\":\"bam.nr-data.net\",\"errorBeacon\":\"bam.nr-data.net\",\"licenseKey\":\"7ae9c6eb2d\",\"applicationID\":\"1576126089\",\"transactionName\":\"IAkLQhFbWVUBQhdKVwcDFl8EWhpLBV5TUVwESQxYB1FN\",\"queueTime\":3,\"applicationTime\":13,\"agent\":\"\"}</script>\\n<script type=\"text/javascript\">(window.NREUM||(NREUM={})).init={ajax:{deny_list:[\"bam.nr-data.net\"]}};(window.NREUM||(NREUM={})).loader_config={licenseKey:\"7ae9c6eb2d\",applicationID:\"1576126089\"};window.NREUM||(NREUM={}),__nr_require=function(t,e,n){function r(n){if(!e[n]){var i=e[n]={exports:{}};t[n][0].call(i.exports,function(e){var i=t[n][1][e];return r(i||e)},i,i.exports)}return e[n].exports}if(\"function\"==typeof __nr_require)return __nr_require;for(var i=0;i<n.length;i++)r(n[i]);return r}({1:[function(t,e,n){function r(){}function i(t,e,n,r){return function(){return s.recordSupportability(\"API/\"+e+\"/called\"),o(t+e,[u.now()].concat(c(argumen'"
            ],
            "application/vnd.google.colaboratory.intrinsic+json": {
              "type": "string"
            }
          },
          "metadata": {},
          "execution_count": 16
        }
      ],
      "source": [
        "# Transformar o código em texto\n",
        "# Output reduzido\n",
        "\n",
        "FII_url.text[0:1000]"
      ]
    },
    {
      "cell_type": "code",
      "execution_count": 19,
      "metadata": {
        "colab": {
          "base_uri": "https://localhost:8080/"
        },
        "id": "gg9K7ZCx0EMh",
        "outputId": "e1e211da-b6e6-4460-9686-6d30cdf414e1"
      },
      "outputs": [
        {
          "output_type": "execute_result",
          "data": {
            "text/plain": [
              "[<script type=\"text/javascript\">window.NREUM||(NREUM={});NREUM.info={\"beacon\":\"bam.nr-data.net\",\"errorBeacon\":\"bam.nr-data.net\",\"licenseKey\":\"7ae9c6eb2d\",\"applicationID\":\"1576126089\",\"transactionName\":\"IAkLQhFbWVUBQhdKVwcDFl8EWhpLBV5TUVwESQxYB1FN\",\"queueTime\":3,\"applicationTime\":13,\"agent\":\"\"}</script>,\n",
              " <script type=\"text/javascript\">(window.NREUM||(NREUM={})).init={ajax:{deny_list:[\"bam.nr-data.net\"]}};(window.NREUM||(NREUM={})).loader_config={licenseKey:\"7ae9c6eb2d\",applicationID:\"1576126089\"};window.NREUM||(NREUM={}),__nr_require=function(t,e,n){function r(n){if(!e[n]){var i=e[n]={exports:{}};t[n][0].call(i.exports,function(e){var i=t[n][1][e];return r(i||e)},i,i.exports)}return e[n].exports}if(\"function\"==typeof __nr_require)return __nr_require;for(var i=0;i<n.length;i++)r(n[i]);return r}({1:[function(t,e,n){function r(){}function i(t,e,n,r){return function(){return s.recordSupportability(\"API/\"+e+\"/called\"),o(t+e,[u.now()].concat(c(arguments)),n?null:this,r),n?void 0:this}}var o=t(\"handle\"),a=t(10),c=t(11),f=t(\"ee\").get(\"tracer\"),u=t(\"loader\"),s=t(4),d=NREUM;\"undefined\"==typeof window.newrelic&&(newrelic=d);var p=[\"setPageViewName\",\"setCustomAttribute\",\"setErrorHandler\",\"finished\",\"addToTrace\",\"inlineHit\",\"addRelease\"],l=\"api-\",v=l+\"ixn-\";a(p,function(t,e){d[e]=i(l,e,!0,\"api\")}),d.addPageAction=i(l,\"addPageAction\",!0),d.setCurrentRouteName=i(l,\"routeName\",!0),e.exports=newrelic,d.interaction=function(){return(new r).get()};var m=r.prototype={createTracer:function(t,e){var n={},r=this,i=\"function\"==typeof e;return o(v+\"tracer\",[u.now(),t,n],r),function(){if(f.emit((i?\"\":\"no-\")+\"fn-start\",[u.now(),r,i],n),i)try{return e.apply(this,arguments)}catch(t){throw f.emit(\"fn-err\",[arguments,this,t],n),t}finally{f.emit(\"fn-end\",[u.now()],n)}}}};a(\"actionText,setName,setAttribute,save,ignore,onEnd,getContext,end,get\".split(\",\"),function(t,e){m[e]=i(v,e)}),newrelic.noticeError=function(t,e){\"string\"==typeof t&&(t=new Error(t)),s.recordSupportability(\"API/noticeError/called\"),o(\"err\",[t,u.now(),!1,e])}},{}],2:[function(t,e,n){function r(t){if(NREUM.init){for(var e=NREUM.init,n=t.split(\".\"),r=0;r<n.length-1;r++)if(e=e[n[r]],\"object\"!=typeof e)return;return e=e[n[n.length-1]]}}e.exports={getConfiguration:r}},{}],3:[function(t,e,n){var r=!1;try{var i=Object.defineProperty({},\"passive\",{get:function(){r=!0}});window.addEventListener(\"testPassive\",null,i),window.removeEventListener(\"testPassive\",null,i)}catch(o){}e.exports=function(t){return r?{passive:!0,capture:!!t}:!!t}},{}],4:[function(t,e,n){function r(t,e){var n=[a,t,{name:t},e];return o(\"storeMetric\",n,null,\"api\"),n}function i(t,e){var n=[c,t,{name:t},e];return o(\"storeEventMetrics\",n,null,\"api\"),n}var o=t(\"handle\"),a=\"sm\",c=\"cm\";e.exports={constants:{SUPPORTABILITY_METRIC:a,CUSTOM_METRIC:c},recordSupportability:r,recordCustom:i}},{}],5:[function(t,e,n){function r(){return c.exists&&performance.now?Math.round(performance.now()):(o=Math.max((new Date).getTime(),o))-a}function i(){return o}var o=(new Date).getTime(),a=o,c=t(12);e.exports=r,e.exports.offset=a,e.exports.getLastTimestamp=i},{}],6:[function(t,e,n){function r(t){return!(!t||!t.protocol||\"file:\"===t.protocol)}e.exports=r},{}],7:[function(t,e,n){function r(t,e){var n=t.getEntries();n.forEach(function(t){\"first-paint\"===t.name?l(\"timing\",[\"fp\",Math.floor(t.startTime)]):\"first-contentful-paint\"===t.name&&l(\"timing\",[\"fcp\",Math.floor(t.startTime)])})}function i(t,e){var n=t.getEntries();if(n.length>0){var r=n[n.length-1];if(u&&u<r.startTime)return;var i=[r],o=a({});o&&i.push(o),l(\"lcp\",i)}}function o(t){t.getEntries().forEach(function(t){t.hadRecentInput||l(\"cls\",[t])})}function a(t){var e=navigator.connection||navigator.mozConnection||navigator.webkitConnection;if(e)return e.type&&(t[\"net-type\"]=e.type),e.effectiveType&&(t[\"net-etype\"]=e.effectiveType),e.rtt&&(t[\"net-rtt\"]=e.rtt),e.downlink&&(t[\"net-dlink\"]=e.downlink),t}function c(t){if(t instanceof y&&!w){var e=Math.round(t.timeStamp),n={type:t.type};a(n),e<=v.now()?n.fid=v.now()-e:e>v.offset&&e<=Date.now()?(e-=v.offset,n.fid=v.now()-e):e=v.now(),w=!0,l(\"timing\",[\"fi\",e,n])}}function f(t){\"hidden\"===t&&(u=v.now(),l(\"pageHide\",[u]))}if(!(\"init\"in NREUM&&\"page_view_timing\"in NREUM.init&&\"enabled\"in NREUM.init.page_view_timing&&NREUM.init.page_view_timing.enabled===!1)){var u,s,d,p,l=t(\"handle\"),v=t(\"loader\"),m=t(9),g=t(3),y=NREUM.o.EV;if(\"PerformanceObserver\"in window&&\"function\"==typeof window.PerformanceObserver){s=new PerformanceObserver(r);try{s.observe({entryTypes:[\"paint\"]})}catch(h){}d=new PerformanceObserver(i);try{d.observe({entryTypes:[\"largest-contentful-paint\"]})}catch(h){}p=new PerformanceObserver(o);try{p.observe({type:\"layout-shift\",buffered:!0})}catch(h){}}if(\"addEventListener\"in document){var w=!1,b=[\"click\",\"keydown\",\"mousedown\",\"pointerdown\",\"touchstart\"];b.forEach(function(t){document.addEventListener(t,c,g(!1))})}m(f)}},{}],8:[function(t,e,n){function r(t,e){if(!i)return!1;if(t!==i)return!1;if(!e)return!0;if(!o)return!1;for(var n=o.split(\".\"),r=e.split(\".\"),a=0;a<r.length;a++)if(r[a]!==n[a])return!1;return!0}var i=null,o=null,a=/Version\\/(\\S+)\\s+Safari/;if(navigator.userAgent){var c=navigator.userAgent,f=c.match(a);f&&c.indexOf(\"Chrome\")===-1&&c.indexOf(\"Chromium\")===-1&&(i=\"Safari\",o=f[1])}e.exports={agent:i,version:o,match:r}},{}],9:[function(t,e,n){function r(t){function e(){t(c&&document[c]?document[c]:document[o]?\"hidden\":\"visible\")}\"addEventListener\"in document&&a&&document.addEventListener(a,e,i(!1))}var i=t(3);e.exports=r;var o,a,c;\"undefined\"!=typeof document.hidden?(o=\"hidden\",a=\"visibilitychange\",c=\"visibilityState\"):\"undefined\"!=typeof document.msHidden?(o=\"msHidden\",a=\"msvisibilitychange\"):\"undefined\"!=typeof document.webkitHidden&&(o=\"webkitHidden\",a=\"webkitvisibilitychange\",c=\"webkitVisibilityState\")},{}],10:[function(t,e,n){function r(t,e){var n=[],r=\"\",o=0;for(r in t)i.call(t,r)&&(n[o]=e(r,t[r]),o+=1);return n}var i=Object.prototype.hasOwnProperty;e.exports=r},{}],11:[function(t,e,n){function r(t,e,n){e||(e=0),\"undefined\"==typeof n&&(n=t?t.length:0);for(var r=-1,i=n-e||0,o=Array(i<0?0:i);++r<i;)o[r]=t[e+r];return o}e.exports=r},{}],12:[function(t,e,n){e.exports={exists:\"undefined\"!=typeof window.performance&&window.performance.timing&&\"undefined\"!=typeof window.performance.timing.navigationStart}},{}],ee:[function(t,e,n){function r(){}function i(t){function e(t){return t&&t instanceof r?t:t?u(t,f,a):a()}function n(n,r,i,o,a){if(a!==!1&&(a=!0),!l.aborted||o){t&&a&&t(n,r,i);for(var c=e(i),f=m(n),u=f.length,s=0;s<u;s++)f[s].apply(c,r);var p=d[w[n]];return p&&p.push([b,n,r,c]),c}}function o(t,e){h[t]=m(t).concat(e)}function v(t,e){var n=h[t];if(n)for(var r=0;r<n.length;r++)n[r]===e&&n.splice(r,1)}function m(t){return h[t]||[]}function g(t){return p[t]=p[t]||i(n)}function y(t,e){l.aborted||s(t,function(t,n){e=e||\"feature\",w[n]=e,e in d||(d[e]=[])})}var h={},w={},b={on:o,addEventListener:o,removeEventListener:v,emit:n,get:g,listeners:m,context:e,buffer:y,abort:c,aborted:!1};return b}function o(t){return u(t,f,a)}function a(){return new r}function c(){(d.api||d.feature)&&(l.aborted=!0,d=l.backlog={})}var f=\"nr@context\",u=t(\"gos\"),s=t(10),d={},p={},l=e.exports=i();e.exports.getOrSetContext=o,l.backlog=d},{}],gos:[function(t,e,n){function r(t,e,n){if(i.call(t,e))return t[e];var r=n();if(Object.defineProperty&&Object.keys)try{return Object.defineProperty(t,e,{value:r,writable:!0,enumerable:!1}),r}catch(o){}return t[e]=r,r}var i=Object.prototype.hasOwnProperty;e.exports=r},{}],handle:[function(t,e,n){function r(t,e,n,r){i.buffer([t],r),i.emit(t,e,n)}var i=t(\"ee\").get(\"handle\");e.exports=r,r.ee=i},{}],id:[function(t,e,n){function r(t){var e=typeof t;return!t||\"object\"!==e&&\"function\"!==e?-1:t===window?0:a(t,o,function(){return i++})}var i=1,o=\"nr@id\",a=t(\"gos\");e.exports=r},{}],loader:[function(t,e,n){function r(){if(!P++){var t=M.info=NREUM.info,e=g.getElementsByTagName(\"script\")[0];if(setTimeout(u.abort,3e4),!(t&&t.licenseKey&&t.applicationID&&e))return u.abort();f(O,function(e,n){t[e]||(t[e]=n)});var n=a();c(\"mark\",[\"onload\",n+M.offset],null,\"api\"),c(\"timing\",[\"load\",n]);var r=g.createElement(\"script\");0===t.agent.indexOf(\"http://\")||0===t.agent.indexOf(\"https://\")?r.src=t.agent:r.src=v+\"://\"+t.agent,e.parentNode.insertBefore(r,e)}}function i(){\"complete\"===g.readyState&&o()}function o(){c(\"mark\",[\"domContent\",a()+M.offset],null,\"api\")}var a=t(5),c=t(\"handle\"),f=t(10),u=t(\"ee\"),s=t(8),d=t(6),p=t(2),l=t(3),v=p.getConfiguration(\"ssl\")===!1?\"http\":\"https\",m=window,g=m.document,y=\"addEventListener\",h=\"attachEvent\",w=m.XMLHttpRequest,b=w&&w.prototype,E=!d(m.location);NREUM.o={ST:setTimeout,SI:m.setImmediate,CT:clearTimeout,XHR:w,REQ:m.Request,EV:m.Event,PR:m.Promise,MO:m.MutationObserver};var x=\"\"+location,O={beacon:\"bam.nr-data.net\",errorBeacon:\"bam.nr-data.net\",agent:\"js-agent.newrelic.com/nr-1215.min.js\"},T=w&&b&&b[y]&&!/CriOS/.test(navigator.userAgent),M=e.exports={offset:a.getLastTimestamp(),now:a,origin:x,features:{},xhrWrappable:T,userAgent:s,disabled:E};if(!E){t(1),t(7),g[y]?(g[y](\"DOMContentLoaded\",o,l(!1)),m[y](\"load\",r,l(!1))):(g[h](\"onreadystatechange\",i),m[h](\"onload\",r)),c(\"mark\",[\"firstbyte\",a.getLastTimestamp()],null,\"api\");var P=0}},{}],\"wrap-function\":[function(t,e,n){function r(t,e){function n(e,n,r,f,u){function nrWrapper(){var o,a,s,p;try{a=this,o=d(arguments),s=\"function\"==typeof r?r(o,a):r||{}}catch(l){i([l,\"\",[o,a,f],s],t)}c(n+\"start\",[o,a,f],s,u);try{return p=e.apply(a,o)}catch(v){throw c(n+\"err\",[o,a,v],s,u),v}finally{c(n+\"end\",[o,a,p],s,u)}}return a(e)?e:(n||(n=\"\"),nrWrapper[p]=e,o(e,nrWrapper,t),nrWrapper)}function r(t,e,r,i,o){r||(r=\"\");var c,f,u,s=\"-\"===r.charAt(0);for(u=0;u<e.length;u++)f=e[u],c=t[f],a(c)||(t[f]=n(c,s?f+r:r,i,f,o))}function c(n,r,o,a){if(!v||e){var c=v;v=!0;try{t.emit(n,r,o,e,a)}catch(f){i([f,n,r,o],t)}v=c}}return t||(t=s),n.inPlace=r,n.flag=p,n}function i(t,e){e||(e=s);try{e.emit(\"internal-error\",t)}catch(n){}}function o(t,e,n){if(Object.defineProperty&&Object.keys)try{var r=Object.keys(t);return r.forEach(function(n){Object.defineProperty(e,n,{get:function(){return t[n]},set:function(e){return t[n]=e,e}})}),e}catch(o){i([o],n)}for(var a in t)l.call(t,a)&&(e[a]=t[a]);return e}function a(t){return!(t&&t instanceof Function&&t.apply&&!t[p])}function c(t,e){var n=e(t);return n[p]=t,o(t,n,s),n}function f(t,e,n){var r=t[e];t[e]=c(r,n)}function u(){for(var t=arguments.length,e=new Array(t),n=0;n<t;++n)e[n]=arguments[n];return e}var s=t(\"ee\"),d=t(11),p=\"nr@original\",l=Object.prototype.hasOwnProperty,v=!1;e.exports=r,e.exports.wrapFunction=c,e.exports.wrapInPlace=f,e.exports.argsToArray=u},{}]},{},[\"loader\"]);</script>,\n",
              " <title>Ranking de Fundos Imobiliários - Funds Explorer</title>,\n",
              " <script>\n",
              "         ! function(f, b, e, v, n, t, s) {\n",
              "             if (f.fbq) return;\n",
              "             n = f.fbq = function() {\n",
              "                 n.callMethod ?\n",
              "                     n.callMethod.apply(n, arguments) : n.queue.push(arguments)\n",
              "             };\n",
              "             if (!f._fbq) f._fbq = n;\n",
              "             n.push = n;\n",
              "             n.loaded = !0;\n",
              "             n.version = '2.0';\n",
              "             n.queue = [];\n",
              "             t = b.createElement(e);\n",
              "             t.async = !0;\n",
              "             t.src = v;\n",
              "             s = b.getElementsByTagName(e)[0];\n",
              "             s.parentNode.insertBefore(t, s)\n",
              "         }(window,\n",
              "             document, 'script', 'https://connect.facebook.net/en_US/fbevents.js');\n",
              "         fbq('init', '116146375533905'); // Insert your pixel ID here.\n",
              "         fbq('track', 'PageView');\n",
              "     </script>,\n",
              " <noscript><img height=\"1\" src=\"https://www.facebook.com/tr?id=116146375533905&amp;ev=PageView&amp;noscript=1\" style=\"display:none\" width=\"1\"/></noscript>,\n",
              " <img height=\"1\" src=\"https://www.facebook.com/tr?id=116146375533905&amp;ev=PageView&amp;noscript=1\" style=\"display:none\" width=\"1\"/>,\n",
              " <script>\n",
              "         (function(w, d, s, l, i) {\n",
              "             w[l] = w[l] || [];\n",
              "             w[l].push({\n",
              "                 'gtm.start': new Date().getTime(),\n",
              "                 event: 'gtm.js'\n",
              "             });\n",
              "             var f = d.getElementsByTagName(s)[0],\n",
              "                 j = d.createElement(s),\n",
              "                 dl = l != 'dataLayer' ? '&l=' + l : '';\n",
              "             j.async = true;\n",
              "             j.src =\n",
              "                 'https://www.googletagmanager.com/gtm.js?id=' + i + dl;\n",
              "             f.parentNode.insertBefore(j, f);\n",
              "         })(window, document, 'script', 'dataLayer', 'GTM-PRZL8BR');\n",
              "     </script>,\n",
              " <meta content=\"pt_BR\" property=\"og:locale\"/>,\n",
              " <meta content=\"website\" property=\"og:type\"/>,\n",
              " <meta content=\"https://www.fundsexplorer.com.br/ranking\" property=\"og:url\"/>,\n",
              " <meta content=\"Funds Explorer\" property=\"og:site_name\"/>,\n",
              " <meta content=\"https://www.fundsexplorer.com.br/assets/og-image-0816da80381841e4393b12135f6f570531125da8618d8fda87c2da7c88700073.jpg\" property=\"og:image\"/>,\n",
              " <meta content=\"https://www.fundsexplorer.com.br/assets/og-image-0816da80381841e4393b12135f6f570531125da8618d8fda87c2da7c88700073.jpg\" property=\"og:image:secure_url\"/>,\n",
              " <meta content=\"1200\" property=\"og:image:width\"/>,\n",
              " <meta content=\"630\" property=\"og:image:height\"/>,\n",
              " <meta content=\"summary_large_image\" name=\"twitter:card\"/>,\n",
              " <meta content=\"@FundsExplorer\" name=\"twitter:site\"/>,\n",
              " <meta content=\"https://www.fundsexplorer.com.br/assets/og-image-0816da80381841e4393b12135f6f570531125da8618d8fda87c2da7c88700073.jpg\" name=\"twitter:image\"/>,\n",
              " <meta content=\"@FundsExplorer\" name=\"twitter:creator\"/>,\n",
              " <meta content=\"index, follow\" name=\"robots\"/>,\n",
              " <meta content=\"fundsexplorer.com.br\" name=\"publisher\"/>,\n",
              " <meta content=\"user-scalable=no, initial-scale=1, maximum-scale=1, minimum-scale=1, width=device-width, height=device-height, target-densitydpi=device-dpi\" name=\"viewport\">\n",
              " <link href=\"https://fonts.googleapis.com\" rel=\"preconnect\"/>\n",
              " <link crossorigin=\"\" href=\"https://fonts.gstatic.com\" rel=\"preconnect\"/>\n",
              " <link href=\"https://fonts.googleapis.com/css2?family=Montserrat:wght@400;700;800&amp;display=swap\" rel=\"stylesheet\"/>\n",
              " <link as=\"font\" crossorigin=\"\" href=\"https://www.fundsexplorer.com.br/assets/roboto-regular-2cd6b07b7855716761250290ce3cf447ccc98e793e484294d3fa8ccbb55b016a.woff\" rel=\"preload\" type=\"font/woff\"/><link href=\"https://fonts.gstatic.com\" rel=\"preconnect\"/>\n",
              " <link as=\"font\" crossorigin=\"\" href=\"https://www.fundsexplorer.com.br/assets/roboto-bold-e7cbaf29c3812b80577cb845b5d359486242338f25620ba65260e265464fe359.woff\" rel=\"preload\" type=\"font/woff\"/>\n",
              " <link as=\"font\" crossorigin=\"\" href=\"https://www.fundsexplorer.com.br/assets/poppins-regular-ad5fb58ad11730ef707d4f28db7a83ec4804bb3e8373dc69bedd94cd7a872efc.woff\" rel=\"preload\" type=\"font/woff\"/>\n",
              " <link as=\"font\" crossorigin=\"\" href=\"https://www.fundsexplorer.com.br/assets/poppins-light-bacb75313cbb300794cdc48e6a65ec670548d466e5da3b14e42d1f245d222b96.woff\" rel=\"preload\" type=\"font/woff\"/>\n",
              " <link as=\"font\" crossorigin=\"\" href=\"https://www.fundsexplorer.com.br/assets/poppins-medium-6dfdf411a70ae4d26942efdf1034e66976435758d29f2a7d556d77e08b9e2412.woff\" rel=\"preload\" type=\"font/woff\"/>\n",
              " <link as=\"font\" crossorigin=\"\" href=\"https://www.fundsexplorer.com.br/assets/poppins-semibold-90751a7ac26ffaed4f9f9a282b3176010ea979f9df4038d33a74e02645f8a12f.woff\" rel=\"preload\" type=\"font/woff\"/>\n",
              " <link as=\"font\" crossorigin=\"\" href=\"https://www.fundsexplorer.com.br/assets/poppins-bold-28bf02b4bfe810f92b75ec4a857b9ccece7a75392663a5140d45776170a407c9.woff\" rel=\"preload\" type=\"font/woff\"/>\n",
              " <meta content=\"O ranking do Funds Explorer auxilia o investidor a pesquisar e tomar decisões mais assertivas. Conheça os melhores FIIs de acordo com cada indicador.\" name=\"description\">\n",
              " <meta content=\"O ranking do Funds Explorer auxilia o investidor a pesquisar e tomar decisões mais assertivas. Conheça os melhores FIIs de acordo com cada indicador.\" property=\"og:description\"/>\n",
              " <meta content=\"Ranking de Fundos Imobiliários - Funds Explorer\" property=\"og:title\"/>\n",
              " <meta content=\"Ranking de Fundos Imobiliários - Funds Explorer\" name=\"twitter:title\"/>\n",
              " <link href=\"https://www.fundsexplorer.com.br/ranking\" rel=\"canonical\">\n",
              " <!-- Hotjar Tracking Code for https://www.fundsexplorer.com.br/ -->\n",
              " <script>\n",
              "         (function(h,o,t,j,a,r){\n",
              "             h.hj=h.hj||function(){(h.hj.q=h.hj.q||[]).push(arguments)};\n",
              "             h._hjSettings={hjid:1183503,hjsv:6};\n",
              "             a=o.getElementsByTagName('head')[0];\n",
              "             r=o.createElement('script');r.async=1;\n",
              "             r.src=t+h._hjSettings.hjid+j+h._hjSettings.hjsv;\n",
              "             a.appendChild(r);\n",
              "         })(window,document,'https://static.hotjar.com/c/hotjar-','.js?sv=');\n",
              "     </script>\n",
              " <link href=\"/assets/favicon/apple-touch-icon-44ef885b225b78ca364401a65eb92e8e1a32447e44e4cc450c0d0af3d82c5c31.png\" rel=\"apple-touch-icon\" sizes=\"180x180\"/>\n",
              " <link href=\"/assets/favicon/favicon-32x32-62f6aacd7a6c99219e86b4a6c140f7a8acfc6053f8d98a5655e536ca6d8fa675.png\" rel=\"icon\" sizes=\"32x32\" type=\"image/png\"/>\n",
              " <link href=\"/assets/favicon/favicon-16x16-20d8ccbcf748d21abeda416d0972cee05a5a0f85e718d55f16191e762ab97cd7.png\" rel=\"icon\" sizes=\"16x16\" type=\"image/png\"/>\n",
              " <link href=\"/assets/favicon/site-865960af7b2e68f85fff7a4bc84e9d9209c01649f303579749b0f19c3d46b168.webmanifest\" rel=\"manifest\"/>\n",
              " <link color=\"#09aac8\" href=\"/assets/favicon/safari-pinned-tab-43a00e43cf209aa71bb4e37ea4d86708c6cfa9e50877ed4ad6668dbed64a394a.svg\" rel=\"mask-icon\"/>\n",
              " <link href=\"/assets/favicon/favicon-42a2d8bc26ccaf8666f9f0a22559e1c144f1bd2b7a73008674b6e5ee9eb21bd2.ico\" rel=\"shortcut icon\"/>\n",
              " <meta content=\"#2b5797\" name=\"msapplication-TileColor\"/>\n",
              " <meta content=\"/assets/favicon/mstile-144x144-b57ec78adf4959903834172ecf9e783789dc2a54552a84adf4e2529e1af3c19e.png\" name=\"msapplication-TileImage\"/>\n",
              " <meta content=\"/assets/favicon/browserconfig-b277ccf9dd97fd937ead695a86ffb5e5b734d5aa624e225a6d4685424880f674.xml\" name=\"msapplication-config\"/>\n",
              " <meta content=\"#ffffff\" name=\"theme-color\"/>\n",
              " <link data-turbolinks-track=\"false\" href=\"/assets/redesign/application-f854be09416b62a328af4af6f8ad3c01b71d2204a5085d2aced46b689cddf6fa.css\" media=\"all\" rel=\"stylesheet\">\n",
              " <meta content=\"authenticity_token\" name=\"csrf-param\">\n",
              " <meta content=\"byMqmPzkLxoCge2IJLKdpPlNBujNxf09BjdmsSi7QOVOvNqdudb6vx5+//pWlHV9VT7Xmg57KcpV2D7xRM6TSA==\" name=\"csrf-token\">\n",
              " </meta></meta></link></link></meta></meta>,\n",
              " <link href=\"https://fonts.googleapis.com\" rel=\"preconnect\"/>,\n",
              " <link crossorigin=\"\" href=\"https://fonts.gstatic.com\" rel=\"preconnect\"/>,\n",
              " <link href=\"https://fonts.googleapis.com/css2?family=Montserrat:wght@400;700;800&amp;display=swap\" rel=\"stylesheet\"/>,\n",
              " <link as=\"font\" crossorigin=\"\" href=\"https://www.fundsexplorer.com.br/assets/roboto-regular-2cd6b07b7855716761250290ce3cf447ccc98e793e484294d3fa8ccbb55b016a.woff\" rel=\"preload\" type=\"font/woff\"/>,\n",
              " <link href=\"https://fonts.gstatic.com\" rel=\"preconnect\"/>,\n",
              " <link as=\"font\" crossorigin=\"\" href=\"https://www.fundsexplorer.com.br/assets/roboto-bold-e7cbaf29c3812b80577cb845b5d359486242338f25620ba65260e265464fe359.woff\" rel=\"preload\" type=\"font/woff\"/>,\n",
              " <link as=\"font\" crossorigin=\"\" href=\"https://www.fundsexplorer.com.br/assets/poppins-regular-ad5fb58ad11730ef707d4f28db7a83ec4804bb3e8373dc69bedd94cd7a872efc.woff\" rel=\"preload\" type=\"font/woff\"/>,\n",
              " <link as=\"font\" crossorigin=\"\" href=\"https://www.fundsexplorer.com.br/assets/poppins-light-bacb75313cbb300794cdc48e6a65ec670548d466e5da3b14e42d1f245d222b96.woff\" rel=\"preload\" type=\"font/woff\"/>,\n",
              " <link as=\"font\" crossorigin=\"\" href=\"https://www.fundsexplorer.com.br/assets/poppins-medium-6dfdf411a70ae4d26942efdf1034e66976435758d29f2a7d556d77e08b9e2412.woff\" rel=\"preload\" type=\"font/woff\"/>,\n",
              " <link as=\"font\" crossorigin=\"\" href=\"https://www.fundsexplorer.com.br/assets/poppins-semibold-90751a7ac26ffaed4f9f9a282b3176010ea979f9df4038d33a74e02645f8a12f.woff\" rel=\"preload\" type=\"font/woff\"/>,\n",
              " <link as=\"font\" crossorigin=\"\" href=\"https://www.fundsexplorer.com.br/assets/poppins-bold-28bf02b4bfe810f92b75ec4a857b9ccece7a75392663a5140d45776170a407c9.woff\" rel=\"preload\" type=\"font/woff\"/>,\n",
              " <meta content=\"O ranking do Funds Explorer auxilia o investidor a pesquisar e tomar decisões mais assertivas. Conheça os melhores FIIs de acordo com cada indicador.\" name=\"description\">\n",
              " <meta content=\"O ranking do Funds Explorer auxilia o investidor a pesquisar e tomar decisões mais assertivas. Conheça os melhores FIIs de acordo com cada indicador.\" property=\"og:description\"/>\n",
              " <meta content=\"Ranking de Fundos Imobiliários - Funds Explorer\" property=\"og:title\"/>\n",
              " <meta content=\"Ranking de Fundos Imobiliários - Funds Explorer\" name=\"twitter:title\"/>\n",
              " <link href=\"https://www.fundsexplorer.com.br/ranking\" rel=\"canonical\">\n",
              " <!-- Hotjar Tracking Code for https://www.fundsexplorer.com.br/ -->\n",
              " <script>\n",
              "         (function(h,o,t,j,a,r){\n",
              "             h.hj=h.hj||function(){(h.hj.q=h.hj.q||[]).push(arguments)};\n",
              "             h._hjSettings={hjid:1183503,hjsv:6};\n",
              "             a=o.getElementsByTagName('head')[0];\n",
              "             r=o.createElement('script');r.async=1;\n",
              "             r.src=t+h._hjSettings.hjid+j+h._hjSettings.hjsv;\n",
              "             a.appendChild(r);\n",
              "         })(window,document,'https://static.hotjar.com/c/hotjar-','.js?sv=');\n",
              "     </script>\n",
              " <link href=\"/assets/favicon/apple-touch-icon-44ef885b225b78ca364401a65eb92e8e1a32447e44e4cc450c0d0af3d82c5c31.png\" rel=\"apple-touch-icon\" sizes=\"180x180\"/>\n",
              " <link href=\"/assets/favicon/favicon-32x32-62f6aacd7a6c99219e86b4a6c140f7a8acfc6053f8d98a5655e536ca6d8fa675.png\" rel=\"icon\" sizes=\"32x32\" type=\"image/png\"/>\n",
              " <link href=\"/assets/favicon/favicon-16x16-20d8ccbcf748d21abeda416d0972cee05a5a0f85e718d55f16191e762ab97cd7.png\" rel=\"icon\" sizes=\"16x16\" type=\"image/png\"/>\n",
              " <link href=\"/assets/favicon/site-865960af7b2e68f85fff7a4bc84e9d9209c01649f303579749b0f19c3d46b168.webmanifest\" rel=\"manifest\"/>\n",
              " <link color=\"#09aac8\" href=\"/assets/favicon/safari-pinned-tab-43a00e43cf209aa71bb4e37ea4d86708c6cfa9e50877ed4ad6668dbed64a394a.svg\" rel=\"mask-icon\"/>\n",
              " <link href=\"/assets/favicon/favicon-42a2d8bc26ccaf8666f9f0a22559e1c144f1bd2b7a73008674b6e5ee9eb21bd2.ico\" rel=\"shortcut icon\"/>\n",
              " <meta content=\"#2b5797\" name=\"msapplication-TileColor\"/>\n",
              " <meta content=\"/assets/favicon/mstile-144x144-b57ec78adf4959903834172ecf9e783789dc2a54552a84adf4e2529e1af3c19e.png\" name=\"msapplication-TileImage\"/>\n",
              " <meta content=\"/assets/favicon/browserconfig-b277ccf9dd97fd937ead695a86ffb5e5b734d5aa624e225a6d4685424880f674.xml\" name=\"msapplication-config\"/>\n",
              " <meta content=\"#ffffff\" name=\"theme-color\"/>\n",
              " <link data-turbolinks-track=\"false\" href=\"/assets/redesign/application-f854be09416b62a328af4af6f8ad3c01b71d2204a5085d2aced46b689cddf6fa.css\" media=\"all\" rel=\"stylesheet\">\n",
              " <meta content=\"authenticity_token\" name=\"csrf-param\">\n",
              " <meta content=\"byMqmPzkLxoCge2IJLKdpPlNBujNxf09BjdmsSi7QOVOvNqdudb6vx5+//pWlHV9VT7Xmg57KcpV2D7xRM6TSA==\" name=\"csrf-token\">\n",
              " </meta></meta></link></link></meta>,\n",
              " <meta content=\"O ranking do Funds Explorer auxilia o investidor a pesquisar e tomar decisões mais assertivas. Conheça os melhores FIIs de acordo com cada indicador.\" property=\"og:description\"/>,\n",
              " <meta content=\"Ranking de Fundos Imobiliários - Funds Explorer\" property=\"og:title\"/>,\n",
              " <meta content=\"Ranking de Fundos Imobiliários - Funds Explorer\" name=\"twitter:title\"/>,\n",
              " <link href=\"https://www.fundsexplorer.com.br/ranking\" rel=\"canonical\">\n",
              " <!-- Hotjar Tracking Code for https://www.fundsexplorer.com.br/ -->\n",
              " <script>\n",
              "         (function(h,o,t,j,a,r){\n",
              "             h.hj=h.hj||function(){(h.hj.q=h.hj.q||[]).push(arguments)};\n",
              "             h._hjSettings={hjid:1183503,hjsv:6};\n",
              "             a=o.getElementsByTagName('head')[0];\n",
              "             r=o.createElement('script');r.async=1;\n",
              "             r.src=t+h._hjSettings.hjid+j+h._hjSettings.hjsv;\n",
              "             a.appendChild(r);\n",
              "         })(window,document,'https://static.hotjar.com/c/hotjar-','.js?sv=');\n",
              "     </script>\n",
              " <link href=\"/assets/favicon/apple-touch-icon-44ef885b225b78ca364401a65eb92e8e1a32447e44e4cc450c0d0af3d82c5c31.png\" rel=\"apple-touch-icon\" sizes=\"180x180\"/>\n",
              " <link href=\"/assets/favicon/favicon-32x32-62f6aacd7a6c99219e86b4a6c140f7a8acfc6053f8d98a5655e536ca6d8fa675.png\" rel=\"icon\" sizes=\"32x32\" type=\"image/png\"/>\n",
              " <link href=\"/assets/favicon/favicon-16x16-20d8ccbcf748d21abeda416d0972cee05a5a0f85e718d55f16191e762ab97cd7.png\" rel=\"icon\" sizes=\"16x16\" type=\"image/png\"/>\n",
              " <link href=\"/assets/favicon/site-865960af7b2e68f85fff7a4bc84e9d9209c01649f303579749b0f19c3d46b168.webmanifest\" rel=\"manifest\"/>\n",
              " <link color=\"#09aac8\" href=\"/assets/favicon/safari-pinned-tab-43a00e43cf209aa71bb4e37ea4d86708c6cfa9e50877ed4ad6668dbed64a394a.svg\" rel=\"mask-icon\"/>\n",
              " <link href=\"/assets/favicon/favicon-42a2d8bc26ccaf8666f9f0a22559e1c144f1bd2b7a73008674b6e5ee9eb21bd2.ico\" rel=\"shortcut icon\"/>\n",
              " <meta content=\"#2b5797\" name=\"msapplication-TileColor\"/>\n",
              " <meta content=\"/assets/favicon/mstile-144x144-b57ec78adf4959903834172ecf9e783789dc2a54552a84adf4e2529e1af3c19e.png\" name=\"msapplication-TileImage\"/>\n",
              " <meta content=\"/assets/favicon/browserconfig-b277ccf9dd97fd937ead695a86ffb5e5b734d5aa624e225a6d4685424880f674.xml\" name=\"msapplication-config\"/>\n",
              " <meta content=\"#ffffff\" name=\"theme-color\"/>\n",
              " <link data-turbolinks-track=\"false\" href=\"/assets/redesign/application-f854be09416b62a328af4af6f8ad3c01b71d2204a5085d2aced46b689cddf6fa.css\" media=\"all\" rel=\"stylesheet\">\n",
              " <meta content=\"authenticity_token\" name=\"csrf-param\">\n",
              " <meta content=\"byMqmPzkLxoCge2IJLKdpPlNBujNxf09BjdmsSi7QOVOvNqdudb6vx5+//pWlHV9VT7Xmg57KcpV2D7xRM6TSA==\" name=\"csrf-token\">\n",
              " </meta></meta></link></link>,\n",
              " <script>\n",
              "         (function(h,o,t,j,a,r){\n",
              "             h.hj=h.hj||function(){(h.hj.q=h.hj.q||[]).push(arguments)};\n",
              "             h._hjSettings={hjid:1183503,hjsv:6};\n",
              "             a=o.getElementsByTagName('head')[0];\n",
              "             r=o.createElement('script');r.async=1;\n",
              "             r.src=t+h._hjSettings.hjid+j+h._hjSettings.hjsv;\n",
              "             a.appendChild(r);\n",
              "         })(window,document,'https://static.hotjar.com/c/hotjar-','.js?sv=');\n",
              "     </script>,\n",
              " <link href=\"/assets/favicon/apple-touch-icon-44ef885b225b78ca364401a65eb92e8e1a32447e44e4cc450c0d0af3d82c5c31.png\" rel=\"apple-touch-icon\" sizes=\"180x180\"/>,\n",
              " <link href=\"/assets/favicon/favicon-32x32-62f6aacd7a6c99219e86b4a6c140f7a8acfc6053f8d98a5655e536ca6d8fa675.png\" rel=\"icon\" sizes=\"32x32\" type=\"image/png\"/>,\n",
              " <link href=\"/assets/favicon/favicon-16x16-20d8ccbcf748d21abeda416d0972cee05a5a0f85e718d55f16191e762ab97cd7.png\" rel=\"icon\" sizes=\"16x16\" type=\"image/png\"/>,\n",
              " <link href=\"/assets/favicon/site-865960af7b2e68f85fff7a4bc84e9d9209c01649f303579749b0f19c3d46b168.webmanifest\" rel=\"manifest\"/>,\n",
              " <link color=\"#09aac8\" href=\"/assets/favicon/safari-pinned-tab-43a00e43cf209aa71bb4e37ea4d86708c6cfa9e50877ed4ad6668dbed64a394a.svg\" rel=\"mask-icon\"/>,\n",
              " <link href=\"/assets/favicon/favicon-42a2d8bc26ccaf8666f9f0a22559e1c144f1bd2b7a73008674b6e5ee9eb21bd2.ico\" rel=\"shortcut icon\"/>,\n",
              " <meta content=\"#2b5797\" name=\"msapplication-TileColor\"/>,\n",
              " <meta content=\"/assets/favicon/mstile-144x144-b57ec78adf4959903834172ecf9e783789dc2a54552a84adf4e2529e1af3c19e.png\" name=\"msapplication-TileImage\"/>,\n",
              " <meta content=\"/assets/favicon/browserconfig-b277ccf9dd97fd937ead695a86ffb5e5b734d5aa624e225a6d4685424880f674.xml\" name=\"msapplication-config\"/>,\n",
              " <meta content=\"#ffffff\" name=\"theme-color\"/>,\n",
              " <link data-turbolinks-track=\"false\" href=\"/assets/redesign/application-f854be09416b62a328af4af6f8ad3c01b71d2204a5085d2aced46b689cddf6fa.css\" media=\"all\" rel=\"stylesheet\">\n",
              " <meta content=\"authenticity_token\" name=\"csrf-param\">\n",
              " <meta content=\"byMqmPzkLxoCge2IJLKdpPlNBujNxf09BjdmsSi7QOVOvNqdudb6vx5+//pWlHV9VT7Xmg57KcpV2D7xRM6TSA==\" name=\"csrf-token\">\n",
              " </meta></meta></link>,\n",
              " <meta content=\"authenticity_token\" name=\"csrf-param\">\n",
              " <meta content=\"byMqmPzkLxoCge2IJLKdpPlNBujNxf09BjdmsSi7QOVOvNqdudb6vx5+//pWlHV9VT7Xmg57KcpV2D7xRM6TSA==\" name=\"csrf-token\">\n",
              " </meta></meta>,\n",
              " <meta content=\"byMqmPzkLxoCge2IJLKdpPlNBujNxf09BjdmsSi7QOVOvNqdudb6vx5+//pWlHV9VT7Xmg57KcpV2D7xRM6TSA==\" name=\"csrf-token\">\n",
              " </meta>]"
            ]
          },
          "metadata": {},
          "execution_count": 19
        }
      ],
      "source": [
        "# Analisar o arquivo com a BeutifulSoup (HTML parsing)\n",
        "\n",
        "FII_bs4 = BeautifulSoup(FII_url.text, \"html.parser\")\n",
        "FII_bs4.head()"
      ]
    },
    {
      "cell_type": "code",
      "execution_count": 20,
      "metadata": {
        "id": "fp5uE4Ek0EMh"
      },
      "outputs": [],
      "source": [
        "# Extração da tabela. Antes devemos inspecionar o Ambiente de Desenvolvedor no próprio site (F12)\n",
        "\n",
        "FII_table = FII_bs4.findAll(attrs = {'id': 'scroll-wrapper'})\n",
        "table = FII_table[0].findAll('table')"
      ]
    },
    {
      "cell_type": "code",
      "execution_count": 21,
      "metadata": {
        "colab": {
          "base_uri": "https://localhost:8080/"
        },
        "id": "yJURxBtS0EMh",
        "outputId": "dc8d435c-6848-4dd6-f18d-433ddb60cab5"
      },
      "outputs": [
        {
          "output_type": "execute_result",
          "data": {
            "text/plain": [
              "bs4.element.ResultSet"
            ]
          },
          "metadata": {},
          "execution_count": 21
        }
      ],
      "source": [
        "# Output gigante, mas vemos que é um objeto Result Set de bs4\n",
        "\n",
        "type(table)"
      ]
    },
    {
      "cell_type": "code",
      "execution_count": 50,
      "metadata": {
        "id": "XsOzFoEX0EMh"
      },
      "outputs": [],
      "source": [
        "# Transformar o <table>...</table> em um Pandas DataFrame\n",
        "# Vamos substituir o separador de casas decimais (na página estão como vírgula) por '.' \n",
        "\n",
        "FII_df = pd.read_html(str(FII_table[0]))[0]"
      ]
    },
    {
      "cell_type": "code",
      "execution_count": 51,
      "metadata": {
        "colab": {
          "base_uri": "https://localhost:8080/",
          "height": 696
        },
        "id": "rA9iwZOX0EMi",
        "outputId": "5631e067-ef68-4e07-c368-149dfb249960"
      },
      "outputs": [
        {
          "output_type": "execute_result",
          "data": {
            "text/plain": [
              "    Códigodo fundo                Setor Preço Atual  Liquidez Diária  \\\n",
              "0           FIVN11            Shoppings     R$ 2,26           8285.0   \n",
              "1           BZLI11  Títulos e Val. Mob.    R$ 14,70          44041.0   \n",
              "2           XTED11   Lajes Corporativas     R$ 6,23           1897.0   \n",
              "3           ALMI11   Lajes Corporativas   R$ 896,00              8.0   \n",
              "4           PABY11              Híbrido     R$ 7,83              1.0   \n",
              "..             ...                  ...         ...              ...   \n",
              "272         VJFD11              Híbrido         NaN              NaN   \n",
              "273        WTSP11B              Híbrido    R$ 40,10             10.0   \n",
              "274         BTRA11               Outros   R$ 100,37           6278.0   \n",
              "275         EDGA11   Lajes Corporativas    R$ 19,58           4402.0   \n",
              "276         RBGS11            Shoppings    R$ 28,45           5157.0   \n",
              "\n",
              "    Dividendo DividendYield DY (3M)Acumulado DY (6M)Acumulado  \\\n",
              "0     R$ 0,00         0,00%            0,00%            0,00%   \n",
              "1     R$ 0,00         0,00%            0,00%            0,00%   \n",
              "2     R$ 0,00         0,00%            0,00%            0,00%   \n",
              "3     R$ 0,00         0,00%            0,00%            0,00%   \n",
              "4     R$ 0,00         0,00%            0,00%            0,00%   \n",
              "..        ...           ...              ...              ...   \n",
              "272   R$ 0,86         0,00%            0,00%            0,00%   \n",
              "273   R$ 0,48         1,01%            2,53%            4,46%   \n",
              "274   R$ 0,90         0,92%            2,81%            4,99%   \n",
              "275   R$ 0,11         0,49%            1,29%            2,71%   \n",
              "276   R$ 0,18         0,62%            1,59%            2,73%   \n",
              "\n",
              "    DY (12M)Acumulado DY (3M)Média  ...     PatrimônioLíq.          VPA  \\\n",
              "0               0,00%        0,00%  ...   R$ 65.746.443,59      R$ 6,98   \n",
              "1               0,00%        0,00%  ...  R$ 432.904.709,37     R$ 10,82   \n",
              "2               0,00%        0,00%  ...   R$ 27.391.929,40     R$ 13,94   \n",
              "3               0,00%        0,00%  ...  R$ 250.487.663,18  R$ 2.253,05   \n",
              "4               0,00%        0,00%  ...   R$ -8.707.885,16    R$ -11,48   \n",
              "..                ...          ...  ...                ...          ...   \n",
              "272             0,00%        0,00%  ...  R$ 650.064.545,92    R$ 133,32   \n",
              "273             6,33%        0,84%  ...   R$ 77.799.824,27     R$ 78,38   \n",
              "274             0,00%        0,94%  ...  R$ 347.617.328,85    R$ 103,32   \n",
              "275             6,04%        0,43%  ...  R$ 252.515.454,02     R$ 66,24   \n",
              "276             5,12%        0,53%  ...   R$ 97.865.283,71     R$ 90,78   \n",
              "\n",
              "     P/VPA DYPatrimonial VariaçãoPatrimonial Rentab. Patr.no Período  \\\n",
              "0     32.0           NaN                 NaN                     NaN   \n",
              "1    136.0           NaN                 NaN                     NaN   \n",
              "2     45.0           NaN                 NaN                     NaN   \n",
              "3     40.0           NaN                 NaN                     NaN   \n",
              "4    -68.0           NaN                 NaN                     NaN   \n",
              "..     ...           ...                 ...                     ...   \n",
              "272    NaN           NaN                 NaN                     NaN   \n",
              "273   51.0         0,40%               3,55%                   3,97%   \n",
              "274   97.0           NaN                 NaN                     NaN   \n",
              "275   30.0         0,16%               0,00%                   0,16%   \n",
              "276   31.0         0,18%               0,00%                   0,18%   \n",
              "\n",
              "    Rentab. Patr.Acumulada VacânciaFísica  VacânciaFinanceira QuantidadeAtivos  \n",
              "0                      NaN         56,00%                 NaN                1  \n",
              "1                      NaN            NaN                 NaN                0  \n",
              "2                      NaN          0,00%             100,00%                1  \n",
              "3                      NaN         64,05%                 NaN                1  \n",
              "4                      NaN            NaN                 NaN                1  \n",
              "..                     ...            ...                 ...              ...  \n",
              "272                    NaN            NaN                 NaN                0  \n",
              "273                  3,97%            NaN                 NaN                0  \n",
              "274                    NaN            NaN                 NaN                0  \n",
              "275                  0,16%         48,81%                 NaN                1  \n",
              "276                  1,17%         13,00%                 NaN                1  \n",
              "\n",
              "[277 rows x 26 columns]"
            ],
            "text/html": [
              "\n",
              "  <div id=\"df-6efaac79-8087-4681-8374-7bbc119a9893\">\n",
              "    <div class=\"colab-df-container\">\n",
              "      <div>\n",
              "<style scoped>\n",
              "    .dataframe tbody tr th:only-of-type {\n",
              "        vertical-align: middle;\n",
              "    }\n",
              "\n",
              "    .dataframe tbody tr th {\n",
              "        vertical-align: top;\n",
              "    }\n",
              "\n",
              "    .dataframe thead th {\n",
              "        text-align: right;\n",
              "    }\n",
              "</style>\n",
              "<table border=\"1\" class=\"dataframe\">\n",
              "  <thead>\n",
              "    <tr style=\"text-align: right;\">\n",
              "      <th></th>\n",
              "      <th>Códigodo fundo</th>\n",
              "      <th>Setor</th>\n",
              "      <th>Preço Atual</th>\n",
              "      <th>Liquidez Diária</th>\n",
              "      <th>Dividendo</th>\n",
              "      <th>DividendYield</th>\n",
              "      <th>DY (3M)Acumulado</th>\n",
              "      <th>DY (6M)Acumulado</th>\n",
              "      <th>DY (12M)Acumulado</th>\n",
              "      <th>DY (3M)Média</th>\n",
              "      <th>...</th>\n",
              "      <th>PatrimônioLíq.</th>\n",
              "      <th>VPA</th>\n",
              "      <th>P/VPA</th>\n",
              "      <th>DYPatrimonial</th>\n",
              "      <th>VariaçãoPatrimonial</th>\n",
              "      <th>Rentab. Patr.no Período</th>\n",
              "      <th>Rentab. Patr.Acumulada</th>\n",
              "      <th>VacânciaFísica</th>\n",
              "      <th>VacânciaFinanceira</th>\n",
              "      <th>QuantidadeAtivos</th>\n",
              "    </tr>\n",
              "  </thead>\n",
              "  <tbody>\n",
              "    <tr>\n",
              "      <th>0</th>\n",
              "      <td>FIVN11</td>\n",
              "      <td>Shoppings</td>\n",
              "      <td>R$ 2,26</td>\n",
              "      <td>8285.0</td>\n",
              "      <td>R$ 0,00</td>\n",
              "      <td>0,00%</td>\n",
              "      <td>0,00%</td>\n",
              "      <td>0,00%</td>\n",
              "      <td>0,00%</td>\n",
              "      <td>0,00%</td>\n",
              "      <td>...</td>\n",
              "      <td>R$ 65.746.443,59</td>\n",
              "      <td>R$ 6,98</td>\n",
              "      <td>32.0</td>\n",
              "      <td>NaN</td>\n",
              "      <td>NaN</td>\n",
              "      <td>NaN</td>\n",
              "      <td>NaN</td>\n",
              "      <td>56,00%</td>\n",
              "      <td>NaN</td>\n",
              "      <td>1</td>\n",
              "    </tr>\n",
              "    <tr>\n",
              "      <th>1</th>\n",
              "      <td>BZLI11</td>\n",
              "      <td>Títulos e Val. Mob.</td>\n",
              "      <td>R$ 14,70</td>\n",
              "      <td>44041.0</td>\n",
              "      <td>R$ 0,00</td>\n",
              "      <td>0,00%</td>\n",
              "      <td>0,00%</td>\n",
              "      <td>0,00%</td>\n",
              "      <td>0,00%</td>\n",
              "      <td>0,00%</td>\n",
              "      <td>...</td>\n",
              "      <td>R$ 432.904.709,37</td>\n",
              "      <td>R$ 10,82</td>\n",
              "      <td>136.0</td>\n",
              "      <td>NaN</td>\n",
              "      <td>NaN</td>\n",
              "      <td>NaN</td>\n",
              "      <td>NaN</td>\n",
              "      <td>NaN</td>\n",
              "      <td>NaN</td>\n",
              "      <td>0</td>\n",
              "    </tr>\n",
              "    <tr>\n",
              "      <th>2</th>\n",
              "      <td>XTED11</td>\n",
              "      <td>Lajes Corporativas</td>\n",
              "      <td>R$ 6,23</td>\n",
              "      <td>1897.0</td>\n",
              "      <td>R$ 0,00</td>\n",
              "      <td>0,00%</td>\n",
              "      <td>0,00%</td>\n",
              "      <td>0,00%</td>\n",
              "      <td>0,00%</td>\n",
              "      <td>0,00%</td>\n",
              "      <td>...</td>\n",
              "      <td>R$ 27.391.929,40</td>\n",
              "      <td>R$ 13,94</td>\n",
              "      <td>45.0</td>\n",
              "      <td>NaN</td>\n",
              "      <td>NaN</td>\n",
              "      <td>NaN</td>\n",
              "      <td>NaN</td>\n",
              "      <td>0,00%</td>\n",
              "      <td>100,00%</td>\n",
              "      <td>1</td>\n",
              "    </tr>\n",
              "    <tr>\n",
              "      <th>3</th>\n",
              "      <td>ALMI11</td>\n",
              "      <td>Lajes Corporativas</td>\n",
              "      <td>R$ 896,00</td>\n",
              "      <td>8.0</td>\n",
              "      <td>R$ 0,00</td>\n",
              "      <td>0,00%</td>\n",
              "      <td>0,00%</td>\n",
              "      <td>0,00%</td>\n",
              "      <td>0,00%</td>\n",
              "      <td>0,00%</td>\n",
              "      <td>...</td>\n",
              "      <td>R$ 250.487.663,18</td>\n",
              "      <td>R$ 2.253,05</td>\n",
              "      <td>40.0</td>\n",
              "      <td>NaN</td>\n",
              "      <td>NaN</td>\n",
              "      <td>NaN</td>\n",
              "      <td>NaN</td>\n",
              "      <td>64,05%</td>\n",
              "      <td>NaN</td>\n",
              "      <td>1</td>\n",
              "    </tr>\n",
              "    <tr>\n",
              "      <th>4</th>\n",
              "      <td>PABY11</td>\n",
              "      <td>Híbrido</td>\n",
              "      <td>R$ 7,83</td>\n",
              "      <td>1.0</td>\n",
              "      <td>R$ 0,00</td>\n",
              "      <td>0,00%</td>\n",
              "      <td>0,00%</td>\n",
              "      <td>0,00%</td>\n",
              "      <td>0,00%</td>\n",
              "      <td>0,00%</td>\n",
              "      <td>...</td>\n",
              "      <td>R$ -8.707.885,16</td>\n",
              "      <td>R$ -11,48</td>\n",
              "      <td>-68.0</td>\n",
              "      <td>NaN</td>\n",
              "      <td>NaN</td>\n",
              "      <td>NaN</td>\n",
              "      <td>NaN</td>\n",
              "      <td>NaN</td>\n",
              "      <td>NaN</td>\n",
              "      <td>1</td>\n",
              "    </tr>\n",
              "    <tr>\n",
              "      <th>...</th>\n",
              "      <td>...</td>\n",
              "      <td>...</td>\n",
              "      <td>...</td>\n",
              "      <td>...</td>\n",
              "      <td>...</td>\n",
              "      <td>...</td>\n",
              "      <td>...</td>\n",
              "      <td>...</td>\n",
              "      <td>...</td>\n",
              "      <td>...</td>\n",
              "      <td>...</td>\n",
              "      <td>...</td>\n",
              "      <td>...</td>\n",
              "      <td>...</td>\n",
              "      <td>...</td>\n",
              "      <td>...</td>\n",
              "      <td>...</td>\n",
              "      <td>...</td>\n",
              "      <td>...</td>\n",
              "      <td>...</td>\n",
              "      <td>...</td>\n",
              "    </tr>\n",
              "    <tr>\n",
              "      <th>272</th>\n",
              "      <td>VJFD11</td>\n",
              "      <td>Híbrido</td>\n",
              "      <td>NaN</td>\n",
              "      <td>NaN</td>\n",
              "      <td>R$ 0,86</td>\n",
              "      <td>0,00%</td>\n",
              "      <td>0,00%</td>\n",
              "      <td>0,00%</td>\n",
              "      <td>0,00%</td>\n",
              "      <td>0,00%</td>\n",
              "      <td>...</td>\n",
              "      <td>R$ 650.064.545,92</td>\n",
              "      <td>R$ 133,32</td>\n",
              "      <td>NaN</td>\n",
              "      <td>NaN</td>\n",
              "      <td>NaN</td>\n",
              "      <td>NaN</td>\n",
              "      <td>NaN</td>\n",
              "      <td>NaN</td>\n",
              "      <td>NaN</td>\n",
              "      <td>0</td>\n",
              "    </tr>\n",
              "    <tr>\n",
              "      <th>273</th>\n",
              "      <td>WTSP11B</td>\n",
              "      <td>Híbrido</td>\n",
              "      <td>R$ 40,10</td>\n",
              "      <td>10.0</td>\n",
              "      <td>R$ 0,48</td>\n",
              "      <td>1,01%</td>\n",
              "      <td>2,53%</td>\n",
              "      <td>4,46%</td>\n",
              "      <td>6,33%</td>\n",
              "      <td>0,84%</td>\n",
              "      <td>...</td>\n",
              "      <td>R$ 77.799.824,27</td>\n",
              "      <td>R$ 78,38</td>\n",
              "      <td>51.0</td>\n",
              "      <td>0,40%</td>\n",
              "      <td>3,55%</td>\n",
              "      <td>3,97%</td>\n",
              "      <td>3,97%</td>\n",
              "      <td>NaN</td>\n",
              "      <td>NaN</td>\n",
              "      <td>0</td>\n",
              "    </tr>\n",
              "    <tr>\n",
              "      <th>274</th>\n",
              "      <td>BTRA11</td>\n",
              "      <td>Outros</td>\n",
              "      <td>R$ 100,37</td>\n",
              "      <td>6278.0</td>\n",
              "      <td>R$ 0,90</td>\n",
              "      <td>0,92%</td>\n",
              "      <td>2,81%</td>\n",
              "      <td>4,99%</td>\n",
              "      <td>0,00%</td>\n",
              "      <td>0,94%</td>\n",
              "      <td>...</td>\n",
              "      <td>R$ 347.617.328,85</td>\n",
              "      <td>R$ 103,32</td>\n",
              "      <td>97.0</td>\n",
              "      <td>NaN</td>\n",
              "      <td>NaN</td>\n",
              "      <td>NaN</td>\n",
              "      <td>NaN</td>\n",
              "      <td>NaN</td>\n",
              "      <td>NaN</td>\n",
              "      <td>0</td>\n",
              "    </tr>\n",
              "    <tr>\n",
              "      <th>275</th>\n",
              "      <td>EDGA11</td>\n",
              "      <td>Lajes Corporativas</td>\n",
              "      <td>R$ 19,58</td>\n",
              "      <td>4402.0</td>\n",
              "      <td>R$ 0,11</td>\n",
              "      <td>0,49%</td>\n",
              "      <td>1,29%</td>\n",
              "      <td>2,71%</td>\n",
              "      <td>6,04%</td>\n",
              "      <td>0,43%</td>\n",
              "      <td>...</td>\n",
              "      <td>R$ 252.515.454,02</td>\n",
              "      <td>R$ 66,24</td>\n",
              "      <td>30.0</td>\n",
              "      <td>0,16%</td>\n",
              "      <td>0,00%</td>\n",
              "      <td>0,16%</td>\n",
              "      <td>0,16%</td>\n",
              "      <td>48,81%</td>\n",
              "      <td>NaN</td>\n",
              "      <td>1</td>\n",
              "    </tr>\n",
              "    <tr>\n",
              "      <th>276</th>\n",
              "      <td>RBGS11</td>\n",
              "      <td>Shoppings</td>\n",
              "      <td>R$ 28,45</td>\n",
              "      <td>5157.0</td>\n",
              "      <td>R$ 0,18</td>\n",
              "      <td>0,62%</td>\n",
              "      <td>1,59%</td>\n",
              "      <td>2,73%</td>\n",
              "      <td>5,12%</td>\n",
              "      <td>0,53%</td>\n",
              "      <td>...</td>\n",
              "      <td>R$ 97.865.283,71</td>\n",
              "      <td>R$ 90,78</td>\n",
              "      <td>31.0</td>\n",
              "      <td>0,18%</td>\n",
              "      <td>0,00%</td>\n",
              "      <td>0,18%</td>\n",
              "      <td>1,17%</td>\n",
              "      <td>13,00%</td>\n",
              "      <td>NaN</td>\n",
              "      <td>1</td>\n",
              "    </tr>\n",
              "  </tbody>\n",
              "</table>\n",
              "<p>277 rows × 26 columns</p>\n",
              "</div>\n",
              "      <button class=\"colab-df-convert\" onclick=\"convertToInteractive('df-6efaac79-8087-4681-8374-7bbc119a9893')\"\n",
              "              title=\"Convert this dataframe to an interactive table.\"\n",
              "              style=\"display:none;\">\n",
              "        \n",
              "  <svg xmlns=\"http://www.w3.org/2000/svg\" height=\"24px\"viewBox=\"0 0 24 24\"\n",
              "       width=\"24px\">\n",
              "    <path d=\"M0 0h24v24H0V0z\" fill=\"none\"/>\n",
              "    <path d=\"M18.56 5.44l.94 2.06.94-2.06 2.06-.94-2.06-.94-.94-2.06-.94 2.06-2.06.94zm-11 1L8.5 8.5l.94-2.06 2.06-.94-2.06-.94L8.5 2.5l-.94 2.06-2.06.94zm10 10l.94 2.06.94-2.06 2.06-.94-2.06-.94-.94-2.06-.94 2.06-2.06.94z\"/><path d=\"M17.41 7.96l-1.37-1.37c-.4-.4-.92-.59-1.43-.59-.52 0-1.04.2-1.43.59L10.3 9.45l-7.72 7.72c-.78.78-.78 2.05 0 2.83L4 21.41c.39.39.9.59 1.41.59.51 0 1.02-.2 1.41-.59l7.78-7.78 2.81-2.81c.8-.78.8-2.07 0-2.86zM5.41 20L4 18.59l7.72-7.72 1.47 1.35L5.41 20z\"/>\n",
              "  </svg>\n",
              "      </button>\n",
              "      \n",
              "  <style>\n",
              "    .colab-df-container {\n",
              "      display:flex;\n",
              "      flex-wrap:wrap;\n",
              "      gap: 12px;\n",
              "    }\n",
              "\n",
              "    .colab-df-convert {\n",
              "      background-color: #E8F0FE;\n",
              "      border: none;\n",
              "      border-radius: 50%;\n",
              "      cursor: pointer;\n",
              "      display: none;\n",
              "      fill: #1967D2;\n",
              "      height: 32px;\n",
              "      padding: 0 0 0 0;\n",
              "      width: 32px;\n",
              "    }\n",
              "\n",
              "    .colab-df-convert:hover {\n",
              "      background-color: #E2EBFA;\n",
              "      box-shadow: 0px 1px 2px rgba(60, 64, 67, 0.3), 0px 1px 3px 1px rgba(60, 64, 67, 0.15);\n",
              "      fill: #174EA6;\n",
              "    }\n",
              "\n",
              "    [theme=dark] .colab-df-convert {\n",
              "      background-color: #3B4455;\n",
              "      fill: #D2E3FC;\n",
              "    }\n",
              "\n",
              "    [theme=dark] .colab-df-convert:hover {\n",
              "      background-color: #434B5C;\n",
              "      box-shadow: 0px 1px 3px 1px rgba(0, 0, 0, 0.15);\n",
              "      filter: drop-shadow(0px 1px 2px rgba(0, 0, 0, 0.3));\n",
              "      fill: #FFFFFF;\n",
              "    }\n",
              "  </style>\n",
              "\n",
              "      <script>\n",
              "        const buttonEl =\n",
              "          document.querySelector('#df-6efaac79-8087-4681-8374-7bbc119a9893 button.colab-df-convert');\n",
              "        buttonEl.style.display =\n",
              "          google.colab.kernel.accessAllowed ? 'block' : 'none';\n",
              "\n",
              "        async function convertToInteractive(key) {\n",
              "          const element = document.querySelector('#df-6efaac79-8087-4681-8374-7bbc119a9893');\n",
              "          const dataTable =\n",
              "            await google.colab.kernel.invokeFunction('convertToInteractive',\n",
              "                                                     [key], {});\n",
              "          if (!dataTable) return;\n",
              "\n",
              "          const docLinkHtml = 'Like what you see? Visit the ' +\n",
              "            '<a target=\"_blank\" href=https://colab.research.google.com/notebooks/data_table.ipynb>data table notebook</a>'\n",
              "            + ' to learn more about interactive tables.';\n",
              "          element.innerHTML = '';\n",
              "          dataTable['output_type'] = 'display_data';\n",
              "          await google.colab.output.renderOutput(dataTable, element);\n",
              "          const docLink = document.createElement('div');\n",
              "          docLink.innerHTML = docLinkHtml;\n",
              "          element.appendChild(docLink);\n",
              "        }\n",
              "      </script>\n",
              "    </div>\n",
              "  </div>\n",
              "  "
            ]
          },
          "metadata": {},
          "execution_count": 51
        }
      ],
      "source": [
        "FII_df"
      ]
    },
    {
      "cell_type": "code",
      "execution_count": 52,
      "metadata": {
        "colab": {
          "base_uri": "https://localhost:8080/"
        },
        "id": "piOVF1Up0EMi",
        "outputId": "e23ce03a-b432-4bd4-d853-a21281062c5e"
      },
      "outputs": [
        {
          "output_type": "execute_result",
          "data": {
            "text/plain": [
              "Index(['Códigodo fundo', 'Setor', 'Preço Atual', 'Liquidez Diária',\n",
              "       'Dividendo', 'DividendYield', 'DY (3M)Acumulado', 'DY (6M)Acumulado',\n",
              "       'DY (12M)Acumulado', 'DY (3M)Média', 'DY (6M)Média', 'DY (12M)Média',\n",
              "       'DY Ano', 'Variação Preço', 'Rentab.Período', 'Rentab.Acumulada',\n",
              "       'PatrimônioLíq.', 'VPA', 'P/VPA', 'DYPatrimonial',\n",
              "       'VariaçãoPatrimonial', 'Rentab. Patr.no Período',\n",
              "       'Rentab. Patr.Acumulada', 'VacânciaFísica', 'VacânciaFinanceira',\n",
              "       'QuantidadeAtivos'],\n",
              "      dtype='object')"
            ]
          },
          "metadata": {},
          "execution_count": 52
        }
      ],
      "source": [
        "FII_df.columns"
      ]
    },
    {
      "cell_type": "code",
      "source": [
        "FII_df.dtypes"
      ],
      "metadata": {
        "colab": {
          "base_uri": "https://localhost:8080/"
        },
        "id": "lRasO3qlB57A",
        "outputId": "895f68de-7901-4e8c-ecdf-97e73a377d80"
      },
      "execution_count": 53,
      "outputs": [
        {
          "output_type": "execute_result",
          "data": {
            "text/plain": [
              "Códigodo fundo              object\n",
              "Setor                       object\n",
              "Preço Atual                 object\n",
              "Liquidez Diária            float64\n",
              "Dividendo                   object\n",
              "DividendYield               object\n",
              "DY (3M)Acumulado            object\n",
              "DY (6M)Acumulado            object\n",
              "DY (12M)Acumulado           object\n",
              "DY (3M)Média                object\n",
              "DY (6M)Média                object\n",
              "DY (12M)Média               object\n",
              "DY Ano                      object\n",
              "Variação Preço              object\n",
              "Rentab.Período              object\n",
              "Rentab.Acumulada            object\n",
              "PatrimônioLíq.              object\n",
              "VPA                         object\n",
              "P/VPA                      float64\n",
              "DYPatrimonial               object\n",
              "VariaçãoPatrimonial         object\n",
              "Rentab. Patr.no Período     object\n",
              "Rentab. Patr.Acumulada      object\n",
              "VacânciaFísica              object\n",
              "VacânciaFinanceira          object\n",
              "QuantidadeAtivos             int64\n",
              "dtype: object"
            ]
          },
          "metadata": {},
          "execution_count": 53
        }
      ]
    },
    {
      "cell_type": "code",
      "execution_count": 54,
      "metadata": {
        "colab": {
          "base_uri": "https://localhost:8080/"
        },
        "id": "WYL92yV90EMi",
        "outputId": "08bd3200-6193-4893-ece9-4c5e6166ee28"
      },
      "outputs": [
        {
          "output_type": "execute_result",
          "data": {
            "text/plain": [
              "0        R$ 2,26\n",
              "1       R$ 14,70\n",
              "2        R$ 6,23\n",
              "3      R$ 896,00\n",
              "4        R$ 7,83\n",
              "         ...    \n",
              "272          NaN\n",
              "273     R$ 40,10\n",
              "274    R$ 100,37\n",
              "275     R$ 19,58\n",
              "276     R$ 28,45\n",
              "Name: Preço Atual, Length: 277, dtype: object"
            ]
          },
          "metadata": {},
          "execution_count": 54
        }
      ],
      "source": [
        "# Note que temos problemas para reconhecer os valores de algumas colunas (ex., preço atual) como números\n",
        "\n",
        "FII_df['Preço Atual']"
      ]
    },
    {
      "cell_type": "code",
      "execution_count": 55,
      "metadata": {
        "id": "tqc6Rxej0EMi",
        "colab": {
          "base_uri": "https://localhost:8080/"
        },
        "outputId": "26207b94-ee24-4172-e58a-37ece1246373"
      },
      "outputs": [
        {
          "output_type": "stream",
          "name": "stderr",
          "text": [
            "/usr/local/lib/python3.7/dist-packages/ipykernel_launcher.py:3: FutureWarning: The default value of regex will change from True to False in a future version. In addition, single character regular expressions will *not* be treated as literal strings when regex=True.\n",
            "  This is separate from the ipykernel package so we can avoid doing imports until\n"
          ]
        }
      ],
      "source": [
        "# Vamos substituir o \"R$ \" por \"vazio\"\n",
        "\n",
        "FII_df['Preço Atual'] = FII_df['Preço Atual'].str.replace('.','').str.replace(',','.').replace(to_replace=r'^R\\$ ', value='',regex=True).astype(float)"
      ]
    },
    {
      "cell_type": "code",
      "execution_count": 56,
      "metadata": {
        "colab": {
          "base_uri": "https://localhost:8080/"
        },
        "id": "mXX94u--0EMi",
        "outputId": "0ca80ffb-4abb-4632-d766-fa5a1325e448"
      },
      "outputs": [
        {
          "output_type": "execute_result",
          "data": {
            "text/plain": [
              "0        2.26\n",
              "1       14.70\n",
              "2        6.23\n",
              "3      896.00\n",
              "4        7.83\n",
              "        ...  \n",
              "272       NaN\n",
              "273     40.10\n",
              "274    100.37\n",
              "275     19.58\n",
              "276     28.45\n",
              "Name: Preço Atual, Length: 277, dtype: float64"
            ]
          },
          "metadata": {},
          "execution_count": 56
        }
      ],
      "source": [
        "# Outro problema é o separador decimal (atualmente como vírgula). Entretanto, não podemos simplesmente substituir por '.' diretamente pois podem existir valores com '.' como separador de milhar\n",
        "# Nessa caso, melhor fazer em duas etapas\n",
        "\n",
        "FII_df['Preço Atual']"
      ]
    },
    {
      "cell_type": "code",
      "source": [
        "type(FII_df)"
      ],
      "metadata": {
        "colab": {
          "base_uri": "https://localhost:8080/"
        },
        "id": "H8BfgzXnAB4h",
        "outputId": "8539b616-6626-476d-d60a-deaf0989661b"
      },
      "execution_count": 57,
      "outputs": [
        {
          "output_type": "execute_result",
          "data": {
            "text/plain": [
              "pandas.core.frame.DataFrame"
            ]
          },
          "metadata": {},
          "execution_count": 57
        }
      ]
    },
    {
      "cell_type": "code",
      "source": [
        "FII_df"
      ],
      "metadata": {
        "colab": {
          "base_uri": "https://localhost:8080/",
          "height": 696
        },
        "id": "Pw4-ChslAGR0",
        "outputId": "90eacbf9-f69f-4d17-c9f7-24532bf083cc"
      },
      "execution_count": 58,
      "outputs": [
        {
          "output_type": "execute_result",
          "data": {
            "text/plain": [
              "    Códigodo fundo                Setor  Preço Atual  Liquidez Diária  \\\n",
              "0           FIVN11            Shoppings         2.26           8285.0   \n",
              "1           BZLI11  Títulos e Val. Mob.        14.70          44041.0   \n",
              "2           XTED11   Lajes Corporativas         6.23           1897.0   \n",
              "3           ALMI11   Lajes Corporativas       896.00              8.0   \n",
              "4           PABY11              Híbrido         7.83              1.0   \n",
              "..             ...                  ...          ...              ...   \n",
              "272         VJFD11              Híbrido          NaN              NaN   \n",
              "273        WTSP11B              Híbrido        40.10             10.0   \n",
              "274         BTRA11               Outros       100.37           6278.0   \n",
              "275         EDGA11   Lajes Corporativas        19.58           4402.0   \n",
              "276         RBGS11            Shoppings        28.45           5157.0   \n",
              "\n",
              "    Dividendo DividendYield DY (3M)Acumulado DY (6M)Acumulado  \\\n",
              "0     R$ 0,00         0,00%            0,00%            0,00%   \n",
              "1     R$ 0,00         0,00%            0,00%            0,00%   \n",
              "2     R$ 0,00         0,00%            0,00%            0,00%   \n",
              "3     R$ 0,00         0,00%            0,00%            0,00%   \n",
              "4     R$ 0,00         0,00%            0,00%            0,00%   \n",
              "..        ...           ...              ...              ...   \n",
              "272   R$ 0,86         0,00%            0,00%            0,00%   \n",
              "273   R$ 0,48         1,01%            2,53%            4,46%   \n",
              "274   R$ 0,90         0,92%            2,81%            4,99%   \n",
              "275   R$ 0,11         0,49%            1,29%            2,71%   \n",
              "276   R$ 0,18         0,62%            1,59%            2,73%   \n",
              "\n",
              "    DY (12M)Acumulado DY (3M)Média  ...     PatrimônioLíq.          VPA  \\\n",
              "0               0,00%        0,00%  ...   R$ 65.746.443,59      R$ 6,98   \n",
              "1               0,00%        0,00%  ...  R$ 432.904.709,37     R$ 10,82   \n",
              "2               0,00%        0,00%  ...   R$ 27.391.929,40     R$ 13,94   \n",
              "3               0,00%        0,00%  ...  R$ 250.487.663,18  R$ 2.253,05   \n",
              "4               0,00%        0,00%  ...   R$ -8.707.885,16    R$ -11,48   \n",
              "..                ...          ...  ...                ...          ...   \n",
              "272             0,00%        0,00%  ...  R$ 650.064.545,92    R$ 133,32   \n",
              "273             6,33%        0,84%  ...   R$ 77.799.824,27     R$ 78,38   \n",
              "274             0,00%        0,94%  ...  R$ 347.617.328,85    R$ 103,32   \n",
              "275             6,04%        0,43%  ...  R$ 252.515.454,02     R$ 66,24   \n",
              "276             5,12%        0,53%  ...   R$ 97.865.283,71     R$ 90,78   \n",
              "\n",
              "     P/VPA DYPatrimonial VariaçãoPatrimonial Rentab. Patr.no Período  \\\n",
              "0     32.0           NaN                 NaN                     NaN   \n",
              "1    136.0           NaN                 NaN                     NaN   \n",
              "2     45.0           NaN                 NaN                     NaN   \n",
              "3     40.0           NaN                 NaN                     NaN   \n",
              "4    -68.0           NaN                 NaN                     NaN   \n",
              "..     ...           ...                 ...                     ...   \n",
              "272    NaN           NaN                 NaN                     NaN   \n",
              "273   51.0         0,40%               3,55%                   3,97%   \n",
              "274   97.0           NaN                 NaN                     NaN   \n",
              "275   30.0         0,16%               0,00%                   0,16%   \n",
              "276   31.0         0,18%               0,00%                   0,18%   \n",
              "\n",
              "    Rentab. Patr.Acumulada VacânciaFísica  VacânciaFinanceira QuantidadeAtivos  \n",
              "0                      NaN         56,00%                 NaN                1  \n",
              "1                      NaN            NaN                 NaN                0  \n",
              "2                      NaN          0,00%             100,00%                1  \n",
              "3                      NaN         64,05%                 NaN                1  \n",
              "4                      NaN            NaN                 NaN                1  \n",
              "..                     ...            ...                 ...              ...  \n",
              "272                    NaN            NaN                 NaN                0  \n",
              "273                  3,97%            NaN                 NaN                0  \n",
              "274                    NaN            NaN                 NaN                0  \n",
              "275                  0,16%         48,81%                 NaN                1  \n",
              "276                  1,17%         13,00%                 NaN                1  \n",
              "\n",
              "[277 rows x 26 columns]"
            ],
            "text/html": [
              "\n",
              "  <div id=\"df-9c003b70-d216-45f7-8321-a7101c039814\">\n",
              "    <div class=\"colab-df-container\">\n",
              "      <div>\n",
              "<style scoped>\n",
              "    .dataframe tbody tr th:only-of-type {\n",
              "        vertical-align: middle;\n",
              "    }\n",
              "\n",
              "    .dataframe tbody tr th {\n",
              "        vertical-align: top;\n",
              "    }\n",
              "\n",
              "    .dataframe thead th {\n",
              "        text-align: right;\n",
              "    }\n",
              "</style>\n",
              "<table border=\"1\" class=\"dataframe\">\n",
              "  <thead>\n",
              "    <tr style=\"text-align: right;\">\n",
              "      <th></th>\n",
              "      <th>Códigodo fundo</th>\n",
              "      <th>Setor</th>\n",
              "      <th>Preço Atual</th>\n",
              "      <th>Liquidez Diária</th>\n",
              "      <th>Dividendo</th>\n",
              "      <th>DividendYield</th>\n",
              "      <th>DY (3M)Acumulado</th>\n",
              "      <th>DY (6M)Acumulado</th>\n",
              "      <th>DY (12M)Acumulado</th>\n",
              "      <th>DY (3M)Média</th>\n",
              "      <th>...</th>\n",
              "      <th>PatrimônioLíq.</th>\n",
              "      <th>VPA</th>\n",
              "      <th>P/VPA</th>\n",
              "      <th>DYPatrimonial</th>\n",
              "      <th>VariaçãoPatrimonial</th>\n",
              "      <th>Rentab. Patr.no Período</th>\n",
              "      <th>Rentab. Patr.Acumulada</th>\n",
              "      <th>VacânciaFísica</th>\n",
              "      <th>VacânciaFinanceira</th>\n",
              "      <th>QuantidadeAtivos</th>\n",
              "    </tr>\n",
              "  </thead>\n",
              "  <tbody>\n",
              "    <tr>\n",
              "      <th>0</th>\n",
              "      <td>FIVN11</td>\n",
              "      <td>Shoppings</td>\n",
              "      <td>2.26</td>\n",
              "      <td>8285.0</td>\n",
              "      <td>R$ 0,00</td>\n",
              "      <td>0,00%</td>\n",
              "      <td>0,00%</td>\n",
              "      <td>0,00%</td>\n",
              "      <td>0,00%</td>\n",
              "      <td>0,00%</td>\n",
              "      <td>...</td>\n",
              "      <td>R$ 65.746.443,59</td>\n",
              "      <td>R$ 6,98</td>\n",
              "      <td>32.0</td>\n",
              "      <td>NaN</td>\n",
              "      <td>NaN</td>\n",
              "      <td>NaN</td>\n",
              "      <td>NaN</td>\n",
              "      <td>56,00%</td>\n",
              "      <td>NaN</td>\n",
              "      <td>1</td>\n",
              "    </tr>\n",
              "    <tr>\n",
              "      <th>1</th>\n",
              "      <td>BZLI11</td>\n",
              "      <td>Títulos e Val. Mob.</td>\n",
              "      <td>14.70</td>\n",
              "      <td>44041.0</td>\n",
              "      <td>R$ 0,00</td>\n",
              "      <td>0,00%</td>\n",
              "      <td>0,00%</td>\n",
              "      <td>0,00%</td>\n",
              "      <td>0,00%</td>\n",
              "      <td>0,00%</td>\n",
              "      <td>...</td>\n",
              "      <td>R$ 432.904.709,37</td>\n",
              "      <td>R$ 10,82</td>\n",
              "      <td>136.0</td>\n",
              "      <td>NaN</td>\n",
              "      <td>NaN</td>\n",
              "      <td>NaN</td>\n",
              "      <td>NaN</td>\n",
              "      <td>NaN</td>\n",
              "      <td>NaN</td>\n",
              "      <td>0</td>\n",
              "    </tr>\n",
              "    <tr>\n",
              "      <th>2</th>\n",
              "      <td>XTED11</td>\n",
              "      <td>Lajes Corporativas</td>\n",
              "      <td>6.23</td>\n",
              "      <td>1897.0</td>\n",
              "      <td>R$ 0,00</td>\n",
              "      <td>0,00%</td>\n",
              "      <td>0,00%</td>\n",
              "      <td>0,00%</td>\n",
              "      <td>0,00%</td>\n",
              "      <td>0,00%</td>\n",
              "      <td>...</td>\n",
              "      <td>R$ 27.391.929,40</td>\n",
              "      <td>R$ 13,94</td>\n",
              "      <td>45.0</td>\n",
              "      <td>NaN</td>\n",
              "      <td>NaN</td>\n",
              "      <td>NaN</td>\n",
              "      <td>NaN</td>\n",
              "      <td>0,00%</td>\n",
              "      <td>100,00%</td>\n",
              "      <td>1</td>\n",
              "    </tr>\n",
              "    <tr>\n",
              "      <th>3</th>\n",
              "      <td>ALMI11</td>\n",
              "      <td>Lajes Corporativas</td>\n",
              "      <td>896.00</td>\n",
              "      <td>8.0</td>\n",
              "      <td>R$ 0,00</td>\n",
              "      <td>0,00%</td>\n",
              "      <td>0,00%</td>\n",
              "      <td>0,00%</td>\n",
              "      <td>0,00%</td>\n",
              "      <td>0,00%</td>\n",
              "      <td>...</td>\n",
              "      <td>R$ 250.487.663,18</td>\n",
              "      <td>R$ 2.253,05</td>\n",
              "      <td>40.0</td>\n",
              "      <td>NaN</td>\n",
              "      <td>NaN</td>\n",
              "      <td>NaN</td>\n",
              "      <td>NaN</td>\n",
              "      <td>64,05%</td>\n",
              "      <td>NaN</td>\n",
              "      <td>1</td>\n",
              "    </tr>\n",
              "    <tr>\n",
              "      <th>4</th>\n",
              "      <td>PABY11</td>\n",
              "      <td>Híbrido</td>\n",
              "      <td>7.83</td>\n",
              "      <td>1.0</td>\n",
              "      <td>R$ 0,00</td>\n",
              "      <td>0,00%</td>\n",
              "      <td>0,00%</td>\n",
              "      <td>0,00%</td>\n",
              "      <td>0,00%</td>\n",
              "      <td>0,00%</td>\n",
              "      <td>...</td>\n",
              "      <td>R$ -8.707.885,16</td>\n",
              "      <td>R$ -11,48</td>\n",
              "      <td>-68.0</td>\n",
              "      <td>NaN</td>\n",
              "      <td>NaN</td>\n",
              "      <td>NaN</td>\n",
              "      <td>NaN</td>\n",
              "      <td>NaN</td>\n",
              "      <td>NaN</td>\n",
              "      <td>1</td>\n",
              "    </tr>\n",
              "    <tr>\n",
              "      <th>...</th>\n",
              "      <td>...</td>\n",
              "      <td>...</td>\n",
              "      <td>...</td>\n",
              "      <td>...</td>\n",
              "      <td>...</td>\n",
              "      <td>...</td>\n",
              "      <td>...</td>\n",
              "      <td>...</td>\n",
              "      <td>...</td>\n",
              "      <td>...</td>\n",
              "      <td>...</td>\n",
              "      <td>...</td>\n",
              "      <td>...</td>\n",
              "      <td>...</td>\n",
              "      <td>...</td>\n",
              "      <td>...</td>\n",
              "      <td>...</td>\n",
              "      <td>...</td>\n",
              "      <td>...</td>\n",
              "      <td>...</td>\n",
              "      <td>...</td>\n",
              "    </tr>\n",
              "    <tr>\n",
              "      <th>272</th>\n",
              "      <td>VJFD11</td>\n",
              "      <td>Híbrido</td>\n",
              "      <td>NaN</td>\n",
              "      <td>NaN</td>\n",
              "      <td>R$ 0,86</td>\n",
              "      <td>0,00%</td>\n",
              "      <td>0,00%</td>\n",
              "      <td>0,00%</td>\n",
              "      <td>0,00%</td>\n",
              "      <td>0,00%</td>\n",
              "      <td>...</td>\n",
              "      <td>R$ 650.064.545,92</td>\n",
              "      <td>R$ 133,32</td>\n",
              "      <td>NaN</td>\n",
              "      <td>NaN</td>\n",
              "      <td>NaN</td>\n",
              "      <td>NaN</td>\n",
              "      <td>NaN</td>\n",
              "      <td>NaN</td>\n",
              "      <td>NaN</td>\n",
              "      <td>0</td>\n",
              "    </tr>\n",
              "    <tr>\n",
              "      <th>273</th>\n",
              "      <td>WTSP11B</td>\n",
              "      <td>Híbrido</td>\n",
              "      <td>40.10</td>\n",
              "      <td>10.0</td>\n",
              "      <td>R$ 0,48</td>\n",
              "      <td>1,01%</td>\n",
              "      <td>2,53%</td>\n",
              "      <td>4,46%</td>\n",
              "      <td>6,33%</td>\n",
              "      <td>0,84%</td>\n",
              "      <td>...</td>\n",
              "      <td>R$ 77.799.824,27</td>\n",
              "      <td>R$ 78,38</td>\n",
              "      <td>51.0</td>\n",
              "      <td>0,40%</td>\n",
              "      <td>3,55%</td>\n",
              "      <td>3,97%</td>\n",
              "      <td>3,97%</td>\n",
              "      <td>NaN</td>\n",
              "      <td>NaN</td>\n",
              "      <td>0</td>\n",
              "    </tr>\n",
              "    <tr>\n",
              "      <th>274</th>\n",
              "      <td>BTRA11</td>\n",
              "      <td>Outros</td>\n",
              "      <td>100.37</td>\n",
              "      <td>6278.0</td>\n",
              "      <td>R$ 0,90</td>\n",
              "      <td>0,92%</td>\n",
              "      <td>2,81%</td>\n",
              "      <td>4,99%</td>\n",
              "      <td>0,00%</td>\n",
              "      <td>0,94%</td>\n",
              "      <td>...</td>\n",
              "      <td>R$ 347.617.328,85</td>\n",
              "      <td>R$ 103,32</td>\n",
              "      <td>97.0</td>\n",
              "      <td>NaN</td>\n",
              "      <td>NaN</td>\n",
              "      <td>NaN</td>\n",
              "      <td>NaN</td>\n",
              "      <td>NaN</td>\n",
              "      <td>NaN</td>\n",
              "      <td>0</td>\n",
              "    </tr>\n",
              "    <tr>\n",
              "      <th>275</th>\n",
              "      <td>EDGA11</td>\n",
              "      <td>Lajes Corporativas</td>\n",
              "      <td>19.58</td>\n",
              "      <td>4402.0</td>\n",
              "      <td>R$ 0,11</td>\n",
              "      <td>0,49%</td>\n",
              "      <td>1,29%</td>\n",
              "      <td>2,71%</td>\n",
              "      <td>6,04%</td>\n",
              "      <td>0,43%</td>\n",
              "      <td>...</td>\n",
              "      <td>R$ 252.515.454,02</td>\n",
              "      <td>R$ 66,24</td>\n",
              "      <td>30.0</td>\n",
              "      <td>0,16%</td>\n",
              "      <td>0,00%</td>\n",
              "      <td>0,16%</td>\n",
              "      <td>0,16%</td>\n",
              "      <td>48,81%</td>\n",
              "      <td>NaN</td>\n",
              "      <td>1</td>\n",
              "    </tr>\n",
              "    <tr>\n",
              "      <th>276</th>\n",
              "      <td>RBGS11</td>\n",
              "      <td>Shoppings</td>\n",
              "      <td>28.45</td>\n",
              "      <td>5157.0</td>\n",
              "      <td>R$ 0,18</td>\n",
              "      <td>0,62%</td>\n",
              "      <td>1,59%</td>\n",
              "      <td>2,73%</td>\n",
              "      <td>5,12%</td>\n",
              "      <td>0,53%</td>\n",
              "      <td>...</td>\n",
              "      <td>R$ 97.865.283,71</td>\n",
              "      <td>R$ 90,78</td>\n",
              "      <td>31.0</td>\n",
              "      <td>0,18%</td>\n",
              "      <td>0,00%</td>\n",
              "      <td>0,18%</td>\n",
              "      <td>1,17%</td>\n",
              "      <td>13,00%</td>\n",
              "      <td>NaN</td>\n",
              "      <td>1</td>\n",
              "    </tr>\n",
              "  </tbody>\n",
              "</table>\n",
              "<p>277 rows × 26 columns</p>\n",
              "</div>\n",
              "      <button class=\"colab-df-convert\" onclick=\"convertToInteractive('df-9c003b70-d216-45f7-8321-a7101c039814')\"\n",
              "              title=\"Convert this dataframe to an interactive table.\"\n",
              "              style=\"display:none;\">\n",
              "        \n",
              "  <svg xmlns=\"http://www.w3.org/2000/svg\" height=\"24px\"viewBox=\"0 0 24 24\"\n",
              "       width=\"24px\">\n",
              "    <path d=\"M0 0h24v24H0V0z\" fill=\"none\"/>\n",
              "    <path d=\"M18.56 5.44l.94 2.06.94-2.06 2.06-.94-2.06-.94-.94-2.06-.94 2.06-2.06.94zm-11 1L8.5 8.5l.94-2.06 2.06-.94-2.06-.94L8.5 2.5l-.94 2.06-2.06.94zm10 10l.94 2.06.94-2.06 2.06-.94-2.06-.94-.94-2.06-.94 2.06-2.06.94z\"/><path d=\"M17.41 7.96l-1.37-1.37c-.4-.4-.92-.59-1.43-.59-.52 0-1.04.2-1.43.59L10.3 9.45l-7.72 7.72c-.78.78-.78 2.05 0 2.83L4 21.41c.39.39.9.59 1.41.59.51 0 1.02-.2 1.41-.59l7.78-7.78 2.81-2.81c.8-.78.8-2.07 0-2.86zM5.41 20L4 18.59l7.72-7.72 1.47 1.35L5.41 20z\"/>\n",
              "  </svg>\n",
              "      </button>\n",
              "      \n",
              "  <style>\n",
              "    .colab-df-container {\n",
              "      display:flex;\n",
              "      flex-wrap:wrap;\n",
              "      gap: 12px;\n",
              "    }\n",
              "\n",
              "    .colab-df-convert {\n",
              "      background-color: #E8F0FE;\n",
              "      border: none;\n",
              "      border-radius: 50%;\n",
              "      cursor: pointer;\n",
              "      display: none;\n",
              "      fill: #1967D2;\n",
              "      height: 32px;\n",
              "      padding: 0 0 0 0;\n",
              "      width: 32px;\n",
              "    }\n",
              "\n",
              "    .colab-df-convert:hover {\n",
              "      background-color: #E2EBFA;\n",
              "      box-shadow: 0px 1px 2px rgba(60, 64, 67, 0.3), 0px 1px 3px 1px rgba(60, 64, 67, 0.15);\n",
              "      fill: #174EA6;\n",
              "    }\n",
              "\n",
              "    [theme=dark] .colab-df-convert {\n",
              "      background-color: #3B4455;\n",
              "      fill: #D2E3FC;\n",
              "    }\n",
              "\n",
              "    [theme=dark] .colab-df-convert:hover {\n",
              "      background-color: #434B5C;\n",
              "      box-shadow: 0px 1px 3px 1px rgba(0, 0, 0, 0.15);\n",
              "      filter: drop-shadow(0px 1px 2px rgba(0, 0, 0, 0.3));\n",
              "      fill: #FFFFFF;\n",
              "    }\n",
              "  </style>\n",
              "\n",
              "      <script>\n",
              "        const buttonEl =\n",
              "          document.querySelector('#df-9c003b70-d216-45f7-8321-a7101c039814 button.colab-df-convert');\n",
              "        buttonEl.style.display =\n",
              "          google.colab.kernel.accessAllowed ? 'block' : 'none';\n",
              "\n",
              "        async function convertToInteractive(key) {\n",
              "          const element = document.querySelector('#df-9c003b70-d216-45f7-8321-a7101c039814');\n",
              "          const dataTable =\n",
              "            await google.colab.kernel.invokeFunction('convertToInteractive',\n",
              "                                                     [key], {});\n",
              "          if (!dataTable) return;\n",
              "\n",
              "          const docLinkHtml = 'Like what you see? Visit the ' +\n",
              "            '<a target=\"_blank\" href=https://colab.research.google.com/notebooks/data_table.ipynb>data table notebook</a>'\n",
              "            + ' to learn more about interactive tables.';\n",
              "          element.innerHTML = '';\n",
              "          dataTable['output_type'] = 'display_data';\n",
              "          await google.colab.output.renderOutput(dataTable, element);\n",
              "          const docLink = document.createElement('div');\n",
              "          docLink.innerHTML = docLinkHtml;\n",
              "          element.appendChild(docLink);\n",
              "        }\n",
              "      </script>\n",
              "    </div>\n",
              "  </div>\n",
              "  "
            ]
          },
          "metadata": {},
          "execution_count": 58
        }
      ]
    },
    {
      "cell_type": "code",
      "source": [
        "FII_df.dtypes"
      ],
      "metadata": {
        "colab": {
          "base_uri": "https://localhost:8080/"
        },
        "id": "dEJWWEAwAgUM",
        "outputId": "a4b98ff1-49f8-4e37-dabd-70e8ed510040"
      },
      "execution_count": 59,
      "outputs": [
        {
          "output_type": "execute_result",
          "data": {
            "text/plain": [
              "Códigodo fundo              object\n",
              "Setor                       object\n",
              "Preço Atual                float64\n",
              "Liquidez Diária            float64\n",
              "Dividendo                   object\n",
              "DividendYield               object\n",
              "DY (3M)Acumulado            object\n",
              "DY (6M)Acumulado            object\n",
              "DY (12M)Acumulado           object\n",
              "DY (3M)Média                object\n",
              "DY (6M)Média                object\n",
              "DY (12M)Média               object\n",
              "DY Ano                      object\n",
              "Variação Preço              object\n",
              "Rentab.Período              object\n",
              "Rentab.Acumulada            object\n",
              "PatrimônioLíq.              object\n",
              "VPA                         object\n",
              "P/VPA                      float64\n",
              "DYPatrimonial               object\n",
              "VariaçãoPatrimonial         object\n",
              "Rentab. Patr.no Período     object\n",
              "Rentab. Patr.Acumulada      object\n",
              "VacânciaFísica              object\n",
              "VacânciaFinanceira          object\n",
              "QuantidadeAtivos             int64\n",
              "dtype: object"
            ]
          },
          "metadata": {},
          "execution_count": 59
        }
      ]
    },
    {
      "cell_type": "code",
      "execution_count": 60,
      "metadata": {
        "colab": {
          "base_uri": "https://localhost:8080/"
        },
        "id": "h1g3f5eZ2V0_",
        "outputId": "08cf544d-bfbb-4758-864c-2bd4151605d5"
      },
      "outputs": [
        {
          "output_type": "execute_result",
          "data": {
            "text/plain": [
              "76000.0"
            ]
          },
          "metadata": {},
          "execution_count": 60
        }
      ],
      "source": [
        "# Análises simples como valor máximo são possíveis agora nesta coluna\n",
        "\n",
        "max(FII_df['Preço Atual'])"
      ]
    },
    {
      "cell_type": "code",
      "execution_count": 61,
      "metadata": {
        "colab": {
          "base_uri": "https://localhost:8080/"
        },
        "id": "ZFB32fQ73cPe",
        "outputId": "cbd3de9e-2cee-4eff-e1e0-e1706cb709c1"
      },
      "outputs": [
        {
          "output_type": "execute_result",
          "data": {
            "text/plain": [
              "0      0,00%\n",
              "1      0,00%\n",
              "2      0,00%\n",
              "3      0,00%\n",
              "4      0,00%\n",
              "       ...  \n",
              "272    0,00%\n",
              "273    6,33%\n",
              "274    0,00%\n",
              "275    6,04%\n",
              "276    5,12%\n",
              "Name: DY (12M)Acumulado, Length: 277, dtype: object"
            ]
          },
          "metadata": {},
          "execution_count": 61
        }
      ],
      "source": [
        "# Agora faremos o mesmo para a coluna \"DY (12M)Acumulado\" (dividend yield acumulado nos últimos 12 meses)\n",
        "\n",
        "FII_df['DY (12M)Acumulado']"
      ]
    },
    {
      "cell_type": "code",
      "execution_count": 62,
      "metadata": {
        "colab": {
          "base_uri": "https://localhost:8080/"
        },
        "id": "DcXOCYmj34eN",
        "outputId": "66fe4ceb-19d6-47ee-d13c-f40b47659673"
      },
      "outputs": [
        {
          "output_type": "execute_result",
          "data": {
            "text/plain": [
              "21.8"
            ]
          },
          "metadata": {},
          "execution_count": 62
        }
      ],
      "source": [
        "# Substituir '%' por 'vazio' e ',' por '.'\n",
        "\n",
        "FII_df['DY (12M)Acumulado'] = FII_df['DY (12M)Acumulado'].str.replace('%','')\n",
        "FII_df['DY (12M)Acumulado'] = FII_df['DY (12M)Acumulado'].str.replace(',','.').astype(float)\n",
        "max(FII_df['DY (12M)Acumulado'])"
      ]
    },
    {
      "cell_type": "code",
      "execution_count": 63,
      "metadata": {
        "colab": {
          "base_uri": "https://localhost:8080/",
          "height": 696
        },
        "id": "0ccO-PLI5MJ1",
        "outputId": "c05a40f0-0fb9-476e-ec1b-119eb7f7b888"
      },
      "outputs": [
        {
          "output_type": "execute_result",
          "data": {
            "text/plain": [
              "    Códigodo fundo                Setor  Preço Atual  Liquidez Diária  \\\n",
              "0           FIVN11            Shoppings         2.26           8285.0   \n",
              "1           BZLI11  Títulos e Val. Mob.        14.70          44041.0   \n",
              "2           XTED11   Lajes Corporativas         6.23           1897.0   \n",
              "3           ALMI11   Lajes Corporativas       896.00              8.0   \n",
              "4           PABY11              Híbrido         7.83              1.0   \n",
              "..             ...                  ...          ...              ...   \n",
              "271         CNES11   Lajes Corporativas        34.67             56.0   \n",
              "273        WTSP11B              Híbrido        40.10             10.0   \n",
              "274         BTRA11               Outros       100.37           6278.0   \n",
              "275         EDGA11   Lajes Corporativas        19.58           4402.0   \n",
              "276         RBGS11            Shoppings        28.45           5157.0   \n",
              "\n",
              "    Dividendo DividendYield DY (3M)Acumulado DY (6M)Acumulado  \\\n",
              "0     R$ 0,00         0,00%            0,00%            0,00%   \n",
              "1     R$ 0,00         0,00%            0,00%            0,00%   \n",
              "2     R$ 0,00         0,00%            0,00%            0,00%   \n",
              "3     R$ 0,00         0,00%            0,00%            0,00%   \n",
              "4     R$ 0,00         0,00%            0,00%            0,00%   \n",
              "..        ...           ...              ...              ...   \n",
              "271   R$ 0,13         0,39%            1,19%            2,14%   \n",
              "273   R$ 0,48         1,01%            2,53%            4,46%   \n",
              "274   R$ 0,90         0,92%            2,81%            4,99%   \n",
              "275   R$ 0,11         0,49%            1,29%            2,71%   \n",
              "276   R$ 0,18         0,62%            1,59%            2,73%   \n",
              "\n",
              "     DY (12M)Acumulado DY (3M)Média  ...     PatrimônioLíq.          VPA  \\\n",
              "0                 0.00        0,00%  ...   R$ 65.746.443,59      R$ 6,98   \n",
              "1                 0.00        0,00%  ...  R$ 432.904.709,37     R$ 10,82   \n",
              "2                 0.00        0,00%  ...   R$ 27.391.929,40     R$ 13,94   \n",
              "3                 0.00        0,00%  ...  R$ 250.487.663,18  R$ 2.253,05   \n",
              "4                 0.00        0,00%  ...   R$ -8.707.885,16    R$ -11,48   \n",
              "..                 ...          ...  ...                ...          ...   \n",
              "271               3.39        0,40%  ...  R$ 255.388.232,33     R$ 86,59   \n",
              "273               6.33        0,84%  ...   R$ 77.799.824,27     R$ 78,38   \n",
              "274               0.00        0,94%  ...  R$ 347.617.328,85    R$ 103,32   \n",
              "275               6.04        0,43%  ...  R$ 252.515.454,02     R$ 66,24   \n",
              "276               5.12        0,53%  ...   R$ 97.865.283,71     R$ 90,78   \n",
              "\n",
              "     P/VPA DYPatrimonial VariaçãoPatrimonial Rentab. Patr.no Período  \\\n",
              "0     32.0           NaN                 NaN                     NaN   \n",
              "1    136.0           NaN                 NaN                     NaN   \n",
              "2     45.0           NaN                 NaN                     NaN   \n",
              "3     40.0           NaN                 NaN                     NaN   \n",
              "4    -68.0           NaN                 NaN                     NaN   \n",
              "..     ...           ...                 ...                     ...   \n",
              "271   40.0         0,15%               0,00%                   0,15%   \n",
              "273   51.0         0,40%               3,55%                   3,97%   \n",
              "274   97.0           NaN                 NaN                     NaN   \n",
              "275   30.0         0,16%               0,00%                   0,16%   \n",
              "276   31.0         0,18%               0,00%                   0,18%   \n",
              "\n",
              "    Rentab. Patr.Acumulada VacânciaFísica  VacânciaFinanceira QuantidadeAtivos  \n",
              "0                      NaN         56,00%                 NaN                1  \n",
              "1                      NaN            NaN                 NaN                0  \n",
              "2                      NaN          0,00%             100,00%                1  \n",
              "3                      NaN         64,05%                 NaN                1  \n",
              "4                      NaN            NaN                 NaN                1  \n",
              "..                     ...            ...                 ...              ...  \n",
              "271                  0,15%         56,70%                 NaN                1  \n",
              "273                  3,97%            NaN                 NaN                0  \n",
              "274                    NaN            NaN                 NaN                0  \n",
              "275                  0,16%         48,81%                 NaN                1  \n",
              "276                  1,17%         13,00%                 NaN                1  \n",
              "\n",
              "[259 rows x 26 columns]"
            ],
            "text/html": [
              "\n",
              "  <div id=\"df-705cbd0b-0044-45e3-98f0-b3635a09859d\">\n",
              "    <div class=\"colab-df-container\">\n",
              "      <div>\n",
              "<style scoped>\n",
              "    .dataframe tbody tr th:only-of-type {\n",
              "        vertical-align: middle;\n",
              "    }\n",
              "\n",
              "    .dataframe tbody tr th {\n",
              "        vertical-align: top;\n",
              "    }\n",
              "\n",
              "    .dataframe thead th {\n",
              "        text-align: right;\n",
              "    }\n",
              "</style>\n",
              "<table border=\"1\" class=\"dataframe\">\n",
              "  <thead>\n",
              "    <tr style=\"text-align: right;\">\n",
              "      <th></th>\n",
              "      <th>Códigodo fundo</th>\n",
              "      <th>Setor</th>\n",
              "      <th>Preço Atual</th>\n",
              "      <th>Liquidez Diária</th>\n",
              "      <th>Dividendo</th>\n",
              "      <th>DividendYield</th>\n",
              "      <th>DY (3M)Acumulado</th>\n",
              "      <th>DY (6M)Acumulado</th>\n",
              "      <th>DY (12M)Acumulado</th>\n",
              "      <th>DY (3M)Média</th>\n",
              "      <th>...</th>\n",
              "      <th>PatrimônioLíq.</th>\n",
              "      <th>VPA</th>\n",
              "      <th>P/VPA</th>\n",
              "      <th>DYPatrimonial</th>\n",
              "      <th>VariaçãoPatrimonial</th>\n",
              "      <th>Rentab. Patr.no Período</th>\n",
              "      <th>Rentab. Patr.Acumulada</th>\n",
              "      <th>VacânciaFísica</th>\n",
              "      <th>VacânciaFinanceira</th>\n",
              "      <th>QuantidadeAtivos</th>\n",
              "    </tr>\n",
              "  </thead>\n",
              "  <tbody>\n",
              "    <tr>\n",
              "      <th>0</th>\n",
              "      <td>FIVN11</td>\n",
              "      <td>Shoppings</td>\n",
              "      <td>2.26</td>\n",
              "      <td>8285.0</td>\n",
              "      <td>R$ 0,00</td>\n",
              "      <td>0,00%</td>\n",
              "      <td>0,00%</td>\n",
              "      <td>0,00%</td>\n",
              "      <td>0.00</td>\n",
              "      <td>0,00%</td>\n",
              "      <td>...</td>\n",
              "      <td>R$ 65.746.443,59</td>\n",
              "      <td>R$ 6,98</td>\n",
              "      <td>32.0</td>\n",
              "      <td>NaN</td>\n",
              "      <td>NaN</td>\n",
              "      <td>NaN</td>\n",
              "      <td>NaN</td>\n",
              "      <td>56,00%</td>\n",
              "      <td>NaN</td>\n",
              "      <td>1</td>\n",
              "    </tr>\n",
              "    <tr>\n",
              "      <th>1</th>\n",
              "      <td>BZLI11</td>\n",
              "      <td>Títulos e Val. Mob.</td>\n",
              "      <td>14.70</td>\n",
              "      <td>44041.0</td>\n",
              "      <td>R$ 0,00</td>\n",
              "      <td>0,00%</td>\n",
              "      <td>0,00%</td>\n",
              "      <td>0,00%</td>\n",
              "      <td>0.00</td>\n",
              "      <td>0,00%</td>\n",
              "      <td>...</td>\n",
              "      <td>R$ 432.904.709,37</td>\n",
              "      <td>R$ 10,82</td>\n",
              "      <td>136.0</td>\n",
              "      <td>NaN</td>\n",
              "      <td>NaN</td>\n",
              "      <td>NaN</td>\n",
              "      <td>NaN</td>\n",
              "      <td>NaN</td>\n",
              "      <td>NaN</td>\n",
              "      <td>0</td>\n",
              "    </tr>\n",
              "    <tr>\n",
              "      <th>2</th>\n",
              "      <td>XTED11</td>\n",
              "      <td>Lajes Corporativas</td>\n",
              "      <td>6.23</td>\n",
              "      <td>1897.0</td>\n",
              "      <td>R$ 0,00</td>\n",
              "      <td>0,00%</td>\n",
              "      <td>0,00%</td>\n",
              "      <td>0,00%</td>\n",
              "      <td>0.00</td>\n",
              "      <td>0,00%</td>\n",
              "      <td>...</td>\n",
              "      <td>R$ 27.391.929,40</td>\n",
              "      <td>R$ 13,94</td>\n",
              "      <td>45.0</td>\n",
              "      <td>NaN</td>\n",
              "      <td>NaN</td>\n",
              "      <td>NaN</td>\n",
              "      <td>NaN</td>\n",
              "      <td>0,00%</td>\n",
              "      <td>100,00%</td>\n",
              "      <td>1</td>\n",
              "    </tr>\n",
              "    <tr>\n",
              "      <th>3</th>\n",
              "      <td>ALMI11</td>\n",
              "      <td>Lajes Corporativas</td>\n",
              "      <td>896.00</td>\n",
              "      <td>8.0</td>\n",
              "      <td>R$ 0,00</td>\n",
              "      <td>0,00%</td>\n",
              "      <td>0,00%</td>\n",
              "      <td>0,00%</td>\n",
              "      <td>0.00</td>\n",
              "      <td>0,00%</td>\n",
              "      <td>...</td>\n",
              "      <td>R$ 250.487.663,18</td>\n",
              "      <td>R$ 2.253,05</td>\n",
              "      <td>40.0</td>\n",
              "      <td>NaN</td>\n",
              "      <td>NaN</td>\n",
              "      <td>NaN</td>\n",
              "      <td>NaN</td>\n",
              "      <td>64,05%</td>\n",
              "      <td>NaN</td>\n",
              "      <td>1</td>\n",
              "    </tr>\n",
              "    <tr>\n",
              "      <th>4</th>\n",
              "      <td>PABY11</td>\n",
              "      <td>Híbrido</td>\n",
              "      <td>7.83</td>\n",
              "      <td>1.0</td>\n",
              "      <td>R$ 0,00</td>\n",
              "      <td>0,00%</td>\n",
              "      <td>0,00%</td>\n",
              "      <td>0,00%</td>\n",
              "      <td>0.00</td>\n",
              "      <td>0,00%</td>\n",
              "      <td>...</td>\n",
              "      <td>R$ -8.707.885,16</td>\n",
              "      <td>R$ -11,48</td>\n",
              "      <td>-68.0</td>\n",
              "      <td>NaN</td>\n",
              "      <td>NaN</td>\n",
              "      <td>NaN</td>\n",
              "      <td>NaN</td>\n",
              "      <td>NaN</td>\n",
              "      <td>NaN</td>\n",
              "      <td>1</td>\n",
              "    </tr>\n",
              "    <tr>\n",
              "      <th>...</th>\n",
              "      <td>...</td>\n",
              "      <td>...</td>\n",
              "      <td>...</td>\n",
              "      <td>...</td>\n",
              "      <td>...</td>\n",
              "      <td>...</td>\n",
              "      <td>...</td>\n",
              "      <td>...</td>\n",
              "      <td>...</td>\n",
              "      <td>...</td>\n",
              "      <td>...</td>\n",
              "      <td>...</td>\n",
              "      <td>...</td>\n",
              "      <td>...</td>\n",
              "      <td>...</td>\n",
              "      <td>...</td>\n",
              "      <td>...</td>\n",
              "      <td>...</td>\n",
              "      <td>...</td>\n",
              "      <td>...</td>\n",
              "      <td>...</td>\n",
              "    </tr>\n",
              "    <tr>\n",
              "      <th>271</th>\n",
              "      <td>CNES11</td>\n",
              "      <td>Lajes Corporativas</td>\n",
              "      <td>34.67</td>\n",
              "      <td>56.0</td>\n",
              "      <td>R$ 0,13</td>\n",
              "      <td>0,39%</td>\n",
              "      <td>1,19%</td>\n",
              "      <td>2,14%</td>\n",
              "      <td>3.39</td>\n",
              "      <td>0,40%</td>\n",
              "      <td>...</td>\n",
              "      <td>R$ 255.388.232,33</td>\n",
              "      <td>R$ 86,59</td>\n",
              "      <td>40.0</td>\n",
              "      <td>0,15%</td>\n",
              "      <td>0,00%</td>\n",
              "      <td>0,15%</td>\n",
              "      <td>0,15%</td>\n",
              "      <td>56,70%</td>\n",
              "      <td>NaN</td>\n",
              "      <td>1</td>\n",
              "    </tr>\n",
              "    <tr>\n",
              "      <th>273</th>\n",
              "      <td>WTSP11B</td>\n",
              "      <td>Híbrido</td>\n",
              "      <td>40.10</td>\n",
              "      <td>10.0</td>\n",
              "      <td>R$ 0,48</td>\n",
              "      <td>1,01%</td>\n",
              "      <td>2,53%</td>\n",
              "      <td>4,46%</td>\n",
              "      <td>6.33</td>\n",
              "      <td>0,84%</td>\n",
              "      <td>...</td>\n",
              "      <td>R$ 77.799.824,27</td>\n",
              "      <td>R$ 78,38</td>\n",
              "      <td>51.0</td>\n",
              "      <td>0,40%</td>\n",
              "      <td>3,55%</td>\n",
              "      <td>3,97%</td>\n",
              "      <td>3,97%</td>\n",
              "      <td>NaN</td>\n",
              "      <td>NaN</td>\n",
              "      <td>0</td>\n",
              "    </tr>\n",
              "    <tr>\n",
              "      <th>274</th>\n",
              "      <td>BTRA11</td>\n",
              "      <td>Outros</td>\n",
              "      <td>100.37</td>\n",
              "      <td>6278.0</td>\n",
              "      <td>R$ 0,90</td>\n",
              "      <td>0,92%</td>\n",
              "      <td>2,81%</td>\n",
              "      <td>4,99%</td>\n",
              "      <td>0.00</td>\n",
              "      <td>0,94%</td>\n",
              "      <td>...</td>\n",
              "      <td>R$ 347.617.328,85</td>\n",
              "      <td>R$ 103,32</td>\n",
              "      <td>97.0</td>\n",
              "      <td>NaN</td>\n",
              "      <td>NaN</td>\n",
              "      <td>NaN</td>\n",
              "      <td>NaN</td>\n",
              "      <td>NaN</td>\n",
              "      <td>NaN</td>\n",
              "      <td>0</td>\n",
              "    </tr>\n",
              "    <tr>\n",
              "      <th>275</th>\n",
              "      <td>EDGA11</td>\n",
              "      <td>Lajes Corporativas</td>\n",
              "      <td>19.58</td>\n",
              "      <td>4402.0</td>\n",
              "      <td>R$ 0,11</td>\n",
              "      <td>0,49%</td>\n",
              "      <td>1,29%</td>\n",
              "      <td>2,71%</td>\n",
              "      <td>6.04</td>\n",
              "      <td>0,43%</td>\n",
              "      <td>...</td>\n",
              "      <td>R$ 252.515.454,02</td>\n",
              "      <td>R$ 66,24</td>\n",
              "      <td>30.0</td>\n",
              "      <td>0,16%</td>\n",
              "      <td>0,00%</td>\n",
              "      <td>0,16%</td>\n",
              "      <td>0,16%</td>\n",
              "      <td>48,81%</td>\n",
              "      <td>NaN</td>\n",
              "      <td>1</td>\n",
              "    </tr>\n",
              "    <tr>\n",
              "      <th>276</th>\n",
              "      <td>RBGS11</td>\n",
              "      <td>Shoppings</td>\n",
              "      <td>28.45</td>\n",
              "      <td>5157.0</td>\n",
              "      <td>R$ 0,18</td>\n",
              "      <td>0,62%</td>\n",
              "      <td>1,59%</td>\n",
              "      <td>2,73%</td>\n",
              "      <td>5.12</td>\n",
              "      <td>0,53%</td>\n",
              "      <td>...</td>\n",
              "      <td>R$ 97.865.283,71</td>\n",
              "      <td>R$ 90,78</td>\n",
              "      <td>31.0</td>\n",
              "      <td>0,18%</td>\n",
              "      <td>0,00%</td>\n",
              "      <td>0,18%</td>\n",
              "      <td>1,17%</td>\n",
              "      <td>13,00%</td>\n",
              "      <td>NaN</td>\n",
              "      <td>1</td>\n",
              "    </tr>\n",
              "  </tbody>\n",
              "</table>\n",
              "<p>259 rows × 26 columns</p>\n",
              "</div>\n",
              "      <button class=\"colab-df-convert\" onclick=\"convertToInteractive('df-705cbd0b-0044-45e3-98f0-b3635a09859d')\"\n",
              "              title=\"Convert this dataframe to an interactive table.\"\n",
              "              style=\"display:none;\">\n",
              "        \n",
              "  <svg xmlns=\"http://www.w3.org/2000/svg\" height=\"24px\"viewBox=\"0 0 24 24\"\n",
              "       width=\"24px\">\n",
              "    <path d=\"M0 0h24v24H0V0z\" fill=\"none\"/>\n",
              "    <path d=\"M18.56 5.44l.94 2.06.94-2.06 2.06-.94-2.06-.94-.94-2.06-.94 2.06-2.06.94zm-11 1L8.5 8.5l.94-2.06 2.06-.94-2.06-.94L8.5 2.5l-.94 2.06-2.06.94zm10 10l.94 2.06.94-2.06 2.06-.94-2.06-.94-.94-2.06-.94 2.06-2.06.94z\"/><path d=\"M17.41 7.96l-1.37-1.37c-.4-.4-.92-.59-1.43-.59-.52 0-1.04.2-1.43.59L10.3 9.45l-7.72 7.72c-.78.78-.78 2.05 0 2.83L4 21.41c.39.39.9.59 1.41.59.51 0 1.02-.2 1.41-.59l7.78-7.78 2.81-2.81c.8-.78.8-2.07 0-2.86zM5.41 20L4 18.59l7.72-7.72 1.47 1.35L5.41 20z\"/>\n",
              "  </svg>\n",
              "      </button>\n",
              "      \n",
              "  <style>\n",
              "    .colab-df-container {\n",
              "      display:flex;\n",
              "      flex-wrap:wrap;\n",
              "      gap: 12px;\n",
              "    }\n",
              "\n",
              "    .colab-df-convert {\n",
              "      background-color: #E8F0FE;\n",
              "      border: none;\n",
              "      border-radius: 50%;\n",
              "      cursor: pointer;\n",
              "      display: none;\n",
              "      fill: #1967D2;\n",
              "      height: 32px;\n",
              "      padding: 0 0 0 0;\n",
              "      width: 32px;\n",
              "    }\n",
              "\n",
              "    .colab-df-convert:hover {\n",
              "      background-color: #E2EBFA;\n",
              "      box-shadow: 0px 1px 2px rgba(60, 64, 67, 0.3), 0px 1px 3px 1px rgba(60, 64, 67, 0.15);\n",
              "      fill: #174EA6;\n",
              "    }\n",
              "\n",
              "    [theme=dark] .colab-df-convert {\n",
              "      background-color: #3B4455;\n",
              "      fill: #D2E3FC;\n",
              "    }\n",
              "\n",
              "    [theme=dark] .colab-df-convert:hover {\n",
              "      background-color: #434B5C;\n",
              "      box-shadow: 0px 1px 3px 1px rgba(0, 0, 0, 0.15);\n",
              "      filter: drop-shadow(0px 1px 2px rgba(0, 0, 0, 0.3));\n",
              "      fill: #FFFFFF;\n",
              "    }\n",
              "  </style>\n",
              "\n",
              "      <script>\n",
              "        const buttonEl =\n",
              "          document.querySelector('#df-705cbd0b-0044-45e3-98f0-b3635a09859d button.colab-df-convert');\n",
              "        buttonEl.style.display =\n",
              "          google.colab.kernel.accessAllowed ? 'block' : 'none';\n",
              "\n",
              "        async function convertToInteractive(key) {\n",
              "          const element = document.querySelector('#df-705cbd0b-0044-45e3-98f0-b3635a09859d');\n",
              "          const dataTable =\n",
              "            await google.colab.kernel.invokeFunction('convertToInteractive',\n",
              "                                                     [key], {});\n",
              "          if (!dataTable) return;\n",
              "\n",
              "          const docLinkHtml = 'Like what you see? Visit the ' +\n",
              "            '<a target=\"_blank\" href=https://colab.research.google.com/notebooks/data_table.ipynb>data table notebook</a>'\n",
              "            + ' to learn more about interactive tables.';\n",
              "          element.innerHTML = '';\n",
              "          dataTable['output_type'] = 'display_data';\n",
              "          await google.colab.output.renderOutput(dataTable, element);\n",
              "          const docLink = document.createElement('div');\n",
              "          docLink.innerHTML = docLinkHtml;\n",
              "          element.appendChild(docLink);\n",
              "        }\n",
              "      </script>\n",
              "    </div>\n",
              "  </div>\n",
              "  "
            ]
          },
          "metadata": {},
          "execution_count": 63
        }
      ],
      "source": [
        "# Remover os NAs antes de análises exploratórias\n",
        "\n",
        "FII_df.dropna(subset = ['Preço Atual','DY (12M)Acumulado','Setor'], inplace=True)\n",
        "FII_df"
      ]
    },
    {
      "cell_type": "code",
      "execution_count": 64,
      "metadata": {
        "colab": {
          "base_uri": "https://localhost:8080/",
          "height": 542
        },
        "id": "M0WdsTQF4tCG",
        "outputId": "d6a51632-2be7-4ea7-c966-0184fe000ee4"
      },
      "outputs": [
        {
          "output_type": "display_data",
          "data": {
            "text/html": [
              "<html>\n",
              "<head><meta charset=\"utf-8\" /></head>\n",
              "<body>\n",
              "    <div>            <script src=\"https://cdnjs.cloudflare.com/ajax/libs/mathjax/2.7.5/MathJax.js?config=TeX-AMS-MML_SVG\"></script><script type=\"text/javascript\">if (window.MathJax) {MathJax.Hub.Config({SVG: {font: \"STIX-Web\"}});}</script>                <script type=\"text/javascript\">window.PlotlyConfig = {MathJaxConfig: 'local'};</script>\n",
              "        <script src=\"https://cdn.plot.ly/plotly-2.8.3.min.js\"></script>                <div id=\"488a6334-49ef-4ae4-beb8-2e54fca4a9e3\" class=\"plotly-graph-div\" style=\"height:525px; width:100%;\"></div>            <script type=\"text/javascript\">                                    window.PLOTLYENV=window.PLOTLYENV || {};                                    if (document.getElementById(\"488a6334-49ef-4ae4-beb8-2e54fca4a9e3\")) {                    Plotly.newPlot(                        \"488a6334-49ef-4ae4-beb8-2e54fca4a9e3\",                        [{\"hovertemplate\":\"Setor=Shoppings<br>Pre\\u00e7o Atual=%{x}<br>DY (12M)Acumulado=%{y}<extra></extra>\",\"legendgroup\":\"Shoppings\",\"marker\":{\"color\":\"#636efa\",\"symbol\":\"circle\"},\"mode\":\"markers\",\"name\":\"Shoppings\",\"orientation\":\"v\",\"showlegend\":true,\"x\":[2.26,73.89,84.26,164.4,100.43,52.02,74.84,115.43,87.99,1990.03,73.29,814.12,96.0,97.33,77.96,7.26,4.32,74.5,65.82,90.9,1205.06,28.45],\"xaxis\":\"x\",\"y\":[0.0,0.0,4.49,5.12,7.11,5.7,6.66,6.51,6.16,5.94,7.28,4.75,2.97,6.05,7.43,2.98,0.03,6.39,0.0,6.37,6.01,5.12],\"yaxis\":\"y\",\"type\":\"scatter\"},{\"hovertemplate\":\"Setor=T\\u00edtulos e Val. Mob.<br>Pre\\u00e7o Atual=%{x}<br>DY (12M)Acumulado=%{y}<extra></extra>\",\"legendgroup\":\"T\\u00edtulos e Val. Mob.\",\"marker\":{\"color\":\"#EF553B\",\"symbol\":\"circle\"},\"mode\":\"markers\",\"name\":\"T\\u00edtulos e Val. Mob.\",\"orientation\":\"v\",\"showlegend\":true,\"x\":[14.7,94.9,98.85,63.2,109.0,106.21,103.1,9.98,72.0,74.11,7.55,70.0,50.52,72.03,82.04,581.13,94.0,87.97,96.66,101.97,100.54,100.1,10.03,104.69,68.55,74.32,91.79,9.8,97.97,102.8,73.7,98.43,110.2,89.5,42.4,92.99,93.0,81.58,85.74,55.32,87.93,99.9,73.0,69.2,65.23,7.39,93.5,95.87,88.81,66.53,99.06,63.19,97.91,99.64,99.85,76.49,83.25,107.34,100.86,105.09,57.25,96.34,67.74,94.6,10.01,100.03,100.0,10.73,97.71,72.99,85.98,71.08,72.01,9.02,83.48,101.99,100.1,64.69,80.3,91.3,93.03,97.2,113.9,98.5,100.39,96.74],\"xaxis\":\"x\",\"y\":[0.0,13.52,15.11,9.71,9.48,15.58,12.17,0.0,0.0,9.36,8.53,0.0,9.57,7.93,8.56,7.22,12.85,12.52,12.87,13.66,13.71,6.76,0.0,10.63,8.24,8.7,11.26,0.0,10.58,12.81,8.18,13.71,13.35,6.73,10.66,12.15,5.78,0.0,9.55,9.46,12.26,11.24,9.31,9.76,7.5,10.21,12.59,10.51,11.32,8.14,14.94,9.16,0.0,13.32,12.16,10.29,0.0,12.05,10.74,10.99,9.09,0.0,9.16,12.46,0.0,9.1,11.09,0.0,0.0,10.94,11.52,9.77,0.0,0.0,0.0,0.0,0.0,10.82,12.42,0.0,11.97,0.0,0.0,0.0,0.0,0.0],\"yaxis\":\"y\",\"type\":\"scatter\"},{\"hovertemplate\":\"Setor=Lajes Corporativas<br>Pre\\u00e7o Atual=%{x}<br>DY (12M)Acumulado=%{y}<extra></extra>\",\"legendgroup\":\"Lajes Corporativas\",\"marker\":{\"color\":\"#00cc96\",\"symbol\":\"circle\"},\"mode\":\"markers\",\"name\":\"Lajes Corporativas\",\"orientation\":\"v\",\"showlegend\":true,\"x\":[6.23,896.0,165.0,88.42,125.0,57.5,77.85,46.2,1999.0,47.2,86.57,95.85,108.0,33.62,256.0,25993.81,95.83,17.02,44.0,67.02,80.25,48.65,213.41,68.1,78.8,218.0,148.48,122.79,56.4,34.8,113.14,847.98,89.51,98.0,108.09,93.99,22.69,34.67,19.58],\"xaxis\":\"x\",\"y\":[0.0,0.0,0.0,7.21,8.28,11.96,0.0,7.54,13.83,9.93,11.07,5.79,0.0,1.74,6.6,0.0,6.52,9.93,21.8,7.28,9.05,8.42,6.68,5.57,9.01,7.18,6.29,6.52,8.78,16.63,5.95,10.43,8.16,0.0,3.9,0.0,5.53,3.39,6.04],\"yaxis\":\"y\",\"type\":\"scatter\"},{\"hovertemplate\":\"Setor=H\\u00edbrido<br>Pre\\u00e7o Atual=%{x}<br>DY (12M)Acumulado=%{y}<extra></extra>\",\"legendgroup\":\"H\\u00edbrido\",\"marker\":{\"color\":\"#ab63fa\",\"symbol\":\"circle\"},\"mode\":\"markers\",\"name\":\"H\\u00edbrido\",\"orientation\":\"v\",\"showlegend\":true,\"x\":[7.83,96.97,110.3,135.96,88.3,71.01,102.4,93.32,440.0,106.57,10.3,103.43,93.65,9.09,72.68,48.37,95.25,74.01,68.5,101.0,62.0,101.99,100.0,95.44,72.97,84.38,65.6,95.5,117.76,98.86,66.2,75.02,73.05,63.23,69.5,10.89,111.9,149.0,2.69,94.72,107.55,76000.0,40.1],\"xaxis\":\"x\",\"y\":[0.0,0.0,7.6,6.43,12.16,7.59,11.46,8.27,8.41,14.28,0.0,11.84,8.75,9.71,7.67,5.15,0.0,8.84,9.17,10.31,7.05,0.0,5.4,9.59,11.22,9.97,7.67,6.42,5.27,8.47,7.63,0.0,10.52,8.75,10.72,0.0,0.0,3.34,1.6,0.0,14.61,0.0,6.33],\"yaxis\":\"y\",\"type\":\"scatter\"},{\"hovertemplate\":\"Setor=Log\\u00edstica<br>Pre\\u00e7o Atual=%{x}<br>DY (12M)Acumulado=%{y}<extra></extra>\",\"legendgroup\":\"Log\\u00edstica\",\"marker\":{\"color\":\"#FFA15A\",\"symbol\":\"circle\"},\"mode\":\"markers\",\"name\":\"Log\\u00edstica\",\"orientation\":\"v\",\"showlegend\":true,\"x\":[99.4,161.19,98.31,85.87,98.55,88.45,92.3,214.96,97.22,56.9,88.37,73.3,78.7,161.0,279.33,87.0,103.9,79.72,49.38,84.5,103.23,111.89],\"xaxis\":\"x\",\"y\":[7.49,8.46,7.25,8.94,6.96,7.43,9.2,8.92,6.86,7.22,7.28,0.0,7.77,8.36,0.0,7.8,8.21,10.76,0.0,8.67,7.92,6.98],\"yaxis\":\"y\",\"type\":\"scatter\"},{\"hovertemplate\":\"Setor=Outros<br>Pre\\u00e7o Atual=%{x}<br>DY (12M)Acumulado=%{y}<extra></extra>\",\"legendgroup\":\"Outros\",\"marker\":{\"color\":\"#19d3f3\",\"symbol\":\"circle\"},\"mode\":\"markers\",\"name\":\"Outros\",\"orientation\":\"v\",\"showlegend\":true,\"x\":[120.39,86.0,116.78,110.22,40.25,99.3,55.8,95.01,94.41,91.01,119.35,94.58,12.34,70.1,49.06,675.0,79.69,9.48,8.78,68.98,119.7,132.0,64.3,77.64,99.33,84.0,1520.0,44.13,83.72,98.45,81.58,95.69,111.09,100.37],\"xaxis\":\"x\",\"y\":[9.46,0.0,18.35,11.14,12.54,8.78,9.36,11.96,10.43,6.64,11.25,10.02,3.68,10.12,8.99,12.52,8.92,15.7,10.56,9.92,15.36,9.28,6.6,0.0,13.89,6.73,0.0,8.69,0.0,9.98,7.94,8.65,8.03,0.0],\"yaxis\":\"y\",\"type\":\"scatter\"},{\"hovertemplate\":\"Setor=Residencial<br>Pre\\u00e7o Atual=%{x}<br>DY (12M)Acumulado=%{y}<extra></extra>\",\"legendgroup\":\"Residencial\",\"marker\":{\"color\":\"#FF6692\",\"symbol\":\"circle\"},\"mode\":\"markers\",\"name\":\"Residencial\",\"orientation\":\"v\",\"showlegend\":true,\"x\":[12.8,81.7,72.0,70.99,0.93,4.35,72.0],\"xaxis\":\"x\",\"y\":[0.0,6.9,9.1,0.0,0.0,0.0,0.0],\"yaxis\":\"y\",\"type\":\"scatter\"},{\"hovertemplate\":\"Setor=Hospital<br>Pre\\u00e7o Atual=%{x}<br>DY (12M)Acumulado=%{y}<extra></extra>\",\"legendgroup\":\"Hospital\",\"marker\":{\"color\":\"#B6E880\",\"symbol\":\"circle\"},\"mode\":\"markers\",\"name\":\"Hospital\",\"orientation\":\"v\",\"showlegend\":true,\"x\":[11.67,142.01,262.0],\"xaxis\":\"x\",\"y\":[6.49,9.49,9.33],\"yaxis\":\"y\",\"type\":\"scatter\"},{\"hovertemplate\":\"Setor=Hotel<br>Pre\\u00e7o Atual=%{x}<br>DY (12M)Acumulado=%{y}<extra></extra>\",\"legendgroup\":\"Hotel\",\"marker\":{\"color\":\"#FF97FF\",\"symbol\":\"circle\"},\"mode\":\"markers\",\"name\":\"Hotel\",\"orientation\":\"v\",\"showlegend\":true,\"x\":[94.52,73.25,83.42],\"xaxis\":\"x\",\"y\":[0.0,5.41,9.35],\"yaxis\":\"y\",\"type\":\"scatter\"}],                        {\"template\":{\"data\":{\"bar\":[{\"error_x\":{\"color\":\"#2a3f5f\"},\"error_y\":{\"color\":\"#2a3f5f\"},\"marker\":{\"line\":{\"color\":\"#E5ECF6\",\"width\":0.5},\"pattern\":{\"fillmode\":\"overlay\",\"size\":10,\"solidity\":0.2}},\"type\":\"bar\"}],\"barpolar\":[{\"marker\":{\"line\":{\"color\":\"#E5ECF6\",\"width\":0.5},\"pattern\":{\"fillmode\":\"overlay\",\"size\":10,\"solidity\":0.2}},\"type\":\"barpolar\"}],\"carpet\":[{\"aaxis\":{\"endlinecolor\":\"#2a3f5f\",\"gridcolor\":\"white\",\"linecolor\":\"white\",\"minorgridcolor\":\"white\",\"startlinecolor\":\"#2a3f5f\"},\"baxis\":{\"endlinecolor\":\"#2a3f5f\",\"gridcolor\":\"white\",\"linecolor\":\"white\",\"minorgridcolor\":\"white\",\"startlinecolor\":\"#2a3f5f\"},\"type\":\"carpet\"}],\"choropleth\":[{\"colorbar\":{\"outlinewidth\":0,\"ticks\":\"\"},\"type\":\"choropleth\"}],\"contour\":[{\"colorbar\":{\"outlinewidth\":0,\"ticks\":\"\"},\"colorscale\":[[0.0,\"#0d0887\"],[0.1111111111111111,\"#46039f\"],[0.2222222222222222,\"#7201a8\"],[0.3333333333333333,\"#9c179e\"],[0.4444444444444444,\"#bd3786\"],[0.5555555555555556,\"#d8576b\"],[0.6666666666666666,\"#ed7953\"],[0.7777777777777778,\"#fb9f3a\"],[0.8888888888888888,\"#fdca26\"],[1.0,\"#f0f921\"]],\"type\":\"contour\"}],\"contourcarpet\":[{\"colorbar\":{\"outlinewidth\":0,\"ticks\":\"\"},\"type\":\"contourcarpet\"}],\"heatmap\":[{\"colorbar\":{\"outlinewidth\":0,\"ticks\":\"\"},\"colorscale\":[[0.0,\"#0d0887\"],[0.1111111111111111,\"#46039f\"],[0.2222222222222222,\"#7201a8\"],[0.3333333333333333,\"#9c179e\"],[0.4444444444444444,\"#bd3786\"],[0.5555555555555556,\"#d8576b\"],[0.6666666666666666,\"#ed7953\"],[0.7777777777777778,\"#fb9f3a\"],[0.8888888888888888,\"#fdca26\"],[1.0,\"#f0f921\"]],\"type\":\"heatmap\"}],\"heatmapgl\":[{\"colorbar\":{\"outlinewidth\":0,\"ticks\":\"\"},\"colorscale\":[[0.0,\"#0d0887\"],[0.1111111111111111,\"#46039f\"],[0.2222222222222222,\"#7201a8\"],[0.3333333333333333,\"#9c179e\"],[0.4444444444444444,\"#bd3786\"],[0.5555555555555556,\"#d8576b\"],[0.6666666666666666,\"#ed7953\"],[0.7777777777777778,\"#fb9f3a\"],[0.8888888888888888,\"#fdca26\"],[1.0,\"#f0f921\"]],\"type\":\"heatmapgl\"}],\"histogram\":[{\"marker\":{\"pattern\":{\"fillmode\":\"overlay\",\"size\":10,\"solidity\":0.2}},\"type\":\"histogram\"}],\"histogram2d\":[{\"colorbar\":{\"outlinewidth\":0,\"ticks\":\"\"},\"colorscale\":[[0.0,\"#0d0887\"],[0.1111111111111111,\"#46039f\"],[0.2222222222222222,\"#7201a8\"],[0.3333333333333333,\"#9c179e\"],[0.4444444444444444,\"#bd3786\"],[0.5555555555555556,\"#d8576b\"],[0.6666666666666666,\"#ed7953\"],[0.7777777777777778,\"#fb9f3a\"],[0.8888888888888888,\"#fdca26\"],[1.0,\"#f0f921\"]],\"type\":\"histogram2d\"}],\"histogram2dcontour\":[{\"colorbar\":{\"outlinewidth\":0,\"ticks\":\"\"},\"colorscale\":[[0.0,\"#0d0887\"],[0.1111111111111111,\"#46039f\"],[0.2222222222222222,\"#7201a8\"],[0.3333333333333333,\"#9c179e\"],[0.4444444444444444,\"#bd3786\"],[0.5555555555555556,\"#d8576b\"],[0.6666666666666666,\"#ed7953\"],[0.7777777777777778,\"#fb9f3a\"],[0.8888888888888888,\"#fdca26\"],[1.0,\"#f0f921\"]],\"type\":\"histogram2dcontour\"}],\"mesh3d\":[{\"colorbar\":{\"outlinewidth\":0,\"ticks\":\"\"},\"type\":\"mesh3d\"}],\"parcoords\":[{\"line\":{\"colorbar\":{\"outlinewidth\":0,\"ticks\":\"\"}},\"type\":\"parcoords\"}],\"pie\":[{\"automargin\":true,\"type\":\"pie\"}],\"scatter\":[{\"marker\":{\"colorbar\":{\"outlinewidth\":0,\"ticks\":\"\"}},\"type\":\"scatter\"}],\"scatter3d\":[{\"line\":{\"colorbar\":{\"outlinewidth\":0,\"ticks\":\"\"}},\"marker\":{\"colorbar\":{\"outlinewidth\":0,\"ticks\":\"\"}},\"type\":\"scatter3d\"}],\"scattercarpet\":[{\"marker\":{\"colorbar\":{\"outlinewidth\":0,\"ticks\":\"\"}},\"type\":\"scattercarpet\"}],\"scattergeo\":[{\"marker\":{\"colorbar\":{\"outlinewidth\":0,\"ticks\":\"\"}},\"type\":\"scattergeo\"}],\"scattergl\":[{\"marker\":{\"colorbar\":{\"outlinewidth\":0,\"ticks\":\"\"}},\"type\":\"scattergl\"}],\"scattermapbox\":[{\"marker\":{\"colorbar\":{\"outlinewidth\":0,\"ticks\":\"\"}},\"type\":\"scattermapbox\"}],\"scatterpolar\":[{\"marker\":{\"colorbar\":{\"outlinewidth\":0,\"ticks\":\"\"}},\"type\":\"scatterpolar\"}],\"scatterpolargl\":[{\"marker\":{\"colorbar\":{\"outlinewidth\":0,\"ticks\":\"\"}},\"type\":\"scatterpolargl\"}],\"scatterternary\":[{\"marker\":{\"colorbar\":{\"outlinewidth\":0,\"ticks\":\"\"}},\"type\":\"scatterternary\"}],\"surface\":[{\"colorbar\":{\"outlinewidth\":0,\"ticks\":\"\"},\"colorscale\":[[0.0,\"#0d0887\"],[0.1111111111111111,\"#46039f\"],[0.2222222222222222,\"#7201a8\"],[0.3333333333333333,\"#9c179e\"],[0.4444444444444444,\"#bd3786\"],[0.5555555555555556,\"#d8576b\"],[0.6666666666666666,\"#ed7953\"],[0.7777777777777778,\"#fb9f3a\"],[0.8888888888888888,\"#fdca26\"],[1.0,\"#f0f921\"]],\"type\":\"surface\"}],\"table\":[{\"cells\":{\"fill\":{\"color\":\"#EBF0F8\"},\"line\":{\"color\":\"white\"}},\"header\":{\"fill\":{\"color\":\"#C8D4E3\"},\"line\":{\"color\":\"white\"}},\"type\":\"table\"}]},\"layout\":{\"annotationdefaults\":{\"arrowcolor\":\"#2a3f5f\",\"arrowhead\":0,\"arrowwidth\":1},\"autotypenumbers\":\"strict\",\"coloraxis\":{\"colorbar\":{\"outlinewidth\":0,\"ticks\":\"\"}},\"colorscale\":{\"diverging\":[[0,\"#8e0152\"],[0.1,\"#c51b7d\"],[0.2,\"#de77ae\"],[0.3,\"#f1b6da\"],[0.4,\"#fde0ef\"],[0.5,\"#f7f7f7\"],[0.6,\"#e6f5d0\"],[0.7,\"#b8e186\"],[0.8,\"#7fbc41\"],[0.9,\"#4d9221\"],[1,\"#276419\"]],\"sequential\":[[0.0,\"#0d0887\"],[0.1111111111111111,\"#46039f\"],[0.2222222222222222,\"#7201a8\"],[0.3333333333333333,\"#9c179e\"],[0.4444444444444444,\"#bd3786\"],[0.5555555555555556,\"#d8576b\"],[0.6666666666666666,\"#ed7953\"],[0.7777777777777778,\"#fb9f3a\"],[0.8888888888888888,\"#fdca26\"],[1.0,\"#f0f921\"]],\"sequentialminus\":[[0.0,\"#0d0887\"],[0.1111111111111111,\"#46039f\"],[0.2222222222222222,\"#7201a8\"],[0.3333333333333333,\"#9c179e\"],[0.4444444444444444,\"#bd3786\"],[0.5555555555555556,\"#d8576b\"],[0.6666666666666666,\"#ed7953\"],[0.7777777777777778,\"#fb9f3a\"],[0.8888888888888888,\"#fdca26\"],[1.0,\"#f0f921\"]]},\"colorway\":[\"#636efa\",\"#EF553B\",\"#00cc96\",\"#ab63fa\",\"#FFA15A\",\"#19d3f3\",\"#FF6692\",\"#B6E880\",\"#FF97FF\",\"#FECB52\"],\"font\":{\"color\":\"#2a3f5f\"},\"geo\":{\"bgcolor\":\"white\",\"lakecolor\":\"white\",\"landcolor\":\"#E5ECF6\",\"showlakes\":true,\"showland\":true,\"subunitcolor\":\"white\"},\"hoverlabel\":{\"align\":\"left\"},\"hovermode\":\"closest\",\"mapbox\":{\"style\":\"light\"},\"paper_bgcolor\":\"white\",\"plot_bgcolor\":\"#E5ECF6\",\"polar\":{\"angularaxis\":{\"gridcolor\":\"white\",\"linecolor\":\"white\",\"ticks\":\"\"},\"bgcolor\":\"#E5ECF6\",\"radialaxis\":{\"gridcolor\":\"white\",\"linecolor\":\"white\",\"ticks\":\"\"}},\"scene\":{\"xaxis\":{\"backgroundcolor\":\"#E5ECF6\",\"gridcolor\":\"white\",\"gridwidth\":2,\"linecolor\":\"white\",\"showbackground\":true,\"ticks\":\"\",\"zerolinecolor\":\"white\"},\"yaxis\":{\"backgroundcolor\":\"#E5ECF6\",\"gridcolor\":\"white\",\"gridwidth\":2,\"linecolor\":\"white\",\"showbackground\":true,\"ticks\":\"\",\"zerolinecolor\":\"white\"},\"zaxis\":{\"backgroundcolor\":\"#E5ECF6\",\"gridcolor\":\"white\",\"gridwidth\":2,\"linecolor\":\"white\",\"showbackground\":true,\"ticks\":\"\",\"zerolinecolor\":\"white\"}},\"shapedefaults\":{\"line\":{\"color\":\"#2a3f5f\"}},\"ternary\":{\"aaxis\":{\"gridcolor\":\"white\",\"linecolor\":\"white\",\"ticks\":\"\"},\"baxis\":{\"gridcolor\":\"white\",\"linecolor\":\"white\",\"ticks\":\"\"},\"bgcolor\":\"#E5ECF6\",\"caxis\":{\"gridcolor\":\"white\",\"linecolor\":\"white\",\"ticks\":\"\"}},\"title\":{\"x\":0.05},\"xaxis\":{\"automargin\":true,\"gridcolor\":\"white\",\"linecolor\":\"white\",\"ticks\":\"\",\"title\":{\"standoff\":15},\"zerolinecolor\":\"white\",\"zerolinewidth\":2},\"yaxis\":{\"automargin\":true,\"gridcolor\":\"white\",\"linecolor\":\"white\",\"ticks\":\"\",\"title\":{\"standoff\":15},\"zerolinecolor\":\"white\",\"zerolinewidth\":2}}},\"xaxis\":{\"anchor\":\"y\",\"domain\":[0.0,1.0],\"title\":{\"text\":\"Pre\\u00e7o Atual\"}},\"yaxis\":{\"anchor\":\"x\",\"domain\":[0.0,1.0],\"title\":{\"text\":\"DY (12M)Acumulado\"}},\"legend\":{\"title\":{\"text\":\"Setor\"},\"tracegroupgap\":0},\"margin\":{\"t\":60}},                        {\"responsive\": true}                    ).then(function(){\n",
              "                            \n",
              "var gd = document.getElementById('488a6334-49ef-4ae4-beb8-2e54fca4a9e3');\n",
              "var x = new MutationObserver(function (mutations, observer) {{\n",
              "        var display = window.getComputedStyle(gd).display;\n",
              "        if (!display || display === 'none') {{\n",
              "            console.log([gd, 'removed!']);\n",
              "            Plotly.purge(gd);\n",
              "            observer.disconnect();\n",
              "        }}\n",
              "}});\n",
              "\n",
              "// Listen for the removal of the full notebook cells\n",
              "var notebookContainer = gd.closest('#notebook-container');\n",
              "if (notebookContainer) {{\n",
              "    x.observe(notebookContainer, {childList: true});\n",
              "}}\n",
              "\n",
              "// Listen for the clearing of the current output cell\n",
              "var outputEl = gd.closest('.output');\n",
              "if (outputEl) {{\n",
              "    x.observe(outputEl, {childList: true});\n",
              "}}\n",
              "\n",
              "                        })                };                            </script>        </div>\n",
              "</body>\n",
              "</html>"
            ]
          },
          "metadata": {}
        }
      ],
      "source": [
        "import plotly.express as px\n",
        "\n",
        "fig = px.scatter(FII_df, x=\"Preço Atual\", y=\"DY (12M)Acumulado\",color='Setor')\n",
        "fig.show()"
      ]
    },
    {
      "cell_type": "code",
      "execution_count": 65,
      "metadata": {
        "colab": {
          "base_uri": "https://localhost:8080/",
          "height": 542
        },
        "id": "c4QcoMxe6faF",
        "outputId": "42eeaf42-1577-4958-c117-d509558d40d1"
      },
      "outputs": [
        {
          "output_type": "display_data",
          "data": {
            "text/html": [
              "<html>\n",
              "<head><meta charset=\"utf-8\" /></head>\n",
              "<body>\n",
              "    <div>            <script src=\"https://cdnjs.cloudflare.com/ajax/libs/mathjax/2.7.5/MathJax.js?config=TeX-AMS-MML_SVG\"></script><script type=\"text/javascript\">if (window.MathJax) {MathJax.Hub.Config({SVG: {font: \"STIX-Web\"}});}</script>                <script type=\"text/javascript\">window.PlotlyConfig = {MathJaxConfig: 'local'};</script>\n",
              "        <script src=\"https://cdn.plot.ly/plotly-2.8.3.min.js\"></script>                <div id=\"d6a9ec68-cd91-4d70-a45d-28f31c0cc015\" class=\"plotly-graph-div\" style=\"height:525px; width:100%;\"></div>            <script type=\"text/javascript\">                                    window.PLOTLYENV=window.PLOTLYENV || {};                                    if (document.getElementById(\"d6a9ec68-cd91-4d70-a45d-28f31c0cc015\")) {                    Plotly.newPlot(                        \"d6a9ec68-cd91-4d70-a45d-28f31c0cc015\",                        [{\"hovertemplate\":\"Setor=Shoppings<br>log Pre\\u00e7o Atual=%{x}<br>DY (12M)Acumulado=%{y}<extra></extra>\",\"legendgroup\":\"Shoppings\",\"marker\":{\"color\":\"#636efa\",\"symbol\":\"circle\"},\"mode\":\"markers\",\"name\":\"Shoppings\",\"orientation\":\"v\",\"showlegend\":true,\"x\":[1.1817271953786161,4.316020370261276,4.445705411337064,5.108366782589591,4.619368905387905,3.9706692008608795,4.328625857946767,4.7572902340489245,4.488524003868771,7.596407371755801,4.307976353163715,6.70333534166603,4.574710978503383,4.588329168792065,4.368941395125226,2.1114245875328868,1.6714733033535532,4.324132656254979,4.20200243692861,4.520701029361642,7.0951141272933596,3.3826939100975957],\"xaxis\":\"x\",\"y\":[0.0,0.0,4.49,5.12,7.11,5.7,6.66,6.51,6.16,5.94,7.28,4.75,2.97,6.05,7.43,2.98,0.03,6.39,0.0,6.37,6.01,5.12],\"yaxis\":\"y\",\"type\":\"scatter\"},{\"hovertemplate\":\"Setor=T\\u00edtulos e Val. Mob.<br>log Pre\\u00e7o Atual=%{x}<br>DY (12M)Acumulado=%{y}<extra></extra>\",\"legendgroup\":\"T\\u00edtulos e Val. Mob.\",\"marker\":{\"color\":\"#EF553B\",\"symbol\":\"circle\"},\"mode\":\"markers\",\"name\":\"T\\u00edtulos e Val. Mob.\",\"orientation\":\"v\",\"showlegend\":true,\"x\":[2.7536607123542622,4.563305981889393,4.603669059861824,4.162003210695915,4.700480365792417,4.674789527868148,4.645351975620923,2.3960754360813845,4.290459441148391,4.31895370569792,2.145931282948669,4.2626798770413155,3.9419700817960983,4.290870315632018,4.419322419417578,6.366693790486182,4.553876891600541,4.488299234256676,4.581492058633514,4.63443768366866,4.620452809519248,4.616110126026426,2.400618833265411,4.6605102810212555,4.242045918369452,4.3217457037889515,4.530338875365088,2.379546134130174,4.5948167739086,4.642465970731788,4.3134800921387715,4.599453878991982,4.711330381816482,4.505349850705881,3.770459441106359,4.54318839363221,4.543294782270004,4.413767520457944,4.4629151384072205,4.0310497118497866,4.487849543411548,4.6141299273595635,4.30406509320417,4.251348311031766,4.193133532496888,2.127040520479115,4.548599834499697,4.573369873438294,4.497696327682858,4.212571943586751,4.605770006060059,4.161847435323687,4.594210345751749,4.611549792952131,4.613634264400221,4.350148895775859,4.433788569232471,4.685274430229753,4.623599321456458,4.66428779047118,4.06474409244581,4.5782100044053085,4.230331271421687,4.560172820057356,2.3988039507345884,4.615417502439641,4.61512051684126,2.462149662665384,4.5921862584297966,4.303929948937459,4.465678207169493,4.277776613300082,4.290596418067994,2.3045830956567186,4.436514819957951,4.63463189613771,4.616110126026426,4.184946706904381,4.398146016553765,4.525044141508807,4.543613880288985,4.58700621536042,4.74406218485471,4.600157644164547,4.618974466964488,4.582310891842009],\"xaxis\":\"x\",\"y\":[0.0,13.52,15.11,9.71,9.48,15.58,12.17,0.0,0.0,9.36,8.53,0.0,9.57,7.93,8.56,7.22,12.85,12.52,12.87,13.66,13.71,6.76,0.0,10.63,8.24,8.7,11.26,0.0,10.58,12.81,8.18,13.71,13.35,6.73,10.66,12.15,5.78,0.0,9.55,9.46,12.26,11.24,9.31,9.76,7.5,10.21,12.59,10.51,11.32,8.14,14.94,9.16,0.0,13.32,12.16,10.29,0.0,12.05,10.74,10.99,9.09,0.0,9.16,12.46,0.0,9.1,11.09,0.0,0.0,10.94,11.52,9.77,0.0,0.0,0.0,0.0,0.0,10.82,12.42,0.0,11.97,0.0,0.0,0.0,0.0,0.0],\"yaxis\":\"y\",\"type\":\"scatter\"},{\"hovertemplate\":\"Setor=Lajes Corporativas<br>log Pre\\u00e7o Atual=%{x}<br>DY (12M)Acumulado=%{y}<extra></extra>\",\"legendgroup\":\"Lajes Corporativas\",\"marker\":{\"color\":\"#00cc96\",\"symbol\":\"circle\"},\"mode\":\"markers\",\"name\":\"Lajes Corporativas\",\"orientation\":\"v\",\"showlegend\":true,\"x\":[1.9782390361706734,6.799055862058796,5.111987788356544,4.4933443708058345,4.836281906951478,4.069026754237811,4.367547313409047,3.8543938925915096,7.600902459542082,3.8753590210565547,4.472438473534133,4.573163389853005,4.6913478822291435,3.544431549748063,5.54907608489522,10.1656521816932,4.57295686362344,2.8914822521801917,3.8066624897703196,4.21980177957905,4.3975308212098465,3.9049983904911816,5.367890069899997,4.235554730773624,4.379523504455763,5.389071729816501,5.0071626046172835,4.818586581543719,4.050044303325521,3.5779478934066544,4.737425765108562,6.744035628907843,4.505460341839079,4.59511985013459,4.692173229609665,4.553771622902091,3.165053018170694,3.5743099993708003,3.0243197304059035],\"xaxis\":\"x\",\"y\":[0.0,0.0,0.0,7.21,8.28,11.96,0.0,7.54,13.83,9.93,11.07,5.79,0.0,1.74,6.6,0.0,6.52,9.93,21.8,7.28,9.05,8.42,6.68,5.57,9.01,7.18,6.29,6.52,8.78,16.63,5.95,10.43,8.16,0.0,3.9,0.0,5.53,3.39,6.04],\"yaxis\":\"y\",\"type\":\"scatter\"},{\"hovertemplate\":\"Setor=H\\u00edbrido<br>log Pre\\u00e7o Atual=%{x}<br>DY (12M)Acumulado=%{y}<extra></extra>\",\"legendgroup\":\"H\\u00edbrido\",\"marker\":{\"color\":\"#ab63fa\",\"symbol\":\"circle\"},\"mode\":\"markers\",\"name\":\"H\\u00edbrido\",\"orientation\":\"v\",\"showlegend\":true,\"x\":[2.178155014615869,4.584661309356551,4.712229258281499,4.919688912393432,4.492001487882454,4.276804998260776,4.638604962074329,4.546693256229116,6.089044875446846,4.678141798443914,2.424802725718295,4.648516990491458,4.550185877655332,2.3115448343655176,4.299731391947051,3.8993429522707714,4.566948973167894,4.317621437981545,4.241326752570746,4.624972813284271,4.143134726391533,4.63463189613771,4.61512051684126,4.5689210533129705,4.303659605599776,4.447111881329816,4.198704577546343,4.56954300834494,4.777104649895559,4.603769205072463,4.207673247529104,4.330996463561102,4.304740540713808,4.162470391269701,4.255612709818223,2.4756977107026903,4.726502471155617,5.0106352940962555,1.3056264580524357,4.561427263040173,4.6872108963243,11.23850177707664,3.716008121502189],\"xaxis\":\"x\",\"y\":[0.0,0.0,7.6,6.43,12.16,7.59,11.46,8.27,8.41,14.28,0.0,11.84,8.75,9.71,7.67,5.15,0.0,8.84,9.17,10.31,7.05,0.0,5.4,9.59,11.22,9.97,7.67,6.42,5.27,8.47,7.63,0.0,10.52,8.75,10.72,0.0,0.0,3.34,1.6,0.0,14.61,0.0,6.33],\"yaxis\":\"y\",\"type\":\"scatter\"},{\"hovertemplate\":\"Setor=Log\\u00edstica<br>log Pre\\u00e7o Atual=%{x}<br>DY (12M)Acumulado=%{y}<extra></extra>\",\"legendgroup\":\"Log\\u00edstica\",\"marker\":{\"color\":\"#FFA15A\",\"symbol\":\"circle\"},\"mode\":\"markers\",\"name\":\"Log\\u00edstica\",\"orientation\":\"v\",\"showlegend\":true,\"x\":[4.609162207257629,5.088768487499598,4.598246270915268,4.464412748271829,4.6006600305102054,4.493679809954728,4.535820107853298,5.375093205350086,4.5872098606110985,4.05871738457895,4.492785055393301,4.308110951723713,4.378269585796169,5.087596335232384,5.635967480627723,4.477336814478207,4.653007515402251,4.390986376045354,3.919594270924464,4.448516375942715,4.646599995751231,4.726413893273455],\"xaxis\":\"x\",\"y\":[7.49,8.46,7.25,8.94,6.96,7.43,9.2,8.92,6.86,7.22,7.28,0.0,7.77,8.36,0.0,7.8,8.21,10.76,0.0,8.67,7.92,6.98],\"yaxis\":\"y\",\"type\":\"scatter\"},{\"hovertemplate\":\"Setor=Outros<br>log Pre\\u00e7o Atual=%{x}<br>DY (12M)Acumulado=%{y}<extra></extra>\",\"legendgroup\":\"Outros\",\"marker\":{\"color\":\"#19d3f3\",\"symbol\":\"circle\"},\"mode\":\"markers\",\"name\":\"Outros\",\"orientation\":\"v\",\"showlegend\":true,\"x\":[4.799008502909713,4.465908118654584,4.768818477516425,4.711510221759418,3.71965111278069,4.60816569496789,4.039536325727106,4.564452352709533,4.558183394763755,4.52189726679427,4.790404164229081,4.559963593150012,2.590767040487478,4.264087336809195,3.913222286003628,6.516193076042964,4.390614651860415,2.349468678892896,2.280339484046726,4.248209486939542,4.793308128103486,4.890349128221754,4.178992036282385,4.364880475838911,4.608464752937522,4.442651256490317,7.327123292259293,3.80954721383891,4.439351701293151,4.599655005299981,4.413767520457944,4.5715099844954565,4.719302120033004,4.618777189394308],\"xaxis\":\"x\",\"y\":[9.46,0.0,18.35,11.14,12.54,8.78,9.36,11.96,10.43,6.64,11.25,10.02,3.68,10.12,8.99,12.52,8.92,15.7,10.56,9.92,15.36,9.28,6.6,0.0,13.89,6.73,0.0,8.69,0.0,9.98,7.94,8.65,8.03,0.0],\"yaxis\":\"y\",\"type\":\"scatter\"},{\"hovertemplate\":\"Setor=Residencial<br>log Pre\\u00e7o Atual=%{x}<br>DY (12M)Acumulado=%{y}<extra></extra>\",\"legendgroup\":\"Residencial\",\"marker\":{\"color\":\"#FF6692\",\"symbol\":\"circle\"},\"mode\":\"markers\",\"name\":\"Residencial\",\"orientation\":\"v\",\"showlegend\":true,\"x\":[2.624668592163159,4.415219602029645,4.290459441148391,4.276527220481212,0.6575200029167942,1.6770965609079151,4.290459441148391],\"xaxis\":\"x\",\"y\":[0.0,6.9,9.1,0.0,0.0,0.0,0.0],\"yaxis\":\"y\",\"type\":\"scatter\"},{\"hovertemplate\":\"Setor=Hospital<br>log Pre\\u00e7o Atual=%{x}<br>DY (12M)Acumulado=%{y}<extra></extra>\",\"legendgroup\":\"Hospital\",\"marker\":{\"color\":\"#B6E880\",\"symbol\":\"circle\"},\"mode\":\"markers\",\"name\":\"Hospital\",\"orientation\":\"v\",\"showlegend\":true,\"x\":[2.5392369943330477,4.962914557884844,5.572154032177765],\"xaxis\":\"x\",\"y\":[6.49,9.49,9.33],\"yaxis\":\"y\",\"type\":\"scatter\"},{\"hovertemplate\":\"Setor=Hotel<br>log Pre\\u00e7o Atual=%{x}<br>DY (12M)Acumulado=%{y}<extra></extra>\",\"legendgroup\":\"Hotel\",\"marker\":{\"color\":\"#FF97FF\",\"symbol\":\"circle\"},\"mode\":\"markers\",\"name\":\"Hotel\",\"orientation\":\"v\",\"showlegend\":true,\"x\":[4.559335649644292,4.307437777682809,4.435804340354353],\"xaxis\":\"x\",\"y\":[0.0,5.41,9.35],\"yaxis\":\"y\",\"type\":\"scatter\"}],                        {\"template\":{\"data\":{\"bar\":[{\"error_x\":{\"color\":\"#2a3f5f\"},\"error_y\":{\"color\":\"#2a3f5f\"},\"marker\":{\"line\":{\"color\":\"#E5ECF6\",\"width\":0.5},\"pattern\":{\"fillmode\":\"overlay\",\"size\":10,\"solidity\":0.2}},\"type\":\"bar\"}],\"barpolar\":[{\"marker\":{\"line\":{\"color\":\"#E5ECF6\",\"width\":0.5},\"pattern\":{\"fillmode\":\"overlay\",\"size\":10,\"solidity\":0.2}},\"type\":\"barpolar\"}],\"carpet\":[{\"aaxis\":{\"endlinecolor\":\"#2a3f5f\",\"gridcolor\":\"white\",\"linecolor\":\"white\",\"minorgridcolor\":\"white\",\"startlinecolor\":\"#2a3f5f\"},\"baxis\":{\"endlinecolor\":\"#2a3f5f\",\"gridcolor\":\"white\",\"linecolor\":\"white\",\"minorgridcolor\":\"white\",\"startlinecolor\":\"#2a3f5f\"},\"type\":\"carpet\"}],\"choropleth\":[{\"colorbar\":{\"outlinewidth\":0,\"ticks\":\"\"},\"type\":\"choropleth\"}],\"contour\":[{\"colorbar\":{\"outlinewidth\":0,\"ticks\":\"\"},\"colorscale\":[[0.0,\"#0d0887\"],[0.1111111111111111,\"#46039f\"],[0.2222222222222222,\"#7201a8\"],[0.3333333333333333,\"#9c179e\"],[0.4444444444444444,\"#bd3786\"],[0.5555555555555556,\"#d8576b\"],[0.6666666666666666,\"#ed7953\"],[0.7777777777777778,\"#fb9f3a\"],[0.8888888888888888,\"#fdca26\"],[1.0,\"#f0f921\"]],\"type\":\"contour\"}],\"contourcarpet\":[{\"colorbar\":{\"outlinewidth\":0,\"ticks\":\"\"},\"type\":\"contourcarpet\"}],\"heatmap\":[{\"colorbar\":{\"outlinewidth\":0,\"ticks\":\"\"},\"colorscale\":[[0.0,\"#0d0887\"],[0.1111111111111111,\"#46039f\"],[0.2222222222222222,\"#7201a8\"],[0.3333333333333333,\"#9c179e\"],[0.4444444444444444,\"#bd3786\"],[0.5555555555555556,\"#d8576b\"],[0.6666666666666666,\"#ed7953\"],[0.7777777777777778,\"#fb9f3a\"],[0.8888888888888888,\"#fdca26\"],[1.0,\"#f0f921\"]],\"type\":\"heatmap\"}],\"heatmapgl\":[{\"colorbar\":{\"outlinewidth\":0,\"ticks\":\"\"},\"colorscale\":[[0.0,\"#0d0887\"],[0.1111111111111111,\"#46039f\"],[0.2222222222222222,\"#7201a8\"],[0.3333333333333333,\"#9c179e\"],[0.4444444444444444,\"#bd3786\"],[0.5555555555555556,\"#d8576b\"],[0.6666666666666666,\"#ed7953\"],[0.7777777777777778,\"#fb9f3a\"],[0.8888888888888888,\"#fdca26\"],[1.0,\"#f0f921\"]],\"type\":\"heatmapgl\"}],\"histogram\":[{\"marker\":{\"pattern\":{\"fillmode\":\"overlay\",\"size\":10,\"solidity\":0.2}},\"type\":\"histogram\"}],\"histogram2d\":[{\"colorbar\":{\"outlinewidth\":0,\"ticks\":\"\"},\"colorscale\":[[0.0,\"#0d0887\"],[0.1111111111111111,\"#46039f\"],[0.2222222222222222,\"#7201a8\"],[0.3333333333333333,\"#9c179e\"],[0.4444444444444444,\"#bd3786\"],[0.5555555555555556,\"#d8576b\"],[0.6666666666666666,\"#ed7953\"],[0.7777777777777778,\"#fb9f3a\"],[0.8888888888888888,\"#fdca26\"],[1.0,\"#f0f921\"]],\"type\":\"histogram2d\"}],\"histogram2dcontour\":[{\"colorbar\":{\"outlinewidth\":0,\"ticks\":\"\"},\"colorscale\":[[0.0,\"#0d0887\"],[0.1111111111111111,\"#46039f\"],[0.2222222222222222,\"#7201a8\"],[0.3333333333333333,\"#9c179e\"],[0.4444444444444444,\"#bd3786\"],[0.5555555555555556,\"#d8576b\"],[0.6666666666666666,\"#ed7953\"],[0.7777777777777778,\"#fb9f3a\"],[0.8888888888888888,\"#fdca26\"],[1.0,\"#f0f921\"]],\"type\":\"histogram2dcontour\"}],\"mesh3d\":[{\"colorbar\":{\"outlinewidth\":0,\"ticks\":\"\"},\"type\":\"mesh3d\"}],\"parcoords\":[{\"line\":{\"colorbar\":{\"outlinewidth\":0,\"ticks\":\"\"}},\"type\":\"parcoords\"}],\"pie\":[{\"automargin\":true,\"type\":\"pie\"}],\"scatter\":[{\"marker\":{\"colorbar\":{\"outlinewidth\":0,\"ticks\":\"\"}},\"type\":\"scatter\"}],\"scatter3d\":[{\"line\":{\"colorbar\":{\"outlinewidth\":0,\"ticks\":\"\"}},\"marker\":{\"colorbar\":{\"outlinewidth\":0,\"ticks\":\"\"}},\"type\":\"scatter3d\"}],\"scattercarpet\":[{\"marker\":{\"colorbar\":{\"outlinewidth\":0,\"ticks\":\"\"}},\"type\":\"scattercarpet\"}],\"scattergeo\":[{\"marker\":{\"colorbar\":{\"outlinewidth\":0,\"ticks\":\"\"}},\"type\":\"scattergeo\"}],\"scattergl\":[{\"marker\":{\"colorbar\":{\"outlinewidth\":0,\"ticks\":\"\"}},\"type\":\"scattergl\"}],\"scattermapbox\":[{\"marker\":{\"colorbar\":{\"outlinewidth\":0,\"ticks\":\"\"}},\"type\":\"scattermapbox\"}],\"scatterpolar\":[{\"marker\":{\"colorbar\":{\"outlinewidth\":0,\"ticks\":\"\"}},\"type\":\"scatterpolar\"}],\"scatterpolargl\":[{\"marker\":{\"colorbar\":{\"outlinewidth\":0,\"ticks\":\"\"}},\"type\":\"scatterpolargl\"}],\"scatterternary\":[{\"marker\":{\"colorbar\":{\"outlinewidth\":0,\"ticks\":\"\"}},\"type\":\"scatterternary\"}],\"surface\":[{\"colorbar\":{\"outlinewidth\":0,\"ticks\":\"\"},\"colorscale\":[[0.0,\"#0d0887\"],[0.1111111111111111,\"#46039f\"],[0.2222222222222222,\"#7201a8\"],[0.3333333333333333,\"#9c179e\"],[0.4444444444444444,\"#bd3786\"],[0.5555555555555556,\"#d8576b\"],[0.6666666666666666,\"#ed7953\"],[0.7777777777777778,\"#fb9f3a\"],[0.8888888888888888,\"#fdca26\"],[1.0,\"#f0f921\"]],\"type\":\"surface\"}],\"table\":[{\"cells\":{\"fill\":{\"color\":\"#EBF0F8\"},\"line\":{\"color\":\"white\"}},\"header\":{\"fill\":{\"color\":\"#C8D4E3\"},\"line\":{\"color\":\"white\"}},\"type\":\"table\"}]},\"layout\":{\"annotationdefaults\":{\"arrowcolor\":\"#2a3f5f\",\"arrowhead\":0,\"arrowwidth\":1},\"autotypenumbers\":\"strict\",\"coloraxis\":{\"colorbar\":{\"outlinewidth\":0,\"ticks\":\"\"}},\"colorscale\":{\"diverging\":[[0,\"#8e0152\"],[0.1,\"#c51b7d\"],[0.2,\"#de77ae\"],[0.3,\"#f1b6da\"],[0.4,\"#fde0ef\"],[0.5,\"#f7f7f7\"],[0.6,\"#e6f5d0\"],[0.7,\"#b8e186\"],[0.8,\"#7fbc41\"],[0.9,\"#4d9221\"],[1,\"#276419\"]],\"sequential\":[[0.0,\"#0d0887\"],[0.1111111111111111,\"#46039f\"],[0.2222222222222222,\"#7201a8\"],[0.3333333333333333,\"#9c179e\"],[0.4444444444444444,\"#bd3786\"],[0.5555555555555556,\"#d8576b\"],[0.6666666666666666,\"#ed7953\"],[0.7777777777777778,\"#fb9f3a\"],[0.8888888888888888,\"#fdca26\"],[1.0,\"#f0f921\"]],\"sequentialminus\":[[0.0,\"#0d0887\"],[0.1111111111111111,\"#46039f\"],[0.2222222222222222,\"#7201a8\"],[0.3333333333333333,\"#9c179e\"],[0.4444444444444444,\"#bd3786\"],[0.5555555555555556,\"#d8576b\"],[0.6666666666666666,\"#ed7953\"],[0.7777777777777778,\"#fb9f3a\"],[0.8888888888888888,\"#fdca26\"],[1.0,\"#f0f921\"]]},\"colorway\":[\"#636efa\",\"#EF553B\",\"#00cc96\",\"#ab63fa\",\"#FFA15A\",\"#19d3f3\",\"#FF6692\",\"#B6E880\",\"#FF97FF\",\"#FECB52\"],\"font\":{\"color\":\"#2a3f5f\"},\"geo\":{\"bgcolor\":\"white\",\"lakecolor\":\"white\",\"landcolor\":\"#E5ECF6\",\"showlakes\":true,\"showland\":true,\"subunitcolor\":\"white\"},\"hoverlabel\":{\"align\":\"left\"},\"hovermode\":\"closest\",\"mapbox\":{\"style\":\"light\"},\"paper_bgcolor\":\"white\",\"plot_bgcolor\":\"#E5ECF6\",\"polar\":{\"angularaxis\":{\"gridcolor\":\"white\",\"linecolor\":\"white\",\"ticks\":\"\"},\"bgcolor\":\"#E5ECF6\",\"radialaxis\":{\"gridcolor\":\"white\",\"linecolor\":\"white\",\"ticks\":\"\"}},\"scene\":{\"xaxis\":{\"backgroundcolor\":\"#E5ECF6\",\"gridcolor\":\"white\",\"gridwidth\":2,\"linecolor\":\"white\",\"showbackground\":true,\"ticks\":\"\",\"zerolinecolor\":\"white\"},\"yaxis\":{\"backgroundcolor\":\"#E5ECF6\",\"gridcolor\":\"white\",\"gridwidth\":2,\"linecolor\":\"white\",\"showbackground\":true,\"ticks\":\"\",\"zerolinecolor\":\"white\"},\"zaxis\":{\"backgroundcolor\":\"#E5ECF6\",\"gridcolor\":\"white\",\"gridwidth\":2,\"linecolor\":\"white\",\"showbackground\":true,\"ticks\":\"\",\"zerolinecolor\":\"white\"}},\"shapedefaults\":{\"line\":{\"color\":\"#2a3f5f\"}},\"ternary\":{\"aaxis\":{\"gridcolor\":\"white\",\"linecolor\":\"white\",\"ticks\":\"\"},\"baxis\":{\"gridcolor\":\"white\",\"linecolor\":\"white\",\"ticks\":\"\"},\"bgcolor\":\"#E5ECF6\",\"caxis\":{\"gridcolor\":\"white\",\"linecolor\":\"white\",\"ticks\":\"\"}},\"title\":{\"x\":0.05},\"xaxis\":{\"automargin\":true,\"gridcolor\":\"white\",\"linecolor\":\"white\",\"ticks\":\"\",\"title\":{\"standoff\":15},\"zerolinecolor\":\"white\",\"zerolinewidth\":2},\"yaxis\":{\"automargin\":true,\"gridcolor\":\"white\",\"linecolor\":\"white\",\"ticks\":\"\",\"title\":{\"standoff\":15},\"zerolinecolor\":\"white\",\"zerolinewidth\":2}}},\"xaxis\":{\"anchor\":\"y\",\"domain\":[0.0,1.0],\"title\":{\"text\":\"log Pre\\u00e7o Atual\"}},\"yaxis\":{\"anchor\":\"x\",\"domain\":[0.0,1.0],\"title\":{\"text\":\"DY (12M)Acumulado\"}},\"legend\":{\"title\":{\"text\":\"Setor\"},\"tracegroupgap\":0},\"margin\":{\"t\":60}},                        {\"responsive\": true}                    ).then(function(){\n",
              "                            \n",
              "var gd = document.getElementById('d6a9ec68-cd91-4d70-a45d-28f31c0cc015');\n",
              "var x = new MutationObserver(function (mutations, observer) {{\n",
              "        var display = window.getComputedStyle(gd).display;\n",
              "        if (!display || display === 'none') {{\n",
              "            console.log([gd, 'removed!']);\n",
              "            Plotly.purge(gd);\n",
              "            observer.disconnect();\n",
              "        }}\n",
              "}});\n",
              "\n",
              "// Listen for the removal of the full notebook cells\n",
              "var notebookContainer = gd.closest('#notebook-container');\n",
              "if (notebookContainer) {{\n",
              "    x.observe(notebookContainer, {childList: true});\n",
              "}}\n",
              "\n",
              "// Listen for the clearing of the current output cell\n",
              "var outputEl = gd.closest('.output');\n",
              "if (outputEl) {{\n",
              "    x.observe(outputEl, {childList: true});\n",
              "}}\n",
              "\n",
              "                        })                };                            </script>        </div>\n",
              "</body>\n",
              "</html>"
            ]
          },
          "metadata": {}
        }
      ],
      "source": [
        "import numpy as np\n",
        "\n",
        "FII_df['log Preço Atual'] = np.log(FII_df[\"Preço Atual\"]+1)\n",
        "\n",
        "fig = px.scatter(FII_df, x=\"log Preço Atual\", y=\"DY (12M)Acumulado\",color='Setor')\n",
        "fig.show()"
      ]
    },
    {
      "cell_type": "code",
      "execution_count": 66,
      "metadata": {
        "colab": {
          "base_uri": "https://localhost:8080/",
          "height": 363
        },
        "id": "RoMHxxMv76zN",
        "outputId": "26ddce7d-7176-41ac-8645-480555ef302a"
      },
      "outputs": [
        {
          "output_type": "execute_result",
          "data": {
            "text/plain": [
              "                         mean  median\n",
              "Setor                                \n",
              "Outros               8.690882    9.32\n",
              "Hospital             8.436667    9.33\n",
              "Títulos e Val. Mob.  7.741047    9.47\n",
              "Logística            6.930909    7.63\n",
              "Lajes Corporativas   6.590000    6.60\n",
              "Híbrido              6.562791    7.63\n",
              "Hotel                4.920000    5.41\n",
              "Shoppings            4.685000    5.82\n",
              "Residencial          2.285714    0.00"
            ],
            "text/html": [
              "\n",
              "  <div id=\"df-e3452955-bf1b-4e6b-acfd-83c1727fabf5\">\n",
              "    <div class=\"colab-df-container\">\n",
              "      <div>\n",
              "<style scoped>\n",
              "    .dataframe tbody tr th:only-of-type {\n",
              "        vertical-align: middle;\n",
              "    }\n",
              "\n",
              "    .dataframe tbody tr th {\n",
              "        vertical-align: top;\n",
              "    }\n",
              "\n",
              "    .dataframe thead th {\n",
              "        text-align: right;\n",
              "    }\n",
              "</style>\n",
              "<table border=\"1\" class=\"dataframe\">\n",
              "  <thead>\n",
              "    <tr style=\"text-align: right;\">\n",
              "      <th></th>\n",
              "      <th>mean</th>\n",
              "      <th>median</th>\n",
              "    </tr>\n",
              "    <tr>\n",
              "      <th>Setor</th>\n",
              "      <th></th>\n",
              "      <th></th>\n",
              "    </tr>\n",
              "  </thead>\n",
              "  <tbody>\n",
              "    <tr>\n",
              "      <th>Outros</th>\n",
              "      <td>8.690882</td>\n",
              "      <td>9.32</td>\n",
              "    </tr>\n",
              "    <tr>\n",
              "      <th>Hospital</th>\n",
              "      <td>8.436667</td>\n",
              "      <td>9.33</td>\n",
              "    </tr>\n",
              "    <tr>\n",
              "      <th>Títulos e Val. Mob.</th>\n",
              "      <td>7.741047</td>\n",
              "      <td>9.47</td>\n",
              "    </tr>\n",
              "    <tr>\n",
              "      <th>Logística</th>\n",
              "      <td>6.930909</td>\n",
              "      <td>7.63</td>\n",
              "    </tr>\n",
              "    <tr>\n",
              "      <th>Lajes Corporativas</th>\n",
              "      <td>6.590000</td>\n",
              "      <td>6.60</td>\n",
              "    </tr>\n",
              "    <tr>\n",
              "      <th>Híbrido</th>\n",
              "      <td>6.562791</td>\n",
              "      <td>7.63</td>\n",
              "    </tr>\n",
              "    <tr>\n",
              "      <th>Hotel</th>\n",
              "      <td>4.920000</td>\n",
              "      <td>5.41</td>\n",
              "    </tr>\n",
              "    <tr>\n",
              "      <th>Shoppings</th>\n",
              "      <td>4.685000</td>\n",
              "      <td>5.82</td>\n",
              "    </tr>\n",
              "    <tr>\n",
              "      <th>Residencial</th>\n",
              "      <td>2.285714</td>\n",
              "      <td>0.00</td>\n",
              "    </tr>\n",
              "  </tbody>\n",
              "</table>\n",
              "</div>\n",
              "      <button class=\"colab-df-convert\" onclick=\"convertToInteractive('df-e3452955-bf1b-4e6b-acfd-83c1727fabf5')\"\n",
              "              title=\"Convert this dataframe to an interactive table.\"\n",
              "              style=\"display:none;\">\n",
              "        \n",
              "  <svg xmlns=\"http://www.w3.org/2000/svg\" height=\"24px\"viewBox=\"0 0 24 24\"\n",
              "       width=\"24px\">\n",
              "    <path d=\"M0 0h24v24H0V0z\" fill=\"none\"/>\n",
              "    <path d=\"M18.56 5.44l.94 2.06.94-2.06 2.06-.94-2.06-.94-.94-2.06-.94 2.06-2.06.94zm-11 1L8.5 8.5l.94-2.06 2.06-.94-2.06-.94L8.5 2.5l-.94 2.06-2.06.94zm10 10l.94 2.06.94-2.06 2.06-.94-2.06-.94-.94-2.06-.94 2.06-2.06.94z\"/><path d=\"M17.41 7.96l-1.37-1.37c-.4-.4-.92-.59-1.43-.59-.52 0-1.04.2-1.43.59L10.3 9.45l-7.72 7.72c-.78.78-.78 2.05 0 2.83L4 21.41c.39.39.9.59 1.41.59.51 0 1.02-.2 1.41-.59l7.78-7.78 2.81-2.81c.8-.78.8-2.07 0-2.86zM5.41 20L4 18.59l7.72-7.72 1.47 1.35L5.41 20z\"/>\n",
              "  </svg>\n",
              "      </button>\n",
              "      \n",
              "  <style>\n",
              "    .colab-df-container {\n",
              "      display:flex;\n",
              "      flex-wrap:wrap;\n",
              "      gap: 12px;\n",
              "    }\n",
              "\n",
              "    .colab-df-convert {\n",
              "      background-color: #E8F0FE;\n",
              "      border: none;\n",
              "      border-radius: 50%;\n",
              "      cursor: pointer;\n",
              "      display: none;\n",
              "      fill: #1967D2;\n",
              "      height: 32px;\n",
              "      padding: 0 0 0 0;\n",
              "      width: 32px;\n",
              "    }\n",
              "\n",
              "    .colab-df-convert:hover {\n",
              "      background-color: #E2EBFA;\n",
              "      box-shadow: 0px 1px 2px rgba(60, 64, 67, 0.3), 0px 1px 3px 1px rgba(60, 64, 67, 0.15);\n",
              "      fill: #174EA6;\n",
              "    }\n",
              "\n",
              "    [theme=dark] .colab-df-convert {\n",
              "      background-color: #3B4455;\n",
              "      fill: #D2E3FC;\n",
              "    }\n",
              "\n",
              "    [theme=dark] .colab-df-convert:hover {\n",
              "      background-color: #434B5C;\n",
              "      box-shadow: 0px 1px 3px 1px rgba(0, 0, 0, 0.15);\n",
              "      filter: drop-shadow(0px 1px 2px rgba(0, 0, 0, 0.3));\n",
              "      fill: #FFFFFF;\n",
              "    }\n",
              "  </style>\n",
              "\n",
              "      <script>\n",
              "        const buttonEl =\n",
              "          document.querySelector('#df-e3452955-bf1b-4e6b-acfd-83c1727fabf5 button.colab-df-convert');\n",
              "        buttonEl.style.display =\n",
              "          google.colab.kernel.accessAllowed ? 'block' : 'none';\n",
              "\n",
              "        async function convertToInteractive(key) {\n",
              "          const element = document.querySelector('#df-e3452955-bf1b-4e6b-acfd-83c1727fabf5');\n",
              "          const dataTable =\n",
              "            await google.colab.kernel.invokeFunction('convertToInteractive',\n",
              "                                                     [key], {});\n",
              "          if (!dataTable) return;\n",
              "\n",
              "          const docLinkHtml = 'Like what you see? Visit the ' +\n",
              "            '<a target=\"_blank\" href=https://colab.research.google.com/notebooks/data_table.ipynb>data table notebook</a>'\n",
              "            + ' to learn more about interactive tables.';\n",
              "          element.innerHTML = '';\n",
              "          dataTable['output_type'] = 'display_data';\n",
              "          await google.colab.output.renderOutput(dataTable, element);\n",
              "          const docLink = document.createElement('div');\n",
              "          docLink.innerHTML = docLinkHtml;\n",
              "          element.appendChild(docLink);\n",
              "        }\n",
              "      </script>\n",
              "    </div>\n",
              "  </div>\n",
              "  "
            ]
          },
          "metadata": {},
          "execution_count": 66
        }
      ],
      "source": [
        "# Nesta análise, os FIIs dos setores \"Outros\" e \"Hospitais\" e \"Títulos e Val. Mob.\" parecem ser melhores em relação ao retorno de dividendos\n",
        "\n",
        "pivot_table_FIIs = pd.pivot_table(FII_df, values=\"DY (12M)Acumulado\", index=[\"Setor\"], columns=[],aggfunc=('mean','median'))\n",
        "pivot_table_FIIs.sort_values('mean',ascending=False)"
      ]
    },
    {
      "cell_type": "code",
      "execution_count": 67,
      "metadata": {
        "colab": {
          "base_uri": "https://localhost:8080/",
          "height": 542
        },
        "id": "15jzofbP7c-F",
        "outputId": "11c38584-8ce9-41b0-a7a4-2c69421bcfcf"
      },
      "outputs": [
        {
          "output_type": "display_data",
          "data": {
            "text/html": [
              "<html>\n",
              "<head><meta charset=\"utf-8\" /></head>\n",
              "<body>\n",
              "    <div>            <script src=\"https://cdnjs.cloudflare.com/ajax/libs/mathjax/2.7.5/MathJax.js?config=TeX-AMS-MML_SVG\"></script><script type=\"text/javascript\">if (window.MathJax) {MathJax.Hub.Config({SVG: {font: \"STIX-Web\"}});}</script>                <script type=\"text/javascript\">window.PlotlyConfig = {MathJaxConfig: 'local'};</script>\n",
              "        <script src=\"https://cdn.plot.ly/plotly-2.8.3.min.js\"></script>                <div id=\"3daa8bbb-3ec3-40cf-ab28-e8759b890829\" class=\"plotly-graph-div\" style=\"height:525px; width:100%;\"></div>            <script type=\"text/javascript\">                                    window.PLOTLYENV=window.PLOTLYENV || {};                                    if (document.getElementById(\"3daa8bbb-3ec3-40cf-ab28-e8759b890829\")) {                    Plotly.newPlot(                        \"3daa8bbb-3ec3-40cf-ab28-e8759b890829\",                        [{\"alignmentgroup\":\"True\",\"hovertemplate\":\"Setor=%{x}<br>DY (12M)Acumulado=%{y}<extra></extra>\",\"legendgroup\":\"\",\"marker\":{\"color\":\"#636efa\"},\"name\":\"\",\"notched\":false,\"offsetgroup\":\"\",\"orientation\":\"v\",\"showlegend\":false,\"x\":[\"Shoppings\",\"T\\u00edtulos e Val. Mob.\",\"Lajes Corporativas\",\"Lajes Corporativas\",\"H\\u00edbrido\",\"Lajes Corporativas\",\"Lajes Corporativas\",\"Log\\u00edstica\",\"Outros\",\"T\\u00edtulos e Val. Mob.\",\"H\\u00edbrido\",\"Residencial\",\"H\\u00edbrido\",\"Lajes Corporativas\",\"Log\\u00edstica\",\"Lajes Corporativas\",\"H\\u00edbrido\",\"Shoppings\",\"T\\u00edtulos e Val. Mob.\",\"T\\u00edtulos e Val. Mob.\",\"Shoppings\",\"H\\u00edbrido\",\"Shoppings\",\"Shoppings\",\"T\\u00edtulos e Val. Mob.\",\"H\\u00edbrido\",\"Outros\",\"T\\u00edtulos e Val. Mob.\",\"Shoppings\",\"Lajes Corporativas\",\"Log\\u00edstica\",\"Shoppings\",\"Outros\",\"T\\u00edtulos e Val. Mob.\",\"Lajes Corporativas\",\"Outros\",\"Shoppings\",\"H\\u00edbrido\",\"Log\\u00edstica\",\"Hospital\",\"T\\u00edtulos e Val. Mob.\",\"Shoppings\",\"Hospital\",\"H\\u00edbrido\",\"Shoppings\",\"H\\u00edbrido\",\"H\\u00edbrido\",\"Lajes Corporativas\",\"T\\u00edtulos e Val. Mob.\",\"Lajes Corporativas\",\"Log\\u00edstica\",\"T\\u00edtulos e Val. Mob.\",\"Outros\",\"Log\\u00edstica\",\"Residencial\",\"Lajes Corporativas\",\"T\\u00edtulos e Val. Mob.\",\"T\\u00edtulos e Val. Mob.\",\"T\\u00edtulos e Val. Mob.\",\"T\\u00edtulos e Val. Mob.\",\"Log\\u00edstica\",\"Lajes Corporativas\",\"T\\u00edtulos e Val. Mob.\",\"T\\u00edtulos e Val. Mob.\",\"Lajes Corporativas\",\"Outros\",\"H\\u00edbrido\",\"T\\u00edtulos e Val. Mob.\",\"T\\u00edtulos e Val. Mob.\",\"Log\\u00edstica\",\"H\\u00edbrido\",\"Lajes Corporativas\",\"H\\u00edbrido\",\"T\\u00edtulos e Val. Mob.\",\"T\\u00edtulos e Val. Mob.\",\"T\\u00edtulos e Val. Mob.\",\"T\\u00edtulos e Val. Mob.\",\"T\\u00edtulos e Val. Mob.\",\"T\\u00edtulos e Val. Mob.\",\"Lajes Corporativas\",\"T\\u00edtulos e Val. Mob.\",\"T\\u00edtulos e Val. Mob.\",\"T\\u00edtulos e Val. Mob.\",\"T\\u00edtulos e Val. Mob.\",\"Log\\u00edstica\",\"Log\\u00edstica\",\"T\\u00edtulos e Val. Mob.\",\"T\\u00edtulos e Val. Mob.\",\"Log\\u00edstica\",\"Lajes Corporativas\",\"H\\u00edbrido\",\"H\\u00edbrido\",\"T\\u00edtulos e Val. Mob.\",\"H\\u00edbrido\",\"H\\u00edbrido\",\"T\\u00edtulos e Val. Mob.\",\"Lajes Corporativas\",\"H\\u00edbrido\",\"Residencial\",\"Outros\",\"Log\\u00edstica\",\"Outros\",\"Outros\",\"H\\u00edbrido\",\"Shoppings\",\"H\\u00edbrido\",\"T\\u00edtulos e Val. Mob.\",\"Lajes Corporativas\",\"T\\u00edtulos e Val. Mob.\",\"Shoppings\",\"H\\u00edbrido\",\"Shoppings\",\"Lajes Corporativas\",\"Outros\",\"Shoppings\",\"Outros\",\"T\\u00edtulos e Val. Mob.\",\"H\\u00edbrido\",\"Lajes Corporativas\",\"T\\u00edtulos e Val. Mob.\",\"H\\u00edbrido\",\"Log\\u00edstica\",\"T\\u00edtulos e Val. Mob.\",\"Outros\",\"T\\u00edtulos e Val. Mob.\",\"Log\\u00edstica\",\"Shoppings\",\"Residencial\",\"Lajes Corporativas\",\"H\\u00edbrido\",\"T\\u00edtulos e Val. Mob.\",\"T\\u00edtulos e Val. Mob.\",\"Outros\",\"Outros\",\"Lajes Corporativas\",\"T\\u00edtulos e Val. Mob.\",\"Log\\u00edstica\",\"T\\u00edtulos e Val. Mob.\",\"Lajes Corporativas\",\"T\\u00edtulos e Val. Mob.\",\"Lajes Corporativas\",\"Lajes Corporativas\",\"Lajes Corporativas\",\"H\\u00edbrido\",\"H\\u00edbrido\",\"T\\u00edtulos e Val. Mob.\",\"Outros\",\"Log\\u00edstica\",\"Log\\u00edstica\",\"T\\u00edtulos e Val. Mob.\",\"H\\u00edbrido\",\"Hotel\",\"H\\u00edbrido\",\"Shoppings\",\"H\\u00edbrido\",\"H\\u00edbrido\",\"T\\u00edtulos e Val. Mob.\",\"Lajes Corporativas\",\"Lajes Corporativas\",\"Outros\",\"Hotel\",\"T\\u00edtulos e Val. Mob.\",\"Shoppings\",\"Lajes Corporativas\",\"Lajes Corporativas\",\"Lajes Corporativas\",\"Lajes Corporativas\",\"Residencial\",\"H\\u00edbrido\",\"Shoppings\",\"Outros\",\"H\\u00edbrido\",\"Outros\",\"Outros\",\"Outros\",\"T\\u00edtulos e Val. Mob.\",\"T\\u00edtulos e Val. Mob.\",\"Outros\",\"T\\u00edtulos e Val. Mob.\",\"Log\\u00edstica\",\"T\\u00edtulos e Val. Mob.\",\"T\\u00edtulos e Val. Mob.\",\"Outros\",\"Lajes Corporativas\",\"Log\\u00edstica\",\"Outros\",\"Log\\u00edstica\",\"T\\u00edtulos e Val. Mob.\",\"H\\u00edbrido\",\"T\\u00edtulos e Val. Mob.\",\"H\\u00edbrido\",\"Residencial\",\"Lajes Corporativas\",\"T\\u00edtulos e Val. Mob.\",\"T\\u00edtulos e Val. Mob.\",\"H\\u00edbrido\",\"T\\u00edtulos e Val. Mob.\",\"T\\u00edtulos e Val. Mob.\",\"Outros\",\"H\\u00edbrido\",\"T\\u00edtulos e Val. Mob.\",\"T\\u00edtulos e Val. Mob.\",\"T\\u00edtulos e Val. Mob.\",\"T\\u00edtulos e Val. Mob.\",\"T\\u00edtulos e Val. Mob.\",\"H\\u00edbrido\",\"T\\u00edtulos e Val. Mob.\",\"Hotel\",\"T\\u00edtulos e Val. Mob.\",\"T\\u00edtulos e Val. Mob.\",\"Outros\",\"T\\u00edtulos e Val. Mob.\",\"T\\u00edtulos e Val. Mob.\",\"Lajes Corporativas\",\"Hospital\",\"H\\u00edbrido\",\"T\\u00edtulos e Val. Mob.\",\"T\\u00edtulos e Val. Mob.\",\"T\\u00edtulos e Val. Mob.\",\"T\\u00edtulos e Val. Mob.\",\"Outros\",\"T\\u00edtulos e Val. Mob.\",\"Lajes Corporativas\",\"Lajes Corporativas\",\"Outros\",\"T\\u00edtulos e Val. Mob.\",\"T\\u00edtulos e Val. Mob.\",\"T\\u00edtulos e Val. Mob.\",\"T\\u00edtulos e Val. Mob.\",\"Outros\",\"T\\u00edtulos e Val. Mob.\",\"T\\u00edtulos e Val. Mob.\",\"Residencial\",\"H\\u00edbrido\",\"T\\u00edtulos e Val. Mob.\",\"Outros\",\"Log\\u00edstica\",\"Outros\",\"H\\u00edbrido\",\"H\\u00edbrido\",\"T\\u00edtulos e Val. Mob.\",\"T\\u00edtulos e Val. Mob.\",\"T\\u00edtulos e Val. Mob.\",\"H\\u00edbrido\",\"T\\u00edtulos e Val. Mob.\",\"T\\u00edtulos e Val. Mob.\",\"T\\u00edtulos e Val. Mob.\",\"Shoppings\",\"Shoppings\",\"Outros\",\"Outros\",\"Outros\",\"Log\\u00edstica\",\"Shoppings\",\"Lajes Corporativas\",\"H\\u00edbrido\",\"Outros\",\"Lajes Corporativas\",\"Shoppings\"],\"x0\":\" \",\"xaxis\":\"x\",\"y\":[0.0,0.0,0.0,0.0,0.0,0.0,7.21,7.49,9.46,13.52,0.0,0.0,7.6,8.28,8.46,11.96,6.43,0.0,15.11,9.71,4.49,12.16,5.12,7.11,9.48,7.59,0.0,15.58,5.7,0.0,7.25,6.66,18.35,12.17,7.54,11.14,6.51,11.46,8.94,6.49,0.0,6.16,9.49,8.27,5.94,8.41,14.28,13.83,0.0,9.93,6.96,9.36,12.54,7.43,6.9,11.07,8.53,0.0,9.57,7.93,9.2,5.79,8.56,7.22,0.0,8.78,0.0,12.85,12.52,8.92,11.84,1.74,8.75,12.87,13.66,13.71,6.76,0.0,10.63,6.6,8.24,8.7,11.26,0.0,6.86,7.22,10.58,12.81,7.28,0.0,9.71,7.67,8.18,5.15,0.0,13.71,6.52,8.84,9.1,9.36,0.0,11.96,10.43,9.17,7.28,10.31,13.35,9.93,6.73,4.75,7.05,2.97,21.8,6.64,6.05,11.25,10.66,0.0,7.28,12.15,5.4,7.77,5.78,10.02,0.0,8.36,7.43,0.0,9.05,9.59,9.55,9.46,3.68,10.12,8.42,12.26,0.0,11.24,6.68,9.31,5.57,9.01,7.18,11.22,9.97,9.76,8.99,7.8,8.21,7.5,7.67,0.0,6.42,2.98,5.27,8.47,10.21,6.29,6.52,12.52,5.41,12.59,0.03,8.78,16.63,5.95,10.43,0.0,7.63,6.39,8.92,0.0,15.7,10.56,9.92,10.51,11.32,15.36,8.14,10.76,14.94,9.16,9.28,8.16,0.0,6.6,8.67,0.0,10.52,13.32,8.75,0.0,0.0,12.16,10.29,10.72,0.0,12.05,0.0,0.0,10.74,10.99,9.09,0.0,9.16,0.0,12.46,9.35,0.0,9.1,13.89,11.09,0.0,3.9,9.33,3.34,0.0,10.94,11.52,9.77,6.73,0.0,0.0,5.53,0.0,0.0,0.0,0.0,0.0,8.69,10.82,12.42,0.0,1.6,0.0,0.0,7.92,9.98,0.0,14.61,11.97,0.0,0.0,0.0,0.0,0.0,0.0,0.0,6.37,7.94,8.65,8.03,6.98,6.01,3.39,6.33,0.0,6.04,5.12],\"y0\":\" \",\"yaxis\":\"y\",\"type\":\"box\"}],                        {\"template\":{\"data\":{\"bar\":[{\"error_x\":{\"color\":\"#2a3f5f\"},\"error_y\":{\"color\":\"#2a3f5f\"},\"marker\":{\"line\":{\"color\":\"#E5ECF6\",\"width\":0.5},\"pattern\":{\"fillmode\":\"overlay\",\"size\":10,\"solidity\":0.2}},\"type\":\"bar\"}],\"barpolar\":[{\"marker\":{\"line\":{\"color\":\"#E5ECF6\",\"width\":0.5},\"pattern\":{\"fillmode\":\"overlay\",\"size\":10,\"solidity\":0.2}},\"type\":\"barpolar\"}],\"carpet\":[{\"aaxis\":{\"endlinecolor\":\"#2a3f5f\",\"gridcolor\":\"white\",\"linecolor\":\"white\",\"minorgridcolor\":\"white\",\"startlinecolor\":\"#2a3f5f\"},\"baxis\":{\"endlinecolor\":\"#2a3f5f\",\"gridcolor\":\"white\",\"linecolor\":\"white\",\"minorgridcolor\":\"white\",\"startlinecolor\":\"#2a3f5f\"},\"type\":\"carpet\"}],\"choropleth\":[{\"colorbar\":{\"outlinewidth\":0,\"ticks\":\"\"},\"type\":\"choropleth\"}],\"contour\":[{\"colorbar\":{\"outlinewidth\":0,\"ticks\":\"\"},\"colorscale\":[[0.0,\"#0d0887\"],[0.1111111111111111,\"#46039f\"],[0.2222222222222222,\"#7201a8\"],[0.3333333333333333,\"#9c179e\"],[0.4444444444444444,\"#bd3786\"],[0.5555555555555556,\"#d8576b\"],[0.6666666666666666,\"#ed7953\"],[0.7777777777777778,\"#fb9f3a\"],[0.8888888888888888,\"#fdca26\"],[1.0,\"#f0f921\"]],\"type\":\"contour\"}],\"contourcarpet\":[{\"colorbar\":{\"outlinewidth\":0,\"ticks\":\"\"},\"type\":\"contourcarpet\"}],\"heatmap\":[{\"colorbar\":{\"outlinewidth\":0,\"ticks\":\"\"},\"colorscale\":[[0.0,\"#0d0887\"],[0.1111111111111111,\"#46039f\"],[0.2222222222222222,\"#7201a8\"],[0.3333333333333333,\"#9c179e\"],[0.4444444444444444,\"#bd3786\"],[0.5555555555555556,\"#d8576b\"],[0.6666666666666666,\"#ed7953\"],[0.7777777777777778,\"#fb9f3a\"],[0.8888888888888888,\"#fdca26\"],[1.0,\"#f0f921\"]],\"type\":\"heatmap\"}],\"heatmapgl\":[{\"colorbar\":{\"outlinewidth\":0,\"ticks\":\"\"},\"colorscale\":[[0.0,\"#0d0887\"],[0.1111111111111111,\"#46039f\"],[0.2222222222222222,\"#7201a8\"],[0.3333333333333333,\"#9c179e\"],[0.4444444444444444,\"#bd3786\"],[0.5555555555555556,\"#d8576b\"],[0.6666666666666666,\"#ed7953\"],[0.7777777777777778,\"#fb9f3a\"],[0.8888888888888888,\"#fdca26\"],[1.0,\"#f0f921\"]],\"type\":\"heatmapgl\"}],\"histogram\":[{\"marker\":{\"pattern\":{\"fillmode\":\"overlay\",\"size\":10,\"solidity\":0.2}},\"type\":\"histogram\"}],\"histogram2d\":[{\"colorbar\":{\"outlinewidth\":0,\"ticks\":\"\"},\"colorscale\":[[0.0,\"#0d0887\"],[0.1111111111111111,\"#46039f\"],[0.2222222222222222,\"#7201a8\"],[0.3333333333333333,\"#9c179e\"],[0.4444444444444444,\"#bd3786\"],[0.5555555555555556,\"#d8576b\"],[0.6666666666666666,\"#ed7953\"],[0.7777777777777778,\"#fb9f3a\"],[0.8888888888888888,\"#fdca26\"],[1.0,\"#f0f921\"]],\"type\":\"histogram2d\"}],\"histogram2dcontour\":[{\"colorbar\":{\"outlinewidth\":0,\"ticks\":\"\"},\"colorscale\":[[0.0,\"#0d0887\"],[0.1111111111111111,\"#46039f\"],[0.2222222222222222,\"#7201a8\"],[0.3333333333333333,\"#9c179e\"],[0.4444444444444444,\"#bd3786\"],[0.5555555555555556,\"#d8576b\"],[0.6666666666666666,\"#ed7953\"],[0.7777777777777778,\"#fb9f3a\"],[0.8888888888888888,\"#fdca26\"],[1.0,\"#f0f921\"]],\"type\":\"histogram2dcontour\"}],\"mesh3d\":[{\"colorbar\":{\"outlinewidth\":0,\"ticks\":\"\"},\"type\":\"mesh3d\"}],\"parcoords\":[{\"line\":{\"colorbar\":{\"outlinewidth\":0,\"ticks\":\"\"}},\"type\":\"parcoords\"}],\"pie\":[{\"automargin\":true,\"type\":\"pie\"}],\"scatter\":[{\"marker\":{\"colorbar\":{\"outlinewidth\":0,\"ticks\":\"\"}},\"type\":\"scatter\"}],\"scatter3d\":[{\"line\":{\"colorbar\":{\"outlinewidth\":0,\"ticks\":\"\"}},\"marker\":{\"colorbar\":{\"outlinewidth\":0,\"ticks\":\"\"}},\"type\":\"scatter3d\"}],\"scattercarpet\":[{\"marker\":{\"colorbar\":{\"outlinewidth\":0,\"ticks\":\"\"}},\"type\":\"scattercarpet\"}],\"scattergeo\":[{\"marker\":{\"colorbar\":{\"outlinewidth\":0,\"ticks\":\"\"}},\"type\":\"scattergeo\"}],\"scattergl\":[{\"marker\":{\"colorbar\":{\"outlinewidth\":0,\"ticks\":\"\"}},\"type\":\"scattergl\"}],\"scattermapbox\":[{\"marker\":{\"colorbar\":{\"outlinewidth\":0,\"ticks\":\"\"}},\"type\":\"scattermapbox\"}],\"scatterpolar\":[{\"marker\":{\"colorbar\":{\"outlinewidth\":0,\"ticks\":\"\"}},\"type\":\"scatterpolar\"}],\"scatterpolargl\":[{\"marker\":{\"colorbar\":{\"outlinewidth\":0,\"ticks\":\"\"}},\"type\":\"scatterpolargl\"}],\"scatterternary\":[{\"marker\":{\"colorbar\":{\"outlinewidth\":0,\"ticks\":\"\"}},\"type\":\"scatterternary\"}],\"surface\":[{\"colorbar\":{\"outlinewidth\":0,\"ticks\":\"\"},\"colorscale\":[[0.0,\"#0d0887\"],[0.1111111111111111,\"#46039f\"],[0.2222222222222222,\"#7201a8\"],[0.3333333333333333,\"#9c179e\"],[0.4444444444444444,\"#bd3786\"],[0.5555555555555556,\"#d8576b\"],[0.6666666666666666,\"#ed7953\"],[0.7777777777777778,\"#fb9f3a\"],[0.8888888888888888,\"#fdca26\"],[1.0,\"#f0f921\"]],\"type\":\"surface\"}],\"table\":[{\"cells\":{\"fill\":{\"color\":\"#EBF0F8\"},\"line\":{\"color\":\"white\"}},\"header\":{\"fill\":{\"color\":\"#C8D4E3\"},\"line\":{\"color\":\"white\"}},\"type\":\"table\"}]},\"layout\":{\"annotationdefaults\":{\"arrowcolor\":\"#2a3f5f\",\"arrowhead\":0,\"arrowwidth\":1},\"autotypenumbers\":\"strict\",\"coloraxis\":{\"colorbar\":{\"outlinewidth\":0,\"ticks\":\"\"}},\"colorscale\":{\"diverging\":[[0,\"#8e0152\"],[0.1,\"#c51b7d\"],[0.2,\"#de77ae\"],[0.3,\"#f1b6da\"],[0.4,\"#fde0ef\"],[0.5,\"#f7f7f7\"],[0.6,\"#e6f5d0\"],[0.7,\"#b8e186\"],[0.8,\"#7fbc41\"],[0.9,\"#4d9221\"],[1,\"#276419\"]],\"sequential\":[[0.0,\"#0d0887\"],[0.1111111111111111,\"#46039f\"],[0.2222222222222222,\"#7201a8\"],[0.3333333333333333,\"#9c179e\"],[0.4444444444444444,\"#bd3786\"],[0.5555555555555556,\"#d8576b\"],[0.6666666666666666,\"#ed7953\"],[0.7777777777777778,\"#fb9f3a\"],[0.8888888888888888,\"#fdca26\"],[1.0,\"#f0f921\"]],\"sequentialminus\":[[0.0,\"#0d0887\"],[0.1111111111111111,\"#46039f\"],[0.2222222222222222,\"#7201a8\"],[0.3333333333333333,\"#9c179e\"],[0.4444444444444444,\"#bd3786\"],[0.5555555555555556,\"#d8576b\"],[0.6666666666666666,\"#ed7953\"],[0.7777777777777778,\"#fb9f3a\"],[0.8888888888888888,\"#fdca26\"],[1.0,\"#f0f921\"]]},\"colorway\":[\"#636efa\",\"#EF553B\",\"#00cc96\",\"#ab63fa\",\"#FFA15A\",\"#19d3f3\",\"#FF6692\",\"#B6E880\",\"#FF97FF\",\"#FECB52\"],\"font\":{\"color\":\"#2a3f5f\"},\"geo\":{\"bgcolor\":\"white\",\"lakecolor\":\"white\",\"landcolor\":\"#E5ECF6\",\"showlakes\":true,\"showland\":true,\"subunitcolor\":\"white\"},\"hoverlabel\":{\"align\":\"left\"},\"hovermode\":\"closest\",\"mapbox\":{\"style\":\"light\"},\"paper_bgcolor\":\"white\",\"plot_bgcolor\":\"#E5ECF6\",\"polar\":{\"angularaxis\":{\"gridcolor\":\"white\",\"linecolor\":\"white\",\"ticks\":\"\"},\"bgcolor\":\"#E5ECF6\",\"radialaxis\":{\"gridcolor\":\"white\",\"linecolor\":\"white\",\"ticks\":\"\"}},\"scene\":{\"xaxis\":{\"backgroundcolor\":\"#E5ECF6\",\"gridcolor\":\"white\",\"gridwidth\":2,\"linecolor\":\"white\",\"showbackground\":true,\"ticks\":\"\",\"zerolinecolor\":\"white\"},\"yaxis\":{\"backgroundcolor\":\"#E5ECF6\",\"gridcolor\":\"white\",\"gridwidth\":2,\"linecolor\":\"white\",\"showbackground\":true,\"ticks\":\"\",\"zerolinecolor\":\"white\"},\"zaxis\":{\"backgroundcolor\":\"#E5ECF6\",\"gridcolor\":\"white\",\"gridwidth\":2,\"linecolor\":\"white\",\"showbackground\":true,\"ticks\":\"\",\"zerolinecolor\":\"white\"}},\"shapedefaults\":{\"line\":{\"color\":\"#2a3f5f\"}},\"ternary\":{\"aaxis\":{\"gridcolor\":\"white\",\"linecolor\":\"white\",\"ticks\":\"\"},\"baxis\":{\"gridcolor\":\"white\",\"linecolor\":\"white\",\"ticks\":\"\"},\"bgcolor\":\"#E5ECF6\",\"caxis\":{\"gridcolor\":\"white\",\"linecolor\":\"white\",\"ticks\":\"\"}},\"title\":{\"x\":0.05},\"xaxis\":{\"automargin\":true,\"gridcolor\":\"white\",\"linecolor\":\"white\",\"ticks\":\"\",\"title\":{\"standoff\":15},\"zerolinecolor\":\"white\",\"zerolinewidth\":2},\"yaxis\":{\"automargin\":true,\"gridcolor\":\"white\",\"linecolor\":\"white\",\"ticks\":\"\",\"title\":{\"standoff\":15},\"zerolinecolor\":\"white\",\"zerolinewidth\":2}}},\"xaxis\":{\"anchor\":\"y\",\"domain\":[0.0,1.0],\"title\":{\"text\":\"Setor\"}},\"yaxis\":{\"anchor\":\"x\",\"domain\":[0.0,1.0],\"title\":{\"text\":\"DY (12M)Acumulado\"}},\"legend\":{\"tracegroupgap\":0},\"margin\":{\"t\":60},\"boxmode\":\"group\"},                        {\"responsive\": true}                    ).then(function(){\n",
              "                            \n",
              "var gd = document.getElementById('3daa8bbb-3ec3-40cf-ab28-e8759b890829');\n",
              "var x = new MutationObserver(function (mutations, observer) {{\n",
              "        var display = window.getComputedStyle(gd).display;\n",
              "        if (!display || display === 'none') {{\n",
              "            console.log([gd, 'removed!']);\n",
              "            Plotly.purge(gd);\n",
              "            observer.disconnect();\n",
              "        }}\n",
              "}});\n",
              "\n",
              "// Listen for the removal of the full notebook cells\n",
              "var notebookContainer = gd.closest('#notebook-container');\n",
              "if (notebookContainer) {{\n",
              "    x.observe(notebookContainer, {childList: true});\n",
              "}}\n",
              "\n",
              "// Listen for the clearing of the current output cell\n",
              "var outputEl = gd.closest('.output');\n",
              "if (outputEl) {{\n",
              "    x.observe(outputEl, {childList: true});\n",
              "}}\n",
              "\n",
              "                        })                };                            </script>        </div>\n",
              "</body>\n",
              "</html>"
            ]
          },
          "metadata": {}
        }
      ],
      "source": [
        "# Visualização gráfica por boxplots\n",
        "\n",
        "fig = px.box(FII_df, x=\"Setor\", y=\"DY (12M)Acumulado\")\n",
        "fig.show()"
      ]
    },
    {
      "cell_type": "markdown",
      "metadata": {
        "id": "1Bv0zYNZ_hmd"
      },
      "source": [
        "# 5. Caso 3 - Extraindo promoções diárias no Mercado Livre\n"
      ]
    },
    {
      "cell_type": "markdown",
      "metadata": {
        "id": "98SGKg_L-3gp"
      },
      "source": [
        "Vamos inspecionar o site (DevTools, F12) e depois botão Inspecionar\n",
        "\n",
        "https://www.mercadolivre.com.br/ofertas"
      ]
    },
    {
      "cell_type": "code",
      "execution_count": 2,
      "metadata": {
        "id": "Xq5MJEo2BHH8",
        "colab": {
          "base_uri": "https://localhost:8080/"
        },
        "outputId": "c76d3406-03e8-416d-c19e-6823ef4f7243"
      },
      "outputs": [
        {
          "output_type": "execute_result",
          "data": {
            "text/plain": [
              "<Response [200]>"
            ]
          },
          "metadata": {},
          "execution_count": 2
        }
      ],
      "source": [
        "# Dados html como texto\n",
        "\n",
        "Merc_Livre_html = requests.get(\"https://www.mercadolivre.com.br/ofertas\")\n",
        "Merc_Livre_html"
      ]
    },
    {
      "cell_type": "code",
      "execution_count": 3,
      "metadata": {
        "id": "ghHApAW_-3gp"
      },
      "outputs": [],
      "source": [
        "# Html \"parsing\" - Estruturando o html dentro do python\n",
        "# Output html travado (mt grande)\n",
        "\n",
        "Merc_Livre_html_bs4 = BeautifulSoup(Merc_Livre_html.text, \"html.parser\")\n",
        "#Merc_Livre_html_bs4"
      ]
    },
    {
      "cell_type": "markdown",
      "metadata": {
        "id": "rnhIfdq--3gq"
      },
      "source": [
        "Buscamos as \"class\" e \"id\" para selecionar nossos dados de interesse (dentro do DevTools)"
      ]
    },
    {
      "cell_type": "code",
      "execution_count": 4,
      "metadata": {
        "colab": {
          "base_uri": "https://localhost:8080/"
        },
        "id": "MnB7RTKm-3gq",
        "outputId": "2587510d-5a2f-4586-efaa-2593a94eb286"
      },
      "outputs": [
        {
          "output_type": "execute_result",
          "data": {
            "text/plain": [
              "[<p class=\"promotion-item__title\">Nintendo Switch 32GB Standard cor  vermelho-néon, azul-néon e preto</p>,\n",
              " <p class=\"promotion-item__title\">Guarda-roupa Solteiro Madesa Denver 2 Portas De Correr Preto</p>,\n",
              " <p class=\"promotion-item__title\">Cama Box Colchão Certificado Pillow Solteiro De Mola</p>,\n",
              " <p class=\"promotion-item__title\">Balcão Madesa Reims 35 Cm 1 Porta - Preto</p>,\n",
              " <p class=\"promotion-item__title\">Cama Box E Colchão Iso 100 D33 Solteiro(88x188)-ortobom</p>,\n",
              " <p class=\"promotion-item__title\">10x Refletor Led 200w Holofote Prova Dágua Ip66 Branco Frio</p>,\n",
              " <p class=\"promotion-item__title\">Tênis Infantil Masculino Ortopé Jogger Jr Harry Potter</p>,\n",
              " <p class=\"promotion-item__title\">Tela 15.6 Led Slim P/ Notebook Hd Fosca 30 Pinos S/ Bracket</p>,\n",
              " <p class=\"promotion-item__title\">Kit 200 Máscara Caixa Descartável Tripla C/ Filtro Meltblown</p>,\n",
              " <p class=\"promotion-item__title\">Mesa digitalizadora Wacom Intuos  Small  black</p>,\n",
              " <p class=\"promotion-item__title\">Ácido Cítrico Anidro 25kg - Alimentício</p>,\n",
              " <p class=\"promotion-item__title\">Tênis Branco Feminino Ramarim</p>,\n",
              " <p class=\"promotion-item__title\">Tênis Feminino Slip On Princess Preto E Bordô Rainha </p>,\n",
              " <p class=\"promotion-item__title\">Mouse Gamer Multilaser 3200dpi 6 Botões Led - Mo276</p>,\n",
              " <p class=\"promotion-item__title\">Escova Profissional De Desembaraçar E Pentear Cabelo Mágica </p>,\n",
              " <p class=\"promotion-item__title\">Xicara Cha Eclat 250ml Br Ntcy</p>,\n",
              " <p class=\"promotion-item__title\">Tênis Response Run Classic Masculino adidas</p>,\n",
              " <p class=\"promotion-item__title\">Carteira Feminina Multi Bege Vizzano</p>,\n",
              " <p class=\"promotion-item__title\">Sandália Feminina Tratorada Premium Preto Verniz Beira Rio</p>,\n",
              " <p class=\"promotion-item__title\">Bola De Campo Epp I I Club adidas</p>,\n",
              " <p class=\"promotion-item__title\">Calça Jeans Feminina Cintura Alta Lança Perfume</p>,\n",
              " <p class=\"promotion-item__title\">Shampoo Nutri Intense 200ml</p>,\n",
              " <p class=\"promotion-item__title\">Chinelo Slide Feminino Josi Preto Ramarim</p>,\n",
              " <p class=\"promotion-item__title\">Panela Wok Ceramic Life Smart Plus 3,4l Vanilla 4791 Brinox</p>,\n",
              " <p class=\"promotion-item__title\">Kit Com 12 Cuecas Masculina Boxer Em Microfibra Polo Wear</p>,\n",
              " <p class=\"promotion-item__title\">Bolsa Feminina Tira Colo Preta Vizzano</p>,\n",
              " <p class=\"promotion-item__title\">Tênis Feminino Casual Com Recortes Têxtil Preto Colcci  </p>,\n",
              " <p class=\"promotion-item__title\">Camiseta Masculina Águia Tiras Cavalera</p>,\n",
              " <p class=\"promotion-item__title\">Kit Com Bolsa Tote Bag E Carteira Polo London Club</p>,\n",
              " <p class=\"promotion-item__title\">Tênis Infantil Feminino Ortopé Jogger Jr Harry Potter Branco</p>,\n",
              " <p class=\"promotion-item__title\">Macaco Hidraulico 2 Ton Universal Tipo Jacarezinho C/ Maleta</p>,\n",
              " <p class=\"promotion-item__title\">Tênis Feminino Corrente Casual Preto Vizzano</p>,\n",
              " <p class=\"promotion-item__title\">Batom Hidratante Armarosa Quem Disse Berenice</p>,\n",
              " <p class=\"promotion-item__title\">Mule Feminino Nobuck Neo Liso Beira Rio</p>,\n",
              " <p class=\"promotion-item__title\">Multimidia Universal Mp5 Ekitech Eatrh Usb Bluetooth</p>,\n",
              " <p class=\"promotion-item__title\">Tênis Feminino Slip On Upper Animal Print Preto Kolosh</p>,\n",
              " <p class=\"promotion-item__title\">Chinelo Slide Feminino Josi Branco Ramarim</p>,\n",
              " <p class=\"promotion-item__title\">Tênis Feminino Com Aplicações Metalizadas Branco Vizzano</p>,\n",
              " <p class=\"promotion-item__title\">Conjunto Filtrante Piscina Filtro Acf40+ Bomba Weg 1/2 84m³</p>,\n",
              " <p class=\"promotion-item__title\">Tamanco Preto Usaflex</p>,\n",
              " <p class=\"promotion-item__title\">Vestido Fantasia Infantil Princesas Com Luva Coroa E Varinha</p>,\n",
              " <p class=\"promotion-item__title\">Jogo Cama Lençol 4 Peça Casal Estampado Patchwork 138x188x30</p>,\n",
              " <p class=\"promotion-item__title\">Kit Com 2 Bermudas Masculinas De Moletom Local </p>,\n",
              " <p class=\"promotion-item__title\">Tênis Femimnino Carol Com Amarração Tag Em Couro Anacapri </p>,\n",
              " <p class=\"promotion-item__title\">Sapato Bege Modare</p>,\n",
              " <p class=\"promotion-item__title\">Kit 10 Cuecas Sunga Cores Sortidas Lupo </p>,\n",
              " <p class=\"promotion-item__title\">Tesoura Barbeiro Dentada Desbaste Desfiadeira 138-630 Umi</p>,\n",
              " <p class=\"promotion-item__title\">Touca Silicone Dompel Cabelo Mechas Luzes Reflexo + Agulha</p>]"
            ]
          },
          "metadata": {},
          "execution_count": 4
        }
      ],
      "source": [
        "# Buscando os nomes dos produtos em oferta\n",
        "\n",
        "produto = Merc_Livre_html_bs4.find_all(attrs = {'class': 'promotion-item__title'})\n",
        "produto"
      ]
    },
    {
      "cell_type": "code",
      "execution_count": 5,
      "metadata": {
        "colab": {
          "base_uri": "https://localhost:8080/"
        },
        "id": "aqtj8_M3-3gq",
        "outputId": "d21d86c3-9632-48bc-c05c-843fc54b60c3"
      },
      "outputs": [
        {
          "output_type": "execute_result",
          "data": {
            "text/plain": [
              "bs4.element.ResultSet"
            ]
          },
          "metadata": {},
          "execution_count": 5
        }
      ],
      "source": [
        "# Acessando a classe do objeto (classe BeautifulSoup)\n",
        "\n",
        "type(produto)"
      ]
    },
    {
      "cell_type": "code",
      "execution_count": 6,
      "metadata": {
        "colab": {
          "base_uri": "https://localhost:8080/"
        },
        "id": "R7Ug9TM7-3gq",
        "outputId": "c4a428c1-3e79-4125-9f03-ada8744787fa"
      },
      "outputs": [
        {
          "output_type": "execute_result",
          "data": {
            "text/plain": [
              "bs4.element.Tag"
            ]
          },
          "metadata": {},
          "execution_count": 6
        }
      ],
      "source": [
        "# O element 'ResultSet' seria próximo a uma lista comum, onde cada item da lista é uma \"tag\" (mesma indexação das listas tradicionais)\n",
        "\n",
        "type(produto[0])"
      ]
    },
    {
      "cell_type": "code",
      "execution_count": 7,
      "metadata": {
        "colab": {
          "base_uri": "https://localhost:8080/"
        },
        "id": "LfNKrqVL-3gq",
        "outputId": "4771cdd9-9cd9-4483-9b31-f006828904cf"
      },
      "outputs": [
        {
          "output_type": "execute_result",
          "data": {
            "text/plain": [
              "<p class=\"promotion-item__title\">Nintendo Switch 32GB Standard cor  vermelho-néon, azul-néon e preto</p>"
            ]
          },
          "metadata": {},
          "execution_count": 7
        }
      ],
      "source": [
        "# Podemos extrair cada item (tag) desse ResultSet\n",
        "\n",
        "produto[0]"
      ]
    },
    {
      "cell_type": "code",
      "execution_count": 8,
      "metadata": {
        "colab": {
          "base_uri": "https://localhost:8080/",
          "height": 35
        },
        "id": "GzqLS6sy-3gr",
        "outputId": "ec3ea8a6-ad38-4a85-832a-71d407b18d29"
      },
      "outputs": [
        {
          "output_type": "execute_result",
          "data": {
            "text/plain": [
              "'Nintendo Switch 32GB Standard cor  vermelho-néon, azul-néon e preto'"
            ],
            "application/vnd.google.colaboratory.intrinsic+json": {
              "type": "string"
            }
          },
          "metadata": {},
          "execution_count": 8
        }
      ],
      "source": [
        "# Usando o método .text, excluimos os caracteres estruturais do html e ficamos apenas com o dado propriamente dito\n",
        "\n",
        "produto[0].text"
      ]
    },
    {
      "cell_type": "code",
      "execution_count": 9,
      "metadata": {
        "id": "Fpgj_4Wa-3gr"
      },
      "outputs": [],
      "source": [
        "# Aplicar um for para extrair uma \"lista limpa\" com os nomes dos produtos\n",
        "\n",
        "lista_produtos_Merc_Liv = []\n",
        "\n",
        "for i in range(0,len(produto)):\n",
        "    nome_prod = produto[i].text\n",
        "    lista_produtos_Merc_Liv.append(nome_prod)"
      ]
    },
    {
      "cell_type": "code",
      "execution_count": 10,
      "metadata": {
        "colab": {
          "base_uri": "https://localhost:8080/"
        },
        "id": "OSsCTU37-3gr",
        "outputId": "c7864e6c-7b8e-4ce4-ae9c-9f6da04dae63"
      },
      "outputs": [
        {
          "output_type": "execute_result",
          "data": {
            "text/plain": [
              "['Nintendo Switch 32GB Standard cor  vermelho-néon, azul-néon e preto',\n",
              " 'Guarda-roupa Solteiro Madesa Denver 2 Portas De Correr Preto',\n",
              " 'Cama Box Colchão Certificado Pillow Solteiro De Mola',\n",
              " 'Balcão Madesa Reims 35 Cm 1 Porta - Preto',\n",
              " 'Cama Box E Colchão Iso 100 D33 Solteiro(88x188)-ortobom',\n",
              " '10x Refletor Led 200w Holofote Prova Dágua Ip66 Branco Frio',\n",
              " 'Tênis Infantil Masculino Ortopé Jogger Jr Harry Potter',\n",
              " 'Tela 15.6 Led Slim P/ Notebook Hd Fosca 30 Pinos S/ Bracket',\n",
              " 'Kit 200 Máscara Caixa Descartável Tripla C/ Filtro Meltblown',\n",
              " 'Mesa digitalizadora Wacom Intuos  Small  black',\n",
              " 'Ácido Cítrico Anidro 25kg - Alimentício',\n",
              " 'Tênis Branco Feminino Ramarim',\n",
              " 'Tênis Feminino Slip On Princess Preto E Bordô Rainha ',\n",
              " 'Mouse Gamer Multilaser 3200dpi 6 Botões Led - Mo276',\n",
              " 'Escova Profissional De Desembaraçar E Pentear Cabelo Mágica ',\n",
              " 'Xicara Cha Eclat 250ml Br Ntcy',\n",
              " 'Tênis Response Run Classic Masculino adidas',\n",
              " 'Carteira Feminina Multi Bege Vizzano',\n",
              " 'Sandália Feminina Tratorada Premium Preto Verniz Beira Rio',\n",
              " 'Bola De Campo Epp I I Club adidas',\n",
              " 'Calça Jeans Feminina Cintura Alta Lança Perfume',\n",
              " 'Shampoo Nutri Intense 200ml',\n",
              " 'Chinelo Slide Feminino Josi Preto Ramarim',\n",
              " 'Panela Wok Ceramic Life Smart Plus 3,4l Vanilla 4791 Brinox',\n",
              " 'Kit Com 12 Cuecas Masculina Boxer Em Microfibra Polo Wear',\n",
              " 'Bolsa Feminina Tira Colo Preta Vizzano',\n",
              " 'Tênis Feminino Casual Com Recortes Têxtil Preto Colcci  ',\n",
              " 'Camiseta Masculina Águia Tiras Cavalera',\n",
              " 'Kit Com Bolsa Tote Bag E Carteira Polo London Club',\n",
              " 'Tênis Infantil Feminino Ortopé Jogger Jr Harry Potter Branco',\n",
              " 'Macaco Hidraulico 2 Ton Universal Tipo Jacarezinho C/ Maleta',\n",
              " 'Tênis Feminino Corrente Casual Preto Vizzano',\n",
              " 'Batom Hidratante Armarosa Quem Disse Berenice',\n",
              " 'Mule Feminino Nobuck Neo Liso Beira Rio',\n",
              " 'Multimidia Universal Mp5 Ekitech Eatrh Usb Bluetooth',\n",
              " 'Tênis Feminino Slip On Upper Animal Print Preto Kolosh',\n",
              " 'Chinelo Slide Feminino Josi Branco Ramarim',\n",
              " 'Tênis Feminino Com Aplicações Metalizadas Branco Vizzano',\n",
              " 'Conjunto Filtrante Piscina Filtro Acf40+ Bomba Weg 1/2 84m³',\n",
              " 'Tamanco Preto Usaflex',\n",
              " 'Vestido Fantasia Infantil Princesas Com Luva Coroa E Varinha',\n",
              " 'Jogo Cama Lençol 4 Peça Casal Estampado Patchwork 138x188x30',\n",
              " 'Kit Com 2 Bermudas Masculinas De Moletom Local ',\n",
              " 'Tênis Femimnino Carol Com Amarração Tag Em Couro Anacapri ',\n",
              " 'Sapato Bege Modare',\n",
              " 'Kit 10 Cuecas Sunga Cores Sortidas Lupo ',\n",
              " 'Tesoura Barbeiro Dentada Desbaste Desfiadeira 138-630 Umi',\n",
              " 'Touca Silicone Dompel Cabelo Mechas Luzes Reflexo + Agulha']"
            ]
          },
          "metadata": {},
          "execution_count": 10
        }
      ],
      "source": [
        "lista_produtos_Merc_Liv"
      ]
    },
    {
      "cell_type": "code",
      "execution_count": 11,
      "metadata": {
        "colab": {
          "base_uri": "https://localhost:8080/"
        },
        "id": "7urSL0ig-3gr",
        "outputId": "8f91707d-2d19-4411-8d6c-172f3786d12c"
      },
      "outputs": [
        {
          "output_type": "execute_result",
          "data": {
            "text/plain": [
              "[<span class=\"promotion-item__price\"><span>R$ 2.349</span></span>,\n",
              " <span class=\"promotion-item__price\"><span>R$ 579</span><sup>99</sup></span>,\n",
              " <span class=\"promotion-item__price\"><span>R$ 776</span><sup>70</sup></span>,\n",
              " <span class=\"promotion-item__price\"><span>R$ 259</span><sup>99</sup></span>,\n",
              " <span class=\"promotion-item__price\"><span>R$ 779</span></span>,\n",
              " <span class=\"promotion-item__price\"><span>R$ 1.017</span></span>,\n",
              " <span class=\"promotion-item__price\"><span>R$ 161</span><sup>91</sup></span>,\n",
              " <span class=\"promotion-item__price\"><span>R$ 530</span><sup>10</sup></span>,\n",
              " <span class=\"promotion-item__price\"><span>R$ 59</span><sup>49</sup></span>,\n",
              " <span class=\"promotion-item__price\"><span>R$ 347</span><sup>13</sup></span>,\n",
              " <span class=\"promotion-item__price\"><span>R$ 1.062</span></span>,\n",
              " <span class=\"promotion-item__price\"><span>R$ 118</span><sup>79</sup></span>,\n",
              " <span class=\"promotion-item__price\"><span>R$ 101</span><sup>87</sup></span>,\n",
              " <span class=\"promotion-item__price\"><span>R$ 49</span><sup>90</sup></span>,\n",
              " <span class=\"promotion-item__price\"><span>R$ 13</span><sup>70</sup></span>,\n",
              " <span class=\"promotion-item__price\"><span>R$ 39</span><sup>99</sup></span>,\n",
              " <span class=\"promotion-item__price\"><span>R$ 313</span><sup>50</sup></span>,\n",
              " <span class=\"promotion-item__price\"><span>R$ 130</span><sup>26</sup></span>,\n",
              " <span class=\"promotion-item__price\"><span>R$ 98</span><sup>99</sup></span>,\n",
              " <span class=\"promotion-item__price\"><span>R$ 88</span><sup>10</sup></span>,\n",
              " <span class=\"promotion-item__price\"><span>R$ 86</span><sup>44</sup></span>,\n",
              " <span class=\"promotion-item__price\"><span>R$ 14</span><sup>85</sup></span>,\n",
              " <span class=\"promotion-item__price\"><span>R$ 92</span><sup>09</sup></span>,\n",
              " <span class=\"promotion-item__price\"><span>R$ 199</span><sup>90</sup></span>,\n",
              " <span class=\"promotion-item__price\"><span>R$ 128</span><sup>60</sup></span>,\n",
              " <span class=\"promotion-item__price\"><span>R$ 175</span><sup>13</sup></span>,\n",
              " <span class=\"promotion-item__price\"><span>R$ 108</span><sup>89</sup></span>,\n",
              " <span class=\"promotion-item__price\"><span>R$ 94</span><sup>99</sup></span>,\n",
              " <span class=\"promotion-item__price\"><span>R$ 84</span><sup>14</sup></span>,\n",
              " <span class=\"promotion-item__price\"><span>R$ 134</span><sup>91</sup></span>,\n",
              " <span class=\"promotion-item__price\"><span>R$ 198</span></span>,\n",
              " <span class=\"promotion-item__price\"><span>R$ 68</span><sup>99</sup></span>,\n",
              " <span class=\"promotion-item__price\"><span>R$ 22</span><sup>94</sup></span>,\n",
              " <span class=\"promotion-item__price\"><span>R$ 69</span><sup>29</sup></span>,\n",
              " <span class=\"promotion-item__price\"><span>R$ 322</span><sup>90</sup></span>,\n",
              " <span class=\"promotion-item__price\"><span>R$ 139</span><sup>47</sup></span>,\n",
              " <span class=\"promotion-item__price\"><span>R$ 78</span><sup>01</sup></span>,\n",
              " <span class=\"promotion-item__price\"><span>R$ 128</span><sup>96</sup></span>,\n",
              " <span class=\"promotion-item__price\"><span>R$ 1.517</span></span>,\n",
              " <span class=\"promotion-item__price\"><span>R$ 99</span><sup>74</sup></span>,\n",
              " <span class=\"promotion-item__price\"><span>R$ 71</span><sup>75</sup></span>,\n",
              " <span class=\"promotion-item__price\"><span>R$ 80</span><sup>16</sup></span>,\n",
              " <span class=\"promotion-item__price\"><span>R$ 74</span><sup>15</sup></span>,\n",
              " <span class=\"promotion-item__price\"><span>R$ 92</span><sup>30</sup></span>,\n",
              " <span class=\"promotion-item__price\"><span>R$ 52</span><sup>24</sup></span>,\n",
              " <span class=\"promotion-item__price\"><span>R$ 185</span><sup>55</sup></span>,\n",
              " <span class=\"promotion-item__price\"><span>R$ 109</span><sup>99</sup></span>,\n",
              " <span class=\"promotion-item__price\"><span>R$ 17</span><sup>90</sup></span>]"
            ]
          },
          "metadata": {},
          "execution_count": 11
        }
      ],
      "source": [
        "# Processo parecido para extrairmos os preços de cada produto da lista\n",
        "\n",
        "precos = Merc_Livre_html_bs4.find_all(attrs = {'class': 'promotion-item__price'})\n",
        "precos"
      ]
    },
    {
      "cell_type": "code",
      "source": [
        "type(precos[0])"
      ],
      "metadata": {
        "colab": {
          "base_uri": "https://localhost:8080/"
        },
        "id": "AHjsYjW6D75H",
        "outputId": "ef3c9747-959c-452a-d223-a8c3e0a0b96d"
      },
      "execution_count": 12,
      "outputs": [
        {
          "output_type": "execute_result",
          "data": {
            "text/plain": [
              "bs4.element.Tag"
            ]
          },
          "metadata": {},
          "execution_count": 12
        }
      ]
    },
    {
      "cell_type": "code",
      "source": [
        "str(precos[0])"
      ],
      "metadata": {
        "colab": {
          "base_uri": "https://localhost:8080/",
          "height": 35
        },
        "id": "OBviQp5YD-e1",
        "outputId": "1fb46ece-f175-4776-8ba7-123b989d4b60"
      },
      "execution_count": 13,
      "outputs": [
        {
          "output_type": "execute_result",
          "data": {
            "text/plain": [
              "'<span class=\"promotion-item__price\"><span>R$ 2.349</span></span>'"
            ],
            "application/vnd.google.colaboratory.intrinsic+json": {
              "type": "string"
            }
          },
          "metadata": {},
          "execution_count": 13
        }
      ]
    },
    {
      "cell_type": "code",
      "execution_count": 14,
      "metadata": {
        "colab": {
          "base_uri": "https://localhost:8080/",
          "height": 35
        },
        "id": "QQSv7VvN-3gr",
        "outputId": "c7c0600f-afe4-4a9e-b5fa-98d29c3c6e0b"
      },
      "outputs": [
        {
          "output_type": "execute_result",
          "data": {
            "text/plain": [
              "'R$ 25999'"
            ],
            "application/vnd.google.colaboratory.intrinsic+json": {
              "type": "string"
            }
          },
          "metadata": {},
          "execution_count": 14
        }
      ],
      "source": [
        "# Para os preços, existe um pequeno problema que dificulta nossa raspagem\n",
        "# Veja que alguns produtos tem os centavos também, porém estão separados e com uma tag <sup> (deixando-os em modo sobrescrito)\n",
        "# Se fizer o metodo text em um preço com centavos é mais fácil ver o problema\n",
        "\n",
        "precos[3].text"
      ]
    },
    {
      "cell_type": "code",
      "execution_count": 15,
      "metadata": {
        "colab": {
          "base_uri": "https://localhost:8080/",
          "height": 35
        },
        "id": "MZlpapXT-3gr",
        "outputId": "9a6efee0-7824-48fc-a71c-f2cc87daa42c"
      },
      "outputs": [
        {
          "output_type": "execute_result",
          "data": {
            "text/plain": [
              "'Balcão Madesa Reims 35 Cm 1 Porta - Preto'"
            ],
            "application/vnd.google.colaboratory.intrinsic+json": {
              "type": "string"
            }
          },
          "metadata": {},
          "execution_count": 15
        }
      ],
      "source": [
        "# Seria meio improvável que um kit 3 calças estivesse em promoção custando mais de 15 mil reais\n",
        "\n",
        "lista_produtos_Merc_Liv[3]"
      ]
    },
    {
      "cell_type": "code",
      "source": [
        "precos"
      ],
      "metadata": {
        "colab": {
          "base_uri": "https://localhost:8080/"
        },
        "id": "-RDdnopJF-7U",
        "outputId": "8a1424c5-72df-4481-d517-bf91795e6cea"
      },
      "execution_count": 16,
      "outputs": [
        {
          "output_type": "execute_result",
          "data": {
            "text/plain": [
              "[<span class=\"promotion-item__price\"><span>R$ 2.349</span></span>,\n",
              " <span class=\"promotion-item__price\"><span>R$ 579</span><sup>99</sup></span>,\n",
              " <span class=\"promotion-item__price\"><span>R$ 776</span><sup>70</sup></span>,\n",
              " <span class=\"promotion-item__price\"><span>R$ 259</span><sup>99</sup></span>,\n",
              " <span class=\"promotion-item__price\"><span>R$ 779</span></span>,\n",
              " <span class=\"promotion-item__price\"><span>R$ 1.017</span></span>,\n",
              " <span class=\"promotion-item__price\"><span>R$ 161</span><sup>91</sup></span>,\n",
              " <span class=\"promotion-item__price\"><span>R$ 530</span><sup>10</sup></span>,\n",
              " <span class=\"promotion-item__price\"><span>R$ 59</span><sup>49</sup></span>,\n",
              " <span class=\"promotion-item__price\"><span>R$ 347</span><sup>13</sup></span>,\n",
              " <span class=\"promotion-item__price\"><span>R$ 1.062</span></span>,\n",
              " <span class=\"promotion-item__price\"><span>R$ 118</span><sup>79</sup></span>,\n",
              " <span class=\"promotion-item__price\"><span>R$ 101</span><sup>87</sup></span>,\n",
              " <span class=\"promotion-item__price\"><span>R$ 49</span><sup>90</sup></span>,\n",
              " <span class=\"promotion-item__price\"><span>R$ 13</span><sup>70</sup></span>,\n",
              " <span class=\"promotion-item__price\"><span>R$ 39</span><sup>99</sup></span>,\n",
              " <span class=\"promotion-item__price\"><span>R$ 313</span><sup>50</sup></span>,\n",
              " <span class=\"promotion-item__price\"><span>R$ 130</span><sup>26</sup></span>,\n",
              " <span class=\"promotion-item__price\"><span>R$ 98</span><sup>99</sup></span>,\n",
              " <span class=\"promotion-item__price\"><span>R$ 88</span><sup>10</sup></span>,\n",
              " <span class=\"promotion-item__price\"><span>R$ 86</span><sup>44</sup></span>,\n",
              " <span class=\"promotion-item__price\"><span>R$ 14</span><sup>85</sup></span>,\n",
              " <span class=\"promotion-item__price\"><span>R$ 92</span><sup>09</sup></span>,\n",
              " <span class=\"promotion-item__price\"><span>R$ 199</span><sup>90</sup></span>,\n",
              " <span class=\"promotion-item__price\"><span>R$ 128</span><sup>60</sup></span>,\n",
              " <span class=\"promotion-item__price\"><span>R$ 175</span><sup>13</sup></span>,\n",
              " <span class=\"promotion-item__price\"><span>R$ 108</span><sup>89</sup></span>,\n",
              " <span class=\"promotion-item__price\"><span>R$ 94</span><sup>99</sup></span>,\n",
              " <span class=\"promotion-item__price\"><span>R$ 84</span><sup>14</sup></span>,\n",
              " <span class=\"promotion-item__price\"><span>R$ 134</span><sup>91</sup></span>,\n",
              " <span class=\"promotion-item__price\"><span>R$ 198</span></span>,\n",
              " <span class=\"promotion-item__price\"><span>R$ 68</span><sup>99</sup></span>,\n",
              " <span class=\"promotion-item__price\"><span>R$ 22</span><sup>94</sup></span>,\n",
              " <span class=\"promotion-item__price\"><span>R$ 69</span><sup>29</sup></span>,\n",
              " <span class=\"promotion-item__price\"><span>R$ 322</span><sup>90</sup></span>,\n",
              " <span class=\"promotion-item__price\"><span>R$ 139</span><sup>47</sup></span>,\n",
              " <span class=\"promotion-item__price\"><span>R$ 78</span><sup>01</sup></span>,\n",
              " <span class=\"promotion-item__price\"><span>R$ 128</span><sup>96</sup></span>,\n",
              " <span class=\"promotion-item__price\"><span>R$ 1.517</span></span>,\n",
              " <span class=\"promotion-item__price\"><span>R$ 99</span><sup>74</sup></span>,\n",
              " <span class=\"promotion-item__price\"><span>R$ 71</span><sup>75</sup></span>,\n",
              " <span class=\"promotion-item__price\"><span>R$ 80</span><sup>16</sup></span>,\n",
              " <span class=\"promotion-item__price\"><span>R$ 74</span><sup>15</sup></span>,\n",
              " <span class=\"promotion-item__price\"><span>R$ 92</span><sup>30</sup></span>,\n",
              " <span class=\"promotion-item__price\"><span>R$ 52</span><sup>24</sup></span>,\n",
              " <span class=\"promotion-item__price\"><span>R$ 185</span><sup>55</sup></span>,\n",
              " <span class=\"promotion-item__price\"><span>R$ 109</span><sup>99</sup></span>,\n",
              " <span class=\"promotion-item__price\"><span>R$ 17</span><sup>90</sup></span>]"
            ]
          },
          "metadata": {},
          "execution_count": 16
        }
      ]
    },
    {
      "cell_type": "code",
      "execution_count": 17,
      "metadata": {
        "id": "rs0RvCh6-3gr"
      },
      "outputs": [],
      "source": [
        "# Vamos fazer duas etapas extras aqui:\n",
        "# Tirar o separador de milhar ('.')\n",
        "\n",
        "\n",
        "lista_precos = list()\n",
        "\n",
        "for i in range(0,len(precos)):\n",
        "  preco_unit = str(precos[i]).replace('.','').replace('</span><sup>','.')\n",
        "  preco_front = preco_unit.split('R$ ')[-1]\n",
        "  preco_end = preco_front.split('<')[0]\n",
        "  lista_precos.append(preco_end)"
      ]
    },
    {
      "cell_type": "code",
      "source": [
        "lista_precos"
      ],
      "metadata": {
        "colab": {
          "base_uri": "https://localhost:8080/"
        },
        "id": "Vo0LhUpfHDVC",
        "outputId": "a87b8eac-dae0-4ac2-b3ff-8ad72563fb14"
      },
      "execution_count": 18,
      "outputs": [
        {
          "output_type": "execute_result",
          "data": {
            "text/plain": [
              "['2349',\n",
              " '579.99',\n",
              " '776.70',\n",
              " '259.99',\n",
              " '779',\n",
              " '1017',\n",
              " '161.91',\n",
              " '530.10',\n",
              " '59.49',\n",
              " '347.13',\n",
              " '1062',\n",
              " '118.79',\n",
              " '101.87',\n",
              " '49.90',\n",
              " '13.70',\n",
              " '39.99',\n",
              " '313.50',\n",
              " '130.26',\n",
              " '98.99',\n",
              " '88.10',\n",
              " '86.44',\n",
              " '14.85',\n",
              " '92.09',\n",
              " '199.90',\n",
              " '128.60',\n",
              " '175.13',\n",
              " '108.89',\n",
              " '94.99',\n",
              " '84.14',\n",
              " '134.91',\n",
              " '198',\n",
              " '68.99',\n",
              " '22.94',\n",
              " '69.29',\n",
              " '322.90',\n",
              " '139.47',\n",
              " '78.01',\n",
              " '128.96',\n",
              " '1517',\n",
              " '99.74',\n",
              " '71.75',\n",
              " '80.16',\n",
              " '74.15',\n",
              " '92.30',\n",
              " '52.24',\n",
              " '185.55',\n",
              " '109.99',\n",
              " '17.90']"
            ]
          },
          "metadata": {},
          "execution_count": 18
        }
      ]
    },
    {
      "cell_type": "code",
      "execution_count": 19,
      "metadata": {
        "colab": {
          "base_uri": "https://localhost:8080/"
        },
        "id": "l1CrKlBB-3gs",
        "outputId": "c97648da-046f-4edb-b43f-236da0f0b721"
      },
      "outputs": [
        {
          "output_type": "execute_result",
          "data": {
            "text/plain": [
              "list"
            ]
          },
          "metadata": {},
          "execution_count": 19
        }
      ],
      "source": [
        "type(lista_produtos_Merc_Liv)"
      ]
    },
    {
      "cell_type": "code",
      "source": [
        "ofertas = pd.DataFrame(data = {'Produtos': lista_produtos_Merc_Liv, 'Preços': lista_precos})"
      ],
      "metadata": {
        "id": "JMcsSOxOHNY_"
      },
      "execution_count": 20,
      "outputs": []
    },
    {
      "cell_type": "code",
      "source": [
        "ofertas['Preços'] = pd.to_numeric(ofertas['Preços'])"
      ],
      "metadata": {
        "id": "cYUvQcvmIBmq"
      },
      "execution_count": 21,
      "outputs": []
    },
    {
      "cell_type": "code",
      "source": [
        "ofertas"
      ],
      "metadata": {
        "colab": {
          "base_uri": "https://localhost:8080/",
          "height": 1000
        },
        "id": "3LQry0CmHd3B",
        "outputId": "3975638c-3cd3-4522-8fad-8ae7abf9a2c6"
      },
      "execution_count": 22,
      "outputs": [
        {
          "output_type": "execute_result",
          "data": {
            "text/plain": [
              "                                             Produtos   Preços\n",
              "0   Nintendo Switch 32GB Standard cor  vermelho-né...  2349.00\n",
              "1   Guarda-roupa Solteiro Madesa Denver 2 Portas D...   579.99\n",
              "2   Cama Box Colchão Certificado Pillow Solteiro D...   776.70\n",
              "3           Balcão Madesa Reims 35 Cm 1 Porta - Preto   259.99\n",
              "4   Cama Box E Colchão Iso 100 D33 Solteiro(88x188...   779.00\n",
              "5   10x Refletor Led 200w Holofote Prova Dágua Ip6...  1017.00\n",
              "6   Tênis Infantil Masculino Ortopé Jogger Jr Harr...   161.91\n",
              "7   Tela 15.6 Led Slim P/ Notebook Hd Fosca 30 Pin...   530.10\n",
              "8   Kit 200 Máscara Caixa Descartável Tripla C/ Fi...    59.49\n",
              "9      Mesa digitalizadora Wacom Intuos  Small  black   347.13\n",
              "10            Ácido Cítrico Anidro 25kg - Alimentício  1062.00\n",
              "11                      Tênis Branco Feminino Ramarim   118.79\n",
              "12  Tênis Feminino Slip On Princess Preto E Bordô ...   101.87\n",
              "13  Mouse Gamer Multilaser 3200dpi 6 Botões Led - ...    49.90\n",
              "14  Escova Profissional De Desembaraçar E Pentear ...    13.70\n",
              "15                     Xicara Cha Eclat 250ml Br Ntcy    39.99\n",
              "16        Tênis Response Run Classic Masculino adidas   313.50\n",
              "17               Carteira Feminina Multi Bege Vizzano   130.26\n",
              "18  Sandália Feminina Tratorada Premium Preto Vern...    98.99\n",
              "19                  Bola De Campo Epp I I Club adidas    88.10\n",
              "20    Calça Jeans Feminina Cintura Alta Lança Perfume    86.44\n",
              "21                        Shampoo Nutri Intense 200ml    14.85\n",
              "22          Chinelo Slide Feminino Josi Preto Ramarim    92.09\n",
              "23  Panela Wok Ceramic Life Smart Plus 3,4l Vanill...   199.90\n",
              "24  Kit Com 12 Cuecas Masculina Boxer Em Microfibr...   128.60\n",
              "25             Bolsa Feminina Tira Colo Preta Vizzano   175.13\n",
              "26  Tênis Feminino Casual Com Recortes Têxtil Pret...   108.89\n",
              "27            Camiseta Masculina Águia Tiras Cavalera    94.99\n",
              "28  Kit Com Bolsa Tote Bag E Carteira Polo London ...    84.14\n",
              "29  Tênis Infantil Feminino Ortopé Jogger Jr Harry...   134.91\n",
              "30  Macaco Hidraulico 2 Ton Universal Tipo Jacarez...   198.00\n",
              "31       Tênis Feminino Corrente Casual Preto Vizzano    68.99\n",
              "32      Batom Hidratante Armarosa Quem Disse Berenice    22.94\n",
              "33            Mule Feminino Nobuck Neo Liso Beira Rio    69.29\n",
              "34  Multimidia Universal Mp5 Ekitech Eatrh Usb Blu...   322.90\n",
              "35  Tênis Feminino Slip On Upper Animal Print Pret...   139.47\n",
              "36         Chinelo Slide Feminino Josi Branco Ramarim    78.01\n",
              "37  Tênis Feminino Com Aplicações Metalizadas Bran...   128.96\n",
              "38  Conjunto Filtrante Piscina Filtro Acf40+ Bomba...  1517.00\n",
              "39                              Tamanco Preto Usaflex    99.74\n",
              "40  Vestido Fantasia Infantil Princesas Com Luva C...    71.75\n",
              "41  Jogo Cama Lençol 4 Peça Casal Estampado Patchw...    80.16\n",
              "42    Kit Com 2 Bermudas Masculinas De Moletom Local     74.15\n",
              "43  Tênis Femimnino Carol Com Amarração Tag Em Cou...    92.30\n",
              "44                                 Sapato Bege Modare    52.24\n",
              "45           Kit 10 Cuecas Sunga Cores Sortidas Lupo    185.55\n",
              "46  Tesoura Barbeiro Dentada Desbaste Desfiadeira ...   109.99\n",
              "47  Touca Silicone Dompel Cabelo Mechas Luzes Refl...    17.90"
            ],
            "text/html": [
              "\n",
              "  <div id=\"df-87d49818-5da8-40be-91f2-c3f2408ac2ca\">\n",
              "    <div class=\"colab-df-container\">\n",
              "      <div>\n",
              "<style scoped>\n",
              "    .dataframe tbody tr th:only-of-type {\n",
              "        vertical-align: middle;\n",
              "    }\n",
              "\n",
              "    .dataframe tbody tr th {\n",
              "        vertical-align: top;\n",
              "    }\n",
              "\n",
              "    .dataframe thead th {\n",
              "        text-align: right;\n",
              "    }\n",
              "</style>\n",
              "<table border=\"1\" class=\"dataframe\">\n",
              "  <thead>\n",
              "    <tr style=\"text-align: right;\">\n",
              "      <th></th>\n",
              "      <th>Produtos</th>\n",
              "      <th>Preços</th>\n",
              "    </tr>\n",
              "  </thead>\n",
              "  <tbody>\n",
              "    <tr>\n",
              "      <th>0</th>\n",
              "      <td>Nintendo Switch 32GB Standard cor  vermelho-né...</td>\n",
              "      <td>2349.00</td>\n",
              "    </tr>\n",
              "    <tr>\n",
              "      <th>1</th>\n",
              "      <td>Guarda-roupa Solteiro Madesa Denver 2 Portas D...</td>\n",
              "      <td>579.99</td>\n",
              "    </tr>\n",
              "    <tr>\n",
              "      <th>2</th>\n",
              "      <td>Cama Box Colchão Certificado Pillow Solteiro D...</td>\n",
              "      <td>776.70</td>\n",
              "    </tr>\n",
              "    <tr>\n",
              "      <th>3</th>\n",
              "      <td>Balcão Madesa Reims 35 Cm 1 Porta - Preto</td>\n",
              "      <td>259.99</td>\n",
              "    </tr>\n",
              "    <tr>\n",
              "      <th>4</th>\n",
              "      <td>Cama Box E Colchão Iso 100 D33 Solteiro(88x188...</td>\n",
              "      <td>779.00</td>\n",
              "    </tr>\n",
              "    <tr>\n",
              "      <th>5</th>\n",
              "      <td>10x Refletor Led 200w Holofote Prova Dágua Ip6...</td>\n",
              "      <td>1017.00</td>\n",
              "    </tr>\n",
              "    <tr>\n",
              "      <th>6</th>\n",
              "      <td>Tênis Infantil Masculino Ortopé Jogger Jr Harr...</td>\n",
              "      <td>161.91</td>\n",
              "    </tr>\n",
              "    <tr>\n",
              "      <th>7</th>\n",
              "      <td>Tela 15.6 Led Slim P/ Notebook Hd Fosca 30 Pin...</td>\n",
              "      <td>530.10</td>\n",
              "    </tr>\n",
              "    <tr>\n",
              "      <th>8</th>\n",
              "      <td>Kit 200 Máscara Caixa Descartável Tripla C/ Fi...</td>\n",
              "      <td>59.49</td>\n",
              "    </tr>\n",
              "    <tr>\n",
              "      <th>9</th>\n",
              "      <td>Mesa digitalizadora Wacom Intuos  Small  black</td>\n",
              "      <td>347.13</td>\n",
              "    </tr>\n",
              "    <tr>\n",
              "      <th>10</th>\n",
              "      <td>Ácido Cítrico Anidro 25kg - Alimentício</td>\n",
              "      <td>1062.00</td>\n",
              "    </tr>\n",
              "    <tr>\n",
              "      <th>11</th>\n",
              "      <td>Tênis Branco Feminino Ramarim</td>\n",
              "      <td>118.79</td>\n",
              "    </tr>\n",
              "    <tr>\n",
              "      <th>12</th>\n",
              "      <td>Tênis Feminino Slip On Princess Preto E Bordô ...</td>\n",
              "      <td>101.87</td>\n",
              "    </tr>\n",
              "    <tr>\n",
              "      <th>13</th>\n",
              "      <td>Mouse Gamer Multilaser 3200dpi 6 Botões Led - ...</td>\n",
              "      <td>49.90</td>\n",
              "    </tr>\n",
              "    <tr>\n",
              "      <th>14</th>\n",
              "      <td>Escova Profissional De Desembaraçar E Pentear ...</td>\n",
              "      <td>13.70</td>\n",
              "    </tr>\n",
              "    <tr>\n",
              "      <th>15</th>\n",
              "      <td>Xicara Cha Eclat 250ml Br Ntcy</td>\n",
              "      <td>39.99</td>\n",
              "    </tr>\n",
              "    <tr>\n",
              "      <th>16</th>\n",
              "      <td>Tênis Response Run Classic Masculino adidas</td>\n",
              "      <td>313.50</td>\n",
              "    </tr>\n",
              "    <tr>\n",
              "      <th>17</th>\n",
              "      <td>Carteira Feminina Multi Bege Vizzano</td>\n",
              "      <td>130.26</td>\n",
              "    </tr>\n",
              "    <tr>\n",
              "      <th>18</th>\n",
              "      <td>Sandália Feminina Tratorada Premium Preto Vern...</td>\n",
              "      <td>98.99</td>\n",
              "    </tr>\n",
              "    <tr>\n",
              "      <th>19</th>\n",
              "      <td>Bola De Campo Epp I I Club adidas</td>\n",
              "      <td>88.10</td>\n",
              "    </tr>\n",
              "    <tr>\n",
              "      <th>20</th>\n",
              "      <td>Calça Jeans Feminina Cintura Alta Lança Perfume</td>\n",
              "      <td>86.44</td>\n",
              "    </tr>\n",
              "    <tr>\n",
              "      <th>21</th>\n",
              "      <td>Shampoo Nutri Intense 200ml</td>\n",
              "      <td>14.85</td>\n",
              "    </tr>\n",
              "    <tr>\n",
              "      <th>22</th>\n",
              "      <td>Chinelo Slide Feminino Josi Preto Ramarim</td>\n",
              "      <td>92.09</td>\n",
              "    </tr>\n",
              "    <tr>\n",
              "      <th>23</th>\n",
              "      <td>Panela Wok Ceramic Life Smart Plus 3,4l Vanill...</td>\n",
              "      <td>199.90</td>\n",
              "    </tr>\n",
              "    <tr>\n",
              "      <th>24</th>\n",
              "      <td>Kit Com 12 Cuecas Masculina Boxer Em Microfibr...</td>\n",
              "      <td>128.60</td>\n",
              "    </tr>\n",
              "    <tr>\n",
              "      <th>25</th>\n",
              "      <td>Bolsa Feminina Tira Colo Preta Vizzano</td>\n",
              "      <td>175.13</td>\n",
              "    </tr>\n",
              "    <tr>\n",
              "      <th>26</th>\n",
              "      <td>Tênis Feminino Casual Com Recortes Têxtil Pret...</td>\n",
              "      <td>108.89</td>\n",
              "    </tr>\n",
              "    <tr>\n",
              "      <th>27</th>\n",
              "      <td>Camiseta Masculina Águia Tiras Cavalera</td>\n",
              "      <td>94.99</td>\n",
              "    </tr>\n",
              "    <tr>\n",
              "      <th>28</th>\n",
              "      <td>Kit Com Bolsa Tote Bag E Carteira Polo London ...</td>\n",
              "      <td>84.14</td>\n",
              "    </tr>\n",
              "    <tr>\n",
              "      <th>29</th>\n",
              "      <td>Tênis Infantil Feminino Ortopé Jogger Jr Harry...</td>\n",
              "      <td>134.91</td>\n",
              "    </tr>\n",
              "    <tr>\n",
              "      <th>30</th>\n",
              "      <td>Macaco Hidraulico 2 Ton Universal Tipo Jacarez...</td>\n",
              "      <td>198.00</td>\n",
              "    </tr>\n",
              "    <tr>\n",
              "      <th>31</th>\n",
              "      <td>Tênis Feminino Corrente Casual Preto Vizzano</td>\n",
              "      <td>68.99</td>\n",
              "    </tr>\n",
              "    <tr>\n",
              "      <th>32</th>\n",
              "      <td>Batom Hidratante Armarosa Quem Disse Berenice</td>\n",
              "      <td>22.94</td>\n",
              "    </tr>\n",
              "    <tr>\n",
              "      <th>33</th>\n",
              "      <td>Mule Feminino Nobuck Neo Liso Beira Rio</td>\n",
              "      <td>69.29</td>\n",
              "    </tr>\n",
              "    <tr>\n",
              "      <th>34</th>\n",
              "      <td>Multimidia Universal Mp5 Ekitech Eatrh Usb Blu...</td>\n",
              "      <td>322.90</td>\n",
              "    </tr>\n",
              "    <tr>\n",
              "      <th>35</th>\n",
              "      <td>Tênis Feminino Slip On Upper Animal Print Pret...</td>\n",
              "      <td>139.47</td>\n",
              "    </tr>\n",
              "    <tr>\n",
              "      <th>36</th>\n",
              "      <td>Chinelo Slide Feminino Josi Branco Ramarim</td>\n",
              "      <td>78.01</td>\n",
              "    </tr>\n",
              "    <tr>\n",
              "      <th>37</th>\n",
              "      <td>Tênis Feminino Com Aplicações Metalizadas Bran...</td>\n",
              "      <td>128.96</td>\n",
              "    </tr>\n",
              "    <tr>\n",
              "      <th>38</th>\n",
              "      <td>Conjunto Filtrante Piscina Filtro Acf40+ Bomba...</td>\n",
              "      <td>1517.00</td>\n",
              "    </tr>\n",
              "    <tr>\n",
              "      <th>39</th>\n",
              "      <td>Tamanco Preto Usaflex</td>\n",
              "      <td>99.74</td>\n",
              "    </tr>\n",
              "    <tr>\n",
              "      <th>40</th>\n",
              "      <td>Vestido Fantasia Infantil Princesas Com Luva C...</td>\n",
              "      <td>71.75</td>\n",
              "    </tr>\n",
              "    <tr>\n",
              "      <th>41</th>\n",
              "      <td>Jogo Cama Lençol 4 Peça Casal Estampado Patchw...</td>\n",
              "      <td>80.16</td>\n",
              "    </tr>\n",
              "    <tr>\n",
              "      <th>42</th>\n",
              "      <td>Kit Com 2 Bermudas Masculinas De Moletom Local</td>\n",
              "      <td>74.15</td>\n",
              "    </tr>\n",
              "    <tr>\n",
              "      <th>43</th>\n",
              "      <td>Tênis Femimnino Carol Com Amarração Tag Em Cou...</td>\n",
              "      <td>92.30</td>\n",
              "    </tr>\n",
              "    <tr>\n",
              "      <th>44</th>\n",
              "      <td>Sapato Bege Modare</td>\n",
              "      <td>52.24</td>\n",
              "    </tr>\n",
              "    <tr>\n",
              "      <th>45</th>\n",
              "      <td>Kit 10 Cuecas Sunga Cores Sortidas Lupo</td>\n",
              "      <td>185.55</td>\n",
              "    </tr>\n",
              "    <tr>\n",
              "      <th>46</th>\n",
              "      <td>Tesoura Barbeiro Dentada Desbaste Desfiadeira ...</td>\n",
              "      <td>109.99</td>\n",
              "    </tr>\n",
              "    <tr>\n",
              "      <th>47</th>\n",
              "      <td>Touca Silicone Dompel Cabelo Mechas Luzes Refl...</td>\n",
              "      <td>17.90</td>\n",
              "    </tr>\n",
              "  </tbody>\n",
              "</table>\n",
              "</div>\n",
              "      <button class=\"colab-df-convert\" onclick=\"convertToInteractive('df-87d49818-5da8-40be-91f2-c3f2408ac2ca')\"\n",
              "              title=\"Convert this dataframe to an interactive table.\"\n",
              "              style=\"display:none;\">\n",
              "        \n",
              "  <svg xmlns=\"http://www.w3.org/2000/svg\" height=\"24px\"viewBox=\"0 0 24 24\"\n",
              "       width=\"24px\">\n",
              "    <path d=\"M0 0h24v24H0V0z\" fill=\"none\"/>\n",
              "    <path d=\"M18.56 5.44l.94 2.06.94-2.06 2.06-.94-2.06-.94-.94-2.06-.94 2.06-2.06.94zm-11 1L8.5 8.5l.94-2.06 2.06-.94-2.06-.94L8.5 2.5l-.94 2.06-2.06.94zm10 10l.94 2.06.94-2.06 2.06-.94-2.06-.94-.94-2.06-.94 2.06-2.06.94z\"/><path d=\"M17.41 7.96l-1.37-1.37c-.4-.4-.92-.59-1.43-.59-.52 0-1.04.2-1.43.59L10.3 9.45l-7.72 7.72c-.78.78-.78 2.05 0 2.83L4 21.41c.39.39.9.59 1.41.59.51 0 1.02-.2 1.41-.59l7.78-7.78 2.81-2.81c.8-.78.8-2.07 0-2.86zM5.41 20L4 18.59l7.72-7.72 1.47 1.35L5.41 20z\"/>\n",
              "  </svg>\n",
              "      </button>\n",
              "      \n",
              "  <style>\n",
              "    .colab-df-container {\n",
              "      display:flex;\n",
              "      flex-wrap:wrap;\n",
              "      gap: 12px;\n",
              "    }\n",
              "\n",
              "    .colab-df-convert {\n",
              "      background-color: #E8F0FE;\n",
              "      border: none;\n",
              "      border-radius: 50%;\n",
              "      cursor: pointer;\n",
              "      display: none;\n",
              "      fill: #1967D2;\n",
              "      height: 32px;\n",
              "      padding: 0 0 0 0;\n",
              "      width: 32px;\n",
              "    }\n",
              "\n",
              "    .colab-df-convert:hover {\n",
              "      background-color: #E2EBFA;\n",
              "      box-shadow: 0px 1px 2px rgba(60, 64, 67, 0.3), 0px 1px 3px 1px rgba(60, 64, 67, 0.15);\n",
              "      fill: #174EA6;\n",
              "    }\n",
              "\n",
              "    [theme=dark] .colab-df-convert {\n",
              "      background-color: #3B4455;\n",
              "      fill: #D2E3FC;\n",
              "    }\n",
              "\n",
              "    [theme=dark] .colab-df-convert:hover {\n",
              "      background-color: #434B5C;\n",
              "      box-shadow: 0px 1px 3px 1px rgba(0, 0, 0, 0.15);\n",
              "      filter: drop-shadow(0px 1px 2px rgba(0, 0, 0, 0.3));\n",
              "      fill: #FFFFFF;\n",
              "    }\n",
              "  </style>\n",
              "\n",
              "      <script>\n",
              "        const buttonEl =\n",
              "          document.querySelector('#df-87d49818-5da8-40be-91f2-c3f2408ac2ca button.colab-df-convert');\n",
              "        buttonEl.style.display =\n",
              "          google.colab.kernel.accessAllowed ? 'block' : 'none';\n",
              "\n",
              "        async function convertToInteractive(key) {\n",
              "          const element = document.querySelector('#df-87d49818-5da8-40be-91f2-c3f2408ac2ca');\n",
              "          const dataTable =\n",
              "            await google.colab.kernel.invokeFunction('convertToInteractive',\n",
              "                                                     [key], {});\n",
              "          if (!dataTable) return;\n",
              "\n",
              "          const docLinkHtml = 'Like what you see? Visit the ' +\n",
              "            '<a target=\"_blank\" href=https://colab.research.google.com/notebooks/data_table.ipynb>data table notebook</a>'\n",
              "            + ' to learn more about interactive tables.';\n",
              "          element.innerHTML = '';\n",
              "          dataTable['output_type'] = 'display_data';\n",
              "          await google.colab.output.renderOutput(dataTable, element);\n",
              "          const docLink = document.createElement('div');\n",
              "          docLink.innerHTML = docLinkHtml;\n",
              "          element.appendChild(docLink);\n",
              "        }\n",
              "      </script>\n",
              "    </div>\n",
              "  </div>\n",
              "  "
            ]
          },
          "metadata": {},
          "execution_count": 22
        }
      ]
    },
    {
      "cell_type": "code",
      "source": [
        "ofertas.min()"
      ],
      "metadata": {
        "colab": {
          "base_uri": "https://localhost:8080/"
        },
        "id": "vOrzBo6qHesX",
        "outputId": "c6691b62-de9f-4ef3-e627-fbfa8a2cff14"
      },
      "execution_count": 23,
      "outputs": [
        {
          "output_type": "execute_result",
          "data": {
            "text/plain": [
              "Produtos    10x Refletor Led 200w Holofote Prova Dágua Ip6...\n",
              "Preços                                                   13.7\n",
              "dtype: object"
            ]
          },
          "metadata": {},
          "execution_count": 23
        }
      ]
    },
    {
      "cell_type": "code",
      "source": [
        "ofertas.max()"
      ],
      "metadata": {
        "colab": {
          "base_uri": "https://localhost:8080/"
        },
        "id": "BAou1HjqH6Yo",
        "outputId": "7fc35ad8-a2e6-46df-d5c7-59ff37c25a1b"
      },
      "execution_count": 31,
      "outputs": [
        {
          "output_type": "execute_result",
          "data": {
            "text/plain": [
              "Produtos    Ácido Cítrico Anidro 25kg - Alimentício\n",
              "Preços                                       2349.0\n",
              "dtype: object"
            ]
          },
          "metadata": {},
          "execution_count": 31
        }
      ]
    },
    {
      "cell_type": "markdown",
      "source": [
        "Vamos ordenar os produtos em ordem crescente de preço e em seguida plotá-los num gráfico de barras"
      ],
      "metadata": {
        "id": "grLEPZzZ3oah"
      }
    },
    {
      "cell_type": "code",
      "source": [
        "ofertas.sort_values(by=['Preços'], ascending = True, inplace = True)"
      ],
      "metadata": {
        "id": "O7Ia3NWxKEo4"
      },
      "execution_count": 26,
      "outputs": []
    },
    {
      "cell_type": "code",
      "source": [
        "ofertas"
      ],
      "metadata": {
        "colab": {
          "base_uri": "https://localhost:8080/",
          "height": 1000
        },
        "id": "s-Qac9GT4bNs",
        "outputId": "8a8985d2-dcfc-4a23-c753-fd9cda15aaeb"
      },
      "execution_count": 28,
      "outputs": [
        {
          "output_type": "execute_result",
          "data": {
            "text/plain": [
              "                                             Produtos   Preços\n",
              "14  Escova Profissional De Desembaraçar E Pentear ...    13.70\n",
              "21                        Shampoo Nutri Intense 200ml    14.85\n",
              "47  Touca Silicone Dompel Cabelo Mechas Luzes Refl...    17.90\n",
              "32      Batom Hidratante Armarosa Quem Disse Berenice    22.94\n",
              "15                     Xicara Cha Eclat 250ml Br Ntcy    39.99\n",
              "13  Mouse Gamer Multilaser 3200dpi 6 Botões Led - ...    49.90\n",
              "44                                 Sapato Bege Modare    52.24\n",
              "8   Kit 200 Máscara Caixa Descartável Tripla C/ Fi...    59.49\n",
              "31       Tênis Feminino Corrente Casual Preto Vizzano    68.99\n",
              "33            Mule Feminino Nobuck Neo Liso Beira Rio    69.29\n",
              "40  Vestido Fantasia Infantil Princesas Com Luva C...    71.75\n",
              "42    Kit Com 2 Bermudas Masculinas De Moletom Local     74.15\n",
              "36         Chinelo Slide Feminino Josi Branco Ramarim    78.01\n",
              "41  Jogo Cama Lençol 4 Peça Casal Estampado Patchw...    80.16\n",
              "28  Kit Com Bolsa Tote Bag E Carteira Polo London ...    84.14\n",
              "20    Calça Jeans Feminina Cintura Alta Lança Perfume    86.44\n",
              "19                  Bola De Campo Epp I I Club adidas    88.10\n",
              "22          Chinelo Slide Feminino Josi Preto Ramarim    92.09\n",
              "43  Tênis Femimnino Carol Com Amarração Tag Em Cou...    92.30\n",
              "27            Camiseta Masculina Águia Tiras Cavalera    94.99\n",
              "18  Sandália Feminina Tratorada Premium Preto Vern...    98.99\n",
              "39                              Tamanco Preto Usaflex    99.74\n",
              "12  Tênis Feminino Slip On Princess Preto E Bordô ...   101.87\n",
              "26  Tênis Feminino Casual Com Recortes Têxtil Pret...   108.89\n",
              "46  Tesoura Barbeiro Dentada Desbaste Desfiadeira ...   109.99\n",
              "11                      Tênis Branco Feminino Ramarim   118.79\n",
              "24  Kit Com 12 Cuecas Masculina Boxer Em Microfibr...   128.60\n",
              "37  Tênis Feminino Com Aplicações Metalizadas Bran...   128.96\n",
              "17               Carteira Feminina Multi Bege Vizzano   130.26\n",
              "29  Tênis Infantil Feminino Ortopé Jogger Jr Harry...   134.91\n",
              "35  Tênis Feminino Slip On Upper Animal Print Pret...   139.47\n",
              "6   Tênis Infantil Masculino Ortopé Jogger Jr Harr...   161.91\n",
              "25             Bolsa Feminina Tira Colo Preta Vizzano   175.13\n",
              "45           Kit 10 Cuecas Sunga Cores Sortidas Lupo    185.55\n",
              "30  Macaco Hidraulico 2 Ton Universal Tipo Jacarez...   198.00\n",
              "23  Panela Wok Ceramic Life Smart Plus 3,4l Vanill...   199.90\n",
              "3           Balcão Madesa Reims 35 Cm 1 Porta - Preto   259.99\n",
              "16        Tênis Response Run Classic Masculino adidas   313.50\n",
              "34  Multimidia Universal Mp5 Ekitech Eatrh Usb Blu...   322.90\n",
              "9      Mesa digitalizadora Wacom Intuos  Small  black   347.13\n",
              "7   Tela 15.6 Led Slim P/ Notebook Hd Fosca 30 Pin...   530.10\n",
              "1   Guarda-roupa Solteiro Madesa Denver 2 Portas D...   579.99\n",
              "2   Cama Box Colchão Certificado Pillow Solteiro D...   776.70\n",
              "4   Cama Box E Colchão Iso 100 D33 Solteiro(88x188...   779.00\n",
              "5   10x Refletor Led 200w Holofote Prova Dágua Ip6...  1017.00\n",
              "10            Ácido Cítrico Anidro 25kg - Alimentício  1062.00\n",
              "38  Conjunto Filtrante Piscina Filtro Acf40+ Bomba...  1517.00\n",
              "0   Nintendo Switch 32GB Standard cor  vermelho-né...  2349.00"
            ],
            "text/html": [
              "\n",
              "  <div id=\"df-dc2ce217-85d9-44d4-a9d3-20f83b7a855e\">\n",
              "    <div class=\"colab-df-container\">\n",
              "      <div>\n",
              "<style scoped>\n",
              "    .dataframe tbody tr th:only-of-type {\n",
              "        vertical-align: middle;\n",
              "    }\n",
              "\n",
              "    .dataframe tbody tr th {\n",
              "        vertical-align: top;\n",
              "    }\n",
              "\n",
              "    .dataframe thead th {\n",
              "        text-align: right;\n",
              "    }\n",
              "</style>\n",
              "<table border=\"1\" class=\"dataframe\">\n",
              "  <thead>\n",
              "    <tr style=\"text-align: right;\">\n",
              "      <th></th>\n",
              "      <th>Produtos</th>\n",
              "      <th>Preços</th>\n",
              "    </tr>\n",
              "  </thead>\n",
              "  <tbody>\n",
              "    <tr>\n",
              "      <th>14</th>\n",
              "      <td>Escova Profissional De Desembaraçar E Pentear ...</td>\n",
              "      <td>13.70</td>\n",
              "    </tr>\n",
              "    <tr>\n",
              "      <th>21</th>\n",
              "      <td>Shampoo Nutri Intense 200ml</td>\n",
              "      <td>14.85</td>\n",
              "    </tr>\n",
              "    <tr>\n",
              "      <th>47</th>\n",
              "      <td>Touca Silicone Dompel Cabelo Mechas Luzes Refl...</td>\n",
              "      <td>17.90</td>\n",
              "    </tr>\n",
              "    <tr>\n",
              "      <th>32</th>\n",
              "      <td>Batom Hidratante Armarosa Quem Disse Berenice</td>\n",
              "      <td>22.94</td>\n",
              "    </tr>\n",
              "    <tr>\n",
              "      <th>15</th>\n",
              "      <td>Xicara Cha Eclat 250ml Br Ntcy</td>\n",
              "      <td>39.99</td>\n",
              "    </tr>\n",
              "    <tr>\n",
              "      <th>13</th>\n",
              "      <td>Mouse Gamer Multilaser 3200dpi 6 Botões Led - ...</td>\n",
              "      <td>49.90</td>\n",
              "    </tr>\n",
              "    <tr>\n",
              "      <th>44</th>\n",
              "      <td>Sapato Bege Modare</td>\n",
              "      <td>52.24</td>\n",
              "    </tr>\n",
              "    <tr>\n",
              "      <th>8</th>\n",
              "      <td>Kit 200 Máscara Caixa Descartável Tripla C/ Fi...</td>\n",
              "      <td>59.49</td>\n",
              "    </tr>\n",
              "    <tr>\n",
              "      <th>31</th>\n",
              "      <td>Tênis Feminino Corrente Casual Preto Vizzano</td>\n",
              "      <td>68.99</td>\n",
              "    </tr>\n",
              "    <tr>\n",
              "      <th>33</th>\n",
              "      <td>Mule Feminino Nobuck Neo Liso Beira Rio</td>\n",
              "      <td>69.29</td>\n",
              "    </tr>\n",
              "    <tr>\n",
              "      <th>40</th>\n",
              "      <td>Vestido Fantasia Infantil Princesas Com Luva C...</td>\n",
              "      <td>71.75</td>\n",
              "    </tr>\n",
              "    <tr>\n",
              "      <th>42</th>\n",
              "      <td>Kit Com 2 Bermudas Masculinas De Moletom Local</td>\n",
              "      <td>74.15</td>\n",
              "    </tr>\n",
              "    <tr>\n",
              "      <th>36</th>\n",
              "      <td>Chinelo Slide Feminino Josi Branco Ramarim</td>\n",
              "      <td>78.01</td>\n",
              "    </tr>\n",
              "    <tr>\n",
              "      <th>41</th>\n",
              "      <td>Jogo Cama Lençol 4 Peça Casal Estampado Patchw...</td>\n",
              "      <td>80.16</td>\n",
              "    </tr>\n",
              "    <tr>\n",
              "      <th>28</th>\n",
              "      <td>Kit Com Bolsa Tote Bag E Carteira Polo London ...</td>\n",
              "      <td>84.14</td>\n",
              "    </tr>\n",
              "    <tr>\n",
              "      <th>20</th>\n",
              "      <td>Calça Jeans Feminina Cintura Alta Lança Perfume</td>\n",
              "      <td>86.44</td>\n",
              "    </tr>\n",
              "    <tr>\n",
              "      <th>19</th>\n",
              "      <td>Bola De Campo Epp I I Club adidas</td>\n",
              "      <td>88.10</td>\n",
              "    </tr>\n",
              "    <tr>\n",
              "      <th>22</th>\n",
              "      <td>Chinelo Slide Feminino Josi Preto Ramarim</td>\n",
              "      <td>92.09</td>\n",
              "    </tr>\n",
              "    <tr>\n",
              "      <th>43</th>\n",
              "      <td>Tênis Femimnino Carol Com Amarração Tag Em Cou...</td>\n",
              "      <td>92.30</td>\n",
              "    </tr>\n",
              "    <tr>\n",
              "      <th>27</th>\n",
              "      <td>Camiseta Masculina Águia Tiras Cavalera</td>\n",
              "      <td>94.99</td>\n",
              "    </tr>\n",
              "    <tr>\n",
              "      <th>18</th>\n",
              "      <td>Sandália Feminina Tratorada Premium Preto Vern...</td>\n",
              "      <td>98.99</td>\n",
              "    </tr>\n",
              "    <tr>\n",
              "      <th>39</th>\n",
              "      <td>Tamanco Preto Usaflex</td>\n",
              "      <td>99.74</td>\n",
              "    </tr>\n",
              "    <tr>\n",
              "      <th>12</th>\n",
              "      <td>Tênis Feminino Slip On Princess Preto E Bordô ...</td>\n",
              "      <td>101.87</td>\n",
              "    </tr>\n",
              "    <tr>\n",
              "      <th>26</th>\n",
              "      <td>Tênis Feminino Casual Com Recortes Têxtil Pret...</td>\n",
              "      <td>108.89</td>\n",
              "    </tr>\n",
              "    <tr>\n",
              "      <th>46</th>\n",
              "      <td>Tesoura Barbeiro Dentada Desbaste Desfiadeira ...</td>\n",
              "      <td>109.99</td>\n",
              "    </tr>\n",
              "    <tr>\n",
              "      <th>11</th>\n",
              "      <td>Tênis Branco Feminino Ramarim</td>\n",
              "      <td>118.79</td>\n",
              "    </tr>\n",
              "    <tr>\n",
              "      <th>24</th>\n",
              "      <td>Kit Com 12 Cuecas Masculina Boxer Em Microfibr...</td>\n",
              "      <td>128.60</td>\n",
              "    </tr>\n",
              "    <tr>\n",
              "      <th>37</th>\n",
              "      <td>Tênis Feminino Com Aplicações Metalizadas Bran...</td>\n",
              "      <td>128.96</td>\n",
              "    </tr>\n",
              "    <tr>\n",
              "      <th>17</th>\n",
              "      <td>Carteira Feminina Multi Bege Vizzano</td>\n",
              "      <td>130.26</td>\n",
              "    </tr>\n",
              "    <tr>\n",
              "      <th>29</th>\n",
              "      <td>Tênis Infantil Feminino Ortopé Jogger Jr Harry...</td>\n",
              "      <td>134.91</td>\n",
              "    </tr>\n",
              "    <tr>\n",
              "      <th>35</th>\n",
              "      <td>Tênis Feminino Slip On Upper Animal Print Pret...</td>\n",
              "      <td>139.47</td>\n",
              "    </tr>\n",
              "    <tr>\n",
              "      <th>6</th>\n",
              "      <td>Tênis Infantil Masculino Ortopé Jogger Jr Harr...</td>\n",
              "      <td>161.91</td>\n",
              "    </tr>\n",
              "    <tr>\n",
              "      <th>25</th>\n",
              "      <td>Bolsa Feminina Tira Colo Preta Vizzano</td>\n",
              "      <td>175.13</td>\n",
              "    </tr>\n",
              "    <tr>\n",
              "      <th>45</th>\n",
              "      <td>Kit 10 Cuecas Sunga Cores Sortidas Lupo</td>\n",
              "      <td>185.55</td>\n",
              "    </tr>\n",
              "    <tr>\n",
              "      <th>30</th>\n",
              "      <td>Macaco Hidraulico 2 Ton Universal Tipo Jacarez...</td>\n",
              "      <td>198.00</td>\n",
              "    </tr>\n",
              "    <tr>\n",
              "      <th>23</th>\n",
              "      <td>Panela Wok Ceramic Life Smart Plus 3,4l Vanill...</td>\n",
              "      <td>199.90</td>\n",
              "    </tr>\n",
              "    <tr>\n",
              "      <th>3</th>\n",
              "      <td>Balcão Madesa Reims 35 Cm 1 Porta - Preto</td>\n",
              "      <td>259.99</td>\n",
              "    </tr>\n",
              "    <tr>\n",
              "      <th>16</th>\n",
              "      <td>Tênis Response Run Classic Masculino adidas</td>\n",
              "      <td>313.50</td>\n",
              "    </tr>\n",
              "    <tr>\n",
              "      <th>34</th>\n",
              "      <td>Multimidia Universal Mp5 Ekitech Eatrh Usb Blu...</td>\n",
              "      <td>322.90</td>\n",
              "    </tr>\n",
              "    <tr>\n",
              "      <th>9</th>\n",
              "      <td>Mesa digitalizadora Wacom Intuos  Small  black</td>\n",
              "      <td>347.13</td>\n",
              "    </tr>\n",
              "    <tr>\n",
              "      <th>7</th>\n",
              "      <td>Tela 15.6 Led Slim P/ Notebook Hd Fosca 30 Pin...</td>\n",
              "      <td>530.10</td>\n",
              "    </tr>\n",
              "    <tr>\n",
              "      <th>1</th>\n",
              "      <td>Guarda-roupa Solteiro Madesa Denver 2 Portas D...</td>\n",
              "      <td>579.99</td>\n",
              "    </tr>\n",
              "    <tr>\n",
              "      <th>2</th>\n",
              "      <td>Cama Box Colchão Certificado Pillow Solteiro D...</td>\n",
              "      <td>776.70</td>\n",
              "    </tr>\n",
              "    <tr>\n",
              "      <th>4</th>\n",
              "      <td>Cama Box E Colchão Iso 100 D33 Solteiro(88x188...</td>\n",
              "      <td>779.00</td>\n",
              "    </tr>\n",
              "    <tr>\n",
              "      <th>5</th>\n",
              "      <td>10x Refletor Led 200w Holofote Prova Dágua Ip6...</td>\n",
              "      <td>1017.00</td>\n",
              "    </tr>\n",
              "    <tr>\n",
              "      <th>10</th>\n",
              "      <td>Ácido Cítrico Anidro 25kg - Alimentício</td>\n",
              "      <td>1062.00</td>\n",
              "    </tr>\n",
              "    <tr>\n",
              "      <th>38</th>\n",
              "      <td>Conjunto Filtrante Piscina Filtro Acf40+ Bomba...</td>\n",
              "      <td>1517.00</td>\n",
              "    </tr>\n",
              "    <tr>\n",
              "      <th>0</th>\n",
              "      <td>Nintendo Switch 32GB Standard cor  vermelho-né...</td>\n",
              "      <td>2349.00</td>\n",
              "    </tr>\n",
              "  </tbody>\n",
              "</table>\n",
              "</div>\n",
              "      <button class=\"colab-df-convert\" onclick=\"convertToInteractive('df-dc2ce217-85d9-44d4-a9d3-20f83b7a855e')\"\n",
              "              title=\"Convert this dataframe to an interactive table.\"\n",
              "              style=\"display:none;\">\n",
              "        \n",
              "  <svg xmlns=\"http://www.w3.org/2000/svg\" height=\"24px\"viewBox=\"0 0 24 24\"\n",
              "       width=\"24px\">\n",
              "    <path d=\"M0 0h24v24H0V0z\" fill=\"none\"/>\n",
              "    <path d=\"M18.56 5.44l.94 2.06.94-2.06 2.06-.94-2.06-.94-.94-2.06-.94 2.06-2.06.94zm-11 1L8.5 8.5l.94-2.06 2.06-.94-2.06-.94L8.5 2.5l-.94 2.06-2.06.94zm10 10l.94 2.06.94-2.06 2.06-.94-2.06-.94-.94-2.06-.94 2.06-2.06.94z\"/><path d=\"M17.41 7.96l-1.37-1.37c-.4-.4-.92-.59-1.43-.59-.52 0-1.04.2-1.43.59L10.3 9.45l-7.72 7.72c-.78.78-.78 2.05 0 2.83L4 21.41c.39.39.9.59 1.41.59.51 0 1.02-.2 1.41-.59l7.78-7.78 2.81-2.81c.8-.78.8-2.07 0-2.86zM5.41 20L4 18.59l7.72-7.72 1.47 1.35L5.41 20z\"/>\n",
              "  </svg>\n",
              "      </button>\n",
              "      \n",
              "  <style>\n",
              "    .colab-df-container {\n",
              "      display:flex;\n",
              "      flex-wrap:wrap;\n",
              "      gap: 12px;\n",
              "    }\n",
              "\n",
              "    .colab-df-convert {\n",
              "      background-color: #E8F0FE;\n",
              "      border: none;\n",
              "      border-radius: 50%;\n",
              "      cursor: pointer;\n",
              "      display: none;\n",
              "      fill: #1967D2;\n",
              "      height: 32px;\n",
              "      padding: 0 0 0 0;\n",
              "      width: 32px;\n",
              "    }\n",
              "\n",
              "    .colab-df-convert:hover {\n",
              "      background-color: #E2EBFA;\n",
              "      box-shadow: 0px 1px 2px rgba(60, 64, 67, 0.3), 0px 1px 3px 1px rgba(60, 64, 67, 0.15);\n",
              "      fill: #174EA6;\n",
              "    }\n",
              "\n",
              "    [theme=dark] .colab-df-convert {\n",
              "      background-color: #3B4455;\n",
              "      fill: #D2E3FC;\n",
              "    }\n",
              "\n",
              "    [theme=dark] .colab-df-convert:hover {\n",
              "      background-color: #434B5C;\n",
              "      box-shadow: 0px 1px 3px 1px rgba(0, 0, 0, 0.15);\n",
              "      filter: drop-shadow(0px 1px 2px rgba(0, 0, 0, 0.3));\n",
              "      fill: #FFFFFF;\n",
              "    }\n",
              "  </style>\n",
              "\n",
              "      <script>\n",
              "        const buttonEl =\n",
              "          document.querySelector('#df-dc2ce217-85d9-44d4-a9d3-20f83b7a855e button.colab-df-convert');\n",
              "        buttonEl.style.display =\n",
              "          google.colab.kernel.accessAllowed ? 'block' : 'none';\n",
              "\n",
              "        async function convertToInteractive(key) {\n",
              "          const element = document.querySelector('#df-dc2ce217-85d9-44d4-a9d3-20f83b7a855e');\n",
              "          const dataTable =\n",
              "            await google.colab.kernel.invokeFunction('convertToInteractive',\n",
              "                                                     [key], {});\n",
              "          if (!dataTable) return;\n",
              "\n",
              "          const docLinkHtml = 'Like what you see? Visit the ' +\n",
              "            '<a target=\"_blank\" href=https://colab.research.google.com/notebooks/data_table.ipynb>data table notebook</a>'\n",
              "            + ' to learn more about interactive tables.';\n",
              "          element.innerHTML = '';\n",
              "          dataTable['output_type'] = 'display_data';\n",
              "          await google.colab.output.renderOutput(dataTable, element);\n",
              "          const docLink = document.createElement('div');\n",
              "          docLink.innerHTML = docLinkHtml;\n",
              "          element.appendChild(docLink);\n",
              "        }\n",
              "      </script>\n",
              "    </div>\n",
              "  </div>\n",
              "  "
            ]
          },
          "metadata": {},
          "execution_count": 28
        }
      ]
    },
    {
      "cell_type": "code",
      "source": [
        "import matplotlib.pyplot as plt\n",
        "fig = plt.figure(figsize=(10, 10))\n",
        "ax = fig.add_axes([0,0,1,1])\n",
        "produtos = ofertas['Produtos']\n",
        "precos_produtos = ofertas['Preços']\n",
        "\n",
        "ax.barh(produtos, precos_produtos, align='center')\n",
        "\n",
        "plt.show()"
      ],
      "metadata": {
        "colab": {
          "base_uri": "https://localhost:8080/",
          "height": 768
        },
        "id": "Lrk1fXFhIzkp",
        "outputId": "52f32a97-3a58-45c4-f3dc-c495d5b542bf"
      },
      "execution_count": 33,
      "outputs": [
        {
          "output_type": "display_data",
          "data": {
            "text/plain": [
              "<Figure size 720x720 with 1 Axes>"
            ],
            "image/png": "[encoded data removed]"
          },
          "metadata": {
            "needs_background": "light"
          }
        }
      ]
    },
    {
      "cell_type": "code",
      "source": [
        ""
      ],
      "metadata": {
        "id": "MSYKzCvAKBOv"
      },
      "execution_count": null,
      "outputs": []
    }
  ],
  "metadata": {
    "colab": {
      "collapsed_sections": [],
      "name": "20220324_Webscraping_Python - Insper Jr.ipynb",
      "provenance": [],
      "include_colab_link": true
    },
    "kernelspec": {
      "display_name": "Python 3 (ipykernel)",
      "language": "python",
      "name": "python3"
    },
    "language_info": {
      "codemirror_mode": {
        "name": "ipython",
        "version": 3
      },
      "file_extension": ".py",
      "mimetype": "text/x-python",
      "name": "python",
      "nbconvert_exporter": "python",
      "pygments_lexer": "ipython3",
      "version": "3.9.7"
    },
    "toc-autonumbering": false,
    "toc-showcode": true,
    "toc-showmarkdowntxt": false
  },
  "nbformat": 4,
  "nbformat_minor": 0
}