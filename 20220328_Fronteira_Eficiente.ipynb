{
  "nbformat": 4,
  "nbformat_minor": 0,
  "metadata": {
    "colab": {
      "name": "20220328 - Fronteira Eficiente.ipynb",
      "provenance": [],
      "authorship_tag": "ABX9TyN411+0fpg3bBygY/xRZBrl",
      "include_colab_link": true
    },
    "kernelspec": {
      "name": "python3",
      "display_name": "Python 3"
    },
    "language_info": {
      "name": "python"
    }
  },
  "cells": [
    {
      "cell_type": "markdown",
      "metadata": {
        "id": "view-in-github",
        "colab_type": "text"
      },
      "source": [
        "<a href=\"https://colab.research.google.com/github/victorncg/aulas_palestras/blob/main/20220328_Fronteira_Eficiente.ipynb\" target=\"_parent\"><img src=\"https://colab.research.google.com/assets/colab-badge.svg\" alt=\"Open In Colab\"/></a>"
      ]
    },
    {
      "cell_type": "markdown",
      "source": [
        "# **Demonstração da Fronteira Eficiente**"
      ],
      "metadata": {
        "id": "SfxfH3a5q4qQ"
      }
    },
    {
      "cell_type": "markdown",
      "source": [
        "Fronteira Eficiente é um conceito apresentado por Harry Markowitz. Nele é apresentado que o risco de uma carteira não é dado simplesmente pela média dos ativos individuais, mas sim pela diversificação da carteira de investimento como um todo.\n",
        "\n",
        "\n",
        "\n",
        "\n",
        "Mais:\n",
        "https://www.suno.com.br/artigos/fronteira-eficiente/#:~:text=Fronteira%20Eficiente%20%C3%A9%20um%20conceito,de%20investimento%20como%20um%20todo."
      ],
      "metadata": {
        "id": "Zd21UiZQq9iT"
      }
    },
    {
      "cell_type": "markdown",
      "metadata": {
        "id": "S3Zl9DjhtTRD"
      },
      "source": [
        "# 1. Instalando e Importando bibliotecas"
      ]
    },
    {
      "cell_type": "code",
      "source": [
        "!pip install yfinance"
      ],
      "metadata": {
        "colab": {
          "base_uri": "https://localhost:8080/"
        },
        "id": "meL4TlVSn8st",
        "outputId": "6d506607-6622-473d-a942-9de8c609456c"
      },
      "execution_count": 182,
      "outputs": [
        {
          "output_type": "stream",
          "name": "stdout",
          "text": [
            "Requirement already satisfied: yfinance in /usr/local/lib/python3.7/dist-packages (0.1.70)\n",
            "Requirement already satisfied: multitasking>=0.0.7 in /usr/local/lib/python3.7/dist-packages (from yfinance) (0.0.10)\n",
            "Requirement already satisfied: lxml>=4.5.1 in /usr/local/lib/python3.7/dist-packages (from yfinance) (4.8.0)\n",
            "Requirement already satisfied: requests>=2.26 in /usr/local/lib/python3.7/dist-packages (from yfinance) (2.27.1)\n",
            "Requirement already satisfied: pandas>=0.24.0 in /usr/local/lib/python3.7/dist-packages (from yfinance) (1.3.5)\n",
            "Requirement already satisfied: numpy>=1.15 in /usr/local/lib/python3.7/dist-packages (from yfinance) (1.21.5)\n",
            "Requirement already satisfied: pytz>=2017.3 in /usr/local/lib/python3.7/dist-packages (from pandas>=0.24.0->yfinance) (2018.9)\n",
            "Requirement already satisfied: python-dateutil>=2.7.3 in /usr/local/lib/python3.7/dist-packages (from pandas>=0.24.0->yfinance) (2.8.2)\n",
            "Requirement already satisfied: six>=1.5 in /usr/local/lib/python3.7/dist-packages (from python-dateutil>=2.7.3->pandas>=0.24.0->yfinance) (1.15.0)\n",
            "Requirement already satisfied: certifi>=2017.4.17 in /usr/local/lib/python3.7/dist-packages (from requests>=2.26->yfinance) (2021.10.8)\n",
            "Requirement already satisfied: idna<4,>=2.5 in /usr/local/lib/python3.7/dist-packages (from requests>=2.26->yfinance) (2.10)\n",
            "Requirement already satisfied: urllib3<1.27,>=1.21.1 in /usr/local/lib/python3.7/dist-packages (from requests>=2.26->yfinance) (1.24.3)\n",
            "Requirement already satisfied: charset-normalizer~=2.0.0 in /usr/local/lib/python3.7/dist-packages (from requests>=2.26->yfinance) (2.0.12)\n"
          ]
        }
      ]
    },
    {
      "cell_type": "code",
      "metadata": {
        "id": "Gc6MI5dknHDC"
      },
      "source": [
        "import pandas as pd\n",
        "import numpy as np\n",
        "import yfinance as yf\n",
        "import matplotlib.pyplot as plt\n",
        "import seaborn as sns"
      ],
      "execution_count": 183,
      "outputs": []
    },
    {
      "cell_type": "markdown",
      "source": [
        "# 2. Selecionar ativos da carteira"
      ],
      "metadata": {
        "id": "kTlAafsYtxel"
      }
    },
    {
      "cell_type": "code",
      "metadata": {
        "id": "M_3LjGim0opb"
      },
      "source": [
        "ativos = ['ABEV3.SA', 'AAPL34.SA','EQTL3.SA', 'LREN3.SA', \n",
        "          'CIEL3.SA', 'RADL3.SA', 'RENT3.SA', 'MDIA3.SA', \n",
        "          'WEGE3.SA', 'EZTC3.SA', 'FLRY3.SA','BOVA11.SA', 'TSLA34.SA']"
      ],
      "execution_count": 188,
      "outputs": []
    },
    {
      "cell_type": "markdown",
      "source": [
        ""
      ],
      "metadata": {
        "id": "R16TGf_4Gsgl"
      }
    },
    {
      "cell_type": "code",
      "source": [
        "inicio = '2016-01-01'\n",
        "fim = '2022-03-28'"
      ],
      "metadata": {
        "id": "Kxh0bs4zpEsw"
      },
      "execution_count": 189,
      "outputs": []
    },
    {
      "cell_type": "code",
      "source": [
        "yf.download('PRIO3.SA', start = inicio, end = fim).head()"
      ],
      "metadata": {
        "colab": {
          "base_uri": "https://localhost:8080/",
          "height": 255
        },
        "id": "l2A2UL9_GN5K",
        "outputId": "64b5539f-43be-4618-ee6f-332a74cdf75b"
      },
      "execution_count": 186,
      "outputs": [
        {
          "output_type": "stream",
          "name": "stdout",
          "text": [
            "\r[*********************100%***********************]  1 of 1 completed\n"
          ]
        },
        {
          "output_type": "execute_result",
          "data": {
            "text/plain": [
              "             Open   High    Low  Close  Adj Close  Volume\n",
              "Date                                                     \n",
              "2016-01-04  0.235  0.239  0.226  0.230      0.230  378000\n",
              "2016-01-05  0.250  0.250  0.224  0.224      0.224  414000\n",
              "2016-01-06  0.220  0.224  0.216  0.223      0.223  419000\n",
              "2016-01-07  0.216  0.225  0.213  0.225      0.225  657000\n",
              "2016-01-08  0.229  0.229  0.215  0.215      0.215  180000"
            ],
            "text/html": [
              "\n",
              "  <div id=\"df-030df73f-99b7-4ddb-8c8c-5fb443c1d91b\">\n",
              "    <div class=\"colab-df-container\">\n",
              "      <div>\n",
              "<style scoped>\n",
              "    .dataframe tbody tr th:only-of-type {\n",
              "        vertical-align: middle;\n",
              "    }\n",
              "\n",
              "    .dataframe tbody tr th {\n",
              "        vertical-align: top;\n",
              "    }\n",
              "\n",
              "    .dataframe thead th {\n",
              "        text-align: right;\n",
              "    }\n",
              "</style>\n",
              "<table border=\"1\" class=\"dataframe\">\n",
              "  <thead>\n",
              "    <tr style=\"text-align: right;\">\n",
              "      <th></th>\n",
              "      <th>Open</th>\n",
              "      <th>High</th>\n",
              "      <th>Low</th>\n",
              "      <th>Close</th>\n",
              "      <th>Adj Close</th>\n",
              "      <th>Volume</th>\n",
              "    </tr>\n",
              "    <tr>\n",
              "      <th>Date</th>\n",
              "      <th></th>\n",
              "      <th></th>\n",
              "      <th></th>\n",
              "      <th></th>\n",
              "      <th></th>\n",
              "      <th></th>\n",
              "    </tr>\n",
              "  </thead>\n",
              "  <tbody>\n",
              "    <tr>\n",
              "      <th>2016-01-04</th>\n",
              "      <td>0.235</td>\n",
              "      <td>0.239</td>\n",
              "      <td>0.226</td>\n",
              "      <td>0.230</td>\n",
              "      <td>0.230</td>\n",
              "      <td>378000</td>\n",
              "    </tr>\n",
              "    <tr>\n",
              "      <th>2016-01-05</th>\n",
              "      <td>0.250</td>\n",
              "      <td>0.250</td>\n",
              "      <td>0.224</td>\n",
              "      <td>0.224</td>\n",
              "      <td>0.224</td>\n",
              "      <td>414000</td>\n",
              "    </tr>\n",
              "    <tr>\n",
              "      <th>2016-01-06</th>\n",
              "      <td>0.220</td>\n",
              "      <td>0.224</td>\n",
              "      <td>0.216</td>\n",
              "      <td>0.223</td>\n",
              "      <td>0.223</td>\n",
              "      <td>419000</td>\n",
              "    </tr>\n",
              "    <tr>\n",
              "      <th>2016-01-07</th>\n",
              "      <td>0.216</td>\n",
              "      <td>0.225</td>\n",
              "      <td>0.213</td>\n",
              "      <td>0.225</td>\n",
              "      <td>0.225</td>\n",
              "      <td>657000</td>\n",
              "    </tr>\n",
              "    <tr>\n",
              "      <th>2016-01-08</th>\n",
              "      <td>0.229</td>\n",
              "      <td>0.229</td>\n",
              "      <td>0.215</td>\n",
              "      <td>0.215</td>\n",
              "      <td>0.215</td>\n",
              "      <td>180000</td>\n",
              "    </tr>\n",
              "  </tbody>\n",
              "</table>\n",
              "</div>\n",
              "      <button class=\"colab-df-convert\" onclick=\"convertToInteractive('df-030df73f-99b7-4ddb-8c8c-5fb443c1d91b')\"\n",
              "              title=\"Convert this dataframe to an interactive table.\"\n",
              "              style=\"display:none;\">\n",
              "        \n",
              "  <svg xmlns=\"http://www.w3.org/2000/svg\" height=\"24px\"viewBox=\"0 0 24 24\"\n",
              "       width=\"24px\">\n",
              "    <path d=\"M0 0h24v24H0V0z\" fill=\"none\"/>\n",
              "    <path d=\"M18.56 5.44l.94 2.06.94-2.06 2.06-.94-2.06-.94-.94-2.06-.94 2.06-2.06.94zm-11 1L8.5 8.5l.94-2.06 2.06-.94-2.06-.94L8.5 2.5l-.94 2.06-2.06.94zm10 10l.94 2.06.94-2.06 2.06-.94-2.06-.94-.94-2.06-.94 2.06-2.06.94z\"/><path d=\"M17.41 7.96l-1.37-1.37c-.4-.4-.92-.59-1.43-.59-.52 0-1.04.2-1.43.59L10.3 9.45l-7.72 7.72c-.78.78-.78 2.05 0 2.83L4 21.41c.39.39.9.59 1.41.59.51 0 1.02-.2 1.41-.59l7.78-7.78 2.81-2.81c.8-.78.8-2.07 0-2.86zM5.41 20L4 18.59l7.72-7.72 1.47 1.35L5.41 20z\"/>\n",
              "  </svg>\n",
              "      </button>\n",
              "      \n",
              "  <style>\n",
              "    .colab-df-container {\n",
              "      display:flex;\n",
              "      flex-wrap:wrap;\n",
              "      gap: 12px;\n",
              "    }\n",
              "\n",
              "    .colab-df-convert {\n",
              "      background-color: #E8F0FE;\n",
              "      border: none;\n",
              "      border-radius: 50%;\n",
              "      cursor: pointer;\n",
              "      display: none;\n",
              "      fill: #1967D2;\n",
              "      height: 32px;\n",
              "      padding: 0 0 0 0;\n",
              "      width: 32px;\n",
              "    }\n",
              "\n",
              "    .colab-df-convert:hover {\n",
              "      background-color: #E2EBFA;\n",
              "      box-shadow: 0px 1px 2px rgba(60, 64, 67, 0.3), 0px 1px 3px 1px rgba(60, 64, 67, 0.15);\n",
              "      fill: #174EA6;\n",
              "    }\n",
              "\n",
              "    [theme=dark] .colab-df-convert {\n",
              "      background-color: #3B4455;\n",
              "      fill: #D2E3FC;\n",
              "    }\n",
              "\n",
              "    [theme=dark] .colab-df-convert:hover {\n",
              "      background-color: #434B5C;\n",
              "      box-shadow: 0px 1px 3px 1px rgba(0, 0, 0, 0.15);\n",
              "      filter: drop-shadow(0px 1px 2px rgba(0, 0, 0, 0.3));\n",
              "      fill: #FFFFFF;\n",
              "    }\n",
              "  </style>\n",
              "\n",
              "      <script>\n",
              "        const buttonEl =\n",
              "          document.querySelector('#df-030df73f-99b7-4ddb-8c8c-5fb443c1d91b button.colab-df-convert');\n",
              "        buttonEl.style.display =\n",
              "          google.colab.kernel.accessAllowed ? 'block' : 'none';\n",
              "\n",
              "        async function convertToInteractive(key) {\n",
              "          const element = document.querySelector('#df-030df73f-99b7-4ddb-8c8c-5fb443c1d91b');\n",
              "          const dataTable =\n",
              "            await google.colab.kernel.invokeFunction('convertToInteractive',\n",
              "                                                     [key], {});\n",
              "          if (!dataTable) return;\n",
              "\n",
              "          const docLinkHtml = 'Like what you see? Visit the ' +\n",
              "            '<a target=\"_blank\" href=https://colab.research.google.com/notebooks/data_table.ipynb>data table notebook</a>'\n",
              "            + ' to learn more about interactive tables.';\n",
              "          element.innerHTML = '';\n",
              "          dataTable['output_type'] = 'display_data';\n",
              "          await google.colab.output.renderOutput(dataTable, element);\n",
              "          const docLink = document.createElement('div');\n",
              "          docLink.innerHTML = docLinkHtml;\n",
              "          element.appendChild(docLink);\n",
              "        }\n",
              "      </script>\n",
              "    </div>\n",
              "  </div>\n",
              "  "
            ]
          },
          "metadata": {},
          "execution_count": 186
        }
      ]
    },
    {
      "cell_type": "code",
      "metadata": {
        "id": "nBzJ4OvQ06PK",
        "colab": {
          "base_uri": "https://localhost:8080/"
        },
        "outputId": "a113c609-d1c0-4975-e04c-c012458c9a06"
      },
      "source": [
        "df = yf.download(ativos, start = inicio, end = fim)['Adj Close']"
      ],
      "execution_count": 190,
      "outputs": [
        {
          "output_type": "stream",
          "name": "stdout",
          "text": [
            "[*********************100%***********************]  13 of 13 completed\n"
          ]
        }
      ]
    },
    {
      "cell_type": "markdown",
      "source": [
        "# 3. Visualizando os preços"
      ],
      "metadata": {
        "id": "ljf40oe41d4B"
      }
    },
    {
      "cell_type": "code",
      "metadata": {
        "colab": {
          "base_uri": "https://localhost:8080/",
          "height": 578
        },
        "id": "nM7grpmA1hBL",
        "outputId": "de80e51a-46d5-4b0a-8ba3-2ad582ce58b2"
      },
      "source": [
        "df.plot(figsize = (10,10))"
      ],
      "execution_count": 191,
      "outputs": [
        {
          "output_type": "execute_result",
          "data": {
            "text/plain": [
              "<matplotlib.axes._subplots.AxesSubplot at 0x7fdcde14d0d0>"
            ]
          },
          "metadata": {},
          "execution_count": 191
        },
        {
          "output_type": "display_data",
          "data": {
            "text/plain": [
              "<Figure size 720x720 with 1 Axes>"
            ],
            "image/png": "[encoded data removed]"
          },
          "metadata": {}
        }
      ]
    },
    {
      "cell_type": "code",
      "source": [
        "((df/df.iloc[0])*100).plot(figsize = (10,10))"
      ],
      "metadata": {
        "colab": {
          "base_uri": "https://localhost:8080/",
          "height": 578
        },
        "id": "eltFad_qrd1E",
        "outputId": "5941a5f6-a4bf-44bc-ccb8-52fe564769f5"
      },
      "execution_count": 192,
      "outputs": [
        {
          "output_type": "execute_result",
          "data": {
            "text/plain": [
              "<matplotlib.axes._subplots.AxesSubplot at 0x7fdcf40b9d10>"
            ]
          },
          "metadata": {},
          "execution_count": 192
        },
        {
          "output_type": "display_data",
          "data": {
            "text/plain": [
              "<Figure size 720x720 with 1 Axes>"
            ],
            "image/png": "[encoded data removed]"
          },
          "metadata": {}
        }
      ]
    },
    {
      "cell_type": "code",
      "metadata": {
        "colab": {
          "base_uri": "https://localhost:8080/",
          "height": 368
        },
        "id": "h7cDbFws1koT",
        "outputId": "c5aadc83-54bf-42ab-9b53-72c6ae3033c0"
      },
      "source": [
        "df.tail()"
      ],
      "execution_count": 194,
      "outputs": [
        {
          "output_type": "execute_result",
          "data": {
            "text/plain": [
              "            AAPL34.SA  ABEV3.SA   BOVA11.SA  CIEL3.SA   EQTL3.SA   EZTC3.SA  \\\n",
              "Date                                                                          \n",
              "2022-03-21  81.199997     14.18  111.940002      2.70  26.820000  17.556421   \n",
              "2022-03-22  83.099998     14.38  113.099998      2.69  27.240000  18.219664   \n",
              "2022-03-23  82.809998     14.19  112.900002      2.71  27.100000  18.410000   \n",
              "2022-03-24  84.139999     14.20  114.739998      2.83  27.500000  19.230000   \n",
              "2022-03-25  82.760002     14.32  114.750000      2.89  27.299999  19.969999   \n",
              "\n",
              "             FLRY3.SA   LREN3.SA   MDIA3.SA   RADL3.SA   RENT3.SA   TSLA34.SA  \\\n",
              "Date                                                                            \n",
              "2022-03-21  15.702421  23.901062  20.670000  22.450001  55.250000  141.389999   \n",
              "2022-03-22  16.210188  24.756090  21.400000  22.780001  57.389999  152.419998   \n",
              "2022-03-23  15.530000  26.150000  21.990000  22.950001  57.520000  150.880005   \n",
              "2022-03-24  15.730000  27.650000  22.830000  23.290001  59.160000  152.800003   \n",
              "2022-03-25  16.180000  27.580000  23.139999  23.680000  60.830002  149.250000   \n",
              "\n",
              "             WEGE3.SA  \n",
              "Date                   \n",
              "2022-03-21  32.513603  \n",
              "2022-03-22  32.963100  \n",
              "2022-03-23  32.713383  \n",
              "2022-03-24  33.092957  \n",
              "2022-03-25  32.843239  "
            ],
            "text/html": [
              "\n",
              "  <div id=\"df-5a7b4f63-4e71-4c8c-a798-126854df41f9\">\n",
              "    <div class=\"colab-df-container\">\n",
              "      <div>\n",
              "<style scoped>\n",
              "    .dataframe tbody tr th:only-of-type {\n",
              "        vertical-align: middle;\n",
              "    }\n",
              "\n",
              "    .dataframe tbody tr th {\n",
              "        vertical-align: top;\n",
              "    }\n",
              "\n",
              "    .dataframe thead th {\n",
              "        text-align: right;\n",
              "    }\n",
              "</style>\n",
              "<table border=\"1\" class=\"dataframe\">\n",
              "  <thead>\n",
              "    <tr style=\"text-align: right;\">\n",
              "      <th></th>\n",
              "      <th>AAPL34.SA</th>\n",
              "      <th>ABEV3.SA</th>\n",
              "      <th>BOVA11.SA</th>\n",
              "      <th>CIEL3.SA</th>\n",
              "      <th>EQTL3.SA</th>\n",
              "      <th>EZTC3.SA</th>\n",
              "      <th>FLRY3.SA</th>\n",
              "      <th>LREN3.SA</th>\n",
              "      <th>MDIA3.SA</th>\n",
              "      <th>RADL3.SA</th>\n",
              "      <th>RENT3.SA</th>\n",
              "      <th>TSLA34.SA</th>\n",
              "      <th>WEGE3.SA</th>\n",
              "    </tr>\n",
              "    <tr>\n",
              "      <th>Date</th>\n",
              "      <th></th>\n",
              "      <th></th>\n",
              "      <th></th>\n",
              "      <th></th>\n",
              "      <th></th>\n",
              "      <th></th>\n",
              "      <th></th>\n",
              "      <th></th>\n",
              "      <th></th>\n",
              "      <th></th>\n",
              "      <th></th>\n",
              "      <th></th>\n",
              "      <th></th>\n",
              "    </tr>\n",
              "  </thead>\n",
              "  <tbody>\n",
              "    <tr>\n",
              "      <th>2022-03-21</th>\n",
              "      <td>81.199997</td>\n",
              "      <td>14.18</td>\n",
              "      <td>111.940002</td>\n",
              "      <td>2.70</td>\n",
              "      <td>26.820000</td>\n",
              "      <td>17.556421</td>\n",
              "      <td>15.702421</td>\n",
              "      <td>23.901062</td>\n",
              "      <td>20.670000</td>\n",
              "      <td>22.450001</td>\n",
              "      <td>55.250000</td>\n",
              "      <td>141.389999</td>\n",
              "      <td>32.513603</td>\n",
              "    </tr>\n",
              "    <tr>\n",
              "      <th>2022-03-22</th>\n",
              "      <td>83.099998</td>\n",
              "      <td>14.38</td>\n",
              "      <td>113.099998</td>\n",
              "      <td>2.69</td>\n",
              "      <td>27.240000</td>\n",
              "      <td>18.219664</td>\n",
              "      <td>16.210188</td>\n",
              "      <td>24.756090</td>\n",
              "      <td>21.400000</td>\n",
              "      <td>22.780001</td>\n",
              "      <td>57.389999</td>\n",
              "      <td>152.419998</td>\n",
              "      <td>32.963100</td>\n",
              "    </tr>\n",
              "    <tr>\n",
              "      <th>2022-03-23</th>\n",
              "      <td>82.809998</td>\n",
              "      <td>14.19</td>\n",
              "      <td>112.900002</td>\n",
              "      <td>2.71</td>\n",
              "      <td>27.100000</td>\n",
              "      <td>18.410000</td>\n",
              "      <td>15.530000</td>\n",
              "      <td>26.150000</td>\n",
              "      <td>21.990000</td>\n",
              "      <td>22.950001</td>\n",
              "      <td>57.520000</td>\n",
              "      <td>150.880005</td>\n",
              "      <td>32.713383</td>\n",
              "    </tr>\n",
              "    <tr>\n",
              "      <th>2022-03-24</th>\n",
              "      <td>84.139999</td>\n",
              "      <td>14.20</td>\n",
              "      <td>114.739998</td>\n",
              "      <td>2.83</td>\n",
              "      <td>27.500000</td>\n",
              "      <td>19.230000</td>\n",
              "      <td>15.730000</td>\n",
              "      <td>27.650000</td>\n",
              "      <td>22.830000</td>\n",
              "      <td>23.290001</td>\n",
              "      <td>59.160000</td>\n",
              "      <td>152.800003</td>\n",
              "      <td>33.092957</td>\n",
              "    </tr>\n",
              "    <tr>\n",
              "      <th>2022-03-25</th>\n",
              "      <td>82.760002</td>\n",
              "      <td>14.32</td>\n",
              "      <td>114.750000</td>\n",
              "      <td>2.89</td>\n",
              "      <td>27.299999</td>\n",
              "      <td>19.969999</td>\n",
              "      <td>16.180000</td>\n",
              "      <td>27.580000</td>\n",
              "      <td>23.139999</td>\n",
              "      <td>23.680000</td>\n",
              "      <td>60.830002</td>\n",
              "      <td>149.250000</td>\n",
              "      <td>32.843239</td>\n",
              "    </tr>\n",
              "  </tbody>\n",
              "</table>\n",
              "</div>\n",
              "      <button class=\"colab-df-convert\" onclick=\"convertToInteractive('df-5a7b4f63-4e71-4c8c-a798-126854df41f9')\"\n",
              "              title=\"Convert this dataframe to an interactive table.\"\n",
              "              style=\"display:none;\">\n",
              "        \n",
              "  <svg xmlns=\"http://www.w3.org/2000/svg\" height=\"24px\"viewBox=\"0 0 24 24\"\n",
              "       width=\"24px\">\n",
              "    <path d=\"M0 0h24v24H0V0z\" fill=\"none\"/>\n",
              "    <path d=\"M18.56 5.44l.94 2.06.94-2.06 2.06-.94-2.06-.94-.94-2.06-.94 2.06-2.06.94zm-11 1L8.5 8.5l.94-2.06 2.06-.94-2.06-.94L8.5 2.5l-.94 2.06-2.06.94zm10 10l.94 2.06.94-2.06 2.06-.94-2.06-.94-.94-2.06-.94 2.06-2.06.94z\"/><path d=\"M17.41 7.96l-1.37-1.37c-.4-.4-.92-.59-1.43-.59-.52 0-1.04.2-1.43.59L10.3 9.45l-7.72 7.72c-.78.78-.78 2.05 0 2.83L4 21.41c.39.39.9.59 1.41.59.51 0 1.02-.2 1.41-.59l7.78-7.78 2.81-2.81c.8-.78.8-2.07 0-2.86zM5.41 20L4 18.59l7.72-7.72 1.47 1.35L5.41 20z\"/>\n",
              "  </svg>\n",
              "      </button>\n",
              "      \n",
              "  <style>\n",
              "    .colab-df-container {\n",
              "      display:flex;\n",
              "      flex-wrap:wrap;\n",
              "      gap: 12px;\n",
              "    }\n",
              "\n",
              "    .colab-df-convert {\n",
              "      background-color: #E8F0FE;\n",
              "      border: none;\n",
              "      border-radius: 50%;\n",
              "      cursor: pointer;\n",
              "      display: none;\n",
              "      fill: #1967D2;\n",
              "      height: 32px;\n",
              "      padding: 0 0 0 0;\n",
              "      width: 32px;\n",
              "    }\n",
              "\n",
              "    .colab-df-convert:hover {\n",
              "      background-color: #E2EBFA;\n",
              "      box-shadow: 0px 1px 2px rgba(60, 64, 67, 0.3), 0px 1px 3px 1px rgba(60, 64, 67, 0.15);\n",
              "      fill: #174EA6;\n",
              "    }\n",
              "\n",
              "    [theme=dark] .colab-df-convert {\n",
              "      background-color: #3B4455;\n",
              "      fill: #D2E3FC;\n",
              "    }\n",
              "\n",
              "    [theme=dark] .colab-df-convert:hover {\n",
              "      background-color: #434B5C;\n",
              "      box-shadow: 0px 1px 3px 1px rgba(0, 0, 0, 0.15);\n",
              "      filter: drop-shadow(0px 1px 2px rgba(0, 0, 0, 0.3));\n",
              "      fill: #FFFFFF;\n",
              "    }\n",
              "  </style>\n",
              "\n",
              "      <script>\n",
              "        const buttonEl =\n",
              "          document.querySelector('#df-5a7b4f63-4e71-4c8c-a798-126854df41f9 button.colab-df-convert');\n",
              "        buttonEl.style.display =\n",
              "          google.colab.kernel.accessAllowed ? 'block' : 'none';\n",
              "\n",
              "        async function convertToInteractive(key) {\n",
              "          const element = document.querySelector('#df-5a7b4f63-4e71-4c8c-a798-126854df41f9');\n",
              "          const dataTable =\n",
              "            await google.colab.kernel.invokeFunction('convertToInteractive',\n",
              "                                                     [key], {});\n",
              "          if (!dataTable) return;\n",
              "\n",
              "          const docLinkHtml = 'Like what you see? Visit the ' +\n",
              "            '<a target=\"_blank\" href=https://colab.research.google.com/notebooks/data_table.ipynb>data table notebook</a>'\n",
              "            + ' to learn more about interactive tables.';\n",
              "          element.innerHTML = '';\n",
              "          dataTable['output_type'] = 'display_data';\n",
              "          await google.colab.output.renderOutput(dataTable, element);\n",
              "          const docLink = document.createElement('div');\n",
              "          docLink.innerHTML = docLinkHtml;\n",
              "          element.appendChild(docLink);\n",
              "        }\n",
              "      </script>\n",
              "    </div>\n",
              "  </div>\n",
              "  "
            ]
          },
          "metadata": {},
          "execution_count": 194
        }
      ]
    },
    {
      "cell_type": "markdown",
      "source": [
        "# 4. Calculando retornos diários e anuais dos papéis"
      ],
      "metadata": {
        "id": "IgFLX5fa1rA0"
      }
    },
    {
      "cell_type": "code",
      "metadata": {
        "id": "S1jHHIa810dM"
      },
      "source": [
        "retorno_diario = df.pct_change()"
      ],
      "execution_count": 195,
      "outputs": []
    },
    {
      "cell_type": "code",
      "metadata": {
        "colab": {
          "base_uri": "https://localhost:8080/",
          "height": 281
        },
        "id": "Q1CssnI615Gm",
        "outputId": "f40882db-0bb8-4b6c-e4d5-1ebde4eca438"
      },
      "source": [
        "retorno_diario.head()"
      ],
      "execution_count": 196,
      "outputs": [
        {
          "output_type": "execute_result",
          "data": {
            "text/plain": [
              "            AAPL34.SA  ABEV3.SA  BOVA11.SA  CIEL3.SA  EQTL3.SA  EZTC3.SA  \\\n",
              "Date                                                                       \n",
              "2016-01-04        NaN       NaN        NaN       NaN       NaN       NaN   \n",
              "2016-01-05   0.000000  0.015689   0.001947  0.047811  0.048485  0.017442   \n",
              "2016-01-06  -0.022339 -0.009725  -0.016513  0.015408  0.005780 -0.016326   \n",
              "2016-01-07  -0.045940 -0.026574  -0.025432  0.003793 -0.027586 -0.004150   \n",
              "2016-01-08   0.010955  0.013056  -0.003294  0.017442  0.013594  0.025000   \n",
              "\n",
              "            FLRY3.SA  LREN3.SA  MDIA3.SA  RADL3.SA  RENT3.SA  TSLA34.SA  \\\n",
              "Date                                                                      \n",
              "2016-01-04       NaN       NaN       NaN       NaN       NaN        NaN   \n",
              "2016-01-05  0.011803  0.071207 -0.025231  0.046644  0.024839        NaN   \n",
              "2016-01-06 -0.005185 -0.005780  0.010101  0.009239  0.009194        NaN   \n",
              "2016-01-07  0.001303 -0.016279 -0.029531  0.012924 -0.006211        NaN   \n",
              "2016-01-08  0.003904 -0.002364  0.014330 -0.007975  0.000000        NaN   \n",
              "\n",
              "            WEGE3.SA  \n",
              "Date                  \n",
              "2016-01-04       NaN  \n",
              "2016-01-05  0.048497  \n",
              "2016-01-06 -0.022802  \n",
              "2016-01-07 -0.028666  \n",
              "2016-01-08 -0.004805  "
            ],
            "text/html": [
              "\n",
              "  <div id=\"df-8a61b09a-4127-456b-afcc-8f1c496f51ae\">\n",
              "    <div class=\"colab-df-container\">\n",
              "      <div>\n",
              "<style scoped>\n",
              "    .dataframe tbody tr th:only-of-type {\n",
              "        vertical-align: middle;\n",
              "    }\n",
              "\n",
              "    .dataframe tbody tr th {\n",
              "        vertical-align: top;\n",
              "    }\n",
              "\n",
              "    .dataframe thead th {\n",
              "        text-align: right;\n",
              "    }\n",
              "</style>\n",
              "<table border=\"1\" class=\"dataframe\">\n",
              "  <thead>\n",
              "    <tr style=\"text-align: right;\">\n",
              "      <th></th>\n",
              "      <th>AAPL34.SA</th>\n",
              "      <th>ABEV3.SA</th>\n",
              "      <th>BOVA11.SA</th>\n",
              "      <th>CIEL3.SA</th>\n",
              "      <th>EQTL3.SA</th>\n",
              "      <th>EZTC3.SA</th>\n",
              "      <th>FLRY3.SA</th>\n",
              "      <th>LREN3.SA</th>\n",
              "      <th>MDIA3.SA</th>\n",
              "      <th>RADL3.SA</th>\n",
              "      <th>RENT3.SA</th>\n",
              "      <th>TSLA34.SA</th>\n",
              "      <th>WEGE3.SA</th>\n",
              "    </tr>\n",
              "    <tr>\n",
              "      <th>Date</th>\n",
              "      <th></th>\n",
              "      <th></th>\n",
              "      <th></th>\n",
              "      <th></th>\n",
              "      <th></th>\n",
              "      <th></th>\n",
              "      <th></th>\n",
              "      <th></th>\n",
              "      <th></th>\n",
              "      <th></th>\n",
              "      <th></th>\n",
              "      <th></th>\n",
              "      <th></th>\n",
              "    </tr>\n",
              "  </thead>\n",
              "  <tbody>\n",
              "    <tr>\n",
              "      <th>2016-01-04</th>\n",
              "      <td>NaN</td>\n",
              "      <td>NaN</td>\n",
              "      <td>NaN</td>\n",
              "      <td>NaN</td>\n",
              "      <td>NaN</td>\n",
              "      <td>NaN</td>\n",
              "      <td>NaN</td>\n",
              "      <td>NaN</td>\n",
              "      <td>NaN</td>\n",
              "      <td>NaN</td>\n",
              "      <td>NaN</td>\n",
              "      <td>NaN</td>\n",
              "      <td>NaN</td>\n",
              "    </tr>\n",
              "    <tr>\n",
              "      <th>2016-01-05</th>\n",
              "      <td>0.000000</td>\n",
              "      <td>0.015689</td>\n",
              "      <td>0.001947</td>\n",
              "      <td>0.047811</td>\n",
              "      <td>0.048485</td>\n",
              "      <td>0.017442</td>\n",
              "      <td>0.011803</td>\n",
              "      <td>0.071207</td>\n",
              "      <td>-0.025231</td>\n",
              "      <td>0.046644</td>\n",
              "      <td>0.024839</td>\n",
              "      <td>NaN</td>\n",
              "      <td>0.048497</td>\n",
              "    </tr>\n",
              "    <tr>\n",
              "      <th>2016-01-06</th>\n",
              "      <td>-0.022339</td>\n",
              "      <td>-0.009725</td>\n",
              "      <td>-0.016513</td>\n",
              "      <td>0.015408</td>\n",
              "      <td>0.005780</td>\n",
              "      <td>-0.016326</td>\n",
              "      <td>-0.005185</td>\n",
              "      <td>-0.005780</td>\n",
              "      <td>0.010101</td>\n",
              "      <td>0.009239</td>\n",
              "      <td>0.009194</td>\n",
              "      <td>NaN</td>\n",
              "      <td>-0.022802</td>\n",
              "    </tr>\n",
              "    <tr>\n",
              "      <th>2016-01-07</th>\n",
              "      <td>-0.045940</td>\n",
              "      <td>-0.026574</td>\n",
              "      <td>-0.025432</td>\n",
              "      <td>0.003793</td>\n",
              "      <td>-0.027586</td>\n",
              "      <td>-0.004150</td>\n",
              "      <td>0.001303</td>\n",
              "      <td>-0.016279</td>\n",
              "      <td>-0.029531</td>\n",
              "      <td>0.012924</td>\n",
              "      <td>-0.006211</td>\n",
              "      <td>NaN</td>\n",
              "      <td>-0.028666</td>\n",
              "    </tr>\n",
              "    <tr>\n",
              "      <th>2016-01-08</th>\n",
              "      <td>0.010955</td>\n",
              "      <td>0.013056</td>\n",
              "      <td>-0.003294</td>\n",
              "      <td>0.017442</td>\n",
              "      <td>0.013594</td>\n",
              "      <td>0.025000</td>\n",
              "      <td>0.003904</td>\n",
              "      <td>-0.002364</td>\n",
              "      <td>0.014330</td>\n",
              "      <td>-0.007975</td>\n",
              "      <td>0.000000</td>\n",
              "      <td>NaN</td>\n",
              "      <td>-0.004805</td>\n",
              "    </tr>\n",
              "  </tbody>\n",
              "</table>\n",
              "</div>\n",
              "      <button class=\"colab-df-convert\" onclick=\"convertToInteractive('df-8a61b09a-4127-456b-afcc-8f1c496f51ae')\"\n",
              "              title=\"Convert this dataframe to an interactive table.\"\n",
              "              style=\"display:none;\">\n",
              "        \n",
              "  <svg xmlns=\"http://www.w3.org/2000/svg\" height=\"24px\"viewBox=\"0 0 24 24\"\n",
              "       width=\"24px\">\n",
              "    <path d=\"M0 0h24v24H0V0z\" fill=\"none\"/>\n",
              "    <path d=\"M18.56 5.44l.94 2.06.94-2.06 2.06-.94-2.06-.94-.94-2.06-.94 2.06-2.06.94zm-11 1L8.5 8.5l.94-2.06 2.06-.94-2.06-.94L8.5 2.5l-.94 2.06-2.06.94zm10 10l.94 2.06.94-2.06 2.06-.94-2.06-.94-.94-2.06-.94 2.06-2.06.94z\"/><path d=\"M17.41 7.96l-1.37-1.37c-.4-.4-.92-.59-1.43-.59-.52 0-1.04.2-1.43.59L10.3 9.45l-7.72 7.72c-.78.78-.78 2.05 0 2.83L4 21.41c.39.39.9.59 1.41.59.51 0 1.02-.2 1.41-.59l7.78-7.78 2.81-2.81c.8-.78.8-2.07 0-2.86zM5.41 20L4 18.59l7.72-7.72 1.47 1.35L5.41 20z\"/>\n",
              "  </svg>\n",
              "      </button>\n",
              "      \n",
              "  <style>\n",
              "    .colab-df-container {\n",
              "      display:flex;\n",
              "      flex-wrap:wrap;\n",
              "      gap: 12px;\n",
              "    }\n",
              "\n",
              "    .colab-df-convert {\n",
              "      background-color: #E8F0FE;\n",
              "      border: none;\n",
              "      border-radius: 50%;\n",
              "      cursor: pointer;\n",
              "      display: none;\n",
              "      fill: #1967D2;\n",
              "      height: 32px;\n",
              "      padding: 0 0 0 0;\n",
              "      width: 32px;\n",
              "    }\n",
              "\n",
              "    .colab-df-convert:hover {\n",
              "      background-color: #E2EBFA;\n",
              "      box-shadow: 0px 1px 2px rgba(60, 64, 67, 0.3), 0px 1px 3px 1px rgba(60, 64, 67, 0.15);\n",
              "      fill: #174EA6;\n",
              "    }\n",
              "\n",
              "    [theme=dark] .colab-df-convert {\n",
              "      background-color: #3B4455;\n",
              "      fill: #D2E3FC;\n",
              "    }\n",
              "\n",
              "    [theme=dark] .colab-df-convert:hover {\n",
              "      background-color: #434B5C;\n",
              "      box-shadow: 0px 1px 3px 1px rgba(0, 0, 0, 0.15);\n",
              "      filter: drop-shadow(0px 1px 2px rgba(0, 0, 0, 0.3));\n",
              "      fill: #FFFFFF;\n",
              "    }\n",
              "  </style>\n",
              "\n",
              "      <script>\n",
              "        const buttonEl =\n",
              "          document.querySelector('#df-8a61b09a-4127-456b-afcc-8f1c496f51ae button.colab-df-convert');\n",
              "        buttonEl.style.display =\n",
              "          google.colab.kernel.accessAllowed ? 'block' : 'none';\n",
              "\n",
              "        async function convertToInteractive(key) {\n",
              "          const element = document.querySelector('#df-8a61b09a-4127-456b-afcc-8f1c496f51ae');\n",
              "          const dataTable =\n",
              "            await google.colab.kernel.invokeFunction('convertToInteractive',\n",
              "                                                     [key], {});\n",
              "          if (!dataTable) return;\n",
              "\n",
              "          const docLinkHtml = 'Like what you see? Visit the ' +\n",
              "            '<a target=\"_blank\" href=https://colab.research.google.com/notebooks/data_table.ipynb>data table notebook</a>'\n",
              "            + ' to learn more about interactive tables.';\n",
              "          element.innerHTML = '';\n",
              "          dataTable['output_type'] = 'display_data';\n",
              "          await google.colab.output.renderOutput(dataTable, element);\n",
              "          const docLink = document.createElement('div');\n",
              "          docLink.innerHTML = docLinkHtml;\n",
              "          element.appendChild(docLink);\n",
              "        }\n",
              "      </script>\n",
              "    </div>\n",
              "  </div>\n",
              "  "
            ]
          },
          "metadata": {},
          "execution_count": 196
        }
      ]
    },
    {
      "cell_type": "code",
      "metadata": {
        "id": "bAyj45rO17JG"
      },
      "source": [
        "retorno_diario = retorno_diario.iloc[1:]"
      ],
      "execution_count": 197,
      "outputs": []
    },
    {
      "cell_type": "code",
      "metadata": {
        "colab": {
          "base_uri": "https://localhost:8080/",
          "height": 281
        },
        "id": "ZQbF0C_r2RCV",
        "outputId": "fab7b501-6a84-4351-bc71-5bdef246c2ad"
      },
      "source": [
        "retorno_diario.head()"
      ],
      "execution_count": 198,
      "outputs": [
        {
          "output_type": "execute_result",
          "data": {
            "text/plain": [
              "            AAPL34.SA  ABEV3.SA  BOVA11.SA  CIEL3.SA  EQTL3.SA  EZTC3.SA  \\\n",
              "Date                                                                       \n",
              "2016-01-05   0.000000  0.015689   0.001947  0.047811  0.048485  0.017442   \n",
              "2016-01-06  -0.022339 -0.009725  -0.016513  0.015408  0.005780 -0.016326   \n",
              "2016-01-07  -0.045940 -0.026574  -0.025432  0.003793 -0.027586 -0.004150   \n",
              "2016-01-08   0.010955  0.013056  -0.003294  0.017442  0.013594  0.025000   \n",
              "2016-01-11   0.002520 -0.015817  -0.015760 -0.047143 -0.001749  0.008130   \n",
              "\n",
              "            FLRY3.SA  LREN3.SA  MDIA3.SA  RADL3.SA  RENT3.SA  TSLA34.SA  \\\n",
              "Date                                                                      \n",
              "2016-01-05  0.011803  0.071207 -0.025231  0.046644  0.024839        NaN   \n",
              "2016-01-06 -0.005185 -0.005780  0.010101  0.009239  0.009194        NaN   \n",
              "2016-01-07  0.001303 -0.016279 -0.029531  0.012924 -0.006211        NaN   \n",
              "2016-01-08  0.003904 -0.002364  0.014330 -0.007975  0.000000        NaN   \n",
              "2016-01-11 -0.005833 -0.028436 -0.038095 -0.001340  0.001667        NaN   \n",
              "\n",
              "            WEGE3.SA  \n",
              "Date                  \n",
              "2016-01-05  0.048497  \n",
              "2016-01-06 -0.022802  \n",
              "2016-01-07 -0.028666  \n",
              "2016-01-08 -0.004805  \n",
              "2016-01-11 -0.022758  "
            ],
            "text/html": [
              "\n",
              "  <div id=\"df-2b3651e8-2b44-405b-9275-4db754012e71\">\n",
              "    <div class=\"colab-df-container\">\n",
              "      <div>\n",
              "<style scoped>\n",
              "    .dataframe tbody tr th:only-of-type {\n",
              "        vertical-align: middle;\n",
              "    }\n",
              "\n",
              "    .dataframe tbody tr th {\n",
              "        vertical-align: top;\n",
              "    }\n",
              "\n",
              "    .dataframe thead th {\n",
              "        text-align: right;\n",
              "    }\n",
              "</style>\n",
              "<table border=\"1\" class=\"dataframe\">\n",
              "  <thead>\n",
              "    <tr style=\"text-align: right;\">\n",
              "      <th></th>\n",
              "      <th>AAPL34.SA</th>\n",
              "      <th>ABEV3.SA</th>\n",
              "      <th>BOVA11.SA</th>\n",
              "      <th>CIEL3.SA</th>\n",
              "      <th>EQTL3.SA</th>\n",
              "      <th>EZTC3.SA</th>\n",
              "      <th>FLRY3.SA</th>\n",
              "      <th>LREN3.SA</th>\n",
              "      <th>MDIA3.SA</th>\n",
              "      <th>RADL3.SA</th>\n",
              "      <th>RENT3.SA</th>\n",
              "      <th>TSLA34.SA</th>\n",
              "      <th>WEGE3.SA</th>\n",
              "    </tr>\n",
              "    <tr>\n",
              "      <th>Date</th>\n",
              "      <th></th>\n",
              "      <th></th>\n",
              "      <th></th>\n",
              "      <th></th>\n",
              "      <th></th>\n",
              "      <th></th>\n",
              "      <th></th>\n",
              "      <th></th>\n",
              "      <th></th>\n",
              "      <th></th>\n",
              "      <th></th>\n",
              "      <th></th>\n",
              "      <th></th>\n",
              "    </tr>\n",
              "  </thead>\n",
              "  <tbody>\n",
              "    <tr>\n",
              "      <th>2016-01-05</th>\n",
              "      <td>0.000000</td>\n",
              "      <td>0.015689</td>\n",
              "      <td>0.001947</td>\n",
              "      <td>0.047811</td>\n",
              "      <td>0.048485</td>\n",
              "      <td>0.017442</td>\n",
              "      <td>0.011803</td>\n",
              "      <td>0.071207</td>\n",
              "      <td>-0.025231</td>\n",
              "      <td>0.046644</td>\n",
              "      <td>0.024839</td>\n",
              "      <td>NaN</td>\n",
              "      <td>0.048497</td>\n",
              "    </tr>\n",
              "    <tr>\n",
              "      <th>2016-01-06</th>\n",
              "      <td>-0.022339</td>\n",
              "      <td>-0.009725</td>\n",
              "      <td>-0.016513</td>\n",
              "      <td>0.015408</td>\n",
              "      <td>0.005780</td>\n",
              "      <td>-0.016326</td>\n",
              "      <td>-0.005185</td>\n",
              "      <td>-0.005780</td>\n",
              "      <td>0.010101</td>\n",
              "      <td>0.009239</td>\n",
              "      <td>0.009194</td>\n",
              "      <td>NaN</td>\n",
              "      <td>-0.022802</td>\n",
              "    </tr>\n",
              "    <tr>\n",
              "      <th>2016-01-07</th>\n",
              "      <td>-0.045940</td>\n",
              "      <td>-0.026574</td>\n",
              "      <td>-0.025432</td>\n",
              "      <td>0.003793</td>\n",
              "      <td>-0.027586</td>\n",
              "      <td>-0.004150</td>\n",
              "      <td>0.001303</td>\n",
              "      <td>-0.016279</td>\n",
              "      <td>-0.029531</td>\n",
              "      <td>0.012924</td>\n",
              "      <td>-0.006211</td>\n",
              "      <td>NaN</td>\n",
              "      <td>-0.028666</td>\n",
              "    </tr>\n",
              "    <tr>\n",
              "      <th>2016-01-08</th>\n",
              "      <td>0.010955</td>\n",
              "      <td>0.013056</td>\n",
              "      <td>-0.003294</td>\n",
              "      <td>0.017442</td>\n",
              "      <td>0.013594</td>\n",
              "      <td>0.025000</td>\n",
              "      <td>0.003904</td>\n",
              "      <td>-0.002364</td>\n",
              "      <td>0.014330</td>\n",
              "      <td>-0.007975</td>\n",
              "      <td>0.000000</td>\n",
              "      <td>NaN</td>\n",
              "      <td>-0.004805</td>\n",
              "    </tr>\n",
              "    <tr>\n",
              "      <th>2016-01-11</th>\n",
              "      <td>0.002520</td>\n",
              "      <td>-0.015817</td>\n",
              "      <td>-0.015760</td>\n",
              "      <td>-0.047143</td>\n",
              "      <td>-0.001749</td>\n",
              "      <td>0.008130</td>\n",
              "      <td>-0.005833</td>\n",
              "      <td>-0.028436</td>\n",
              "      <td>-0.038095</td>\n",
              "      <td>-0.001340</td>\n",
              "      <td>0.001667</td>\n",
              "      <td>NaN</td>\n",
              "      <td>-0.022758</td>\n",
              "    </tr>\n",
              "  </tbody>\n",
              "</table>\n",
              "</div>\n",
              "      <button class=\"colab-df-convert\" onclick=\"convertToInteractive('df-2b3651e8-2b44-405b-9275-4db754012e71')\"\n",
              "              title=\"Convert this dataframe to an interactive table.\"\n",
              "              style=\"display:none;\">\n",
              "        \n",
              "  <svg xmlns=\"http://www.w3.org/2000/svg\" height=\"24px\"viewBox=\"0 0 24 24\"\n",
              "       width=\"24px\">\n",
              "    <path d=\"M0 0h24v24H0V0z\" fill=\"none\"/>\n",
              "    <path d=\"M18.56 5.44l.94 2.06.94-2.06 2.06-.94-2.06-.94-.94-2.06-.94 2.06-2.06.94zm-11 1L8.5 8.5l.94-2.06 2.06-.94-2.06-.94L8.5 2.5l-.94 2.06-2.06.94zm10 10l.94 2.06.94-2.06 2.06-.94-2.06-.94-.94-2.06-.94 2.06-2.06.94z\"/><path d=\"M17.41 7.96l-1.37-1.37c-.4-.4-.92-.59-1.43-.59-.52 0-1.04.2-1.43.59L10.3 9.45l-7.72 7.72c-.78.78-.78 2.05 0 2.83L4 21.41c.39.39.9.59 1.41.59.51 0 1.02-.2 1.41-.59l7.78-7.78 2.81-2.81c.8-.78.8-2.07 0-2.86zM5.41 20L4 18.59l7.72-7.72 1.47 1.35L5.41 20z\"/>\n",
              "  </svg>\n",
              "      </button>\n",
              "      \n",
              "  <style>\n",
              "    .colab-df-container {\n",
              "      display:flex;\n",
              "      flex-wrap:wrap;\n",
              "      gap: 12px;\n",
              "    }\n",
              "\n",
              "    .colab-df-convert {\n",
              "      background-color: #E8F0FE;\n",
              "      border: none;\n",
              "      border-radius: 50%;\n",
              "      cursor: pointer;\n",
              "      display: none;\n",
              "      fill: #1967D2;\n",
              "      height: 32px;\n",
              "      padding: 0 0 0 0;\n",
              "      width: 32px;\n",
              "    }\n",
              "\n",
              "    .colab-df-convert:hover {\n",
              "      background-color: #E2EBFA;\n",
              "      box-shadow: 0px 1px 2px rgba(60, 64, 67, 0.3), 0px 1px 3px 1px rgba(60, 64, 67, 0.15);\n",
              "      fill: #174EA6;\n",
              "    }\n",
              "\n",
              "    [theme=dark] .colab-df-convert {\n",
              "      background-color: #3B4455;\n",
              "      fill: #D2E3FC;\n",
              "    }\n",
              "\n",
              "    [theme=dark] .colab-df-convert:hover {\n",
              "      background-color: #434B5C;\n",
              "      box-shadow: 0px 1px 3px 1px rgba(0, 0, 0, 0.15);\n",
              "      filter: drop-shadow(0px 1px 2px rgba(0, 0, 0, 0.3));\n",
              "      fill: #FFFFFF;\n",
              "    }\n",
              "  </style>\n",
              "\n",
              "      <script>\n",
              "        const buttonEl =\n",
              "          document.querySelector('#df-2b3651e8-2b44-405b-9275-4db754012e71 button.colab-df-convert');\n",
              "        buttonEl.style.display =\n",
              "          google.colab.kernel.accessAllowed ? 'block' : 'none';\n",
              "\n",
              "        async function convertToInteractive(key) {\n",
              "          const element = document.querySelector('#df-2b3651e8-2b44-405b-9275-4db754012e71');\n",
              "          const dataTable =\n",
              "            await google.colab.kernel.invokeFunction('convertToInteractive',\n",
              "                                                     [key], {});\n",
              "          if (!dataTable) return;\n",
              "\n",
              "          const docLinkHtml = 'Like what you see? Visit the ' +\n",
              "            '<a target=\"_blank\" href=https://colab.research.google.com/notebooks/data_table.ipynb>data table notebook</a>'\n",
              "            + ' to learn more about interactive tables.';\n",
              "          element.innerHTML = '';\n",
              "          dataTable['output_type'] = 'display_data';\n",
              "          await google.colab.output.renderOutput(dataTable, element);\n",
              "          const docLink = document.createElement('div');\n",
              "          docLink.innerHTML = docLinkHtml;\n",
              "          element.appendChild(docLink);\n",
              "        }\n",
              "      </script>\n",
              "    </div>\n",
              "  </div>\n",
              "  "
            ]
          },
          "metadata": {},
          "execution_count": 198
        }
      ]
    },
    {
      "cell_type": "markdown",
      "source": [
        "Anualizando os retornos"
      ],
      "metadata": {
        "id": "u-sTGk8Spp3F"
      }
    },
    {
      "cell_type": "code",
      "metadata": {
        "id": "jLA39qGH2STf"
      },
      "source": [
        "retorno_anual = retorno_diario.mean()*250"
      ],
      "execution_count": 199,
      "outputs": []
    },
    {
      "cell_type": "code",
      "source": [
        "retorno_anual"
      ],
      "metadata": {
        "colab": {
          "base_uri": "https://localhost:8080/"
        },
        "id": "2L_gru2Ztt4Z",
        "outputId": "3ab624b3-f11b-4567-d284-e969cfe54565"
      },
      "execution_count": 200,
      "outputs": [
        {
          "output_type": "execute_result",
          "data": {
            "text/plain": [
              "AAPL34.SA    0.399450\n",
              "ABEV3.SA     0.042157\n",
              "BOVA11.SA    0.201549\n",
              "CIEL3.SA    -0.166553\n",
              "EQTL3.SA     0.286804\n",
              "EZTC3.SA     0.282619\n",
              "FLRY3.SA     0.223065\n",
              "LREN3.SA     0.214956\n",
              "MDIA3.SA     0.096568\n",
              "RADL3.SA     0.252958\n",
              "RENT3.SA     0.458730\n",
              "TSLA34.SA    0.843015\n",
              "WEGE3.SA     0.366861\n",
              "dtype: float64"
            ]
          },
          "metadata": {},
          "execution_count": 200
        }
      ]
    },
    {
      "cell_type": "markdown",
      "source": [
        "**Cálculo da covariância**\n",
        "\n",
        "A covariância é uma medida estatística onde é possível comparar duas variáveis, permitindo entender como elas se relacionam entre si.\n",
        "\n",
        "No mundo das finanças, essa medida pode ser usada para avaliar o comportamento do preço do ativo X quando o ativo Y aumenta ou diminui. A aplicação desse cálculo permite fazer uma gestão de risco da carteira de modo bem mais eficiente.\n",
        "\n",
        "Fonte: https://www.suno.com.br/artigos/covariancia/"
      ],
      "metadata": {
        "id": "Hqaf912Jr_9t"
      }
    },
    {
      "cell_type": "code",
      "metadata": {
        "id": "ivzKTFTs2uQv"
      },
      "source": [
        "cov_diario = retorno_diario.cov()"
      ],
      "execution_count": 201,
      "outputs": []
    },
    {
      "cell_type": "code",
      "metadata": {
        "colab": {
          "base_uri": "https://localhost:8080/",
          "height": 501
        },
        "id": "7ecEpe1_26e4",
        "outputId": "e5cced02-48fc-42cf-f230-ba244c826055"
      },
      "source": [
        "cov_diario"
      ],
      "execution_count": 202,
      "outputs": [
        {
          "output_type": "execute_result",
          "data": {
            "text/plain": [
              "           AAPL34.SA  ABEV3.SA  BOVA11.SA  CIEL3.SA  EQTL3.SA  EZTC3.SA  \\\n",
              "AAPL34.SA   0.000425  0.000034   0.000038  0.000049  0.000021  0.000026   \n",
              "ABEV3.SA    0.000034  0.000327   0.000173  0.000199  0.000129  0.000213   \n",
              "BOVA11.SA   0.000038  0.000173   0.000283  0.000248  0.000181  0.000323   \n",
              "CIEL3.SA    0.000049  0.000199   0.000248  0.000924  0.000201  0.000340   \n",
              "EQTL3.SA    0.000021  0.000129   0.000181  0.000201  0.000309  0.000267   \n",
              "EZTC3.SA    0.000026  0.000213   0.000323  0.000340  0.000267  0.000877   \n",
              "FLRY3.SA    0.000014  0.000135   0.000183  0.000190  0.000163  0.000273   \n",
              "LREN3.SA    0.000021  0.000208   0.000285  0.000297  0.000222  0.000458   \n",
              "MDIA3.SA    0.000021  0.000158   0.000185  0.000220  0.000139  0.000288   \n",
              "RADL3.SA    0.000012  0.000129   0.000146  0.000167  0.000117  0.000210   \n",
              "RENT3.SA    0.000033  0.000197   0.000313  0.000328  0.000234  0.000471   \n",
              "TSLA34.SA   0.000244  0.000056   0.000102  0.000074  0.000064  0.000113   \n",
              "WEGE3.SA    0.000053  0.000161   0.000210  0.000207  0.000155  0.000266   \n",
              "\n",
              "           FLRY3.SA  LREN3.SA  MDIA3.SA  RADL3.SA  RENT3.SA  TSLA34.SA  \\\n",
              "AAPL34.SA  0.000014  0.000021  0.000021  0.000012  0.000033   0.000244   \n",
              "ABEV3.SA   0.000135  0.000208  0.000158  0.000129  0.000197   0.000056   \n",
              "BOVA11.SA  0.000183  0.000285  0.000185  0.000146  0.000313   0.000102   \n",
              "CIEL3.SA   0.000190  0.000297  0.000220  0.000167  0.000328   0.000074   \n",
              "EQTL3.SA   0.000163  0.000222  0.000139  0.000117  0.000234   0.000064   \n",
              "EZTC3.SA   0.000273  0.000458  0.000288  0.000210  0.000471   0.000113   \n",
              "FLRY3.SA   0.000449  0.000252  0.000161  0.000145  0.000268   0.000101   \n",
              "LREN3.SA   0.000252  0.000639  0.000216  0.000197  0.000436   0.000097   \n",
              "MDIA3.SA   0.000161  0.000216  0.000508  0.000132  0.000243   0.000088   \n",
              "RADL3.SA   0.000145  0.000197  0.000132  0.000389  0.000210   0.000044   \n",
              "RENT3.SA   0.000268  0.000436  0.000243  0.000210  0.000796   0.000111   \n",
              "TSLA34.SA  0.000101  0.000097  0.000088  0.000044  0.000111   0.001438   \n",
              "WEGE3.SA   0.000166  0.000234  0.000185  0.000181  0.000270   0.000152   \n",
              "\n",
              "           WEGE3.SA  \n",
              "AAPL34.SA  0.000053  \n",
              "ABEV3.SA   0.000161  \n",
              "BOVA11.SA  0.000210  \n",
              "CIEL3.SA   0.000207  \n",
              "EQTL3.SA   0.000155  \n",
              "EZTC3.SA   0.000266  \n",
              "FLRY3.SA   0.000166  \n",
              "LREN3.SA   0.000234  \n",
              "MDIA3.SA   0.000185  \n",
              "RADL3.SA   0.000181  \n",
              "RENT3.SA   0.000270  \n",
              "TSLA34.SA  0.000152  \n",
              "WEGE3.SA   0.000519  "
            ],
            "text/html": [
              "\n",
              "  <div id=\"df-c3e37dd8-55a7-4eb6-b877-bbbd90052026\">\n",
              "    <div class=\"colab-df-container\">\n",
              "      <div>\n",
              "<style scoped>\n",
              "    .dataframe tbody tr th:only-of-type {\n",
              "        vertical-align: middle;\n",
              "    }\n",
              "\n",
              "    .dataframe tbody tr th {\n",
              "        vertical-align: top;\n",
              "    }\n",
              "\n",
              "    .dataframe thead th {\n",
              "        text-align: right;\n",
              "    }\n",
              "</style>\n",
              "<table border=\"1\" class=\"dataframe\">\n",
              "  <thead>\n",
              "    <tr style=\"text-align: right;\">\n",
              "      <th></th>\n",
              "      <th>AAPL34.SA</th>\n",
              "      <th>ABEV3.SA</th>\n",
              "      <th>BOVA11.SA</th>\n",
              "      <th>CIEL3.SA</th>\n",
              "      <th>EQTL3.SA</th>\n",
              "      <th>EZTC3.SA</th>\n",
              "      <th>FLRY3.SA</th>\n",
              "      <th>LREN3.SA</th>\n",
              "      <th>MDIA3.SA</th>\n",
              "      <th>RADL3.SA</th>\n",
              "      <th>RENT3.SA</th>\n",
              "      <th>TSLA34.SA</th>\n",
              "      <th>WEGE3.SA</th>\n",
              "    </tr>\n",
              "  </thead>\n",
              "  <tbody>\n",
              "    <tr>\n",
              "      <th>AAPL34.SA</th>\n",
              "      <td>0.000425</td>\n",
              "      <td>0.000034</td>\n",
              "      <td>0.000038</td>\n",
              "      <td>0.000049</td>\n",
              "      <td>0.000021</td>\n",
              "      <td>0.000026</td>\n",
              "      <td>0.000014</td>\n",
              "      <td>0.000021</td>\n",
              "      <td>0.000021</td>\n",
              "      <td>0.000012</td>\n",
              "      <td>0.000033</td>\n",
              "      <td>0.000244</td>\n",
              "      <td>0.000053</td>\n",
              "    </tr>\n",
              "    <tr>\n",
              "      <th>ABEV3.SA</th>\n",
              "      <td>0.000034</td>\n",
              "      <td>0.000327</td>\n",
              "      <td>0.000173</td>\n",
              "      <td>0.000199</td>\n",
              "      <td>0.000129</td>\n",
              "      <td>0.000213</td>\n",
              "      <td>0.000135</td>\n",
              "      <td>0.000208</td>\n",
              "      <td>0.000158</td>\n",
              "      <td>0.000129</td>\n",
              "      <td>0.000197</td>\n",
              "      <td>0.000056</td>\n",
              "      <td>0.000161</td>\n",
              "    </tr>\n",
              "    <tr>\n",
              "      <th>BOVA11.SA</th>\n",
              "      <td>0.000038</td>\n",
              "      <td>0.000173</td>\n",
              "      <td>0.000283</td>\n",
              "      <td>0.000248</td>\n",
              "      <td>0.000181</td>\n",
              "      <td>0.000323</td>\n",
              "      <td>0.000183</td>\n",
              "      <td>0.000285</td>\n",
              "      <td>0.000185</td>\n",
              "      <td>0.000146</td>\n",
              "      <td>0.000313</td>\n",
              "      <td>0.000102</td>\n",
              "      <td>0.000210</td>\n",
              "    </tr>\n",
              "    <tr>\n",
              "      <th>CIEL3.SA</th>\n",
              "      <td>0.000049</td>\n",
              "      <td>0.000199</td>\n",
              "      <td>0.000248</td>\n",
              "      <td>0.000924</td>\n",
              "      <td>0.000201</td>\n",
              "      <td>0.000340</td>\n",
              "      <td>0.000190</td>\n",
              "      <td>0.000297</td>\n",
              "      <td>0.000220</td>\n",
              "      <td>0.000167</td>\n",
              "      <td>0.000328</td>\n",
              "      <td>0.000074</td>\n",
              "      <td>0.000207</td>\n",
              "    </tr>\n",
              "    <tr>\n",
              "      <th>EQTL3.SA</th>\n",
              "      <td>0.000021</td>\n",
              "      <td>0.000129</td>\n",
              "      <td>0.000181</td>\n",
              "      <td>0.000201</td>\n",
              "      <td>0.000309</td>\n",
              "      <td>0.000267</td>\n",
              "      <td>0.000163</td>\n",
              "      <td>0.000222</td>\n",
              "      <td>0.000139</td>\n",
              "      <td>0.000117</td>\n",
              "      <td>0.000234</td>\n",
              "      <td>0.000064</td>\n",
              "      <td>0.000155</td>\n",
              "    </tr>\n",
              "    <tr>\n",
              "      <th>EZTC3.SA</th>\n",
              "      <td>0.000026</td>\n",
              "      <td>0.000213</td>\n",
              "      <td>0.000323</td>\n",
              "      <td>0.000340</td>\n",
              "      <td>0.000267</td>\n",
              "      <td>0.000877</td>\n",
              "      <td>0.000273</td>\n",
              "      <td>0.000458</td>\n",
              "      <td>0.000288</td>\n",
              "      <td>0.000210</td>\n",
              "      <td>0.000471</td>\n",
              "      <td>0.000113</td>\n",
              "      <td>0.000266</td>\n",
              "    </tr>\n",
              "    <tr>\n",
              "      <th>FLRY3.SA</th>\n",
              "      <td>0.000014</td>\n",
              "      <td>0.000135</td>\n",
              "      <td>0.000183</td>\n",
              "      <td>0.000190</td>\n",
              "      <td>0.000163</td>\n",
              "      <td>0.000273</td>\n",
              "      <td>0.000449</td>\n",
              "      <td>0.000252</td>\n",
              "      <td>0.000161</td>\n",
              "      <td>0.000145</td>\n",
              "      <td>0.000268</td>\n",
              "      <td>0.000101</td>\n",
              "      <td>0.000166</td>\n",
              "    </tr>\n",
              "    <tr>\n",
              "      <th>LREN3.SA</th>\n",
              "      <td>0.000021</td>\n",
              "      <td>0.000208</td>\n",
              "      <td>0.000285</td>\n",
              "      <td>0.000297</td>\n",
              "      <td>0.000222</td>\n",
              "      <td>0.000458</td>\n",
              "      <td>0.000252</td>\n",
              "      <td>0.000639</td>\n",
              "      <td>0.000216</td>\n",
              "      <td>0.000197</td>\n",
              "      <td>0.000436</td>\n",
              "      <td>0.000097</td>\n",
              "      <td>0.000234</td>\n",
              "    </tr>\n",
              "    <tr>\n",
              "      <th>MDIA3.SA</th>\n",
              "      <td>0.000021</td>\n",
              "      <td>0.000158</td>\n",
              "      <td>0.000185</td>\n",
              "      <td>0.000220</td>\n",
              "      <td>0.000139</td>\n",
              "      <td>0.000288</td>\n",
              "      <td>0.000161</td>\n",
              "      <td>0.000216</td>\n",
              "      <td>0.000508</td>\n",
              "      <td>0.000132</td>\n",
              "      <td>0.000243</td>\n",
              "      <td>0.000088</td>\n",
              "      <td>0.000185</td>\n",
              "    </tr>\n",
              "    <tr>\n",
              "      <th>RADL3.SA</th>\n",
              "      <td>0.000012</td>\n",
              "      <td>0.000129</td>\n",
              "      <td>0.000146</td>\n",
              "      <td>0.000167</td>\n",
              "      <td>0.000117</td>\n",
              "      <td>0.000210</td>\n",
              "      <td>0.000145</td>\n",
              "      <td>0.000197</td>\n",
              "      <td>0.000132</td>\n",
              "      <td>0.000389</td>\n",
              "      <td>0.000210</td>\n",
              "      <td>0.000044</td>\n",
              "      <td>0.000181</td>\n",
              "    </tr>\n",
              "    <tr>\n",
              "      <th>RENT3.SA</th>\n",
              "      <td>0.000033</td>\n",
              "      <td>0.000197</td>\n",
              "      <td>0.000313</td>\n",
              "      <td>0.000328</td>\n",
              "      <td>0.000234</td>\n",
              "      <td>0.000471</td>\n",
              "      <td>0.000268</td>\n",
              "      <td>0.000436</td>\n",
              "      <td>0.000243</td>\n",
              "      <td>0.000210</td>\n",
              "      <td>0.000796</td>\n",
              "      <td>0.000111</td>\n",
              "      <td>0.000270</td>\n",
              "    </tr>\n",
              "    <tr>\n",
              "      <th>TSLA34.SA</th>\n",
              "      <td>0.000244</td>\n",
              "      <td>0.000056</td>\n",
              "      <td>0.000102</td>\n",
              "      <td>0.000074</td>\n",
              "      <td>0.000064</td>\n",
              "      <td>0.000113</td>\n",
              "      <td>0.000101</td>\n",
              "      <td>0.000097</td>\n",
              "      <td>0.000088</td>\n",
              "      <td>0.000044</td>\n",
              "      <td>0.000111</td>\n",
              "      <td>0.001438</td>\n",
              "      <td>0.000152</td>\n",
              "    </tr>\n",
              "    <tr>\n",
              "      <th>WEGE3.SA</th>\n",
              "      <td>0.000053</td>\n",
              "      <td>0.000161</td>\n",
              "      <td>0.000210</td>\n",
              "      <td>0.000207</td>\n",
              "      <td>0.000155</td>\n",
              "      <td>0.000266</td>\n",
              "      <td>0.000166</td>\n",
              "      <td>0.000234</td>\n",
              "      <td>0.000185</td>\n",
              "      <td>0.000181</td>\n",
              "      <td>0.000270</td>\n",
              "      <td>0.000152</td>\n",
              "      <td>0.000519</td>\n",
              "    </tr>\n",
              "  </tbody>\n",
              "</table>\n",
              "</div>\n",
              "      <button class=\"colab-df-convert\" onclick=\"convertToInteractive('df-c3e37dd8-55a7-4eb6-b877-bbbd90052026')\"\n",
              "              title=\"Convert this dataframe to an interactive table.\"\n",
              "              style=\"display:none;\">\n",
              "        \n",
              "  <svg xmlns=\"http://www.w3.org/2000/svg\" height=\"24px\"viewBox=\"0 0 24 24\"\n",
              "       width=\"24px\">\n",
              "    <path d=\"M0 0h24v24H0V0z\" fill=\"none\"/>\n",
              "    <path d=\"M18.56 5.44l.94 2.06.94-2.06 2.06-.94-2.06-.94-.94-2.06-.94 2.06-2.06.94zm-11 1L8.5 8.5l.94-2.06 2.06-.94-2.06-.94L8.5 2.5l-.94 2.06-2.06.94zm10 10l.94 2.06.94-2.06 2.06-.94-2.06-.94-.94-2.06-.94 2.06-2.06.94z\"/><path d=\"M17.41 7.96l-1.37-1.37c-.4-.4-.92-.59-1.43-.59-.52 0-1.04.2-1.43.59L10.3 9.45l-7.72 7.72c-.78.78-.78 2.05 0 2.83L4 21.41c.39.39.9.59 1.41.59.51 0 1.02-.2 1.41-.59l7.78-7.78 2.81-2.81c.8-.78.8-2.07 0-2.86zM5.41 20L4 18.59l7.72-7.72 1.47 1.35L5.41 20z\"/>\n",
              "  </svg>\n",
              "      </button>\n",
              "      \n",
              "  <style>\n",
              "    .colab-df-container {\n",
              "      display:flex;\n",
              "      flex-wrap:wrap;\n",
              "      gap: 12px;\n",
              "    }\n",
              "\n",
              "    .colab-df-convert {\n",
              "      background-color: #E8F0FE;\n",
              "      border: none;\n",
              "      border-radius: 50%;\n",
              "      cursor: pointer;\n",
              "      display: none;\n",
              "      fill: #1967D2;\n",
              "      height: 32px;\n",
              "      padding: 0 0 0 0;\n",
              "      width: 32px;\n",
              "    }\n",
              "\n",
              "    .colab-df-convert:hover {\n",
              "      background-color: #E2EBFA;\n",
              "      box-shadow: 0px 1px 2px rgba(60, 64, 67, 0.3), 0px 1px 3px 1px rgba(60, 64, 67, 0.15);\n",
              "      fill: #174EA6;\n",
              "    }\n",
              "\n",
              "    [theme=dark] .colab-df-convert {\n",
              "      background-color: #3B4455;\n",
              "      fill: #D2E3FC;\n",
              "    }\n",
              "\n",
              "    [theme=dark] .colab-df-convert:hover {\n",
              "      background-color: #434B5C;\n",
              "      box-shadow: 0px 1px 3px 1px rgba(0, 0, 0, 0.15);\n",
              "      filter: drop-shadow(0px 1px 2px rgba(0, 0, 0, 0.3));\n",
              "      fill: #FFFFFF;\n",
              "    }\n",
              "  </style>\n",
              "\n",
              "      <script>\n",
              "        const buttonEl =\n",
              "          document.querySelector('#df-c3e37dd8-55a7-4eb6-b877-bbbd90052026 button.colab-df-convert');\n",
              "        buttonEl.style.display =\n",
              "          google.colab.kernel.accessAllowed ? 'block' : 'none';\n",
              "\n",
              "        async function convertToInteractive(key) {\n",
              "          const element = document.querySelector('#df-c3e37dd8-55a7-4eb6-b877-bbbd90052026');\n",
              "          const dataTable =\n",
              "            await google.colab.kernel.invokeFunction('convertToInteractive',\n",
              "                                                     [key], {});\n",
              "          if (!dataTable) return;\n",
              "\n",
              "          const docLinkHtml = 'Like what you see? Visit the ' +\n",
              "            '<a target=\"_blank\" href=https://colab.research.google.com/notebooks/data_table.ipynb>data table notebook</a>'\n",
              "            + ' to learn more about interactive tables.';\n",
              "          element.innerHTML = '';\n",
              "          dataTable['output_type'] = 'display_data';\n",
              "          await google.colab.output.renderOutput(dataTable, element);\n",
              "          const docLink = document.createElement('div');\n",
              "          docLink.innerHTML = docLinkHtml;\n",
              "          element.appendChild(docLink);\n",
              "        }\n",
              "      </script>\n",
              "    </div>\n",
              "  </div>\n",
              "  "
            ]
          },
          "metadata": {},
          "execution_count": 202
        }
      ]
    },
    {
      "cell_type": "code",
      "metadata": {
        "id": "fDaXGYDt27tY"
      },
      "source": [
        "cov_anual = cov_diario*250"
      ],
      "execution_count": 203,
      "outputs": []
    },
    {
      "cell_type": "code",
      "source": [
        "num_assets = len(ativos)"
      ],
      "metadata": {
        "id": "XwuyCRJ5HqFQ"
      },
      "execution_count": 204,
      "outputs": []
    },
    {
      "cell_type": "code",
      "source": [
        "num_assets"
      ],
      "metadata": {
        "colab": {
          "base_uri": "https://localhost:8080/"
        },
        "id": "2yWzH10MHrT5",
        "outputId": "69cdef38-2b17-4903-f99e-36c8ecdc5ab2"
      },
      "execution_count": 205,
      "outputs": [
        {
          "output_type": "execute_result",
          "data": {
            "text/plain": [
              "13"
            ]
          },
          "metadata": {},
          "execution_count": 205
        }
      ]
    },
    {
      "cell_type": "code",
      "source": [
        "peso = np.random.random(num_assets)"
      ],
      "metadata": {
        "id": "eukLXlzbyF3_"
      },
      "execution_count": 206,
      "outputs": []
    },
    {
      "cell_type": "code",
      "source": [
        "peso"
      ],
      "metadata": {
        "colab": {
          "base_uri": "https://localhost:8080/"
        },
        "id": "Zzqj9kUNyL-e",
        "outputId": "e703d032-418d-485f-b919-e241e0513767"
      },
      "execution_count": 207,
      "outputs": [
        {
          "output_type": "execute_result",
          "data": {
            "text/plain": [
              "array([0.45148578, 0.77047077, 0.84021837, 0.44703512, 0.58481606,\n",
              "       0.64200429, 0.44383232, 0.20381522, 0.34251682, 0.50910755,\n",
              "       0.09201844, 0.20713134, 0.96357321])"
            ]
          },
          "metadata": {},
          "execution_count": 207
        }
      ]
    },
    {
      "cell_type": "code",
      "source": [
        "# Como calculamos os retornos segundo a MPT?\n",
        "np.dot(peso, retorno_anual)"
      ],
      "metadata": {
        "colab": {
          "base_uri": "https://localhost:8080/"
        },
        "id": "xS9BNUlzx9SY",
        "outputId": "1f14c285-b6c1-4fd2-bd3d-5d66992085bd"
      },
      "execution_count": 128,
      "outputs": [
        {
          "output_type": "execute_result",
          "data": {
            "text/plain": [
              "1.6329618541633266"
            ]
          },
          "metadata": {},
          "execution_count": 128
        }
      ]
    },
    {
      "cell_type": "code",
      "source": [
        "# Como calculamos a volatilidade segundo a MPT?\n",
        "np.sqrt(np.dot(peso.T, np.dot(cov_anual, peso)))"
      ],
      "metadata": {
        "colab": {
          "base_uri": "https://localhost:8080/"
        },
        "id": "LRKI85vo1wll",
        "outputId": "3ce33ba0-27b8-4900-e342-9bfdfa48cddd"
      },
      "execution_count": 129,
      "outputs": [
        {
          "output_type": "execute_result",
          "data": {
            "text/plain": [
              "1.1082472474309506"
            ]
          },
          "metadata": {},
          "execution_count": 129
        }
      ]
    },
    {
      "cell_type": "code",
      "source": [
        "from IPython.display import Image\n",
        "Image('https://i.stack.imgur.com/U4B9I.png')"
      ],
      "metadata": {
        "colab": {
          "base_uri": "https://localhost:8080/",
          "height": 217
        },
        "id": "O6oi-dWS2Ibd",
        "outputId": "bdebb3e7-46a8-4f28-e017-ec0a52f1986b"
      },
      "execution_count": 130,
      "outputs": [
        {
          "output_type": "execute_result",
          "data": {
            "text/plain": [
              "<IPython.core.display.Image object>"
            ],
            "image/png": "[encoded data removed]"
          },
          "metadata": {},
          "execution_count": 130
        }
      ]
    },
    {
      "cell_type": "markdown",
      "metadata": {
        "id": "ypLYa_Bb3Hlz"
      },
      "source": [
        "# 5. Iniciando Simulação de Monte Carlo"
      ]
    },
    {
      "cell_type": "markdown",
      "source": [
        "Vamos utilizar uma simulação estocástica para criar 200 mil portfólio randomizados e dessa forma verificar a formação de uma fronteira eficiente"
      ],
      "metadata": {
        "id": "Fbon4WI11MXK"
      }
    },
    {
      "cell_type": "code",
      "source": [
        "from IPython.display import Image\n",
        "Image('https://cdn.corporatefinanceinstitute.com/assets/modern-portfolio-theory1.jpeg.png')"
      ],
      "metadata": {
        "colab": {
          "base_uri": "https://localhost:8080/",
          "height": 454
        },
        "id": "TRkrHbHG0V69",
        "outputId": "236b64a3-776d-4a93-af31-75c6aaf06c9c"
      },
      "execution_count": 131,
      "outputs": [
        {
          "output_type": "execute_result",
          "data": {
            "text/plain": [
              "<IPython.core.display.Image object>"
            ],
            "image/png": "[encoded data removed]"
          },
          "metadata": {},
          "execution_count": 131
        }
      ]
    },
    {
      "cell_type": "code",
      "metadata": {
        "id": "pa5OlTlE3iHm"
      },
      "source": [
        "# Aqui vamos criar 200 mil portfólios fictícios com esses papéis"
      ],
      "execution_count": 132,
      "outputs": []
    },
    {
      "cell_type": "code",
      "metadata": {
        "id": "2XMx3Kyq3lYj"
      },
      "source": [
        "port_returns = []\n",
        "\n",
        "port_volatility = []\n",
        "\n",
        "stock_weights = []"
      ],
      "execution_count": 133,
      "outputs": []
    },
    {
      "cell_type": "code",
      "metadata": {
        "id": "nHHAGjtf4OCT"
      },
      "source": [
        "# Vamos passar os parâmetros de simulação"
      ],
      "execution_count": 134,
      "outputs": []
    },
    {
      "cell_type": "code",
      "metadata": {
        "id": "xac3FWxE4RIj"
      },
      "source": [
        "num_assets = len(ativos)\n",
        "\n",
        "num_portfolios = 200000"
      ],
      "execution_count": 135,
      "outputs": []
    },
    {
      "cell_type": "code",
      "metadata": {
        "id": "jaBJ0C9-4rlc"
      },
      "source": [
        "# Vamos usar a função random para criar 10 pesos aleatórios"
      ],
      "execution_count": 136,
      "outputs": []
    },
    {
      "cell_type": "code",
      "metadata": {
        "id": "pv8g1s8x4ZYs"
      },
      "source": [
        "peso = np.random.random(num_assets)"
      ],
      "execution_count": 137,
      "outputs": []
    },
    {
      "cell_type": "code",
      "metadata": {
        "id": "VtjkEenM4xNn"
      },
      "source": [
        "peso /= np.sum(peso)"
      ],
      "execution_count": 138,
      "outputs": []
    },
    {
      "cell_type": "code",
      "metadata": {
        "colab": {
          "base_uri": "https://localhost:8080/"
        },
        "id": "w8NjoGlu5kBB",
        "outputId": "f6a6c444-8973-40be-b373-b2de1556c204"
      },
      "source": [
        "peso"
      ],
      "execution_count": 139,
      "outputs": [
        {
          "output_type": "execute_result",
          "data": {
            "text/plain": [
              "array([0.08874085, 0.01210411, 0.01589356, 0.1038201 , 0.1331987 ,\n",
              "       0.10035837, 0.02323656, 0.03182777, 0.02714771, 0.12989991,\n",
              "       0.10869368, 0.10183353, 0.12324517])"
            ]
          },
          "metadata": {},
          "execution_count": 139
        }
      ]
    },
    {
      "cell_type": "code",
      "metadata": {
        "colab": {
          "base_uri": "https://localhost:8080/"
        },
        "id": "EyNK7wQ-5kh2",
        "outputId": "a107454b-9a23-4beb-826f-af95c46cc9cd"
      },
      "source": [
        "np.sum(peso)"
      ],
      "execution_count": 140,
      "outputs": [
        {
          "output_type": "execute_result",
          "data": {
            "text/plain": [
              "1.0000000000000002"
            ]
          },
          "metadata": {},
          "execution_count": 140
        }
      ]
    },
    {
      "cell_type": "code",
      "source": [
        "range(num_portfolios)"
      ],
      "metadata": {
        "colab": {
          "base_uri": "https://localhost:8080/"
        },
        "id": "lM7EMGgCuJbr",
        "outputId": "c71f5024-7889-4fe2-a57d-7457e4044688"
      },
      "execution_count": 141,
      "outputs": [
        {
          "output_type": "execute_result",
          "data": {
            "text/plain": [
              "range(0, 200000)"
            ]
          },
          "metadata": {},
          "execution_count": 141
        }
      ]
    },
    {
      "cell_type": "code",
      "metadata": {
        "id": "DR33NZZu5rcE"
      },
      "source": [
        "for single_portfolio in range(num_portfolios):\n",
        "  \n",
        "  # Criando pesos aleatórios para os papéis - essa variável é completamente aleatória\n",
        "  weights = np.random.random(num_assets)\n",
        "  \n",
        "  # Normalizando para que sejam 100%\n",
        "  weights /= np.sum(weights)\n",
        "\n",
        "  # Cálculo do retorno do portfólio\n",
        "  returns = np.dot(weights, retorno_anual)\n",
        "\n",
        "  # Cálculo da volatilidade para cada um dos portfólios\n",
        "  volatility = np.sqrt(np.dot(weights.T, np.dot(cov_anual, weights)))\n",
        "\n",
        "  port_returns.append(returns)\n",
        "  port_volatility.append(volatility)\n",
        "  stock_weights.append(weights)"
      ],
      "execution_count": 142,
      "outputs": []
    },
    {
      "cell_type": "code",
      "source": [
        "#stock_weights"
      ],
      "metadata": {
        "id": "2J9d-D37yqSP"
      },
      "execution_count": 144,
      "outputs": []
    },
    {
      "cell_type": "code",
      "metadata": {
        "id": "VQKlusnw68Sy"
      },
      "source": [
        "portfolio = {'Retornos': port_returns, 'Volatilidade': port_volatility}"
      ],
      "execution_count": 145,
      "outputs": []
    },
    {
      "cell_type": "markdown",
      "source": [
        "Criando um dataframe que contém as características de cada portfólio, como o retorno, volatilidade e os pesos de cada ativo"
      ],
      "metadata": {
        "id": "f-b7b1vFy3ny"
      }
    },
    {
      "cell_type": "code",
      "metadata": {
        "id": "v7Dqm5dS7FP1"
      },
      "source": [
        "for counter,symbol in enumerate(ativos):\n",
        "  portfolio[symbol+' peso'] = [weight[counter] for weight in stock_weights]\n",
        "\n",
        "df = pd.DataFrame(portfolio)"
      ],
      "execution_count": 146,
      "outputs": []
    },
    {
      "cell_type": "code",
      "metadata": {
        "colab": {
          "base_uri": "https://localhost:8080/",
          "height": 287
        },
        "id": "M7R5CSoo74nw",
        "outputId": "795db303-3252-46bb-9ab1-2348bb7e7bfb"
      },
      "source": [
        "df.head()"
      ],
      "execution_count": 147,
      "outputs": [
        {
          "output_type": "execute_result",
          "data": {
            "text/plain": [
              "   Retornos  Volatilidade  ABEV3.SA peso  AAPL34.SA peso  EQTL3.SA peso  \\\n",
              "0  0.287285      0.247960       0.034171        0.134425       0.100064   \n",
              "1  0.216577      0.251578       0.019997        0.040833       0.048655   \n",
              "2  0.270185      0.210726       0.136662        0.139304       0.049531   \n",
              "3  0.275204      0.233627       0.027954        0.064193       0.031781   \n",
              "4  0.258422      0.245203       0.105567        0.009950       0.119308   \n",
              "\n",
              "   LREN3.SA peso  CIEL3.SA peso  RADL3.SA peso  RENT3.SA peso  MDIA3.SA peso  \\\n",
              "0       0.083932       0.002466       0.023795       0.128513       0.035837   \n",
              "1       0.122666       0.136315       0.116229       0.055837       0.092352   \n",
              "2       0.023261       0.131790       0.056252       0.118542       0.005618   \n",
              "3       0.096943       0.057022       0.039106       0.104273       0.074998   \n",
              "4       0.038046       0.002822       0.111197       0.101311       0.158947   \n",
              "\n",
              "   WEGE3.SA peso  EZTC3.SA peso  FLRY3.SA peso  BOVA11.SA peso  TSLA34.SA peso  \n",
              "0       0.045165       0.013634       0.198915        0.096362        0.102721  \n",
              "1       0.109094       0.106640       0.088418        0.025353        0.037609  \n",
              "2       0.140709       0.012721       0.062860        0.066352        0.056398  \n",
              "3       0.118348       0.111902       0.066039        0.122132        0.085308  \n",
              "4       0.133186       0.069989       0.089176        0.032455        0.028046  "
            ],
            "text/html": [
              "\n",
              "  <div id=\"df-8cab1465-b0bf-4bca-885a-92ad19558b97\">\n",
              "    <div class=\"colab-df-container\">\n",
              "      <div>\n",
              "<style scoped>\n",
              "    .dataframe tbody tr th:only-of-type {\n",
              "        vertical-align: middle;\n",
              "    }\n",
              "\n",
              "    .dataframe tbody tr th {\n",
              "        vertical-align: top;\n",
              "    }\n",
              "\n",
              "    .dataframe thead th {\n",
              "        text-align: right;\n",
              "    }\n",
              "</style>\n",
              "<table border=\"1\" class=\"dataframe\">\n",
              "  <thead>\n",
              "    <tr style=\"text-align: right;\">\n",
              "      <th></th>\n",
              "      <th>Retornos</th>\n",
              "      <th>Volatilidade</th>\n",
              "      <th>ABEV3.SA peso</th>\n",
              "      <th>AAPL34.SA peso</th>\n",
              "      <th>EQTL3.SA peso</th>\n",
              "      <th>LREN3.SA peso</th>\n",
              "      <th>CIEL3.SA peso</th>\n",
              "      <th>RADL3.SA peso</th>\n",
              "      <th>RENT3.SA peso</th>\n",
              "      <th>MDIA3.SA peso</th>\n",
              "      <th>WEGE3.SA peso</th>\n",
              "      <th>EZTC3.SA peso</th>\n",
              "      <th>FLRY3.SA peso</th>\n",
              "      <th>BOVA11.SA peso</th>\n",
              "      <th>TSLA34.SA peso</th>\n",
              "    </tr>\n",
              "  </thead>\n",
              "  <tbody>\n",
              "    <tr>\n",
              "      <th>0</th>\n",
              "      <td>0.287285</td>\n",
              "      <td>0.247960</td>\n",
              "      <td>0.034171</td>\n",
              "      <td>0.134425</td>\n",
              "      <td>0.100064</td>\n",
              "      <td>0.083932</td>\n",
              "      <td>0.002466</td>\n",
              "      <td>0.023795</td>\n",
              "      <td>0.128513</td>\n",
              "      <td>0.035837</td>\n",
              "      <td>0.045165</td>\n",
              "      <td>0.013634</td>\n",
              "      <td>0.198915</td>\n",
              "      <td>0.096362</td>\n",
              "      <td>0.102721</td>\n",
              "    </tr>\n",
              "    <tr>\n",
              "      <th>1</th>\n",
              "      <td>0.216577</td>\n",
              "      <td>0.251578</td>\n",
              "      <td>0.019997</td>\n",
              "      <td>0.040833</td>\n",
              "      <td>0.048655</td>\n",
              "      <td>0.122666</td>\n",
              "      <td>0.136315</td>\n",
              "      <td>0.116229</td>\n",
              "      <td>0.055837</td>\n",
              "      <td>0.092352</td>\n",
              "      <td>0.109094</td>\n",
              "      <td>0.106640</td>\n",
              "      <td>0.088418</td>\n",
              "      <td>0.025353</td>\n",
              "      <td>0.037609</td>\n",
              "    </tr>\n",
              "    <tr>\n",
              "      <th>2</th>\n",
              "      <td>0.270185</td>\n",
              "      <td>0.210726</td>\n",
              "      <td>0.136662</td>\n",
              "      <td>0.139304</td>\n",
              "      <td>0.049531</td>\n",
              "      <td>0.023261</td>\n",
              "      <td>0.131790</td>\n",
              "      <td>0.056252</td>\n",
              "      <td>0.118542</td>\n",
              "      <td>0.005618</td>\n",
              "      <td>0.140709</td>\n",
              "      <td>0.012721</td>\n",
              "      <td>0.062860</td>\n",
              "      <td>0.066352</td>\n",
              "      <td>0.056398</td>\n",
              "    </tr>\n",
              "    <tr>\n",
              "      <th>3</th>\n",
              "      <td>0.275204</td>\n",
              "      <td>0.233627</td>\n",
              "      <td>0.027954</td>\n",
              "      <td>0.064193</td>\n",
              "      <td>0.031781</td>\n",
              "      <td>0.096943</td>\n",
              "      <td>0.057022</td>\n",
              "      <td>0.039106</td>\n",
              "      <td>0.104273</td>\n",
              "      <td>0.074998</td>\n",
              "      <td>0.118348</td>\n",
              "      <td>0.111902</td>\n",
              "      <td>0.066039</td>\n",
              "      <td>0.122132</td>\n",
              "      <td>0.085308</td>\n",
              "    </tr>\n",
              "    <tr>\n",
              "      <th>4</th>\n",
              "      <td>0.258422</td>\n",
              "      <td>0.245203</td>\n",
              "      <td>0.105567</td>\n",
              "      <td>0.009950</td>\n",
              "      <td>0.119308</td>\n",
              "      <td>0.038046</td>\n",
              "      <td>0.002822</td>\n",
              "      <td>0.111197</td>\n",
              "      <td>0.101311</td>\n",
              "      <td>0.158947</td>\n",
              "      <td>0.133186</td>\n",
              "      <td>0.069989</td>\n",
              "      <td>0.089176</td>\n",
              "      <td>0.032455</td>\n",
              "      <td>0.028046</td>\n",
              "    </tr>\n",
              "  </tbody>\n",
              "</table>\n",
              "</div>\n",
              "      <button class=\"colab-df-convert\" onclick=\"convertToInteractive('df-8cab1465-b0bf-4bca-885a-92ad19558b97')\"\n",
              "              title=\"Convert this dataframe to an interactive table.\"\n",
              "              style=\"display:none;\">\n",
              "        \n",
              "  <svg xmlns=\"http://www.w3.org/2000/svg\" height=\"24px\"viewBox=\"0 0 24 24\"\n",
              "       width=\"24px\">\n",
              "    <path d=\"M0 0h24v24H0V0z\" fill=\"none\"/>\n",
              "    <path d=\"M18.56 5.44l.94 2.06.94-2.06 2.06-.94-2.06-.94-.94-2.06-.94 2.06-2.06.94zm-11 1L8.5 8.5l.94-2.06 2.06-.94-2.06-.94L8.5 2.5l-.94 2.06-2.06.94zm10 10l.94 2.06.94-2.06 2.06-.94-2.06-.94-.94-2.06-.94 2.06-2.06.94z\"/><path d=\"M17.41 7.96l-1.37-1.37c-.4-.4-.92-.59-1.43-.59-.52 0-1.04.2-1.43.59L10.3 9.45l-7.72 7.72c-.78.78-.78 2.05 0 2.83L4 21.41c.39.39.9.59 1.41.59.51 0 1.02-.2 1.41-.59l7.78-7.78 2.81-2.81c.8-.78.8-2.07 0-2.86zM5.41 20L4 18.59l7.72-7.72 1.47 1.35L5.41 20z\"/>\n",
              "  </svg>\n",
              "      </button>\n",
              "      \n",
              "  <style>\n",
              "    .colab-df-container {\n",
              "      display:flex;\n",
              "      flex-wrap:wrap;\n",
              "      gap: 12px;\n",
              "    }\n",
              "\n",
              "    .colab-df-convert {\n",
              "      background-color: #E8F0FE;\n",
              "      border: none;\n",
              "      border-radius: 50%;\n",
              "      cursor: pointer;\n",
              "      display: none;\n",
              "      fill: #1967D2;\n",
              "      height: 32px;\n",
              "      padding: 0 0 0 0;\n",
              "      width: 32px;\n",
              "    }\n",
              "\n",
              "    .colab-df-convert:hover {\n",
              "      background-color: #E2EBFA;\n",
              "      box-shadow: 0px 1px 2px rgba(60, 64, 67, 0.3), 0px 1px 3px 1px rgba(60, 64, 67, 0.15);\n",
              "      fill: #174EA6;\n",
              "    }\n",
              "\n",
              "    [theme=dark] .colab-df-convert {\n",
              "      background-color: #3B4455;\n",
              "      fill: #D2E3FC;\n",
              "    }\n",
              "\n",
              "    [theme=dark] .colab-df-convert:hover {\n",
              "      background-color: #434B5C;\n",
              "      box-shadow: 0px 1px 3px 1px rgba(0, 0, 0, 0.15);\n",
              "      filter: drop-shadow(0px 1px 2px rgba(0, 0, 0, 0.3));\n",
              "      fill: #FFFFFF;\n",
              "    }\n",
              "  </style>\n",
              "\n",
              "      <script>\n",
              "        const buttonEl =\n",
              "          document.querySelector('#df-8cab1465-b0bf-4bca-885a-92ad19558b97 button.colab-df-convert');\n",
              "        buttonEl.style.display =\n",
              "          google.colab.kernel.accessAllowed ? 'block' : 'none';\n",
              "\n",
              "        async function convertToInteractive(key) {\n",
              "          const element = document.querySelector('#df-8cab1465-b0bf-4bca-885a-92ad19558b97');\n",
              "          const dataTable =\n",
              "            await google.colab.kernel.invokeFunction('convertToInteractive',\n",
              "                                                     [key], {});\n",
              "          if (!dataTable) return;\n",
              "\n",
              "          const docLinkHtml = 'Like what you see? Visit the ' +\n",
              "            '<a target=\"_blank\" href=https://colab.research.google.com/notebooks/data_table.ipynb>data table notebook</a>'\n",
              "            + ' to learn more about interactive tables.';\n",
              "          element.innerHTML = '';\n",
              "          dataTable['output_type'] = 'display_data';\n",
              "          await google.colab.output.renderOutput(dataTable, element);\n",
              "          const docLink = document.createElement('div');\n",
              "          docLink.innerHTML = docLinkHtml;\n",
              "          element.appendChild(docLink);\n",
              "        }\n",
              "      </script>\n",
              "    </div>\n",
              "  </div>\n",
              "  "
            ]
          },
          "metadata": {},
          "execution_count": 147
        }
      ]
    },
    {
      "cell_type": "code",
      "metadata": {
        "id": "EQNVYhU275x9"
      },
      "source": [
        "retornos = df.sort_values(by = ['Retornos'], ascending = False)"
      ],
      "execution_count": 148,
      "outputs": []
    },
    {
      "cell_type": "code",
      "metadata": {
        "colab": {
          "base_uri": "https://localhost:8080/",
          "height": 287
        },
        "id": "K2pCF6HD88mG",
        "outputId": "ea783022-94a2-43dd-c82c-7881a33c25d1"
      },
      "source": [
        "retornos.head()"
      ],
      "execution_count": 149,
      "outputs": [
        {
          "output_type": "execute_result",
          "data": {
            "text/plain": [
              "        Retornos  Volatilidade  ABEV3.SA peso  AAPL34.SA peso  EQTL3.SA peso  \\\n",
              "131038  0.442097      0.253804       0.173461        0.003476       0.047578   \n",
              "145072  0.439053      0.246494       0.205729        0.032960       0.093777   \n",
              "192852  0.436960      0.266646       0.083661        0.002585       0.090922   \n",
              "23196   0.429129      0.250930       0.138395        0.021992       0.030019   \n",
              "810     0.427733      0.267116       0.062359        0.162820       0.021554   \n",
              "\n",
              "        LREN3.SA peso  CIEL3.SA peso  RADL3.SA peso  RENT3.SA peso  \\\n",
              "131038       0.024928       0.079836       0.007464       0.123118   \n",
              "145072       0.020895       0.176591       0.004518       0.031034   \n",
              "192852       0.013824       0.135229       0.052602       0.002430   \n",
              "23196        0.001710       0.021209       0.067422       0.036729   \n",
              "810          0.016009       0.019728       0.003526       0.051060   \n",
              "\n",
              "        MDIA3.SA peso  WEGE3.SA peso  EZTC3.SA peso  FLRY3.SA peso  \\\n",
              "131038       0.031360       0.033768       0.016612       0.191264   \n",
              "145072       0.041126       0.006210       0.013103       0.087412   \n",
              "192852       0.084171       0.055131       0.002288       0.197517   \n",
              "23196        0.085973       0.033943       0.091002       0.147146   \n",
              "810          0.060102       0.000974       0.005244       0.212898   \n",
              "\n",
              "        BOVA11.SA peso  TSLA34.SA peso  \n",
              "131038        0.241120        0.026014  \n",
              "145072        0.258752        0.027894  \n",
              "192852        0.243672        0.035968  \n",
              "23196         0.215296        0.109164  \n",
              "810           0.259288        0.124438  "
            ],
            "text/html": [
              "\n",
              "  <div id=\"df-b225dc34-967a-4d72-aee7-b1d948b2198c\">\n",
              "    <div class=\"colab-df-container\">\n",
              "      <div>\n",
              "<style scoped>\n",
              "    .dataframe tbody tr th:only-of-type {\n",
              "        vertical-align: middle;\n",
              "    }\n",
              "\n",
              "    .dataframe tbody tr th {\n",
              "        vertical-align: top;\n",
              "    }\n",
              "\n",
              "    .dataframe thead th {\n",
              "        text-align: right;\n",
              "    }\n",
              "</style>\n",
              "<table border=\"1\" class=\"dataframe\">\n",
              "  <thead>\n",
              "    <tr style=\"text-align: right;\">\n",
              "      <th></th>\n",
              "      <th>Retornos</th>\n",
              "      <th>Volatilidade</th>\n",
              "      <th>ABEV3.SA peso</th>\n",
              "      <th>AAPL34.SA peso</th>\n",
              "      <th>EQTL3.SA peso</th>\n",
              "      <th>LREN3.SA peso</th>\n",
              "      <th>CIEL3.SA peso</th>\n",
              "      <th>RADL3.SA peso</th>\n",
              "      <th>RENT3.SA peso</th>\n",
              "      <th>MDIA3.SA peso</th>\n",
              "      <th>WEGE3.SA peso</th>\n",
              "      <th>EZTC3.SA peso</th>\n",
              "      <th>FLRY3.SA peso</th>\n",
              "      <th>BOVA11.SA peso</th>\n",
              "      <th>TSLA34.SA peso</th>\n",
              "    </tr>\n",
              "  </thead>\n",
              "  <tbody>\n",
              "    <tr>\n",
              "      <th>131038</th>\n",
              "      <td>0.442097</td>\n",
              "      <td>0.253804</td>\n",
              "      <td>0.173461</td>\n",
              "      <td>0.003476</td>\n",
              "      <td>0.047578</td>\n",
              "      <td>0.024928</td>\n",
              "      <td>0.079836</td>\n",
              "      <td>0.007464</td>\n",
              "      <td>0.123118</td>\n",
              "      <td>0.031360</td>\n",
              "      <td>0.033768</td>\n",
              "      <td>0.016612</td>\n",
              "      <td>0.191264</td>\n",
              "      <td>0.241120</td>\n",
              "      <td>0.026014</td>\n",
              "    </tr>\n",
              "    <tr>\n",
              "      <th>145072</th>\n",
              "      <td>0.439053</td>\n",
              "      <td>0.246494</td>\n",
              "      <td>0.205729</td>\n",
              "      <td>0.032960</td>\n",
              "      <td>0.093777</td>\n",
              "      <td>0.020895</td>\n",
              "      <td>0.176591</td>\n",
              "      <td>0.004518</td>\n",
              "      <td>0.031034</td>\n",
              "      <td>0.041126</td>\n",
              "      <td>0.006210</td>\n",
              "      <td>0.013103</td>\n",
              "      <td>0.087412</td>\n",
              "      <td>0.258752</td>\n",
              "      <td>0.027894</td>\n",
              "    </tr>\n",
              "    <tr>\n",
              "      <th>192852</th>\n",
              "      <td>0.436960</td>\n",
              "      <td>0.266646</td>\n",
              "      <td>0.083661</td>\n",
              "      <td>0.002585</td>\n",
              "      <td>0.090922</td>\n",
              "      <td>0.013824</td>\n",
              "      <td>0.135229</td>\n",
              "      <td>0.052602</td>\n",
              "      <td>0.002430</td>\n",
              "      <td>0.084171</td>\n",
              "      <td>0.055131</td>\n",
              "      <td>0.002288</td>\n",
              "      <td>0.197517</td>\n",
              "      <td>0.243672</td>\n",
              "      <td>0.035968</td>\n",
              "    </tr>\n",
              "    <tr>\n",
              "      <th>23196</th>\n",
              "      <td>0.429129</td>\n",
              "      <td>0.250930</td>\n",
              "      <td>0.138395</td>\n",
              "      <td>0.021992</td>\n",
              "      <td>0.030019</td>\n",
              "      <td>0.001710</td>\n",
              "      <td>0.021209</td>\n",
              "      <td>0.067422</td>\n",
              "      <td>0.036729</td>\n",
              "      <td>0.085973</td>\n",
              "      <td>0.033943</td>\n",
              "      <td>0.091002</td>\n",
              "      <td>0.147146</td>\n",
              "      <td>0.215296</td>\n",
              "      <td>0.109164</td>\n",
              "    </tr>\n",
              "    <tr>\n",
              "      <th>810</th>\n",
              "      <td>0.427733</td>\n",
              "      <td>0.267116</td>\n",
              "      <td>0.062359</td>\n",
              "      <td>0.162820</td>\n",
              "      <td>0.021554</td>\n",
              "      <td>0.016009</td>\n",
              "      <td>0.019728</td>\n",
              "      <td>0.003526</td>\n",
              "      <td>0.051060</td>\n",
              "      <td>0.060102</td>\n",
              "      <td>0.000974</td>\n",
              "      <td>0.005244</td>\n",
              "      <td>0.212898</td>\n",
              "      <td>0.259288</td>\n",
              "      <td>0.124438</td>\n",
              "    </tr>\n",
              "  </tbody>\n",
              "</table>\n",
              "</div>\n",
              "      <button class=\"colab-df-convert\" onclick=\"convertToInteractive('df-b225dc34-967a-4d72-aee7-b1d948b2198c')\"\n",
              "              title=\"Convert this dataframe to an interactive table.\"\n",
              "              style=\"display:none;\">\n",
              "        \n",
              "  <svg xmlns=\"http://www.w3.org/2000/svg\" height=\"24px\"viewBox=\"0 0 24 24\"\n",
              "       width=\"24px\">\n",
              "    <path d=\"M0 0h24v24H0V0z\" fill=\"none\"/>\n",
              "    <path d=\"M18.56 5.44l.94 2.06.94-2.06 2.06-.94-2.06-.94-.94-2.06-.94 2.06-2.06.94zm-11 1L8.5 8.5l.94-2.06 2.06-.94-2.06-.94L8.5 2.5l-.94 2.06-2.06.94zm10 10l.94 2.06.94-2.06 2.06-.94-2.06-.94-.94-2.06-.94 2.06-2.06.94z\"/><path d=\"M17.41 7.96l-1.37-1.37c-.4-.4-.92-.59-1.43-.59-.52 0-1.04.2-1.43.59L10.3 9.45l-7.72 7.72c-.78.78-.78 2.05 0 2.83L4 21.41c.39.39.9.59 1.41.59.51 0 1.02-.2 1.41-.59l7.78-7.78 2.81-2.81c.8-.78.8-2.07 0-2.86zM5.41 20L4 18.59l7.72-7.72 1.47 1.35L5.41 20z\"/>\n",
              "  </svg>\n",
              "      </button>\n",
              "      \n",
              "  <style>\n",
              "    .colab-df-container {\n",
              "      display:flex;\n",
              "      flex-wrap:wrap;\n",
              "      gap: 12px;\n",
              "    }\n",
              "\n",
              "    .colab-df-convert {\n",
              "      background-color: #E8F0FE;\n",
              "      border: none;\n",
              "      border-radius: 50%;\n",
              "      cursor: pointer;\n",
              "      display: none;\n",
              "      fill: #1967D2;\n",
              "      height: 32px;\n",
              "      padding: 0 0 0 0;\n",
              "      width: 32px;\n",
              "    }\n",
              "\n",
              "    .colab-df-convert:hover {\n",
              "      background-color: #E2EBFA;\n",
              "      box-shadow: 0px 1px 2px rgba(60, 64, 67, 0.3), 0px 1px 3px 1px rgba(60, 64, 67, 0.15);\n",
              "      fill: #174EA6;\n",
              "    }\n",
              "\n",
              "    [theme=dark] .colab-df-convert {\n",
              "      background-color: #3B4455;\n",
              "      fill: #D2E3FC;\n",
              "    }\n",
              "\n",
              "    [theme=dark] .colab-df-convert:hover {\n",
              "      background-color: #434B5C;\n",
              "      box-shadow: 0px 1px 3px 1px rgba(0, 0, 0, 0.15);\n",
              "      filter: drop-shadow(0px 1px 2px rgba(0, 0, 0, 0.3));\n",
              "      fill: #FFFFFF;\n",
              "    }\n",
              "  </style>\n",
              "\n",
              "      <script>\n",
              "        const buttonEl =\n",
              "          document.querySelector('#df-b225dc34-967a-4d72-aee7-b1d948b2198c button.colab-df-convert');\n",
              "        buttonEl.style.display =\n",
              "          google.colab.kernel.accessAllowed ? 'block' : 'none';\n",
              "\n",
              "        async function convertToInteractive(key) {\n",
              "          const element = document.querySelector('#df-b225dc34-967a-4d72-aee7-b1d948b2198c');\n",
              "          const dataTable =\n",
              "            await google.colab.kernel.invokeFunction('convertToInteractive',\n",
              "                                                     [key], {});\n",
              "          if (!dataTable) return;\n",
              "\n",
              "          const docLinkHtml = 'Like what you see? Visit the ' +\n",
              "            '<a target=\"_blank\" href=https://colab.research.google.com/notebooks/data_table.ipynb>data table notebook</a>'\n",
              "            + ' to learn more about interactive tables.';\n",
              "          element.innerHTML = '';\n",
              "          dataTable['output_type'] = 'display_data';\n",
              "          await google.colab.output.renderOutput(dataTable, element);\n",
              "          const docLink = document.createElement('div');\n",
              "          docLink.innerHTML = docLinkHtml;\n",
              "          element.appendChild(docLink);\n",
              "        }\n",
              "      </script>\n",
              "    </div>\n",
              "  </div>\n",
              "  "
            ]
          },
          "metadata": {},
          "execution_count": 149
        }
      ]
    },
    {
      "cell_type": "code",
      "metadata": {
        "colab": {
          "base_uri": "https://localhost:8080/",
          "height": 620
        },
        "id": "FptoDx6r9AI7",
        "outputId": "5bac181f-267e-4c5a-bd4b-2b7d00582ff8"
      },
      "source": [
        "plt.style.use('seaborn')\n",
        "\n",
        "df.plot.scatter(x = 'Volatilidade', y = 'Retornos', figsize = (10,10), grid = True)\n",
        "\n",
        "plt.xlabel('Volatilidade')\n",
        "\n",
        "plt.ylabel('Retornos Esperados')\n",
        "\n",
        "plt.title('Fronteira Eficiente')\n",
        "\n",
        "plt.show()"
      ],
      "execution_count": 150,
      "outputs": [
        {
          "output_type": "display_data",
          "data": {
            "text/plain": [
              "<Figure size 720x720 with 1 Axes>"
            ],
            "image/png": "[encoded data removed]"
          },
          "metadata": {}
        }
      ]
    },
    {
      "cell_type": "code",
      "metadata": {
        "id": "Z6sMXDLO99J2"
      },
      "source": [
        "retorno_max = retornos.iloc[:1]"
      ],
      "execution_count": 151,
      "outputs": []
    },
    {
      "cell_type": "code",
      "metadata": {
        "id": "sAhejYqI-6UA"
      },
      "source": [
        "retorno_max = retorno_max.drop(['Retornos', 'Volatilidade'], axis = 1)"
      ],
      "execution_count": 152,
      "outputs": []
    },
    {
      "cell_type": "code",
      "metadata": {
        "colab": {
          "base_uri": "https://localhost:8080/",
          "height": 142
        },
        "id": "_vzRBSiZ_I57",
        "outputId": "7f91cb80-5019-4c14-90fd-af944180cca7"
      },
      "source": [
        "retorno_max"
      ],
      "execution_count": 153,
      "outputs": [
        {
          "output_type": "execute_result",
          "data": {
            "text/plain": [
              "        ABEV3.SA peso  AAPL34.SA peso  EQTL3.SA peso  LREN3.SA peso  \\\n",
              "131038       0.173461        0.003476       0.047578       0.024928   \n",
              "\n",
              "        CIEL3.SA peso  RADL3.SA peso  RENT3.SA peso  MDIA3.SA peso  \\\n",
              "131038       0.079836       0.007464       0.123118        0.03136   \n",
              "\n",
              "        WEGE3.SA peso  EZTC3.SA peso  FLRY3.SA peso  BOVA11.SA peso  \\\n",
              "131038       0.033768       0.016612       0.191264         0.24112   \n",
              "\n",
              "        TSLA34.SA peso  \n",
              "131038        0.026014  "
            ],
            "text/html": [
              "\n",
              "  <div id=\"df-7d962519-a57c-46da-b8a8-c231d3980e3e\">\n",
              "    <div class=\"colab-df-container\">\n",
              "      <div>\n",
              "<style scoped>\n",
              "    .dataframe tbody tr th:only-of-type {\n",
              "        vertical-align: middle;\n",
              "    }\n",
              "\n",
              "    .dataframe tbody tr th {\n",
              "        vertical-align: top;\n",
              "    }\n",
              "\n",
              "    .dataframe thead th {\n",
              "        text-align: right;\n",
              "    }\n",
              "</style>\n",
              "<table border=\"1\" class=\"dataframe\">\n",
              "  <thead>\n",
              "    <tr style=\"text-align: right;\">\n",
              "      <th></th>\n",
              "      <th>ABEV3.SA peso</th>\n",
              "      <th>AAPL34.SA peso</th>\n",
              "      <th>EQTL3.SA peso</th>\n",
              "      <th>LREN3.SA peso</th>\n",
              "      <th>CIEL3.SA peso</th>\n",
              "      <th>RADL3.SA peso</th>\n",
              "      <th>RENT3.SA peso</th>\n",
              "      <th>MDIA3.SA peso</th>\n",
              "      <th>WEGE3.SA peso</th>\n",
              "      <th>EZTC3.SA peso</th>\n",
              "      <th>FLRY3.SA peso</th>\n",
              "      <th>BOVA11.SA peso</th>\n",
              "      <th>TSLA34.SA peso</th>\n",
              "    </tr>\n",
              "  </thead>\n",
              "  <tbody>\n",
              "    <tr>\n",
              "      <th>131038</th>\n",
              "      <td>0.173461</td>\n",
              "      <td>0.003476</td>\n",
              "      <td>0.047578</td>\n",
              "      <td>0.024928</td>\n",
              "      <td>0.079836</td>\n",
              "      <td>0.007464</td>\n",
              "      <td>0.123118</td>\n",
              "      <td>0.03136</td>\n",
              "      <td>0.033768</td>\n",
              "      <td>0.016612</td>\n",
              "      <td>0.191264</td>\n",
              "      <td>0.24112</td>\n",
              "      <td>0.026014</td>\n",
              "    </tr>\n",
              "  </tbody>\n",
              "</table>\n",
              "</div>\n",
              "      <button class=\"colab-df-convert\" onclick=\"convertToInteractive('df-7d962519-a57c-46da-b8a8-c231d3980e3e')\"\n",
              "              title=\"Convert this dataframe to an interactive table.\"\n",
              "              style=\"display:none;\">\n",
              "        \n",
              "  <svg xmlns=\"http://www.w3.org/2000/svg\" height=\"24px\"viewBox=\"0 0 24 24\"\n",
              "       width=\"24px\">\n",
              "    <path d=\"M0 0h24v24H0V0z\" fill=\"none\"/>\n",
              "    <path d=\"M18.56 5.44l.94 2.06.94-2.06 2.06-.94-2.06-.94-.94-2.06-.94 2.06-2.06.94zm-11 1L8.5 8.5l.94-2.06 2.06-.94-2.06-.94L8.5 2.5l-.94 2.06-2.06.94zm10 10l.94 2.06.94-2.06 2.06-.94-2.06-.94-.94-2.06-.94 2.06-2.06.94z\"/><path d=\"M17.41 7.96l-1.37-1.37c-.4-.4-.92-.59-1.43-.59-.52 0-1.04.2-1.43.59L10.3 9.45l-7.72 7.72c-.78.78-.78 2.05 0 2.83L4 21.41c.39.39.9.59 1.41.59.51 0 1.02-.2 1.41-.59l7.78-7.78 2.81-2.81c.8-.78.8-2.07 0-2.86zM5.41 20L4 18.59l7.72-7.72 1.47 1.35L5.41 20z\"/>\n",
              "  </svg>\n",
              "      </button>\n",
              "      \n",
              "  <style>\n",
              "    .colab-df-container {\n",
              "      display:flex;\n",
              "      flex-wrap:wrap;\n",
              "      gap: 12px;\n",
              "    }\n",
              "\n",
              "    .colab-df-convert {\n",
              "      background-color: #E8F0FE;\n",
              "      border: none;\n",
              "      border-radius: 50%;\n",
              "      cursor: pointer;\n",
              "      display: none;\n",
              "      fill: #1967D2;\n",
              "      height: 32px;\n",
              "      padding: 0 0 0 0;\n",
              "      width: 32px;\n",
              "    }\n",
              "\n",
              "    .colab-df-convert:hover {\n",
              "      background-color: #E2EBFA;\n",
              "      box-shadow: 0px 1px 2px rgba(60, 64, 67, 0.3), 0px 1px 3px 1px rgba(60, 64, 67, 0.15);\n",
              "      fill: #174EA6;\n",
              "    }\n",
              "\n",
              "    [theme=dark] .colab-df-convert {\n",
              "      background-color: #3B4455;\n",
              "      fill: #D2E3FC;\n",
              "    }\n",
              "\n",
              "    [theme=dark] .colab-df-convert:hover {\n",
              "      background-color: #434B5C;\n",
              "      box-shadow: 0px 1px 3px 1px rgba(0, 0, 0, 0.15);\n",
              "      filter: drop-shadow(0px 1px 2px rgba(0, 0, 0, 0.3));\n",
              "      fill: #FFFFFF;\n",
              "    }\n",
              "  </style>\n",
              "\n",
              "      <script>\n",
              "        const buttonEl =\n",
              "          document.querySelector('#df-7d962519-a57c-46da-b8a8-c231d3980e3e button.colab-df-convert');\n",
              "        buttonEl.style.display =\n",
              "          google.colab.kernel.accessAllowed ? 'block' : 'none';\n",
              "\n",
              "        async function convertToInteractive(key) {\n",
              "          const element = document.querySelector('#df-7d962519-a57c-46da-b8a8-c231d3980e3e');\n",
              "          const dataTable =\n",
              "            await google.colab.kernel.invokeFunction('convertToInteractive',\n",
              "                                                     [key], {});\n",
              "          if (!dataTable) return;\n",
              "\n",
              "          const docLinkHtml = 'Like what you see? Visit the ' +\n",
              "            '<a target=\"_blank\" href=https://colab.research.google.com/notebooks/data_table.ipynb>data table notebook</a>'\n",
              "            + ' to learn more about interactive tables.';\n",
              "          element.innerHTML = '';\n",
              "          dataTable['output_type'] = 'display_data';\n",
              "          await google.colab.output.renderOutput(dataTable, element);\n",
              "          const docLink = document.createElement('div');\n",
              "          docLink.innerHTML = docLinkHtml;\n",
              "          element.appendChild(docLink);\n",
              "        }\n",
              "      </script>\n",
              "    </div>\n",
              "  </div>\n",
              "  "
            ]
          },
          "metadata": {},
          "execution_count": 153
        }
      ]
    },
    {
      "cell_type": "code",
      "metadata": {
        "colab": {
          "base_uri": "https://localhost:8080/"
        },
        "id": "3C5k_yQm_MWy",
        "outputId": "2523381f-6467-45bc-cbd3-5d09fb3ef53c"
      },
      "source": [
        "ativos"
      ],
      "execution_count": 154,
      "outputs": [
        {
          "output_type": "execute_result",
          "data": {
            "text/plain": [
              "['ABEV3.SA',\n",
              " 'AAPL34.SA',\n",
              " 'EQTL3.SA',\n",
              " 'LREN3.SA',\n",
              " 'CIEL3.SA',\n",
              " 'RADL3.SA',\n",
              " 'RENT3.SA',\n",
              " 'MDIA3.SA',\n",
              " 'WEGE3.SA',\n",
              " 'EZTC3.SA',\n",
              " 'FLRY3.SA',\n",
              " 'BOVA11.SA',\n",
              " 'TSLA34.SA']"
            ]
          },
          "metadata": {},
          "execution_count": 154
        }
      ]
    },
    {
      "cell_type": "code",
      "metadata": {
        "id": "KXROMKv3_QpT"
      },
      "source": [
        "pesos = np.array(retorno_max)"
      ],
      "execution_count": 155,
      "outputs": []
    },
    {
      "cell_type": "code",
      "metadata": {
        "colab": {
          "base_uri": "https://localhost:8080/"
        },
        "id": "ye8EShtb_Wjn",
        "outputId": "51a02b67-90a4-4e51-f3ad-4a3b078933fa"
      },
      "source": [
        "pesos"
      ],
      "execution_count": 156,
      "outputs": [
        {
          "output_type": "execute_result",
          "data": {
            "text/plain": [
              "array([[0.17346136, 0.00347587, 0.04757845, 0.02492754, 0.07983622,\n",
              "        0.00746373, 0.12311769, 0.03136012, 0.03376806, 0.01661244,\n",
              "        0.19126382, 0.24112028, 0.02601441]])"
            ]
          },
          "metadata": {},
          "execution_count": 156
        }
      ]
    },
    {
      "cell_type": "code",
      "metadata": {
        "id": "OobXfujz_XJn"
      },
      "source": [
        "retorno_carteira = retorno_diario*pesos"
      ],
      "execution_count": 157,
      "outputs": []
    },
    {
      "cell_type": "code",
      "source": [
        "retorno_carteira.tail()"
      ],
      "metadata": {
        "colab": {
          "base_uri": "https://localhost:8080/",
          "height": 281
        },
        "id": "RX15Iq6wzSg9",
        "outputId": "ecd0e841-6d06-4d96-ceb3-a99182c195aa"
      },
      "execution_count": 158,
      "outputs": [
        {
          "output_type": "execute_result",
          "data": {
            "text/plain": [
              "            AAPL34.SA  ABEV3.SA  BOVA11.SA  CIEL3.SA  EQTL3.SA  EZTC3.SA  \\\n",
              "Date                                                                       \n",
              "2022-03-21  -0.001902 -0.000017   0.000520  0.000186  0.000239  0.000071   \n",
              "2022-03-22   0.004059  0.000049   0.000493 -0.000092  0.001250  0.000282   \n",
              "2022-03-23  -0.000605 -0.000046  -0.000084  0.000185 -0.000410  0.000078   \n",
              "2022-03-24   0.002786  0.000002   0.000775  0.001104  0.001178  0.000332   \n",
              "2022-03-25  -0.002845  0.000029   0.000004  0.000529 -0.000581  0.000287   \n",
              "\n",
              "            FLRY3.SA  LREN3.SA  MDIA3.SA  RADL3.SA  RENT3.SA  TSLA34.SA  \\\n",
              "Date                                                                      \n",
              "2022-03-21 -0.000821 -0.000143 -0.000953 -0.000212 -0.003634   0.001096   \n",
              "2022-03-22  0.003981  0.001122  0.001193  0.000244  0.007408   0.018810   \n",
              "2022-03-23 -0.005166  0.001766  0.000931  0.000124  0.000433  -0.002436   \n",
              "2022-03-24  0.001586  0.001799  0.001290  0.000246  0.005453   0.003068   \n",
              "2022-03-25  0.003522 -0.000079  0.000459  0.000278  0.005399  -0.005602   \n",
              "\n",
              "            WEGE3.SA  \n",
              "Date                  \n",
              "2022-03-21 -0.000578  \n",
              "2022-03-22  0.000360  \n",
              "2022-03-23 -0.000197  \n",
              "2022-03-24  0.000302  \n",
              "2022-03-25 -0.000196  "
            ],
            "text/html": [
              "\n",
              "  <div id=\"df-dbf76a23-e9cf-40ff-af3d-47b30d44642f\">\n",
              "    <div class=\"colab-df-container\">\n",
              "      <div>\n",
              "<style scoped>\n",
              "    .dataframe tbody tr th:only-of-type {\n",
              "        vertical-align: middle;\n",
              "    }\n",
              "\n",
              "    .dataframe tbody tr th {\n",
              "        vertical-align: top;\n",
              "    }\n",
              "\n",
              "    .dataframe thead th {\n",
              "        text-align: right;\n",
              "    }\n",
              "</style>\n",
              "<table border=\"1\" class=\"dataframe\">\n",
              "  <thead>\n",
              "    <tr style=\"text-align: right;\">\n",
              "      <th></th>\n",
              "      <th>AAPL34.SA</th>\n",
              "      <th>ABEV3.SA</th>\n",
              "      <th>BOVA11.SA</th>\n",
              "      <th>CIEL3.SA</th>\n",
              "      <th>EQTL3.SA</th>\n",
              "      <th>EZTC3.SA</th>\n",
              "      <th>FLRY3.SA</th>\n",
              "      <th>LREN3.SA</th>\n",
              "      <th>MDIA3.SA</th>\n",
              "      <th>RADL3.SA</th>\n",
              "      <th>RENT3.SA</th>\n",
              "      <th>TSLA34.SA</th>\n",
              "      <th>WEGE3.SA</th>\n",
              "    </tr>\n",
              "    <tr>\n",
              "      <th>Date</th>\n",
              "      <th></th>\n",
              "      <th></th>\n",
              "      <th></th>\n",
              "      <th></th>\n",
              "      <th></th>\n",
              "      <th></th>\n",
              "      <th></th>\n",
              "      <th></th>\n",
              "      <th></th>\n",
              "      <th></th>\n",
              "      <th></th>\n",
              "      <th></th>\n",
              "      <th></th>\n",
              "    </tr>\n",
              "  </thead>\n",
              "  <tbody>\n",
              "    <tr>\n",
              "      <th>2022-03-21</th>\n",
              "      <td>-0.001902</td>\n",
              "      <td>-0.000017</td>\n",
              "      <td>0.000520</td>\n",
              "      <td>0.000186</td>\n",
              "      <td>0.000239</td>\n",
              "      <td>0.000071</td>\n",
              "      <td>-0.000821</td>\n",
              "      <td>-0.000143</td>\n",
              "      <td>-0.000953</td>\n",
              "      <td>-0.000212</td>\n",
              "      <td>-0.003634</td>\n",
              "      <td>0.001096</td>\n",
              "      <td>-0.000578</td>\n",
              "    </tr>\n",
              "    <tr>\n",
              "      <th>2022-03-22</th>\n",
              "      <td>0.004059</td>\n",
              "      <td>0.000049</td>\n",
              "      <td>0.000493</td>\n",
              "      <td>-0.000092</td>\n",
              "      <td>0.001250</td>\n",
              "      <td>0.000282</td>\n",
              "      <td>0.003981</td>\n",
              "      <td>0.001122</td>\n",
              "      <td>0.001193</td>\n",
              "      <td>0.000244</td>\n",
              "      <td>0.007408</td>\n",
              "      <td>0.018810</td>\n",
              "      <td>0.000360</td>\n",
              "    </tr>\n",
              "    <tr>\n",
              "      <th>2022-03-23</th>\n",
              "      <td>-0.000605</td>\n",
              "      <td>-0.000046</td>\n",
              "      <td>-0.000084</td>\n",
              "      <td>0.000185</td>\n",
              "      <td>-0.000410</td>\n",
              "      <td>0.000078</td>\n",
              "      <td>-0.005166</td>\n",
              "      <td>0.001766</td>\n",
              "      <td>0.000931</td>\n",
              "      <td>0.000124</td>\n",
              "      <td>0.000433</td>\n",
              "      <td>-0.002436</td>\n",
              "      <td>-0.000197</td>\n",
              "    </tr>\n",
              "    <tr>\n",
              "      <th>2022-03-24</th>\n",
              "      <td>0.002786</td>\n",
              "      <td>0.000002</td>\n",
              "      <td>0.000775</td>\n",
              "      <td>0.001104</td>\n",
              "      <td>0.001178</td>\n",
              "      <td>0.000332</td>\n",
              "      <td>0.001586</td>\n",
              "      <td>0.001799</td>\n",
              "      <td>0.001290</td>\n",
              "      <td>0.000246</td>\n",
              "      <td>0.005453</td>\n",
              "      <td>0.003068</td>\n",
              "      <td>0.000302</td>\n",
              "    </tr>\n",
              "    <tr>\n",
              "      <th>2022-03-25</th>\n",
              "      <td>-0.002845</td>\n",
              "      <td>0.000029</td>\n",
              "      <td>0.000004</td>\n",
              "      <td>0.000529</td>\n",
              "      <td>-0.000581</td>\n",
              "      <td>0.000287</td>\n",
              "      <td>0.003522</td>\n",
              "      <td>-0.000079</td>\n",
              "      <td>0.000459</td>\n",
              "      <td>0.000278</td>\n",
              "      <td>0.005399</td>\n",
              "      <td>-0.005602</td>\n",
              "      <td>-0.000196</td>\n",
              "    </tr>\n",
              "  </tbody>\n",
              "</table>\n",
              "</div>\n",
              "      <button class=\"colab-df-convert\" onclick=\"convertToInteractive('df-dbf76a23-e9cf-40ff-af3d-47b30d44642f')\"\n",
              "              title=\"Convert this dataframe to an interactive table.\"\n",
              "              style=\"display:none;\">\n",
              "        \n",
              "  <svg xmlns=\"http://www.w3.org/2000/svg\" height=\"24px\"viewBox=\"0 0 24 24\"\n",
              "       width=\"24px\">\n",
              "    <path d=\"M0 0h24v24H0V0z\" fill=\"none\"/>\n",
              "    <path d=\"M18.56 5.44l.94 2.06.94-2.06 2.06-.94-2.06-.94-.94-2.06-.94 2.06-2.06.94zm-11 1L8.5 8.5l.94-2.06 2.06-.94-2.06-.94L8.5 2.5l-.94 2.06-2.06.94zm10 10l.94 2.06.94-2.06 2.06-.94-2.06-.94-.94-2.06-.94 2.06-2.06.94z\"/><path d=\"M17.41 7.96l-1.37-1.37c-.4-.4-.92-.59-1.43-.59-.52 0-1.04.2-1.43.59L10.3 9.45l-7.72 7.72c-.78.78-.78 2.05 0 2.83L4 21.41c.39.39.9.59 1.41.59.51 0 1.02-.2 1.41-.59l7.78-7.78 2.81-2.81c.8-.78.8-2.07 0-2.86zM5.41 20L4 18.59l7.72-7.72 1.47 1.35L5.41 20z\"/>\n",
              "  </svg>\n",
              "      </button>\n",
              "      \n",
              "  <style>\n",
              "    .colab-df-container {\n",
              "      display:flex;\n",
              "      flex-wrap:wrap;\n",
              "      gap: 12px;\n",
              "    }\n",
              "\n",
              "    .colab-df-convert {\n",
              "      background-color: #E8F0FE;\n",
              "      border: none;\n",
              "      border-radius: 50%;\n",
              "      cursor: pointer;\n",
              "      display: none;\n",
              "      fill: #1967D2;\n",
              "      height: 32px;\n",
              "      padding: 0 0 0 0;\n",
              "      width: 32px;\n",
              "    }\n",
              "\n",
              "    .colab-df-convert:hover {\n",
              "      background-color: #E2EBFA;\n",
              "      box-shadow: 0px 1px 2px rgba(60, 64, 67, 0.3), 0px 1px 3px 1px rgba(60, 64, 67, 0.15);\n",
              "      fill: #174EA6;\n",
              "    }\n",
              "\n",
              "    [theme=dark] .colab-df-convert {\n",
              "      background-color: #3B4455;\n",
              "      fill: #D2E3FC;\n",
              "    }\n",
              "\n",
              "    [theme=dark] .colab-df-convert:hover {\n",
              "      background-color: #434B5C;\n",
              "      box-shadow: 0px 1px 3px 1px rgba(0, 0, 0, 0.15);\n",
              "      filter: drop-shadow(0px 1px 2px rgba(0, 0, 0, 0.3));\n",
              "      fill: #FFFFFF;\n",
              "    }\n",
              "  </style>\n",
              "\n",
              "      <script>\n",
              "        const buttonEl =\n",
              "          document.querySelector('#df-dbf76a23-e9cf-40ff-af3d-47b30d44642f button.colab-df-convert');\n",
              "        buttonEl.style.display =\n",
              "          google.colab.kernel.accessAllowed ? 'block' : 'none';\n",
              "\n",
              "        async function convertToInteractive(key) {\n",
              "          const element = document.querySelector('#df-dbf76a23-e9cf-40ff-af3d-47b30d44642f');\n",
              "          const dataTable =\n",
              "            await google.colab.kernel.invokeFunction('convertToInteractive',\n",
              "                                                     [key], {});\n",
              "          if (!dataTable) return;\n",
              "\n",
              "          const docLinkHtml = 'Like what you see? Visit the ' +\n",
              "            '<a target=\"_blank\" href=https://colab.research.google.com/notebooks/data_table.ipynb>data table notebook</a>'\n",
              "            + ' to learn more about interactive tables.';\n",
              "          element.innerHTML = '';\n",
              "          dataTable['output_type'] = 'display_data';\n",
              "          await google.colab.output.renderOutput(dataTable, element);\n",
              "          const docLink = document.createElement('div');\n",
              "          docLink.innerHTML = docLinkHtml;\n",
              "          element.appendChild(docLink);\n",
              "        }\n",
              "      </script>\n",
              "    </div>\n",
              "  </div>\n",
              "  "
            ]
          },
          "metadata": {},
          "execution_count": 158
        }
      ]
    },
    {
      "cell_type": "code",
      "metadata": {
        "id": "M_oV2MM4_iXf"
      },
      "source": [
        "retorno_carteira = retorno_carteira.sum(axis = 1)"
      ],
      "execution_count": 159,
      "outputs": []
    },
    {
      "cell_type": "code",
      "metadata": {
        "colab": {
          "base_uri": "https://localhost:8080/",
          "height": 358
        },
        "id": "GwUkjLAi_q_5",
        "outputId": "46e17a1f-2aeb-46e8-e07c-420399024045"
      },
      "source": [
        "retorno_carteira.plot()"
      ],
      "execution_count": 160,
      "outputs": [
        {
          "output_type": "execute_result",
          "data": {
            "text/plain": [
              "<matplotlib.axes._subplots.AxesSubplot at 0x7fdcdd460e90>"
            ]
          },
          "metadata": {},
          "execution_count": 160
        },
        {
          "output_type": "display_data",
          "data": {
            "text/plain": [
              "<Figure size 576x396 with 1 Axes>"
            ],
            "image/png": "[encoded data removed]"
          },
          "metadata": {}
        }
      ]
    },
    {
      "cell_type": "code",
      "metadata": {
        "id": "haArDcB6_t7V"
      },
      "source": [
        "# Retorno acumulado"
      ],
      "execution_count": 161,
      "outputs": []
    },
    {
      "cell_type": "code",
      "metadata": {
        "id": "SMeuZwKG_0IT"
      },
      "source": [
        "returns_acm = (1 + retorno_carteira).cumprod()"
      ],
      "execution_count": 162,
      "outputs": []
    },
    {
      "cell_type": "code",
      "metadata": {
        "colab": {
          "base_uri": "https://localhost:8080/",
          "height": 358
        },
        "id": "5rWwdVT6_6W1",
        "outputId": "0f0d28fe-a840-4cc8-9100-9aaddb3a3b3f"
      },
      "source": [
        "returns_acm.plot()"
      ],
      "execution_count": 163,
      "outputs": [
        {
          "output_type": "execute_result",
          "data": {
            "text/plain": [
              "<matplotlib.axes._subplots.AxesSubplot at 0x7fdcdd75ba50>"
            ]
          },
          "metadata": {},
          "execution_count": 163
        },
        {
          "output_type": "display_data",
          "data": {
            "text/plain": [
              "<Figure size 576x396 with 1 Axes>"
            ],
            "image/png": "[encoded data removed]"
          },
          "metadata": {}
        }
      ]
    },
    {
      "cell_type": "code",
      "metadata": {
        "id": "7nf_32MB_8hu"
      },
      "source": [
        "# Importando dados do IBOV para Benchmark"
      ],
      "execution_count": 164,
      "outputs": []
    },
    {
      "cell_type": "code",
      "metadata": {
        "id": "pkxs1kv0AKNm",
        "colab": {
          "base_uri": "https://localhost:8080/"
        },
        "outputId": "1ba8114b-6466-481a-c82d-e5ee06731c4e"
      },
      "source": [
        "ibov = yf.download('^BVSP', start = inicio, end = fim)['Adj Close']"
      ],
      "execution_count": 165,
      "outputs": [
        {
          "output_type": "stream",
          "name": "stdout",
          "text": [
            "\r[*********************100%***********************]  1 of 1 completed\n"
          ]
        }
      ]
    },
    {
      "cell_type": "code",
      "metadata": {
        "colab": {
          "base_uri": "https://localhost:8080/"
        },
        "id": "C-bWdhKhAZ0-",
        "outputId": "57e0e922-8dd5-45a3-86fb-14b291214a01"
      },
      "source": [
        "type(ibov)"
      ],
      "execution_count": 166,
      "outputs": [
        {
          "output_type": "execute_result",
          "data": {
            "text/plain": [
              "pandas.core.series.Series"
            ]
          },
          "metadata": {},
          "execution_count": 166
        }
      ]
    },
    {
      "cell_type": "code",
      "metadata": {
        "id": "uK-cY4KJAXer"
      },
      "source": [
        "ibov_retornos = ibov.pct_change()"
      ],
      "execution_count": 167,
      "outputs": []
    },
    {
      "cell_type": "code",
      "metadata": {
        "id": "UENEpRitAiZr"
      },
      "source": [
        "ibov_retornos_acm = (1 + ibov_retornos).cumprod()"
      ],
      "execution_count": 168,
      "outputs": []
    },
    {
      "cell_type": "code",
      "metadata": {
        "colab": {
          "base_uri": "https://localhost:8080/",
          "height": 455
        },
        "id": "BvaoxEjYBVUp",
        "outputId": "6398c530-da06-4c3f-f07e-e2b4e6a6d181"
      },
      "source": [
        "pd.DataFrame(ibov_retornos_acm)"
      ],
      "execution_count": 169,
      "outputs": [
        {
          "output_type": "execute_result",
          "data": {
            "text/plain": [
              "            Adj Close\n",
              "Date                 \n",
              "2016-01-04        NaN\n",
              "2016-01-05   1.006597\n",
              "2016-01-06   0.991267\n",
              "2016-01-07   0.965687\n",
              "2016-01-08   0.963717\n",
              "...               ...\n",
              "2022-03-21   2.756342\n",
              "2022-03-22   2.782848\n",
              "2022-03-23   2.787238\n",
              "2022-03-24   2.825111\n",
              "2022-03-25   2.825775\n",
              "\n",
              "[1542 rows x 1 columns]"
            ],
            "text/html": [
              "\n",
              "  <div id=\"df-e80dc6c4-8bdd-4028-95aa-d550ea10c8a2\">\n",
              "    <div class=\"colab-df-container\">\n",
              "      <div>\n",
              "<style scoped>\n",
              "    .dataframe tbody tr th:only-of-type {\n",
              "        vertical-align: middle;\n",
              "    }\n",
              "\n",
              "    .dataframe tbody tr th {\n",
              "        vertical-align: top;\n",
              "    }\n",
              "\n",
              "    .dataframe thead th {\n",
              "        text-align: right;\n",
              "    }\n",
              "</style>\n",
              "<table border=\"1\" class=\"dataframe\">\n",
              "  <thead>\n",
              "    <tr style=\"text-align: right;\">\n",
              "      <th></th>\n",
              "      <th>Adj Close</th>\n",
              "    </tr>\n",
              "    <tr>\n",
              "      <th>Date</th>\n",
              "      <th></th>\n",
              "    </tr>\n",
              "  </thead>\n",
              "  <tbody>\n",
              "    <tr>\n",
              "      <th>2016-01-04</th>\n",
              "      <td>NaN</td>\n",
              "    </tr>\n",
              "    <tr>\n",
              "      <th>2016-01-05</th>\n",
              "      <td>1.006597</td>\n",
              "    </tr>\n",
              "    <tr>\n",
              "      <th>2016-01-06</th>\n",
              "      <td>0.991267</td>\n",
              "    </tr>\n",
              "    <tr>\n",
              "      <th>2016-01-07</th>\n",
              "      <td>0.965687</td>\n",
              "    </tr>\n",
              "    <tr>\n",
              "      <th>2016-01-08</th>\n",
              "      <td>0.963717</td>\n",
              "    </tr>\n",
              "    <tr>\n",
              "      <th>...</th>\n",
              "      <td>...</td>\n",
              "    </tr>\n",
              "    <tr>\n",
              "      <th>2022-03-21</th>\n",
              "      <td>2.756342</td>\n",
              "    </tr>\n",
              "    <tr>\n",
              "      <th>2022-03-22</th>\n",
              "      <td>2.782848</td>\n",
              "    </tr>\n",
              "    <tr>\n",
              "      <th>2022-03-23</th>\n",
              "      <td>2.787238</td>\n",
              "    </tr>\n",
              "    <tr>\n",
              "      <th>2022-03-24</th>\n",
              "      <td>2.825111</td>\n",
              "    </tr>\n",
              "    <tr>\n",
              "      <th>2022-03-25</th>\n",
              "      <td>2.825775</td>\n",
              "    </tr>\n",
              "  </tbody>\n",
              "</table>\n",
              "<p>1542 rows × 1 columns</p>\n",
              "</div>\n",
              "      <button class=\"colab-df-convert\" onclick=\"convertToInteractive('df-e80dc6c4-8bdd-4028-95aa-d550ea10c8a2')\"\n",
              "              title=\"Convert this dataframe to an interactive table.\"\n",
              "              style=\"display:none;\">\n",
              "        \n",
              "  <svg xmlns=\"http://www.w3.org/2000/svg\" height=\"24px\"viewBox=\"0 0 24 24\"\n",
              "       width=\"24px\">\n",
              "    <path d=\"M0 0h24v24H0V0z\" fill=\"none\"/>\n",
              "    <path d=\"M18.56 5.44l.94 2.06.94-2.06 2.06-.94-2.06-.94-.94-2.06-.94 2.06-2.06.94zm-11 1L8.5 8.5l.94-2.06 2.06-.94-2.06-.94L8.5 2.5l-.94 2.06-2.06.94zm10 10l.94 2.06.94-2.06 2.06-.94-2.06-.94-.94-2.06-.94 2.06-2.06.94z\"/><path d=\"M17.41 7.96l-1.37-1.37c-.4-.4-.92-.59-1.43-.59-.52 0-1.04.2-1.43.59L10.3 9.45l-7.72 7.72c-.78.78-.78 2.05 0 2.83L4 21.41c.39.39.9.59 1.41.59.51 0 1.02-.2 1.41-.59l7.78-7.78 2.81-2.81c.8-.78.8-2.07 0-2.86zM5.41 20L4 18.59l7.72-7.72 1.47 1.35L5.41 20z\"/>\n",
              "  </svg>\n",
              "      </button>\n",
              "      \n",
              "  <style>\n",
              "    .colab-df-container {\n",
              "      display:flex;\n",
              "      flex-wrap:wrap;\n",
              "      gap: 12px;\n",
              "    }\n",
              "\n",
              "    .colab-df-convert {\n",
              "      background-color: #E8F0FE;\n",
              "      border: none;\n",
              "      border-radius: 50%;\n",
              "      cursor: pointer;\n",
              "      display: none;\n",
              "      fill: #1967D2;\n",
              "      height: 32px;\n",
              "      padding: 0 0 0 0;\n",
              "      width: 32px;\n",
              "    }\n",
              "\n",
              "    .colab-df-convert:hover {\n",
              "      background-color: #E2EBFA;\n",
              "      box-shadow: 0px 1px 2px rgba(60, 64, 67, 0.3), 0px 1px 3px 1px rgba(60, 64, 67, 0.15);\n",
              "      fill: #174EA6;\n",
              "    }\n",
              "\n",
              "    [theme=dark] .colab-df-convert {\n",
              "      background-color: #3B4455;\n",
              "      fill: #D2E3FC;\n",
              "    }\n",
              "\n",
              "    [theme=dark] .colab-df-convert:hover {\n",
              "      background-color: #434B5C;\n",
              "      box-shadow: 0px 1px 3px 1px rgba(0, 0, 0, 0.15);\n",
              "      filter: drop-shadow(0px 1px 2px rgba(0, 0, 0, 0.3));\n",
              "      fill: #FFFFFF;\n",
              "    }\n",
              "  </style>\n",
              "\n",
              "      <script>\n",
              "        const buttonEl =\n",
              "          document.querySelector('#df-e80dc6c4-8bdd-4028-95aa-d550ea10c8a2 button.colab-df-convert');\n",
              "        buttonEl.style.display =\n",
              "          google.colab.kernel.accessAllowed ? 'block' : 'none';\n",
              "\n",
              "        async function convertToInteractive(key) {\n",
              "          const element = document.querySelector('#df-e80dc6c4-8bdd-4028-95aa-d550ea10c8a2');\n",
              "          const dataTable =\n",
              "            await google.colab.kernel.invokeFunction('convertToInteractive',\n",
              "                                                     [key], {});\n",
              "          if (!dataTable) return;\n",
              "\n",
              "          const docLinkHtml = 'Like what you see? Visit the ' +\n",
              "            '<a target=\"_blank\" href=https://colab.research.google.com/notebooks/data_table.ipynb>data table notebook</a>'\n",
              "            + ' to learn more about interactive tables.';\n",
              "          element.innerHTML = '';\n",
              "          dataTable['output_type'] = 'display_data';\n",
              "          await google.colab.output.renderOutput(dataTable, element);\n",
              "          const docLink = document.createElement('div');\n",
              "          docLink.innerHTML = docLinkHtml;\n",
              "          element.appendChild(docLink);\n",
              "        }\n",
              "      </script>\n",
              "    </div>\n",
              "  </div>\n",
              "  "
            ]
          },
          "metadata": {},
          "execution_count": 169
        }
      ]
    },
    {
      "cell_type": "code",
      "metadata": {
        "id": "DxlYfUJKAn6q"
      },
      "source": [
        "novo_df = pd.merge(pd.DataFrame(ibov_retornos_acm), pd.DataFrame(returns_acm, columns = ['Minha Carteira']), how = 'inner', on = 'Date')"
      ],
      "execution_count": 170,
      "outputs": []
    },
    {
      "cell_type": "code",
      "metadata": {
        "id": "mjiNGqNuBq0n"
      },
      "source": [
        "novo_df.rename(columns = {'Adj Close': 'IBOV'}, inplace = True)"
      ],
      "execution_count": 171,
      "outputs": []
    },
    {
      "cell_type": "code",
      "metadata": {
        "colab": {
          "base_uri": "https://localhost:8080/",
          "height": 237
        },
        "id": "4fNKqoRcA-Ti",
        "outputId": "0deb3e90-1287-45c8-c817-c1b6ca31991c"
      },
      "source": [
        "novo_df.head()"
      ],
      "execution_count": 172,
      "outputs": [
        {
          "output_type": "execute_result",
          "data": {
            "text/plain": [
              "                IBOV  Minha Carteira\n",
              "Date                                \n",
              "2016-01-05  1.006597        1.014962\n",
              "2016-01-06  0.991267        1.011784\n",
              "2016-01-07  0.965687        0.997137\n",
              "2016-01-08  0.963717        1.001254\n",
              "2016-01-11  0.948008        0.996434"
            ],
            "text/html": [
              "\n",
              "  <div id=\"df-51e9dbd5-a914-450f-a3fb-5da11ae45763\">\n",
              "    <div class=\"colab-df-container\">\n",
              "      <div>\n",
              "<style scoped>\n",
              "    .dataframe tbody tr th:only-of-type {\n",
              "        vertical-align: middle;\n",
              "    }\n",
              "\n",
              "    .dataframe tbody tr th {\n",
              "        vertical-align: top;\n",
              "    }\n",
              "\n",
              "    .dataframe thead th {\n",
              "        text-align: right;\n",
              "    }\n",
              "</style>\n",
              "<table border=\"1\" class=\"dataframe\">\n",
              "  <thead>\n",
              "    <tr style=\"text-align: right;\">\n",
              "      <th></th>\n",
              "      <th>IBOV</th>\n",
              "      <th>Minha Carteira</th>\n",
              "    </tr>\n",
              "    <tr>\n",
              "      <th>Date</th>\n",
              "      <th></th>\n",
              "      <th></th>\n",
              "    </tr>\n",
              "  </thead>\n",
              "  <tbody>\n",
              "    <tr>\n",
              "      <th>2016-01-05</th>\n",
              "      <td>1.006597</td>\n",
              "      <td>1.014962</td>\n",
              "    </tr>\n",
              "    <tr>\n",
              "      <th>2016-01-06</th>\n",
              "      <td>0.991267</td>\n",
              "      <td>1.011784</td>\n",
              "    </tr>\n",
              "    <tr>\n",
              "      <th>2016-01-07</th>\n",
              "      <td>0.965687</td>\n",
              "      <td>0.997137</td>\n",
              "    </tr>\n",
              "    <tr>\n",
              "      <th>2016-01-08</th>\n",
              "      <td>0.963717</td>\n",
              "      <td>1.001254</td>\n",
              "    </tr>\n",
              "    <tr>\n",
              "      <th>2016-01-11</th>\n",
              "      <td>0.948008</td>\n",
              "      <td>0.996434</td>\n",
              "    </tr>\n",
              "  </tbody>\n",
              "</table>\n",
              "</div>\n",
              "      <button class=\"colab-df-convert\" onclick=\"convertToInteractive('df-51e9dbd5-a914-450f-a3fb-5da11ae45763')\"\n",
              "              title=\"Convert this dataframe to an interactive table.\"\n",
              "              style=\"display:none;\">\n",
              "        \n",
              "  <svg xmlns=\"http://www.w3.org/2000/svg\" height=\"24px\"viewBox=\"0 0 24 24\"\n",
              "       width=\"24px\">\n",
              "    <path d=\"M0 0h24v24H0V0z\" fill=\"none\"/>\n",
              "    <path d=\"M18.56 5.44l.94 2.06.94-2.06 2.06-.94-2.06-.94-.94-2.06-.94 2.06-2.06.94zm-11 1L8.5 8.5l.94-2.06 2.06-.94-2.06-.94L8.5 2.5l-.94 2.06-2.06.94zm10 10l.94 2.06.94-2.06 2.06-.94-2.06-.94-.94-2.06-.94 2.06-2.06.94z\"/><path d=\"M17.41 7.96l-1.37-1.37c-.4-.4-.92-.59-1.43-.59-.52 0-1.04.2-1.43.59L10.3 9.45l-7.72 7.72c-.78.78-.78 2.05 0 2.83L4 21.41c.39.39.9.59 1.41.59.51 0 1.02-.2 1.41-.59l7.78-7.78 2.81-2.81c.8-.78.8-2.07 0-2.86zM5.41 20L4 18.59l7.72-7.72 1.47 1.35L5.41 20z\"/>\n",
              "  </svg>\n",
              "      </button>\n",
              "      \n",
              "  <style>\n",
              "    .colab-df-container {\n",
              "      display:flex;\n",
              "      flex-wrap:wrap;\n",
              "      gap: 12px;\n",
              "    }\n",
              "\n",
              "    .colab-df-convert {\n",
              "      background-color: #E8F0FE;\n",
              "      border: none;\n",
              "      border-radius: 50%;\n",
              "      cursor: pointer;\n",
              "      display: none;\n",
              "      fill: #1967D2;\n",
              "      height: 32px;\n",
              "      padding: 0 0 0 0;\n",
              "      width: 32px;\n",
              "    }\n",
              "\n",
              "    .colab-df-convert:hover {\n",
              "      background-color: #E2EBFA;\n",
              "      box-shadow: 0px 1px 2px rgba(60, 64, 67, 0.3), 0px 1px 3px 1px rgba(60, 64, 67, 0.15);\n",
              "      fill: #174EA6;\n",
              "    }\n",
              "\n",
              "    [theme=dark] .colab-df-convert {\n",
              "      background-color: #3B4455;\n",
              "      fill: #D2E3FC;\n",
              "    }\n",
              "\n",
              "    [theme=dark] .colab-df-convert:hover {\n",
              "      background-color: #434B5C;\n",
              "      box-shadow: 0px 1px 3px 1px rgba(0, 0, 0, 0.15);\n",
              "      filter: drop-shadow(0px 1px 2px rgba(0, 0, 0, 0.3));\n",
              "      fill: #FFFFFF;\n",
              "    }\n",
              "  </style>\n",
              "\n",
              "      <script>\n",
              "        const buttonEl =\n",
              "          document.querySelector('#df-51e9dbd5-a914-450f-a3fb-5da11ae45763 button.colab-df-convert');\n",
              "        buttonEl.style.display =\n",
              "          google.colab.kernel.accessAllowed ? 'block' : 'none';\n",
              "\n",
              "        async function convertToInteractive(key) {\n",
              "          const element = document.querySelector('#df-51e9dbd5-a914-450f-a3fb-5da11ae45763');\n",
              "          const dataTable =\n",
              "            await google.colab.kernel.invokeFunction('convertToInteractive',\n",
              "                                                     [key], {});\n",
              "          if (!dataTable) return;\n",
              "\n",
              "          const docLinkHtml = 'Like what you see? Visit the ' +\n",
              "            '<a target=\"_blank\" href=https://colab.research.google.com/notebooks/data_table.ipynb>data table notebook</a>'\n",
              "            + ' to learn more about interactive tables.';\n",
              "          element.innerHTML = '';\n",
              "          dataTable['output_type'] = 'display_data';\n",
              "          await google.colab.output.renderOutput(dataTable, element);\n",
              "          const docLink = document.createElement('div');\n",
              "          docLink.innerHTML = docLinkHtml;\n",
              "          element.appendChild(docLink);\n",
              "        }\n",
              "      </script>\n",
              "    </div>\n",
              "  </div>\n",
              "  "
            ]
          },
          "metadata": {},
          "execution_count": 172
        }
      ]
    },
    {
      "cell_type": "code",
      "metadata": {
        "colab": {
          "base_uri": "https://localhost:8080/",
          "height": 358
        },
        "id": "ua8F-1TNBf4k",
        "outputId": "5222d141-3c16-4f81-d062-1146788521cc"
      },
      "source": [
        "novo_df.plot()"
      ],
      "execution_count": 173,
      "outputs": [
        {
          "output_type": "execute_result",
          "data": {
            "text/plain": [
              "<matplotlib.axes._subplots.AxesSubplot at 0x7fdcdd396c10>"
            ]
          },
          "metadata": {},
          "execution_count": 173
        },
        {
          "output_type": "display_data",
          "data": {
            "text/plain": [
              "<Figure size 576x396 with 1 Axes>"
            ],
            "image/png": "[encoded data removed]"
          },
          "metadata": {}
        }
      ]
    },
    {
      "cell_type": "code",
      "metadata": {
        "id": "XrIxfU28B9Ew",
        "colab": {
          "base_uri": "https://localhost:8080/",
          "height": 376
        },
        "outputId": "94644210-9802-414a-bcea-1dff1d1d1803"
      },
      "source": [
        "(yf.download('WEGE3.SA', start = inicio, end = fim)['Adj Close']).plot()"
      ],
      "execution_count": 208,
      "outputs": [
        {
          "output_type": "stream",
          "name": "stdout",
          "text": [
            "\r[*********************100%***********************]  1 of 1 completed\n"
          ]
        },
        {
          "output_type": "execute_result",
          "data": {
            "text/plain": [
              "<matplotlib.axes._subplots.AxesSubplot at 0x7fdcf3f21690>"
            ]
          },
          "metadata": {},
          "execution_count": 208
        },
        {
          "output_type": "display_data",
          "data": {
            "text/plain": [
              "<Figure size 576x396 with 1 Axes>"
            ],
            "image/png": "[encoded data removed]"
          },
          "metadata": {}
        }
      ]
    },
    {
      "cell_type": "code",
      "source": [
        ""
      ],
      "metadata": {
        "id": "rUqD3W-024Ux"
      },
      "execution_count": null,
      "outputs": []
    }
  ]
}