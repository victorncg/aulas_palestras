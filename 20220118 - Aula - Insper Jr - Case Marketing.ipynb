{
 "cells": [
  {
   "cell_type": "markdown",
   "metadata": {},
   "source": [
    "# Este código é referente a uma aula ministrada para o pessoal do Insper Jr com o objetivo de treinar habilidades em obtenção, processamento e análise de dados, começando com bibliotecas mais tradicionais como pandas, numpy e matplotlib e apresentando outras mais novas como a sweetviz"
   ]
  },
  {
   "cell_type": "code",
   "execution_count": 2,
   "metadata": {},
   "outputs": [],
   "source": [
    "numeros = [1,2,3]"
   ]
  },
  {
   "cell_type": "code",
   "execution_count": 13,
   "metadata": {},
   "outputs": [
    {
     "ename": "TypeError",
     "evalue": "sum() takes at least 1 positional argument (0 given)",
     "output_type": "error",
     "traceback": [
      "\u001b[1;31m---------------------------------------------------------------------------\u001b[0m",
      "\u001b[1;31mTypeError\u001b[0m                                 Traceback (most recent call last)",
      "\u001b[1;32m<ipython-input-13-217cace8f485>\u001b[0m in \u001b[0;36m<module>\u001b[1;34m\u001b[0m\n\u001b[1;32m----> 1\u001b[1;33m \u001b[0msum\u001b[0m\u001b[1;33m(\u001b[0m\u001b[1;33m)\u001b[0m\u001b[1;33m\u001b[0m\u001b[1;33m\u001b[0m\u001b[0m\n\u001b[0m",
      "\u001b[1;31mTypeError\u001b[0m: sum() takes at least 1 positional argument (0 given)"
     ]
    }
   ],
   "source": [
    "sum()"
   ]
  },
  {
   "cell_type": "code",
   "execution_count": 3,
   "metadata": {},
   "outputs": [
    {
     "data": {
      "text/plain": [
       "6"
      ]
     },
     "execution_count": 3,
     "metadata": {},
     "output_type": "execute_result"
    }
   ],
   "source": [
    "sum(numeros)"
   ]
  },
  {
   "cell_type": "markdown",
   "metadata": {},
   "source": [
    "# 1. Download e importação de bibliotecas"
   ]
  },
  {
   "cell_type": "code",
   "execution_count": 6,
   "metadata": {},
   "outputs": [],
   "source": [
    "import numpy as np\n",
    "import pandas as pd\n",
    "import matplotlib.pyplot as plt\n",
    "import seaborn as sns"
   ]
  },
  {
   "cell_type": "markdown",
   "metadata": {},
   "source": [
    "# 2. Abertura do arquivo e métricas básicas"
   ]
  },
  {
   "cell_type": "code",
   "execution_count": null,
   "metadata": {},
   "outputs": [],
   "source": [
    "pd.read_excel()"
   ]
  },
  {
   "cell_type": "code",
   "execution_count": 4,
   "metadata": {},
   "outputs": [],
   "source": [
    "import os"
   ]
  },
  {
   "cell_type": "code",
   "execution_count": 5,
   "metadata": {},
   "outputs": [
    {
     "data": {
      "text/plain": [
       "'C:\\\\Users\\\\victo\\\\Insper'"
      ]
     },
     "execution_count": 5,
     "metadata": {},
     "output_type": "execute_result"
    }
   ],
   "source": [
    "os.getcwd()"
   ]
  },
  {
   "cell_type": "code",
   "execution_count": null,
   "metadata": {},
   "outputs": [],
   "source": [
    "os.chdir('C:\\\\Users\\\\victo\\\\Outros')"
   ]
  },
  {
   "cell_type": "code",
   "execution_count": null,
   "metadata": {},
   "outputs": [],
   "source": [
    "pd.read_excel()"
   ]
  },
  {
   "cell_type": "code",
   "execution_count": 9,
   "metadata": {},
   "outputs": [
    {
     "data": {
      "text/plain": [
       "str"
      ]
     },
     "execution_count": 9,
     "metadata": {},
     "output_type": "execute_result"
    }
   ],
   "source": [
    "type('Base Vendas ')"
   ]
  },
  {
   "cell_type": "code",
   "execution_count": 8,
   "metadata": {},
   "outputs": [],
   "source": [
    "df = pd.read_excel(io='CaseI.xlsx', sheet_name='Base Vendas ')"
   ]
  },
  {
   "cell_type": "code",
   "execution_count": 11,
   "metadata": {},
   "outputs": [
    {
     "data": {
      "text/plain": [
       "Codigo do Produto                                                       148623055\n",
       "Símbolos (coleções)                                                Trevo da Sorte\n",
       "Preço Produto                                                                 205\n",
       "Quantidade Vendida                                                              3\n",
       "Estado Civil                                                               Casada\n",
       "Idade                                                                          18\n",
       "Região                                                                    Sudeste\n",
       "Aspectos E-commerce                                Guia de tamanhos e de medidas \n",
       "E-commerce secundário                                     Variedade dos produtos \n",
       "Meios de Comunicação                                                    Whatsapp \n",
       "Comunicação Secundária                                                 Instagram \n",
       "Fatores de Marca                Recomendações de terceiros (amigos, familiares...\n",
       "Fatores de Marca Secundários                                                  NaN\n",
       "Name: 0, dtype: object"
      ]
     },
     "execution_count": 11,
     "metadata": {},
     "output_type": "execute_result"
    }
   ],
   "source": [
    "df.iloc[0]"
   ]
  },
  {
   "cell_type": "code",
   "execution_count": 12,
   "metadata": {},
   "outputs": [
    {
     "data": {
      "text/html": [
       "<div>\n",
       "<style scoped>\n",
       "    .dataframe tbody tr th:only-of-type {\n",
       "        vertical-align: middle;\n",
       "    }\n",
       "\n",
       "    .dataframe tbody tr th {\n",
       "        vertical-align: top;\n",
       "    }\n",
       "\n",
       "    .dataframe thead th {\n",
       "        text-align: right;\n",
       "    }\n",
       "</style>\n",
       "<table border=\"1\" class=\"dataframe\">\n",
       "  <thead>\n",
       "    <tr style=\"text-align: right;\">\n",
       "      <th></th>\n",
       "      <th>Codigo do Produto</th>\n",
       "      <th>Símbolos (coleções)</th>\n",
       "      <th>Preço Produto</th>\n",
       "      <th>Quantidade Vendida</th>\n",
       "      <th>Estado Civil</th>\n",
       "      <th>Idade</th>\n",
       "      <th>Região</th>\n",
       "      <th>Aspectos E-commerce</th>\n",
       "      <th>E-commerce secundário</th>\n",
       "      <th>Meios de Comunicação</th>\n",
       "      <th>Comunicação Secundária</th>\n",
       "      <th>Fatores de Marca</th>\n",
       "      <th>Fatores de Marca Secundários</th>\n",
       "    </tr>\n",
       "  </thead>\n",
       "  <tbody>\n",
       "    <tr>\n",
       "      <th>347</th>\n",
       "      <td>148623749</td>\n",
       "      <td>Trevo da Sorte</td>\n",
       "      <td>206</td>\n",
       "      <td>2</td>\n",
       "      <td>Em um relacionamento estável</td>\n",
       "      <td>16</td>\n",
       "      <td>Sul</td>\n",
       "      <td>Guia de tamanhos e de medidas</td>\n",
       "      <td>Fotos em uma modelo</td>\n",
       "      <td>Site da marca/loja</td>\n",
       "      <td>NaN</td>\n",
       "      <td>Pessoas de influência usarem a marca (influenc...</td>\n",
       "      <td>Recomendações de terceiros (amigos, familiare...</td>\n",
       "    </tr>\n",
       "    <tr>\n",
       "      <th>348</th>\n",
       "      <td>148623751</td>\n",
       "      <td>Trevo da Sorte</td>\n",
       "      <td>205</td>\n",
       "      <td>2</td>\n",
       "      <td>Em um relacionamento estável</td>\n",
       "      <td>16</td>\n",
       "      <td>Sudeste</td>\n",
       "      <td>Ter a medida das peças explicada</td>\n",
       "      <td>Guia de tamanhos e de medidas</td>\n",
       "      <td>Instagram</td>\n",
       "      <td>Site da marca/loja</td>\n",
       "      <td>Recomendações de terceiros (amigos, familiares...</td>\n",
       "      <td>Campanhas de marketing e propagandas</td>\n",
       "    </tr>\n",
       "    <tr>\n",
       "      <th>349</th>\n",
       "      <td>148623753</td>\n",
       "      <td>Trevo da Sorte</td>\n",
       "      <td>206</td>\n",
       "      <td>3</td>\n",
       "      <td>Em um relacionamento estável</td>\n",
       "      <td>16</td>\n",
       "      <td>Sudeste</td>\n",
       "      <td>Ter a medida das peças explicada</td>\n",
       "      <td>Guia de tamanhos e de medidas</td>\n",
       "      <td>Instagram</td>\n",
       "      <td>Site da marca/loja</td>\n",
       "      <td>Recomendações de terceiros (amigos, familiares...</td>\n",
       "      <td>Campanhas de marketing e propagandas</td>\n",
       "    </tr>\n",
       "    <tr>\n",
       "      <th>350</th>\n",
       "      <td>148623755</td>\n",
       "      <td>Trevo da Sorte</td>\n",
       "      <td>201</td>\n",
       "      <td>1</td>\n",
       "      <td>Em um relacionamento estável</td>\n",
       "      <td>17</td>\n",
       "      <td>Sul</td>\n",
       "      <td>Guia de tamanhos e de medidas</td>\n",
       "      <td>Fotos em uma modelo</td>\n",
       "      <td>Site da marca/loja</td>\n",
       "      <td>NaN</td>\n",
       "      <td>Pessoas de influência usarem a marca (influenc...</td>\n",
       "      <td>Recomendações de terceiros (amigos, familiare...</td>\n",
       "    </tr>\n",
       "    <tr>\n",
       "      <th>351</th>\n",
       "      <td>148623757</td>\n",
       "      <td>Trevo da Sorte</td>\n",
       "      <td>204</td>\n",
       "      <td>2</td>\n",
       "      <td>Em um relacionamento estável</td>\n",
       "      <td>17</td>\n",
       "      <td>Sul</td>\n",
       "      <td>Guia de tamanhos e de medidas</td>\n",
       "      <td>Fotos em uma modelo</td>\n",
       "      <td>Site da marca/loja</td>\n",
       "      <td>NaN</td>\n",
       "      <td>Pessoas de influência usarem a marca (influenc...</td>\n",
       "      <td>Recomendações de terceiros (amigos, familiare...</td>\n",
       "    </tr>\n",
       "  </tbody>\n",
       "</table>\n",
       "</div>"
      ],
      "text/plain": [
       "     Codigo do Produto Símbolos (coleções)  Preço Produto  Quantidade Vendida  \\\n",
       "347          148623749      Trevo da Sorte            206                   2   \n",
       "348          148623751      Trevo da Sorte            205                   2   \n",
       "349          148623753      Trevo da Sorte            206                   3   \n",
       "350          148623755      Trevo da Sorte            201                   1   \n",
       "351          148623757      Trevo da Sorte            204                   2   \n",
       "\n",
       "                     Estado Civil  Idade   Região  \\\n",
       "347  Em um relacionamento estável     16      Sul   \n",
       "348  Em um relacionamento estável     16  Sudeste   \n",
       "349  Em um relacionamento estável     16  Sudeste   \n",
       "350  Em um relacionamento estável     17      Sul   \n",
       "351  Em um relacionamento estável     17      Sul   \n",
       "\n",
       "                  Aspectos E-commerce           E-commerce secundário  \\\n",
       "347     Guia de tamanhos e de medidas             Fotos em uma modelo   \n",
       "348  Ter a medida das peças explicada   Guia de tamanhos e de medidas   \n",
       "349  Ter a medida das peças explicada   Guia de tamanhos e de medidas   \n",
       "350     Guia de tamanhos e de medidas             Fotos em uma modelo   \n",
       "351     Guia de tamanhos e de medidas             Fotos em uma modelo   \n",
       "\n",
       "    Meios de Comunicação Comunicação Secundária  \\\n",
       "347   Site da marca/loja                    NaN   \n",
       "348            Instagram     Site da marca/loja   \n",
       "349            Instagram     Site da marca/loja   \n",
       "350   Site da marca/loja                    NaN   \n",
       "351   Site da marca/loja                    NaN   \n",
       "\n",
       "                                      Fatores de Marca  \\\n",
       "347  Pessoas de influência usarem a marca (influenc...   \n",
       "348  Recomendações de terceiros (amigos, familiares...   \n",
       "349  Recomendações de terceiros (amigos, familiares...   \n",
       "350  Pessoas de influência usarem a marca (influenc...   \n",
       "351  Pessoas de influência usarem a marca (influenc...   \n",
       "\n",
       "                          Fatores de Marca Secundários  \n",
       "347   Recomendações de terceiros (amigos, familiare...  \n",
       "348               Campanhas de marketing e propagandas  \n",
       "349               Campanhas de marketing e propagandas  \n",
       "350   Recomendações de terceiros (amigos, familiare...  \n",
       "351   Recomendações de terceiros (amigos, familiare...  "
      ]
     },
     "execution_count": 12,
     "metadata": {},
     "output_type": "execute_result"
    }
   ],
   "source": [
    "df.tail()"
   ]
  },
  {
   "cell_type": "code",
   "execution_count": 10,
   "metadata": {},
   "outputs": [
    {
     "data": {
      "text/html": [
       "<div>\n",
       "<style scoped>\n",
       "    .dataframe tbody tr th:only-of-type {\n",
       "        vertical-align: middle;\n",
       "    }\n",
       "\n",
       "    .dataframe tbody tr th {\n",
       "        vertical-align: top;\n",
       "    }\n",
       "\n",
       "    .dataframe thead th {\n",
       "        text-align: right;\n",
       "    }\n",
       "</style>\n",
       "<table border=\"1\" class=\"dataframe\">\n",
       "  <thead>\n",
       "    <tr style=\"text-align: right;\">\n",
       "      <th></th>\n",
       "      <th>Codigo do Produto</th>\n",
       "      <th>Símbolos (coleções)</th>\n",
       "      <th>Preço Produto</th>\n",
       "      <th>Quantidade Vendida</th>\n",
       "      <th>Estado Civil</th>\n",
       "      <th>Idade</th>\n",
       "      <th>Região</th>\n",
       "      <th>Aspectos E-commerce</th>\n",
       "      <th>E-commerce secundário</th>\n",
       "      <th>Meios de Comunicação</th>\n",
       "      <th>Comunicação Secundária</th>\n",
       "      <th>Fatores de Marca</th>\n",
       "      <th>Fatores de Marca Secundários</th>\n",
       "    </tr>\n",
       "  </thead>\n",
       "  <tbody>\n",
       "    <tr>\n",
       "      <th>0</th>\n",
       "      <td>148623055</td>\n",
       "      <td>Trevo da Sorte</td>\n",
       "      <td>205</td>\n",
       "      <td>3</td>\n",
       "      <td>Casada</td>\n",
       "      <td>18</td>\n",
       "      <td>Sudeste</td>\n",
       "      <td>Guia de tamanhos e de medidas</td>\n",
       "      <td>Variedade dos produtos</td>\n",
       "      <td>Whatsapp</td>\n",
       "      <td>Instagram</td>\n",
       "      <td>Recomendações de terceiros (amigos, familiares...</td>\n",
       "      <td>NaN</td>\n",
       "    </tr>\n",
       "    <tr>\n",
       "      <th>1</th>\n",
       "      <td>148623057</td>\n",
       "      <td>Constelações de Signos</td>\n",
       "      <td>302</td>\n",
       "      <td>2</td>\n",
       "      <td>Casada</td>\n",
       "      <td>45</td>\n",
       "      <td>Sudeste</td>\n",
       "      <td>Guia de tamanhos e de medidas</td>\n",
       "      <td>Deixar claro o tamanho utilizado pela modelo</td>\n",
       "      <td>Outros: Nenhum</td>\n",
       "      <td>NaN</td>\n",
       "      <td>Recomendações de terceiros (amigos, familiares...</td>\n",
       "      <td>NaN</td>\n",
       "    </tr>\n",
       "    <tr>\n",
       "      <th>2</th>\n",
       "      <td>148623059</td>\n",
       "      <td>Constelações de Signos</td>\n",
       "      <td>301</td>\n",
       "      <td>3</td>\n",
       "      <td>Solteira</td>\n",
       "      <td>105</td>\n",
       "      <td>Sul</td>\n",
       "      <td>Ter a medida das peças explicada</td>\n",
       "      <td>Rastreio do pedido</td>\n",
       "      <td>Site da marca/loja</td>\n",
       "      <td>NaN</td>\n",
       "      <td>Campanhas de marketing e propagandas</td>\n",
       "      <td>NaN</td>\n",
       "    </tr>\n",
       "    <tr>\n",
       "      <th>3</th>\n",
       "      <td>148623061</td>\n",
       "      <td>Constelações de Signos</td>\n",
       "      <td>308</td>\n",
       "      <td>3</td>\n",
       "      <td>Solteira</td>\n",
       "      <td>24</td>\n",
       "      <td>Sudeste</td>\n",
       "      <td>Fotos em uma modelo</td>\n",
       "      <td>Deixar claro o tamanho utilizado pela modelo</td>\n",
       "      <td>Blog da marca/loja</td>\n",
       "      <td>Site da marca/loja</td>\n",
       "      <td>Presença digital da marca (perfis em redes soc...</td>\n",
       "      <td>Campanhas de marketing e propagandas</td>\n",
       "    </tr>\n",
       "    <tr>\n",
       "      <th>4</th>\n",
       "      <td>148623063</td>\n",
       "      <td>Constelações de Signos</td>\n",
       "      <td>306</td>\n",
       "      <td>4</td>\n",
       "      <td>Casada</td>\n",
       "      <td>22</td>\n",
       "      <td>Sudeste</td>\n",
       "      <td>Rastreio do pedido</td>\n",
       "      <td>Fotos mais conceituais</td>\n",
       "      <td>Instagram</td>\n",
       "      <td>Blog da marca/loja</td>\n",
       "      <td>Recomendações de terceiros (amigos, familiares...</td>\n",
       "      <td>Campanhas de marketing e propagandas</td>\n",
       "    </tr>\n",
       "  </tbody>\n",
       "</table>\n",
       "</div>"
      ],
      "text/plain": [
       "   Codigo do Produto     Símbolos (coleções)  Preço Produto  \\\n",
       "0          148623055          Trevo da Sorte            205   \n",
       "1          148623057  Constelações de Signos            302   \n",
       "2          148623059  Constelações de Signos            301   \n",
       "3          148623061  Constelações de Signos            308   \n",
       "4          148623063  Constelações de Signos            306   \n",
       "\n",
       "   Quantidade Vendida Estado Civil  Idade   Região  \\\n",
       "0                   3       Casada     18  Sudeste   \n",
       "1                   2       Casada     45  Sudeste   \n",
       "2                   3     Solteira    105      Sul   \n",
       "3                   3     Solteira     24  Sudeste   \n",
       "4                   4       Casada     22  Sudeste   \n",
       "\n",
       "                 Aspectos E-commerce  \\\n",
       "0     Guia de tamanhos e de medidas    \n",
       "1     Guia de tamanhos e de medidas    \n",
       "2  Ter a medida das peças explicada    \n",
       "3               Fotos em uma modelo    \n",
       "4                Rastreio do pedido    \n",
       "\n",
       "                            E-commerce secundário Meios de Comunicação  \\\n",
       "0                         Variedade dos produtos             Whatsapp    \n",
       "1   Deixar claro o tamanho utilizado pela modelo        Outros: Nenhum   \n",
       "2                             Rastreio do pedido    Site da marca/loja   \n",
       "3   Deixar claro o tamanho utilizado pela modelo   Blog da marca/loja    \n",
       "4                         Fotos mais conceituais            Instagram    \n",
       "\n",
       "  Comunicação Secundária                                   Fatores de Marca  \\\n",
       "0             Instagram   Recomendações de terceiros (amigos, familiares...   \n",
       "1                    NaN  Recomendações de terceiros (amigos, familiares...   \n",
       "2                    NaN               Campanhas de marketing e propagandas   \n",
       "3     Site da marca/loja  Presença digital da marca (perfis em redes soc...   \n",
       "4    Blog da marca/loja   Recomendações de terceiros (amigos, familiares...   \n",
       "\n",
       "            Fatores de Marca Secundários  \n",
       "0                                    NaN  \n",
       "1                                    NaN  \n",
       "2                                    NaN  \n",
       "3   Campanhas de marketing e propagandas  \n",
       "4   Campanhas de marketing e propagandas  "
      ]
     },
     "execution_count": 10,
     "metadata": {},
     "output_type": "execute_result"
    }
   ],
   "source": [
    "df.head()"
   ]
  },
  {
   "cell_type": "code",
   "execution_count": 14,
   "metadata": {},
   "outputs": [
    {
     "data": {
      "text/plain": [
       "(352, 13)"
      ]
     },
     "execution_count": 14,
     "metadata": {},
     "output_type": "execute_result"
    }
   ],
   "source": [
    "df.shape"
   ]
  },
  {
   "cell_type": "code",
   "execution_count": 9,
   "metadata": {},
   "outputs": [
    {
     "data": {
      "text/plain": [
       "Codigo do Produto                int64\n",
       "Símbolos (coleções)             object\n",
       "Preço Produto                    int64\n",
       "Quantidade Vendida               int64\n",
       "Estado Civil                    object\n",
       "Idade                            int64\n",
       "Região                          object\n",
       "Aspectos E-commerce             object\n",
       "E-commerce secundário           object\n",
       "Meios de Comunicação            object\n",
       "Comunicação Secundária          object\n",
       "Fatores de Marca                object\n",
       "Fatores de Marca Secundários    object\n",
       "dtype: object"
      ]
     },
     "execution_count": 9,
     "metadata": {},
     "output_type": "execute_result"
    }
   ],
   "source": [
    "df.dtypes"
   ]
  },
  {
   "cell_type": "code",
   "execution_count": 15,
   "metadata": {},
   "outputs": [
    {
     "data": {
      "text/plain": [
       "3"
      ]
     },
     "execution_count": 15,
     "metadata": {},
     "output_type": "execute_result"
    }
   ],
   "source": [
    "len(numeros)"
   ]
  },
  {
   "cell_type": "code",
   "execution_count": 22,
   "metadata": {},
   "outputs": [
    {
     "data": {
      "text/plain": [
       "13"
      ]
     },
     "execution_count": 22,
     "metadata": {},
     "output_type": "execute_result"
    }
   ],
   "source": [
    "len(df.dtypes)"
   ]
  },
  {
   "cell_type": "markdown",
   "metadata": {},
   "source": [
    "# 3. Avaliar a integridade dos nossos dados"
   ]
  },
  {
   "cell_type": "markdown",
   "metadata": {},
   "source": [
    "São 13 variáveis, sendo 1 variável de ID, 3 variáveis numéricas e 9 variáveis categóricas"
   ]
  },
  {
   "cell_type": "code",
   "execution_count": 18,
   "metadata": {},
   "outputs": [
    {
     "data": {
      "text/plain": [
       "Codigo do Produto                 0\n",
       "Símbolos (coleções)               0\n",
       "Preço Produto                     0\n",
       "Quantidade Vendida                0\n",
       "Estado Civil                      0\n",
       "Idade                             0\n",
       "Região                            0\n",
       "Aspectos E-commerce               0\n",
       "E-commerce secundário            25\n",
       "Meios de Comunicação              0\n",
       "Comunicação Secundária          129\n",
       "Fatores de Marca                  0\n",
       "Fatores de Marca Secundários    173\n",
       "dtype: int64"
      ]
     },
     "execution_count": 18,
     "metadata": {},
     "output_type": "execute_result"
    }
   ],
   "source": [
    "df.isnull().sum()"
   ]
  },
  {
   "cell_type": "code",
   "execution_count": 16,
   "metadata": {},
   "outputs": [],
   "source": [
    "dfnulls = df.isnull().sum()"
   ]
  },
  {
   "cell_type": "code",
   "execution_count": 19,
   "metadata": {},
   "outputs": [
    {
     "data": {
      "text/plain": [
       "E-commerce secundário            25\n",
       "Comunicação Secundária          129\n",
       "Fatores de Marca Secundários    173\n",
       "dtype: int64"
      ]
     },
     "execution_count": 19,
     "metadata": {},
     "output_type": "execute_result"
    }
   ],
   "source": [
    "dfnulls[dfnulls.values>0]"
   ]
  },
  {
   "cell_type": "code",
   "execution_count": 20,
   "metadata": {},
   "outputs": [
    {
     "data": {
      "text/plain": [
       "Index(['E-commerce secundário', 'Comunicação Secundária',\n",
       "       'Fatores de Marca Secundários'],\n",
       "      dtype='object')"
      ]
     },
     "execution_count": 20,
     "metadata": {},
     "output_type": "execute_result"
    }
   ],
   "source": [
    "dfnulls[dfnulls.values>0].index"
   ]
  },
  {
   "cell_type": "code",
   "execution_count": 21,
   "metadata": {},
   "outputs": [],
   "source": [
    "cols_isnull = list(dfnulls[dfnulls.values>0].index)"
   ]
  },
  {
   "cell_type": "code",
   "execution_count": 22,
   "metadata": {},
   "outputs": [
    {
     "name": "stdout",
     "output_type": "stream",
     "text": [
      "E-commerce secundário            25\n",
      "Comunicação Secundária          129\n",
      "Fatores de Marca Secundários    173\n",
      "dtype: int64\n"
     ]
    }
   ],
   "source": [
    "print(dfnulls[dfnulls.values>0])"
   ]
  },
  {
   "cell_type": "code",
   "execution_count": 23,
   "metadata": {},
   "outputs": [
    {
     "data": {
      "text/plain": [
       "(352, 13)"
      ]
     },
     "execution_count": 23,
     "metadata": {},
     "output_type": "execute_result"
    }
   ],
   "source": [
    "df.shape"
   ]
  },
  {
   "cell_type": "code",
   "execution_count": 24,
   "metadata": {},
   "outputs": [
    {
     "data": {
      "text/plain": [
       "352"
      ]
     },
     "execution_count": 24,
     "metadata": {},
     "output_type": "execute_result"
    }
   ],
   "source": [
    "df.shape[0]"
   ]
  },
  {
   "cell_type": "code",
   "execution_count": 11,
   "metadata": {},
   "outputs": [
    {
     "name": "stdout",
     "output_type": "stream",
     "text": [
      "E-commerce secundário           0.071023\n",
      "Comunicação Secundária          0.366477\n",
      "Fatores de Marca Secundários    0.491477\n",
      "dtype: float64\n"
     ]
    }
   ],
   "source": [
    "print(dfnulls[dfnulls.values>0]/df.shape[0])"
   ]
  },
  {
   "cell_type": "code",
   "execution_count": 17,
   "metadata": {},
   "outputs": [
    {
     "name": "stdout",
     "output_type": "stream",
     "text": [
      "<class 'pandas.core.frame.DataFrame'>\n",
      "RangeIndex: 352 entries, 0 to 351\n",
      "Data columns (total 13 columns):\n",
      " #   Column                        Non-Null Count  Dtype \n",
      "---  ------                        --------------  ----- \n",
      " 0   Codigo do Produto             352 non-null    int64 \n",
      " 1   Símbolos (coleções)           352 non-null    object\n",
      " 2   Preço Produto                 352 non-null    int64 \n",
      " 3   Quantidade Vendida            352 non-null    int64 \n",
      " 4   Estado Civil                  352 non-null    object\n",
      " 5   Idade                         352 non-null    int64 \n",
      " 6   Região                        352 non-null    object\n",
      " 7   Aspectos E-commerce           352 non-null    object\n",
      " 8   E-commerce secundário         327 non-null    object\n",
      " 9   Meios de Comunicação          352 non-null    object\n",
      " 10  Comunicação Secundária        223 non-null    object\n",
      " 11  Fatores de Marca              352 non-null    object\n",
      " 12  Fatores de Marca Secundários  179 non-null    object\n",
      "dtypes: int64(4), object(9)\n",
      "memory usage: 35.9+ KB\n"
     ]
    }
   ],
   "source": [
    "df.info()"
   ]
  },
  {
   "cell_type": "markdown",
   "metadata": {},
   "source": [
    "A variável \"Fatores de Marca Secundários\" teve o maior número de dados faltantes. Mas o que ela representa?"
   ]
  },
  {
   "cell_type": "code",
   "execution_count": 18,
   "metadata": {},
   "outputs": [
    {
     "data": {
      "text/plain": [
       "array([nan, ' Campanhas de marketing e propagandas',\n",
       "       ' Campanhas de marketing e propagandas ',\n",
       "       ' Pessoas de influência usarem a marca (influencers, atrizes, modelos, etc.)',\n",
       "       ' Presença digital da marca (perfis em redes sociais, site, etc.)',\n",
       "       ' Recomendações de terceiros (amigos, familiares, etc.) ',\n",
       "       ' Recomendações de terceiros (amigos, familiares, etc.)',\n",
       "       ' Pessoas de influência usarem a marca (influencers, atrizes, modelos, etc.) ',\n",
       "       ' Presença digital da marca (perfis em redes sociais, site, etc.) '],\n",
       "      dtype=object)"
      ]
     },
     "execution_count": 18,
     "metadata": {},
     "output_type": "execute_result"
    }
   ],
   "source": [
    "df['Fatores de Marca Secundários'].unique()"
   ]
  },
  {
   "cell_type": "code",
   "execution_count": 19,
   "metadata": {},
   "outputs": [
    {
     "data": {
      "text/plain": [
       "array([' Instagram ', nan, ' Site da marca/loja', ' Blog da marca/loja ',\n",
       "       ' Site da marca/loja ', ' Blog da marca/loja', ' Instagram',\n",
       "       ' Whatsapp', ' Whatsapp ', 'Whatsapp'], dtype=object)"
      ]
     },
     "execution_count": 19,
     "metadata": {},
     "output_type": "execute_result"
    }
   ],
   "source": [
    "df['Comunicação Secundária'].unique()"
   ]
  },
  {
   "cell_type": "code",
   "execution_count": 20,
   "metadata": {},
   "outputs": [
    {
     "data": {
      "text/plain": [
       "array([' Variedade dos produtos ',\n",
       "       ' Deixar claro o tamanho utilizado pela modelo ',\n",
       "       ' Rastreio do pedido ', ' Fotos mais conceituais ',\n",
       "       ' Guia de tamanhos e de medidas ', ' Fotos em uma modelo ',\n",
       "       ' Ter a medida das peças explicada ', ' Fotos em uma modelo',\n",
       "       ' Rastreio do pedido',\n",
       "       ' Deixar claro o tamanho utilizado pela modelo',\n",
       "       ' Guia de tamanhos e de medidas', ' Fotos mais conceituais',\n",
       "       ' Fotos em still do produto (fotos apenas do produto em um fundo neutro)',\n",
       "       nan, ' Variedade dos produtos',\n",
       "       ' Fotos em still do produto (fotos apenas do produto em um fundo neutro) ',\n",
       "       ' Ter a medida das peças explicada',\n",
       "       ' Amostra dos tecidos e o tamanho é relativo'], dtype=object)"
      ]
     },
     "execution_count": 20,
     "metadata": {},
     "output_type": "execute_result"
    }
   ],
   "source": [
    "df['E-commerce secundário'].unique()"
   ]
  },
  {
   "cell_type": "code",
   "execution_count": 25,
   "metadata": {},
   "outputs": [
    {
     "data": {
      "text/plain": [
       "18"
      ]
     },
     "execution_count": 25,
     "metadata": {},
     "output_type": "execute_result"
    }
   ],
   "source": [
    "len(df['E-commerce secundário'].unique())"
   ]
  },
  {
   "cell_type": "markdown",
   "metadata": {},
   "source": [
    "One Hot Encoding"
   ]
  },
  {
   "cell_type": "markdown",
   "metadata": {},
   "source": [
    "# 4. Algumas perguntas de negócio"
   ]
  },
  {
   "cell_type": "markdown",
   "metadata": {},
   "source": [
    "Será que cada linha corresponde a um produto diferente?"
   ]
  },
  {
   "cell_type": "code",
   "execution_count": 26,
   "metadata": {},
   "outputs": [
    {
     "data": {
      "text/plain": [
       "array([148623055, 148623057, 148623059, 148623061, 148623063, 148623065,\n",
       "       148623067, 148623069, 148623071, 148623073, 148623075, 148623077,\n",
       "       148623079, 148623081, 148623083, 148623085, 148623087, 148623089,\n",
       "       148623091, 148623093, 148623095, 148623097, 148623099, 148623101,\n",
       "       148623103, 148623105, 148623107, 148623109, 148623111, 148623113,\n",
       "       148623115, 148623117, 148623119, 148623121, 148623123, 148623125,\n",
       "       148623127, 148623129, 148623131, 148623133, 148623135, 148623137,\n",
       "       148623139, 148623141, 148623143, 148623145, 148623147, 148623149,\n",
       "       148623151, 148623153, 148623155, 148623157, 148623159, 148623161,\n",
       "       148623163, 148623165, 148623167, 148623169, 148623171, 148623173,\n",
       "       148623175, 148623177, 148623179, 148623181, 148623183, 148623185,\n",
       "       148623187, 148623189, 148623191, 148623193, 148623195, 148623197,\n",
       "       148623199, 148623201, 148623203, 148623205, 148623207, 148623209,\n",
       "       148623211, 148623213, 148623215, 148623217, 148623219, 148623221,\n",
       "       148623223, 148623225, 148623227, 148623229, 148623231, 148623233,\n",
       "       148623235, 148623237, 148623239, 148623241, 148623243, 148623245,\n",
       "       148623247, 148623249, 148623251, 148623253, 148623255, 148623257,\n",
       "       148623259, 148623261, 148623263, 148623265, 148623267, 148623269,\n",
       "       148623271, 148623273, 148623275, 148623277, 148623279, 148623281,\n",
       "       148623283, 148623285, 148623287, 148623289, 148623291, 148623293,\n",
       "       148623295, 148623297, 148623299, 148623301, 148623303, 148623305,\n",
       "       148623307, 148623309, 148623311, 148623313, 148623315, 148623317,\n",
       "       148623319, 148623321, 148623323, 148623325, 148623327, 148623329,\n",
       "       148623331, 148623333, 148623335, 148623337, 148623339, 148623341,\n",
       "       148623343, 148623345, 148623347, 148623349, 148623351, 148623353,\n",
       "       148623355, 148623357, 148623359, 148623361, 148623363, 148623365,\n",
       "       148623367, 148623369, 148623371, 148623373, 148623375, 148623377,\n",
       "       148623379, 148623381, 148623383, 148623385, 148623387, 148623389,\n",
       "       148623391, 148623393, 148623395, 148623397, 148623399, 148623401,\n",
       "       148623403, 148623405, 148623407, 148623409, 148623411, 148623413,\n",
       "       148623415, 148623417, 148623419, 148623421, 148623423, 148623425,\n",
       "       148623427, 148623429, 148623431, 148623433, 148623435, 148623437,\n",
       "       148623439, 148623441, 148623443, 148623445, 148623447, 148623449,\n",
       "       148623451, 148623453, 148623455, 148623457, 148623459, 148623461,\n",
       "       148623463, 148623465, 148623467, 148623469, 148623471, 148623473,\n",
       "       148623475, 148623477, 148623479, 148623481, 148623483, 148623485,\n",
       "       148623487, 148623489, 148623491, 148623493, 148623495, 148623497,\n",
       "       148623499, 148623501, 148623503, 148623505, 148623507, 148623509,\n",
       "       148623511, 148623513, 148623515, 148623517, 148623519, 148623521,\n",
       "       148623523, 148623525, 148623527, 148623529, 148623531, 148623533,\n",
       "       148623535, 148623537, 148623539, 148623541, 148623543, 148623545,\n",
       "       148623547, 148623549, 148623551, 148623553, 148623555, 148623557,\n",
       "       148623559, 148623561, 148623563, 148623565, 148623567, 148623569,\n",
       "       148623571, 148623573, 148623575, 148623577, 148623579, 148623581,\n",
       "       148623583, 148623585, 148623587, 148623589, 148623591, 148623593,\n",
       "       148623595, 148623597, 148623599, 148623601, 148623603, 148623605,\n",
       "       148623607, 148623609, 148623611, 148623613, 148623615, 148623617,\n",
       "       148623619, 148623621, 148623623, 148623625, 148623627, 148623629,\n",
       "       148623631, 148623633, 148623635, 148623637, 148623639, 148623641,\n",
       "       148623643, 148623645, 148623647, 148623649, 148623651, 148623653,\n",
       "       148623655, 148623657, 148623659, 148623661, 148623663, 148623665,\n",
       "       148623667, 148623669, 148623671, 148623673, 148623675, 148623677,\n",
       "       148623679, 148623681, 148623683, 148623685, 148623687, 148623689,\n",
       "       148623691, 148623693, 148623695, 148623697, 148623699, 148623701,\n",
       "       148623703, 148623705, 148623707, 148623709, 148623711, 148623713,\n",
       "       148623715, 148623717, 148623719, 148623721, 148623723, 148623725,\n",
       "       148623727, 148623729, 148623731, 148623733, 148623735, 148623737,\n",
       "       148623739, 148623741, 148623743, 148623745, 148623747, 148623749,\n",
       "       148623751, 148623753, 148623755, 148623757], dtype=int64)"
      ]
     },
     "execution_count": 26,
     "metadata": {},
     "output_type": "execute_result"
    }
   ],
   "source": [
    "df['Codigo do Produto'].unique()"
   ]
  },
  {
   "cell_type": "code",
   "execution_count": 14,
   "metadata": {},
   "outputs": [
    {
     "data": {
      "text/plain": [
       "352"
      ]
     },
     "execution_count": 14,
     "metadata": {},
     "output_type": "execute_result"
    }
   ],
   "source": [
    "len(df['Codigo do Produto'].unique())"
   ]
  },
  {
   "cell_type": "markdown",
   "metadata": {},
   "source": [
    "Sim, são 352 códigos de produtos em 352 linhas"
   ]
  },
  {
   "cell_type": "code",
   "execution_count": 16,
   "metadata": {},
   "outputs": [
    {
     "data": {
      "text/plain": [
       "array(['Casada', 'Solteira', 'Em um relacionamento estável'], dtype=object)"
      ]
     },
     "execution_count": 16,
     "metadata": {},
     "output_type": "execute_result"
    }
   ],
   "source": [
    "df['Estado Civil'].unique()"
   ]
  },
  {
   "cell_type": "code",
   "execution_count": 15,
   "metadata": {},
   "outputs": [
    {
     "data": {
      "text/plain": [
       "3"
      ]
     },
     "execution_count": 15,
     "metadata": {},
     "output_type": "execute_result"
    }
   ],
   "source": [
    "len(df['Estado Civil'].unique())"
   ]
  },
  {
   "cell_type": "markdown",
   "metadata": {},
   "source": [
    "# 5. Análise Exploratória de Dados (EDA)"
   ]
  },
  {
   "cell_type": "markdown",
   "metadata": {},
   "source": [
    "## 5.1. Utilizando a sweetviz"
   ]
  },
  {
   "cell_type": "code",
   "execution_count": 27,
   "metadata": {},
   "outputs": [
    {
     "name": "stdout",
     "output_type": "stream",
     "text": [
      "Requirement already satisfied: sweetviz in c:\\programdata\\anaconda3\\lib\\site-packages (2.1.3)\n",
      "Requirement already satisfied: tqdm>=4.43.0 in c:\\programdata\\anaconda3\\lib\\site-packages (from sweetviz) (4.50.2)\n",
      "Requirement already satisfied: numpy>=1.16.0 in c:\\programdata\\anaconda3\\lib\\site-packages (from sweetviz) (1.19.2)\n",
      "Requirement already satisfied: scipy>=1.3.2 in c:\\programdata\\anaconda3\\lib\\site-packages (from sweetviz) (1.5.2)\n",
      "Requirement already satisfied: importlib-resources>=1.2.0 in c:\\programdata\\anaconda3\\lib\\site-packages (from sweetviz) (5.2.0)\n",
      "Requirement already satisfied: matplotlib>=3.1.3 in c:\\programdata\\anaconda3\\lib\\site-packages (from sweetviz) (3.3.2)\n",
      "Requirement already satisfied: jinja2>=2.11.1 in c:\\programdata\\anaconda3\\lib\\site-packages (from sweetviz) (2.11.2)\n",
      "Requirement already satisfied: pandas!=1.0.0,!=1.0.1,!=1.0.2,>=0.25.3 in c:\\programdata\\anaconda3\\lib\\site-packages (from sweetviz) (1.1.3)\n",
      "Requirement already satisfied: zipp>=3.1.0; python_version < \"3.10\" in c:\\programdata\\anaconda3\\lib\\site-packages (from importlib-resources>=1.2.0->sweetviz) (3.4.0)\n",
      "Requirement already satisfied: python-dateutil>=2.1 in c:\\programdata\\anaconda3\\lib\\site-packages (from matplotlib>=3.1.3->sweetviz) (2.8.1)\n",
      "Requirement already satisfied: pyparsing!=2.0.4,!=2.1.2,!=2.1.6,>=2.0.3 in c:\\programdata\\anaconda3\\lib\\site-packages (from matplotlib>=3.1.3->sweetviz) (2.4.7)\n",
      "Requirement already satisfied: cycler>=0.10 in c:\\programdata\\anaconda3\\lib\\site-packages (from matplotlib>=3.1.3->sweetviz) (0.10.0)\n",
      "Requirement already satisfied: pillow>=6.2.0 in c:\\programdata\\anaconda3\\lib\\site-packages (from matplotlib>=3.1.3->sweetviz) (8.0.1)\n",
      "Requirement already satisfied: kiwisolver>=1.0.1 in c:\\programdata\\anaconda3\\lib\\site-packages (from matplotlib>=3.1.3->sweetviz) (1.3.0)\n",
      "Requirement already satisfied: certifi>=2020.06.20 in c:\\programdata\\anaconda3\\lib\\site-packages (from matplotlib>=3.1.3->sweetviz) (2020.6.20)\n",
      "Requirement already satisfied: MarkupSafe>=0.23 in c:\\programdata\\anaconda3\\lib\\site-packages (from jinja2>=2.11.1->sweetviz) (1.1.1)\n",
      "Requirement already satisfied: pytz>=2017.2 in c:\\programdata\\anaconda3\\lib\\site-packages (from pandas!=1.0.0,!=1.0.1,!=1.0.2,>=0.25.3->sweetviz) (2020.1)\n",
      "Requirement already satisfied: six>=1.5 in c:\\programdata\\anaconda3\\lib\\site-packages (from python-dateutil>=2.1->matplotlib>=3.1.3->sweetviz) (1.15.0)\n"
     ]
    }
   ],
   "source": [
    "!pip install sweetviz"
   ]
  },
  {
   "cell_type": "code",
   "execution_count": 28,
   "metadata": {},
   "outputs": [],
   "source": [
    "import sweetviz as sv"
   ]
  },
  {
   "cell_type": "markdown",
   "metadata": {},
   "source": [
    "Vamos criar o nosso report"
   ]
  },
  {
   "cell_type": "code",
   "execution_count": 29,
   "metadata": {},
   "outputs": [
    {
     "data": {
      "application/vnd.jupyter.widget-view+json": {
       "model_id": "dc22e73030b84471ae967424539edde7",
       "version_major": 2,
       "version_minor": 0
      },
      "text/plain": [
       "HBox(children=(HTML(value=''), FloatProgress(value=0.0, layout=Layout(flex='2'), max=14.0), HTML(value='')), l…"
      ]
     },
     "metadata": {},
     "output_type": "display_data"
    },
    {
     "name": "stdout",
     "output_type": "stream",
     "text": [
      "\n"
     ]
    }
   ],
   "source": [
    "marketing_report = sv.analyze(df)"
   ]
  },
  {
   "cell_type": "markdown",
   "metadata": {},
   "source": [
    "Exibindo o report"
   ]
  },
  {
   "cell_type": "code",
   "execution_count": 30,
   "metadata": {},
   "outputs": [
    {
     "name": "stdout",
     "output_type": "stream",
     "text": [
      "Report marketing_report.html was generated! NOTEBOOK/COLAB USERS: the web browser MAY not pop up, regardless, the report IS saved in your notebook/colab files.\n"
     ]
    }
   ],
   "source": [
    "marketing_report.show_html('marketing_report.html')"
   ]
  },
  {
   "cell_type": "markdown",
   "metadata": {},
   "source": [
    "## 5.2. Algumas análises manuais"
   ]
  },
  {
   "cell_type": "markdown",
   "metadata": {},
   "source": [
    "### 5.2.1. Variáveis sozinhas"
   ]
  },
  {
   "cell_type": "code",
   "execution_count": 31,
   "metadata": {},
   "outputs": [
    {
     "data": {
      "text/html": [
       "<div>\n",
       "<style scoped>\n",
       "    .dataframe tbody tr th:only-of-type {\n",
       "        vertical-align: middle;\n",
       "    }\n",
       "\n",
       "    .dataframe tbody tr th {\n",
       "        vertical-align: top;\n",
       "    }\n",
       "\n",
       "    .dataframe thead th {\n",
       "        text-align: right;\n",
       "    }\n",
       "</style>\n",
       "<table border=\"1\" class=\"dataframe\">\n",
       "  <thead>\n",
       "    <tr style=\"text-align: right;\">\n",
       "      <th></th>\n",
       "      <th>Codigo do Produto</th>\n",
       "      <th>Símbolos (coleções)</th>\n",
       "      <th>Preço Produto</th>\n",
       "      <th>Quantidade Vendida</th>\n",
       "      <th>Estado Civil</th>\n",
       "      <th>Idade</th>\n",
       "      <th>Aspectos E-commerce</th>\n",
       "      <th>E-commerce secundário</th>\n",
       "      <th>Meios de Comunicação</th>\n",
       "      <th>Comunicação Secundária</th>\n",
       "      <th>Fatores de Marca</th>\n",
       "      <th>Fatores de Marca Secundários</th>\n",
       "    </tr>\n",
       "    <tr>\n",
       "      <th>Região</th>\n",
       "      <th></th>\n",
       "      <th></th>\n",
       "      <th></th>\n",
       "      <th></th>\n",
       "      <th></th>\n",
       "      <th></th>\n",
       "      <th></th>\n",
       "      <th></th>\n",
       "      <th></th>\n",
       "      <th></th>\n",
       "      <th></th>\n",
       "      <th></th>\n",
       "    </tr>\n",
       "  </thead>\n",
       "  <tbody>\n",
       "    <tr>\n",
       "      <th>Centro</th>\n",
       "      <td>1</td>\n",
       "      <td>1</td>\n",
       "      <td>1</td>\n",
       "      <td>1</td>\n",
       "      <td>1</td>\n",
       "      <td>1</td>\n",
       "      <td>1</td>\n",
       "      <td>1</td>\n",
       "      <td>1</td>\n",
       "      <td>0</td>\n",
       "      <td>1</td>\n",
       "      <td>0</td>\n",
       "    </tr>\n",
       "    <tr>\n",
       "      <th>Centro-Oeste</th>\n",
       "      <td>35</td>\n",
       "      <td>35</td>\n",
       "      <td>35</td>\n",
       "      <td>35</td>\n",
       "      <td>35</td>\n",
       "      <td>35</td>\n",
       "      <td>35</td>\n",
       "      <td>31</td>\n",
       "      <td>35</td>\n",
       "      <td>25</td>\n",
       "      <td>35</td>\n",
       "      <td>13</td>\n",
       "    </tr>\n",
       "    <tr>\n",
       "      <th>Nordes</th>\n",
       "      <td>1</td>\n",
       "      <td>1</td>\n",
       "      <td>1</td>\n",
       "      <td>1</td>\n",
       "      <td>1</td>\n",
       "      <td>1</td>\n",
       "      <td>1</td>\n",
       "      <td>1</td>\n",
       "      <td>1</td>\n",
       "      <td>1</td>\n",
       "      <td>1</td>\n",
       "      <td>1</td>\n",
       "    </tr>\n",
       "    <tr>\n",
       "      <th>Nordeste</th>\n",
       "      <td>57</td>\n",
       "      <td>57</td>\n",
       "      <td>57</td>\n",
       "      <td>57</td>\n",
       "      <td>57</td>\n",
       "      <td>57</td>\n",
       "      <td>57</td>\n",
       "      <td>52</td>\n",
       "      <td>57</td>\n",
       "      <td>38</td>\n",
       "      <td>57</td>\n",
       "      <td>32</td>\n",
       "    </tr>\n",
       "    <tr>\n",
       "      <th>Norte</th>\n",
       "      <td>15</td>\n",
       "      <td>15</td>\n",
       "      <td>15</td>\n",
       "      <td>15</td>\n",
       "      <td>15</td>\n",
       "      <td>15</td>\n",
       "      <td>15</td>\n",
       "      <td>13</td>\n",
       "      <td>15</td>\n",
       "      <td>8</td>\n",
       "      <td>15</td>\n",
       "      <td>4</td>\n",
       "    </tr>\n",
       "    <tr>\n",
       "      <th>Nortre</th>\n",
       "      <td>1</td>\n",
       "      <td>1</td>\n",
       "      <td>1</td>\n",
       "      <td>1</td>\n",
       "      <td>1</td>\n",
       "      <td>1</td>\n",
       "      <td>1</td>\n",
       "      <td>1</td>\n",
       "      <td>1</td>\n",
       "      <td>1</td>\n",
       "      <td>1</td>\n",
       "      <td>1</td>\n",
       "    </tr>\n",
       "    <tr>\n",
       "      <th>Sudes</th>\n",
       "      <td>1</td>\n",
       "      <td>1</td>\n",
       "      <td>1</td>\n",
       "      <td>1</td>\n",
       "      <td>1</td>\n",
       "      <td>1</td>\n",
       "      <td>1</td>\n",
       "      <td>1</td>\n",
       "      <td>1</td>\n",
       "      <td>0</td>\n",
       "      <td>1</td>\n",
       "      <td>0</td>\n",
       "    </tr>\n",
       "    <tr>\n",
       "      <th>Sudeste</th>\n",
       "      <td>176</td>\n",
       "      <td>176</td>\n",
       "      <td>176</td>\n",
       "      <td>176</td>\n",
       "      <td>176</td>\n",
       "      <td>176</td>\n",
       "      <td>176</td>\n",
       "      <td>168</td>\n",
       "      <td>176</td>\n",
       "      <td>118</td>\n",
       "      <td>176</td>\n",
       "      <td>97</td>\n",
       "    </tr>\n",
       "    <tr>\n",
       "      <th>Sudeste-Sul</th>\n",
       "      <td>1</td>\n",
       "      <td>1</td>\n",
       "      <td>1</td>\n",
       "      <td>1</td>\n",
       "      <td>1</td>\n",
       "      <td>1</td>\n",
       "      <td>1</td>\n",
       "      <td>1</td>\n",
       "      <td>1</td>\n",
       "      <td>1</td>\n",
       "      <td>1</td>\n",
       "      <td>1</td>\n",
       "    </tr>\n",
       "    <tr>\n",
       "      <th>Sudreste</th>\n",
       "      <td>2</td>\n",
       "      <td>2</td>\n",
       "      <td>2</td>\n",
       "      <td>2</td>\n",
       "      <td>2</td>\n",
       "      <td>2</td>\n",
       "      <td>2</td>\n",
       "      <td>2</td>\n",
       "      <td>2</td>\n",
       "      <td>1</td>\n",
       "      <td>2</td>\n",
       "      <td>1</td>\n",
       "    </tr>\n",
       "    <tr>\n",
       "      <th>Sul</th>\n",
       "      <td>60</td>\n",
       "      <td>60</td>\n",
       "      <td>60</td>\n",
       "      <td>60</td>\n",
       "      <td>60</td>\n",
       "      <td>60</td>\n",
       "      <td>60</td>\n",
       "      <td>54</td>\n",
       "      <td>60</td>\n",
       "      <td>29</td>\n",
       "      <td>60</td>\n",
       "      <td>28</td>\n",
       "    </tr>\n",
       "    <tr>\n",
       "      <th>Sul-Sudeste</th>\n",
       "      <td>1</td>\n",
       "      <td>1</td>\n",
       "      <td>1</td>\n",
       "      <td>1</td>\n",
       "      <td>1</td>\n",
       "      <td>1</td>\n",
       "      <td>1</td>\n",
       "      <td>1</td>\n",
       "      <td>1</td>\n",
       "      <td>1</td>\n",
       "      <td>1</td>\n",
       "      <td>0</td>\n",
       "    </tr>\n",
       "    <tr>\n",
       "      <th>SulNordeste</th>\n",
       "      <td>1</td>\n",
       "      <td>1</td>\n",
       "      <td>1</td>\n",
       "      <td>1</td>\n",
       "      <td>1</td>\n",
       "      <td>1</td>\n",
       "      <td>1</td>\n",
       "      <td>1</td>\n",
       "      <td>1</td>\n",
       "      <td>0</td>\n",
       "      <td>1</td>\n",
       "      <td>1</td>\n",
       "    </tr>\n",
       "  </tbody>\n",
       "</table>\n",
       "</div>"
      ],
      "text/plain": [
       "              Codigo do Produto  Símbolos (coleções)  Preço Produto  \\\n",
       "Região                                                                \n",
       "Centro                        1                    1              1   \n",
       "Centro-Oeste                 35                   35             35   \n",
       "Nordes                        1                    1              1   \n",
       "Nordeste                     57                   57             57   \n",
       "Norte                        15                   15             15   \n",
       "Nortre                        1                    1              1   \n",
       "Sudes                         1                    1              1   \n",
       "Sudeste                     176                  176            176   \n",
       "Sudeste-Sul                   1                    1              1   \n",
       "Sudreste                      2                    2              2   \n",
       "Sul                          60                   60             60   \n",
       "Sul-Sudeste                   1                    1              1   \n",
       "SulNordeste                   1                    1              1   \n",
       "\n",
       "              Quantidade Vendida  Estado Civil  Idade  Aspectos E-commerce  \\\n",
       "Região                                                                       \n",
       "Centro                         1             1      1                    1   \n",
       "Centro-Oeste                  35            35     35                   35   \n",
       "Nordes                         1             1      1                    1   \n",
       "Nordeste                      57            57     57                   57   \n",
       "Norte                         15            15     15                   15   \n",
       "Nortre                         1             1      1                    1   \n",
       "Sudes                          1             1      1                    1   \n",
       "Sudeste                      176           176    176                  176   \n",
       "Sudeste-Sul                    1             1      1                    1   \n",
       "Sudreste                       2             2      2                    2   \n",
       "Sul                           60            60     60                   60   \n",
       "Sul-Sudeste                    1             1      1                    1   \n",
       "SulNordeste                    1             1      1                    1   \n",
       "\n",
       "              E-commerce secundário  Meios de Comunicação  \\\n",
       "Região                                                      \n",
       "Centro                            1                     1   \n",
       "Centro-Oeste                     31                    35   \n",
       "Nordes                            1                     1   \n",
       "Nordeste                         52                    57   \n",
       "Norte                            13                    15   \n",
       "Nortre                            1                     1   \n",
       "Sudes                             1                     1   \n",
       "Sudeste                         168                   176   \n",
       "Sudeste-Sul                       1                     1   \n",
       "Sudreste                          2                     2   \n",
       "Sul                              54                    60   \n",
       "Sul-Sudeste                       1                     1   \n",
       "SulNordeste                       1                     1   \n",
       "\n",
       "              Comunicação Secundária  Fatores de Marca  \\\n",
       "Região                                                   \n",
       "Centro                             0                 1   \n",
       "Centro-Oeste                      25                35   \n",
       "Nordes                             1                 1   \n",
       "Nordeste                          38                57   \n",
       "Norte                              8                15   \n",
       "Nortre                             1                 1   \n",
       "Sudes                              0                 1   \n",
       "Sudeste                          118               176   \n",
       "Sudeste-Sul                        1                 1   \n",
       "Sudreste                           1                 2   \n",
       "Sul                               29                60   \n",
       "Sul-Sudeste                        1                 1   \n",
       "SulNordeste                        0                 1   \n",
       "\n",
       "              Fatores de Marca Secundários  \n",
       "Região                                      \n",
       "Centro                                   0  \n",
       "Centro-Oeste                            13  \n",
       "Nordes                                   1  \n",
       "Nordeste                                32  \n",
       "Norte                                    4  \n",
       "Nortre                                   1  \n",
       "Sudes                                    0  \n",
       "Sudeste                                 97  \n",
       "Sudeste-Sul                              1  \n",
       "Sudreste                                 1  \n",
       "Sul                                     28  \n",
       "Sul-Sudeste                              0  \n",
       "SulNordeste                              1  "
      ]
     },
     "execution_count": 31,
     "metadata": {},
     "output_type": "execute_result"
    }
   ],
   "source": [
    "df.groupby('Região').count()"
   ]
  },
  {
   "cell_type": "code",
   "execution_count": 36,
   "metadata": {},
   "outputs": [
    {
     "data": {
      "text/plain": [
       "Região\n",
       "Centro            1\n",
       "Centro-Oeste     35\n",
       "Nordes            1\n",
       "Nordeste         57\n",
       "Norte            15\n",
       "Nortre            1\n",
       "Sudes             1\n",
       "Sudeste         176\n",
       "Sudeste-Sul       1\n",
       "Sudreste          2\n",
       "Sul              60\n",
       "Sul-Sudeste       1\n",
       "SulNordeste       1\n",
       "Name: Codigo do Produto, dtype: int64"
      ]
     },
     "execution_count": 36,
     "metadata": {},
     "output_type": "execute_result"
    }
   ],
   "source": [
    "df.groupby('Região').count()['Codigo do Produto']"
   ]
  },
  {
   "cell_type": "code",
   "execution_count": 32,
   "metadata": {},
   "outputs": [],
   "source": [
    "contagem_regiao = df.groupby('Região').count()['Codigo do Produto']"
   ]
  },
  {
   "cell_type": "code",
   "execution_count": 33,
   "metadata": {},
   "outputs": [
    {
     "data": {
      "text/plain": [
       "Região\n",
       "Centro            1\n",
       "Centro-Oeste     35\n",
       "Nordes            1\n",
       "Nordeste         57\n",
       "Norte            15\n",
       "Nortre            1\n",
       "Sudes             1\n",
       "Sudeste         176\n",
       "Sudeste-Sul       1\n",
       "Sudreste          2\n",
       "Sul              60\n",
       "Sul-Sudeste       1\n",
       "SulNordeste       1\n",
       "Name: Codigo do Produto, dtype: int64"
      ]
     },
     "execution_count": 33,
     "metadata": {},
     "output_type": "execute_result"
    }
   ],
   "source": [
    "contagem_regiao"
   ]
  },
  {
   "cell_type": "code",
   "execution_count": 34,
   "metadata": {},
   "outputs": [
    {
     "data": {
      "text/plain": [
       "pandas.core.frame.DataFrame"
      ]
     },
     "execution_count": 34,
     "metadata": {},
     "output_type": "execute_result"
    }
   ],
   "source": [
    "type(df)"
   ]
  },
  {
   "cell_type": "code",
   "execution_count": 41,
   "metadata": {},
   "outputs": [
    {
     "data": {
      "text/plain": [
       "pandas.core.series.Series"
      ]
     },
     "execution_count": 41,
     "metadata": {},
     "output_type": "execute_result"
    }
   ],
   "source": [
    "type(contagem_regiao)"
   ]
  },
  {
   "cell_type": "code",
   "execution_count": 42,
   "metadata": {},
   "outputs": [
    {
     "data": {
      "text/plain": [
       "Index(['Centro', 'Centro-Oeste', 'Nordes', 'Nordeste', 'Norte', 'Nortre',\n",
       "       'Sudes', 'Sudeste', 'Sudeste-Sul', 'Sudreste', 'Sul', 'Sul-Sudeste',\n",
       "       'SulNordeste'],\n",
       "      dtype='object', name='Região')"
      ]
     },
     "execution_count": 42,
     "metadata": {},
     "output_type": "execute_result"
    }
   ],
   "source": [
    "contagem_regiao.index"
   ]
  },
  {
   "cell_type": "markdown",
   "metadata": {},
   "source": [
    "Referência: https://medium.com/horadecodar/gr%C3%A1ficos-de-pizza-com-matplotlib-piechart-33ea9760ad87"
   ]
  },
  {
   "cell_type": "code",
   "execution_count": 54,
   "metadata": {},
   "outputs": [
    {
     "data": {
      "image/png": "[encoded data removed]",
      "text/plain": [
       "<Figure size 600x600 with 1 Axes>"
      ]
     },
     "metadata": {},
     "output_type": "display_data"
    }
   ],
   "source": [
    "# Estamos criando a representação, área de plotagem\n",
    "fig1, ax1 = plt.subplots(figsize=(6, 6))\n",
    "\n",
    "# Criando o gráfico\n",
    "ax1.pie(contagem_regiao,labels = contagem_regiao.index, autopct='%1.1f%%')\n",
    "\n",
    "# Mostra o gráfico\n",
    "plt.show()"
   ]
  },
  {
   "cell_type": "code",
   "execution_count": 55,
   "metadata": {},
   "outputs": [
    {
     "ename": "AttributeError",
     "evalue": "'AxesSubplot' object has no attribute 'barplot'",
     "output_type": "error",
     "traceback": [
      "\u001b[1;31m---------------------------------------------------------------------------\u001b[0m",
      "\u001b[1;31mAttributeError\u001b[0m                            Traceback (most recent call last)",
      "\u001b[1;32m<ipython-input-55-33b6e584b165>\u001b[0m in \u001b[0;36m<module>\u001b[1;34m\u001b[0m\n\u001b[0;32m      3\u001b[0m \u001b[1;33m\u001b[0m\u001b[0m\n\u001b[0;32m      4\u001b[0m \u001b[1;31m# Criando o gráfico\u001b[0m\u001b[1;33m\u001b[0m\u001b[1;33m\u001b[0m\u001b[1;33m\u001b[0m\u001b[0m\n\u001b[1;32m----> 5\u001b[1;33m \u001b[0max1\u001b[0m\u001b[1;33m.\u001b[0m\u001b[0mbarplot\u001b[0m\u001b[1;33m(\u001b[0m\u001b[0mcontagem_regiao\u001b[0m\u001b[1;33m,\u001b[0m\u001b[0mlabels\u001b[0m \u001b[1;33m=\u001b[0m \u001b[0mcontagem_regiao\u001b[0m\u001b[1;33m.\u001b[0m\u001b[0mindex\u001b[0m\u001b[1;33m,\u001b[0m \u001b[0mautopct\u001b[0m\u001b[1;33m=\u001b[0m\u001b[1;34m'%1.1f%%'\u001b[0m\u001b[1;33m)\u001b[0m\u001b[1;33m\u001b[0m\u001b[1;33m\u001b[0m\u001b[0m\n\u001b[0m\u001b[0;32m      6\u001b[0m \u001b[1;33m\u001b[0m\u001b[0m\n\u001b[0;32m      7\u001b[0m \u001b[1;31m# Mostra o gráfico\u001b[0m\u001b[1;33m\u001b[0m\u001b[1;33m\u001b[0m\u001b[1;33m\u001b[0m\u001b[0m\n",
      "\u001b[1;31mAttributeError\u001b[0m: 'AxesSubplot' object has no attribute 'barplot'"
     ]
    },
    {
     "data": {
      "image/png": "[encoded data removed]",
      "text/plain": [
       "<Figure size 600x600 with 1 Axes>"
      ]
     },
     "metadata": {},
     "output_type": "display_data"
    }
   ],
   "source": [
    "# Estamos criando a representação, área de plotagem\n",
    "fig1, ax1 = plt.subplots(figsize=(6, 6))\n",
    "\n",
    "# Criando o gráfico\n",
    "ax1.barplot(contagem_regiao,labels = contagem_regiao.index, autopct='%1.1f%%')\n",
    "\n",
    "# Mostra o gráfico\n",
    "plt.show()"
   ]
  },
  {
   "cell_type": "code",
   "execution_count": 38,
   "metadata": {},
   "outputs": [],
   "source": [
    "contagem_aspectos = df.groupby('Aspectos E-commerce').count()['Codigo do Produto']"
   ]
  },
  {
   "cell_type": "code",
   "execution_count": 35,
   "metadata": {},
   "outputs": [
    {
     "data": {
      "text/plain": [
       "Aspectos E-commerce\n",
       "Deixar claro o tamanho utilizado pela modelo                                                                              3\n",
       "Deixar claro o tamanho utilizado pela modelo                                                                             23\n",
       "Fotos em still do produto (fotos apenas do produto em um fundo neutro)                                                    3\n",
       "Fotos em still do produto (fotos apenas do produto em um fundo neutro)                                                    6\n",
       "Fotos em uma modelo                                                                                                      12\n",
       "Fotos em uma modelo                                                                                                      28\n",
       "Fotos mais conceituais                                                                                                    4\n",
       "Fotos mais conceituais                                                                                                   16\n",
       "Guia de tamanhos e de medidas                                                                                            39\n",
       "Guia de tamanhos e de medidas                                                                                            35\n",
       "Outros: Colocar o preço das peças                                                                                         1\n",
       "Outros: Fotos com detalhes da lingerie                                                                                    1\n",
       "Outros: Toque n produto lingerie nao se compra em site eu pelo menos temho q tocar p sentir se e macia e confortavel      1\n",
       "Rastreio do pedido                                                                                                        1\n",
       "Rastreio do pedido                                                                                                       16\n",
       "Ter a medida das peças explicada                                                                                        100\n",
       "Ter a medida das peças explicada                                                                                         25\n",
       "Variedade dos produtos                                                                                                    7\n",
       "Variedade dos produtos                                                                                                   31\n",
       "Name: Codigo do Produto, dtype: int64"
      ]
     },
     "execution_count": 35,
     "metadata": {},
     "output_type": "execute_result"
    }
   ],
   "source": [
    "df.groupby('Aspectos E-commerce').count()['Codigo do Produto']"
   ]
  },
  {
   "cell_type": "code",
   "execution_count": 36,
   "metadata": {},
   "outputs": [
    {
     "data": {
      "text/plain": [
       "19"
      ]
     },
     "execution_count": 36,
     "metadata": {},
     "output_type": "execute_result"
    }
   ],
   "source": [
    "len(df.groupby('Aspectos E-commerce').count()['Codigo do Produto'])"
   ]
  },
  {
   "cell_type": "code",
   "execution_count": 39,
   "metadata": {},
   "outputs": [
    {
     "data": {
      "image/png": "[encoded data removed]",
      "text/plain": [
       "<Figure size 1000x1000 with 1 Axes>"
      ]
     },
     "metadata": {},
     "output_type": "display_data"
    }
   ],
   "source": [
    "import matplotlib.pyplot as plt\n",
    "fig = plt.figure(figsize=(10, 10))\n",
    "ax = fig.add_axes([0,0,1,1])\n",
    "brand = contagem_aspectos\n",
    "year2020 = contagem_aspectos.index\n",
    "ax.barh(brand, year2020, align='center')\n",
    "plt.show()"
   ]
  },
  {
   "cell_type": "markdown",
   "metadata": {},
   "source": [
    "### 5.2.2. Variáveis cruzadas"
   ]
  },
  {
   "cell_type": "markdown",
   "metadata": {},
   "source": [
    "Análise para as variáveis numéricas"
   ]
  },
  {
   "cell_type": "markdown",
   "metadata": {},
   "source": [
    "Hipótese: Quanto maior a idade, mais produtos caros são vendidos"
   ]
  },
  {
   "cell_type": "code",
   "execution_count": 56,
   "metadata": {},
   "outputs": [
    {
     "data": {
      "text/plain": [
       "Codigo do Produto                int64\n",
       "Símbolos (coleções)             object\n",
       "Preço Produto                    int64\n",
       "Quantidade Vendida               int64\n",
       "Estado Civil                    object\n",
       "Idade                            int64\n",
       "Região                          object\n",
       "Aspectos E-commerce             object\n",
       "E-commerce secundário           object\n",
       "Meios de Comunicação            object\n",
       "Comunicação Secundária          object\n",
       "Fatores de Marca                object\n",
       "Fatores de Marca Secundários    object\n",
       "dtype: object"
      ]
     },
     "execution_count": 56,
     "metadata": {},
     "output_type": "execute_result"
    }
   ],
   "source": [
    "df.dtypes"
   ]
  },
  {
   "cell_type": "code",
   "execution_count": 57,
   "metadata": {},
   "outputs": [
    {
     "data": {
      "image/png": "[encoded data removed]",
      "text/plain": [
       "<Figure size 600x400 with 1 Axes>"
      ]
     },
     "metadata": {},
     "output_type": "display_data"
    }
   ],
   "source": [
    "plt.scatter(df['Idade'],df['Preço Produto'],s=df['Quantidade Vendida'])\n",
    "plt.show()"
   ]
  },
  {
   "cell_type": "code",
   "execution_count": 58,
   "metadata": {},
   "outputs": [
    {
     "data": {
      "text/plain": [
       "105"
      ]
     },
     "execution_count": 58,
     "metadata": {},
     "output_type": "execute_result"
    }
   ],
   "source": [
    "max(df['Idade'])"
   ]
  },
  {
   "cell_type": "code",
   "execution_count": 61,
   "metadata": {},
   "outputs": [
    {
     "data": {
      "image/png": "[encoded data removed]",
      "text/plain": [
       "<Figure size 600x400 with 1 Axes>"
      ]
     },
     "metadata": {},
     "output_type": "display_data"
    }
   ],
   "source": [
    "plt.hist(df['Idade'], bins = 50);"
   ]
  },
  {
   "cell_type": "code",
   "execution_count": 68,
   "metadata": {},
   "outputs": [
    {
     "data": {
      "image/png": "[encoded data removed]",
      "text/plain": [
       "<Figure size 600x400 with 1 Axes>"
      ]
     },
     "metadata": {},
     "output_type": "display_data"
    }
   ],
   "source": [
    "plt.scatter(df['Idade'],df['Quantidade Vendida'])\n",
    "plt.show()"
   ]
  },
  {
   "cell_type": "code",
   "execution_count": 78,
   "metadata": {},
   "outputs": [
    {
     "data": {
      "image/png": "[encoded data removed]",
      "text/plain": [
       "<Figure size 600x400 with 1 Axes>"
      ]
     },
     "metadata": {},
     "output_type": "display_data"
    }
   ],
   "source": [
    "plt.scatter(df['Preço Produto'],df['Quantidade Vendida'])\n",
    "plt.show()"
   ]
  },
  {
   "cell_type": "markdown",
   "metadata": {},
   "source": [
    "### 4.2.3. Boxplots"
   ]
  },
  {
   "cell_type": "markdown",
   "metadata": {},
   "source": [
    "Qual produto é mais vendido em diferentes faixas etárias?"
   ]
  },
  {
   "cell_type": "code",
   "execution_count": 73,
   "metadata": {},
   "outputs": [
    {
     "data": {
      "text/plain": [
       "dtype('int64')"
      ]
     },
     "execution_count": 73,
     "metadata": {},
     "output_type": "execute_result"
    }
   ],
   "source": [
    "df['Idade'].dtypes"
   ]
  },
  {
   "cell_type": "code",
   "execution_count": 71,
   "metadata": {},
   "outputs": [
    {
     "data": {
      "text/plain": [
       "(352,)"
      ]
     },
     "execution_count": 71,
     "metadata": {},
     "output_type": "execute_result"
    }
   ],
   "source": [
    "df['Idade'].shape"
   ]
  },
  {
   "cell_type": "code",
   "execution_count": 72,
   "metadata": {},
   "outputs": [
    {
     "data": {
      "text/plain": [
       "(352,)"
      ]
     },
     "execution_count": 72,
     "metadata": {},
     "output_type": "execute_result"
    }
   ],
   "source": [
    "df['Símbolos (coleções)'].shape"
   ]
  },
  {
   "cell_type": "code",
   "execution_count": 40,
   "metadata": {},
   "outputs": [
    {
     "data": {
      "image/png": "[encoded data removed]",
      "text/plain": [
       "<Figure size 600x400 with 1 Axes>"
      ]
     },
     "metadata": {},
     "output_type": "display_data"
    }
   ],
   "source": [
    "import seaborn as sns\n",
    "sns.set_style(\"whitegrid\")\n",
    "ax = sns.boxplot(x=\"Símbolos (coleções)\", y=\"Idade\" ,data=df, palette=\"Set3\")"
   ]
  },
  {
   "cell_type": "code",
   "execution_count": 74,
   "metadata": {},
   "outputs": [
    {
     "data": {
      "image/png": "[encoded data removed]",
      "text/plain": [
       "<Figure size 600x400 with 1 Axes>"
      ]
     },
     "metadata": {},
     "output_type": "display_data"
    }
   ],
   "source": [
    "import seaborn as sns\n",
    "sns.set_style(\"whitegrid\")\n",
    "ax = sns.boxplot(x=\"Símbolos (coleções)\", y=\"Idade\", hue=\"Estado Civil\",data=df, palette=\"Set3\")"
   ]
  },
  {
   "cell_type": "code",
   "execution_count": 75,
   "metadata": {},
   "outputs": [
    {
     "data": {
      "image/png": "[encoded data removed]",
      "text/plain": [
       "<Figure size 600x400 with 1 Axes>"
      ]
     },
     "metadata": {},
     "output_type": "display_data"
    }
   ],
   "source": [
    "ax = sns.boxplot(x=\"Símbolos (coleções)\", y=\"Idade\",data=df, palette=\"Set3\")"
   ]
  },
  {
   "cell_type": "code",
   "execution_count": 76,
   "metadata": {},
   "outputs": [
    {
     "data": {
      "image/png": "[encoded data removed]",
      "text/plain": [
       "<Figure size 600x400 with 1 Axes>"
      ]
     },
     "metadata": {},
     "output_type": "display_data"
    }
   ],
   "source": [
    "ax = sns.boxplot(x=\"Símbolos (coleções)\", y=\"Preço Produto\",data=df, palette=\"Set3\")"
   ]
  },
  {
   "cell_type": "code",
   "execution_count": 77,
   "metadata": {},
   "outputs": [
    {
     "data": {
      "image/png": "[encoded data removed]",
      "text/plain": [
       "<Figure size 600x400 with 1 Axes>"
      ]
     },
     "metadata": {},
     "output_type": "display_data"
    }
   ],
   "source": [
    "ax = sns.boxplot(x=\"Símbolos (coleções)\", y=\"Quantidade Vendida\",data=df, palette=\"Set3\")"
   ]
  },
  {
   "cell_type": "code",
   "execution_count": null,
   "metadata": {},
   "outputs": [],
   "source": []
  }
 ],
 "metadata": {
  "kernelspec": {
   "display_name": "Python 3",
   "language": "python",
   "name": "python3"
  },
  "language_info": {
   "codemirror_mode": {
    "name": "ipython",
    "version": 3
   },
   "file_extension": ".py",
   "mimetype": "text/x-python",
   "name": "python",
   "nbconvert_exporter": "python",
   "pygments_lexer": "ipython3",
   "version": "3.8.5"
  }
 },
 "nbformat": 4,
 "nbformat_minor": 4
}
